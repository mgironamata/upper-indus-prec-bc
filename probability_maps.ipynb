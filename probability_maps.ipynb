{
 "cells": [
  {
   "cell_type": "code",
   "execution_count": 1,
   "metadata": {},
   "outputs": [],
   "source": [
    "import xarray as xr"
   ]
  },
  {
   "cell_type": "code",
   "execution_count": 2,
   "metadata": {},
   "outputs": [
    {
     "name": "stdout",
     "output_type": "stream",
     "text": [
      "<xarray.Dataset>\n",
      "Dimensions:  (lon: 34, lat: 80, time: 12174)\n",
      "Coordinates:\n",
      "  * lon      (lon) float64 76.06 76.13 76.2 76.2 ... 78.0 78.07 78.14 78.21\n",
      "  * lat      (lat) float64 30.48 30.48 30.54 30.54 ... 32.72 32.72 32.78 32.78\n",
      "  * time     (time) datetime64[ns] 1980-01-01 1980-01-02 ... 2013-04-30\n",
      "Data variables:\n",
      "    precip   (time, lat, lon) float32 ...\n"
     ]
    }
   ],
   "source": [
    "import xarray as xr\n",
    "\n",
    "# Specify the file path\n",
    "file_path = '/users/marron31/data/norris/precip.nc'\n",
    "\n",
    "# Open the NetCDF file\n",
    "ds = xr.open_dataset(file_path)\n",
    "\n",
    "# Print the dataset\n",
    "print(ds)"
   ]
  },
  {
   "cell_type": "code",
   "execution_count": null,
   "metadata": {},
   "outputs": [],
   "source": []
  }
 ],
 "metadata": {
  "kernelspec": {
   "display_name": "base",
   "language": "python",
   "name": "python3"
  },
  "language_info": {
   "codemirror_mode": {
    "name": "ipython",
    "version": 3
   },
   "file_extension": ".py",
   "mimetype": "text/x-python",
   "name": "python",
   "nbconvert_exporter": "python",
   "pygments_lexer": "ipython3",
   "version": "3.9.12"
  }
 },
 "nbformat": 4,
 "nbformat_minor": 2
}
