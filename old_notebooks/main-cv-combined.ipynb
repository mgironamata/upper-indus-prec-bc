{
 "cells": [
  {
   "cell_type": "code",
   "execution_count": 1,
   "metadata": {},
   "outputs": [
    {
     "name": "stderr",
     "output_type": "stream",
     "text": [
      "/data/hpcdata/users/marron31/conda-envs/bcdp/lib/python3.9/site-packages/scipy/__init__.py:146: UserWarning: A NumPy version >=1.16.5 and <1.23.0 is required for this version of SciPy (detected version 1.23.1\n",
      "  warnings.warn(f\"A NumPy version >={np_minversion} and <{np_maxversion}\"\n",
      "/data/hpcdata/users/marron31/conda-envs/bcdp/lib/python3.9/site-packages/tqdm/auto.py:22: TqdmWarning: IProgress not found. Please update jupyter and ipywidgets. See https://ipywidgets.readthedocs.io/en/stable/user_install.html\n",
      "  from .autonotebook import tqdm as notebook_tqdm\n"
     ]
    },
    {
     "name": "stdout",
     "output_type": "stream",
     "text": [
      "device: cuda\n"
     ]
    }
   ],
   "source": [
    "import numpy as np\n",
    "import pandas as pd\n",
    "import seaborn as sns\n",
    "\n",
    "from matplotlib import pyplot as plt\n",
    "# from tabulate import tabulate\n",
    "\n",
    "import os, shutil, time, pdb, random\n",
    "import scipy.stats as stats \n",
    "import scipy\n",
    "\n",
    "from math import pi\n",
    "from datetime import datetime\n",
    "from collections import OrderedDict\n",
    "import pickle\n",
    "\n",
    "import torch\n",
    "from torch.utils.data import TensorDataset, DataLoader\n",
    "\n",
    "from importlib import reload\n",
    "from models import *\n",
    "from utils import *\n",
    "from runmanager import *\n",
    "from experiment import *\n",
    "from plot_utils import *\n",
    "from preprocessing_utils import *\n",
    "from seasonal_analysis import * \n",
    "\n",
    "from sklearn.metrics import mean_squared_error as mse\n",
    "\n",
    "import matplotlib\n",
    "matplotlib.rc_file_defaults()\n",
    "%matplotlib inline\n",
    "\n",
    "pd.options.display.max_columns = None\n",
    "\n",
    "np.random.seed(4)\n",
    "\n",
    "%load_ext autoreload\n",
    "%autoreload 2\n",
    "\n",
    "# Detect device.\n",
    "if torch.cuda.is_available():\n",
    "    device = \"cuda\"\n",
    "else:\n",
    "    device = \"cpu\"\n",
    "    \n",
    "print(f\"device: {device}\")"
   ]
  },
  {
   "cell_type": "markdown",
   "metadata": {},
   "source": [
    "### Import data"
   ]
  },
  {
   "cell_type": "code",
   "execution_count": 2,
   "metadata": {},
   "outputs": [],
   "source": [
    "# Parameters\n",
    "start=\"1980-01-01\"\n",
    "end=\"2015-12-31\"\n",
    "\n",
    "# TRAIN_PATH = \"../data/pickle/df_stations_all_nonzero_extended.pkl\"\n",
    "# TEST_PATH = \"../data/pickle/df_stations_val_all_nonzero_extended.pkl\"\n",
    "\n",
    "TRAIN_PATH = '../../data/norris/enriched_obs/enriched_combined_obs_norris.pkl'"
   ]
  },
  {
   "cell_type": "code",
   "execution_count": 3,
   "metadata": {},
   "outputs": [],
   "source": [
    "# st = create_station_dataframe(TRAIN_PATH, start, end, add_yesterday=True, basin_filter = None, filter_incomplete_years = True)\n",
    "\n",
    "data = DataPreprocessing(train_path=TRAIN_PATH, start=start, end=end, \n",
    "                add_yesterday = False, \n",
    "                basin_filter = None, \n",
    "                split_bias_corrected_only = False, \n",
    "                filter_incomplete_years = False, \n",
    "                include_non_bc_stations = True, \n",
    "                split_by = 'station')"
   ]
  },
  {
   "cell_type": "code",
   "execution_count": 4,
   "metadata": {},
   "outputs": [
    {
     "data": {
      "text/html": [
       "<div>\n",
       "<style scoped>\n",
       "    .dataframe tbody tr th:only-of-type {\n",
       "        vertical-align: middle;\n",
       "    }\n",
       "\n",
       "    .dataframe tbody tr th {\n",
       "        vertical-align: top;\n",
       "    }\n",
       "\n",
       "    .dataframe thead th {\n",
       "        text-align: right;\n",
       "    }\n",
       "</style>\n",
       "<table border=\"1\" class=\"dataframe\">\n",
       "  <thead>\n",
       "    <tr style=\"text-align: right;\">\n",
       "      <th></th>\n",
       "      <th>Date</th>\n",
       "      <th>Prec</th>\n",
       "      <th>Station</th>\n",
       "      <th>X</th>\n",
       "      <th>Y</th>\n",
       "      <th>Z</th>\n",
       "      <th>year</th>\n",
       "      <th>CWV_norris</th>\n",
       "      <th>RH2_norris</th>\n",
       "      <th>RH500_norris</th>\n",
       "      <th>T2_norris</th>\n",
       "      <th>T2max_norris</th>\n",
       "      <th>T2min_norris</th>\n",
       "      <th>Td2_norris</th>\n",
       "      <th>precip_norris</th>\n",
       "      <th>rain_norris</th>\n",
       "      <th>u10_norris</th>\n",
       "      <th>u500_norris</th>\n",
       "      <th>v10_norris</th>\n",
       "      <th>v500_norris</th>\n",
       "      <th>Region</th>\n",
       "      <th>month</th>\n",
       "      <th>season</th>\n",
       "      <th>obs_yesterday</th>\n",
       "    </tr>\n",
       "  </thead>\n",
       "  <tbody>\n",
       "    <tr>\n",
       "      <th>5250</th>\n",
       "      <td>2010-04-02</td>\n",
       "      <td>3.7</td>\n",
       "      <td>Deosai</td>\n",
       "      <td>75.540</td>\n",
       "      <td>35.090</td>\n",
       "      <td>3910.0</td>\n",
       "      <td>2010</td>\n",
       "      <td>3.900692</td>\n",
       "      <td>67.949028</td>\n",
       "      <td>77.829865</td>\n",
       "      <td>267.663208</td>\n",
       "      <td>273.243530</td>\n",
       "      <td>260.863953</td>\n",
       "      <td>261.393494</td>\n",
       "      <td>4.494797</td>\n",
       "      <td>-9.685755e-07</td>\n",
       "      <td>2.888071</td>\n",
       "      <td>11.761724</td>\n",
       "      <td>4.219371</td>\n",
       "      <td>8.389020</td>\n",
       "      <td>WestUIB</td>\n",
       "      <td>4</td>\n",
       "      <td>AM</td>\n",
       "      <td>0.0</td>\n",
       "    </tr>\n",
       "    <tr>\n",
       "      <th>5251</th>\n",
       "      <td>2010-04-03</td>\n",
       "      <td>3.8</td>\n",
       "      <td>Deosai</td>\n",
       "      <td>75.540</td>\n",
       "      <td>35.090</td>\n",
       "      <td>3910.0</td>\n",
       "      <td>2010</td>\n",
       "      <td>4.840403</td>\n",
       "      <td>86.734413</td>\n",
       "      <td>88.465652</td>\n",
       "      <td>267.096832</td>\n",
       "      <td>271.658447</td>\n",
       "      <td>261.891418</td>\n",
       "      <td>264.979767</td>\n",
       "      <td>9.052742</td>\n",
       "      <td>-2.729893e-05</td>\n",
       "      <td>2.912471</td>\n",
       "      <td>17.005379</td>\n",
       "      <td>3.910732</td>\n",
       "      <td>11.143065</td>\n",
       "      <td>WestUIB</td>\n",
       "      <td>4</td>\n",
       "      <td>AM</td>\n",
       "      <td>3.7</td>\n",
       "    </tr>\n",
       "    <tr>\n",
       "      <th>5252</th>\n",
       "      <td>2010-04-04</td>\n",
       "      <td>3.9</td>\n",
       "      <td>Deosai</td>\n",
       "      <td>75.540</td>\n",
       "      <td>35.090</td>\n",
       "      <td>3910.0</td>\n",
       "      <td>2010</td>\n",
       "      <td>4.417695</td>\n",
       "      <td>87.843475</td>\n",
       "      <td>81.684746</td>\n",
       "      <td>266.134796</td>\n",
       "      <td>271.721741</td>\n",
       "      <td>260.397675</td>\n",
       "      <td>264.265442</td>\n",
       "      <td>8.247139</td>\n",
       "      <td>-1.713634e-07</td>\n",
       "      <td>3.589097</td>\n",
       "      <td>19.146626</td>\n",
       "      <td>3.896772</td>\n",
       "      <td>12.554890</td>\n",
       "      <td>WestUIB</td>\n",
       "      <td>4</td>\n",
       "      <td>AM</td>\n",
       "      <td>3.8</td>\n",
       "    </tr>\n",
       "    <tr>\n",
       "      <th>5253</th>\n",
       "      <td>2010-04-05</td>\n",
       "      <td>2.1</td>\n",
       "      <td>Deosai</td>\n",
       "      <td>75.540</td>\n",
       "      <td>35.090</td>\n",
       "      <td>3910.0</td>\n",
       "      <td>2010</td>\n",
       "      <td>3.710116</td>\n",
       "      <td>79.812820</td>\n",
       "      <td>76.067314</td>\n",
       "      <td>264.495697</td>\n",
       "      <td>272.745667</td>\n",
       "      <td>258.341980</td>\n",
       "      <td>260.719025</td>\n",
       "      <td>2.020142</td>\n",
       "      <td>0.000000e+00</td>\n",
       "      <td>0.689556</td>\n",
       "      <td>13.286465</td>\n",
       "      <td>1.232544</td>\n",
       "      <td>7.707052</td>\n",
       "      <td>WestUIB</td>\n",
       "      <td>4</td>\n",
       "      <td>AM</td>\n",
       "      <td>3.9</td>\n",
       "    </tr>\n",
       "    <tr>\n",
       "      <th>5254</th>\n",
       "      <td>2010-04-06</td>\n",
       "      <td>0.0</td>\n",
       "      <td>Deosai</td>\n",
       "      <td>75.540</td>\n",
       "      <td>35.090</td>\n",
       "      <td>3910.0</td>\n",
       "      <td>2010</td>\n",
       "      <td>2.205372</td>\n",
       "      <td>52.509171</td>\n",
       "      <td>22.733532</td>\n",
       "      <td>265.309937</td>\n",
       "      <td>272.083191</td>\n",
       "      <td>257.120880</td>\n",
       "      <td>256.406616</td>\n",
       "      <td>0.000000</td>\n",
       "      <td>0.000000e+00</td>\n",
       "      <td>-3.163874</td>\n",
       "      <td>6.187045</td>\n",
       "      <td>-0.202066</td>\n",
       "      <td>0.232556</td>\n",
       "      <td>WestUIB</td>\n",
       "      <td>4</td>\n",
       "      <td>AM</td>\n",
       "      <td>2.1</td>\n",
       "    </tr>\n",
       "    <tr>\n",
       "      <th>...</th>\n",
       "      <td>...</td>\n",
       "      <td>...</td>\n",
       "      <td>...</td>\n",
       "      <td>...</td>\n",
       "      <td>...</td>\n",
       "      <td>...</td>\n",
       "      <td>...</td>\n",
       "      <td>...</td>\n",
       "      <td>...</td>\n",
       "      <td>...</td>\n",
       "      <td>...</td>\n",
       "      <td>...</td>\n",
       "      <td>...</td>\n",
       "      <td>...</td>\n",
       "      <td>...</td>\n",
       "      <td>...</td>\n",
       "      <td>...</td>\n",
       "      <td>...</td>\n",
       "      <td>...</td>\n",
       "      <td>...</td>\n",
       "      <td>...</td>\n",
       "      <td>...</td>\n",
       "      <td>...</td>\n",
       "      <td>...</td>\n",
       "    </tr>\n",
       "    <tr>\n",
       "      <th>362453</th>\n",
       "      <td>2002-03-27</td>\n",
       "      <td>0.0</td>\n",
       "      <td>Kaza</td>\n",
       "      <td>-181865.387</td>\n",
       "      <td>1025749.843</td>\n",
       "      <td>3639.0</td>\n",
       "      <td>2002</td>\n",
       "      <td>0.915667</td>\n",
       "      <td>16.914795</td>\n",
       "      <td>19.830414</td>\n",
       "      <td>265.655151</td>\n",
       "      <td>270.611908</td>\n",
       "      <td>261.328156</td>\n",
       "      <td>244.228470</td>\n",
       "      <td>0.000000</td>\n",
       "      <td>0.000000e+00</td>\n",
       "      <td>-0.326931</td>\n",
       "      <td>2.077137</td>\n",
       "      <td>-0.203771</td>\n",
       "      <td>-1.107406</td>\n",
       "      <td>EastUIB</td>\n",
       "      <td>3</td>\n",
       "      <td>JFM</td>\n",
       "      <td>0.0</td>\n",
       "    </tr>\n",
       "    <tr>\n",
       "      <th>362454</th>\n",
       "      <td>2002-03-28</td>\n",
       "      <td>0.0</td>\n",
       "      <td>Kaza</td>\n",
       "      <td>-181865.387</td>\n",
       "      <td>1025749.843</td>\n",
       "      <td>3639.0</td>\n",
       "      <td>2002</td>\n",
       "      <td>0.736175</td>\n",
       "      <td>14.063007</td>\n",
       "      <td>14.571829</td>\n",
       "      <td>266.203613</td>\n",
       "      <td>271.294678</td>\n",
       "      <td>260.577942</td>\n",
       "      <td>241.997269</td>\n",
       "      <td>0.000000</td>\n",
       "      <td>0.000000e+00</td>\n",
       "      <td>0.265043</td>\n",
       "      <td>-0.162587</td>\n",
       "      <td>-0.171392</td>\n",
       "      <td>-0.366935</td>\n",
       "      <td>EastUIB</td>\n",
       "      <td>3</td>\n",
       "      <td>JFM</td>\n",
       "      <td>0.0</td>\n",
       "    </tr>\n",
       "    <tr>\n",
       "      <th>362455</th>\n",
       "      <td>2002-03-29</td>\n",
       "      <td>0.0</td>\n",
       "      <td>Kaza</td>\n",
       "      <td>-181865.387</td>\n",
       "      <td>1025749.843</td>\n",
       "      <td>3639.0</td>\n",
       "      <td>2002</td>\n",
       "      <td>1.371173</td>\n",
       "      <td>17.868814</td>\n",
       "      <td>25.336786</td>\n",
       "      <td>267.185150</td>\n",
       "      <td>271.854889</td>\n",
       "      <td>262.180695</td>\n",
       "      <td>246.129974</td>\n",
       "      <td>0.000000</td>\n",
       "      <td>0.000000e+00</td>\n",
       "      <td>0.157151</td>\n",
       "      <td>1.934790</td>\n",
       "      <td>-0.386113</td>\n",
       "      <td>-1.764641</td>\n",
       "      <td>EastUIB</td>\n",
       "      <td>3</td>\n",
       "      <td>JFM</td>\n",
       "      <td>0.0</td>\n",
       "    </tr>\n",
       "    <tr>\n",
       "      <th>362456</th>\n",
       "      <td>2002-03-30</td>\n",
       "      <td>0.0</td>\n",
       "      <td>Kaza</td>\n",
       "      <td>-181865.387</td>\n",
       "      <td>1025749.843</td>\n",
       "      <td>3639.0</td>\n",
       "      <td>2002</td>\n",
       "      <td>2.904233</td>\n",
       "      <td>30.141476</td>\n",
       "      <td>45.924198</td>\n",
       "      <td>270.359222</td>\n",
       "      <td>275.374878</td>\n",
       "      <td>264.183624</td>\n",
       "      <td>254.144836</td>\n",
       "      <td>0.000000</td>\n",
       "      <td>0.000000e+00</td>\n",
       "      <td>-0.320685</td>\n",
       "      <td>5.337810</td>\n",
       "      <td>0.078967</td>\n",
       "      <td>-2.275732</td>\n",
       "      <td>EastUIB</td>\n",
       "      <td>3</td>\n",
       "      <td>JFM</td>\n",
       "      <td>0.0</td>\n",
       "    </tr>\n",
       "    <tr>\n",
       "      <th>362457</th>\n",
       "      <td>2002-03-31</td>\n",
       "      <td>0.0</td>\n",
       "      <td>Kaza</td>\n",
       "      <td>-181865.387</td>\n",
       "      <td>1025749.843</td>\n",
       "      <td>3639.0</td>\n",
       "      <td>2002</td>\n",
       "      <td>4.761830</td>\n",
       "      <td>67.527557</td>\n",
       "      <td>69.730652</td>\n",
       "      <td>270.178223</td>\n",
       "      <td>274.756348</td>\n",
       "      <td>265.318970</td>\n",
       "      <td>264.397980</td>\n",
       "      <td>5.071777</td>\n",
       "      <td>-2.288818e-05</td>\n",
       "      <td>-0.535872</td>\n",
       "      <td>11.815619</td>\n",
       "      <td>2.917371</td>\n",
       "      <td>4.964413</td>\n",
       "      <td>EastUIB</td>\n",
       "      <td>3</td>\n",
       "      <td>JFM</td>\n",
       "      <td>0.0</td>\n",
       "    </tr>\n",
       "  </tbody>\n",
       "</table>\n",
       "<p>260055 rows × 24 columns</p>\n",
       "</div>"
      ],
      "text/plain": [
       "             Date  Prec Station           X            Y       Z  year  \\\n",
       "5250   2010-04-02   3.7  Deosai      75.540       35.090  3910.0  2010   \n",
       "5251   2010-04-03   3.8  Deosai      75.540       35.090  3910.0  2010   \n",
       "5252   2010-04-04   3.9  Deosai      75.540       35.090  3910.0  2010   \n",
       "5253   2010-04-05   2.1  Deosai      75.540       35.090  3910.0  2010   \n",
       "5254   2010-04-06   0.0  Deosai      75.540       35.090  3910.0  2010   \n",
       "...           ...   ...     ...         ...          ...     ...   ...   \n",
       "362453 2002-03-27   0.0    Kaza -181865.387  1025749.843  3639.0  2002   \n",
       "362454 2002-03-28   0.0    Kaza -181865.387  1025749.843  3639.0  2002   \n",
       "362455 2002-03-29   0.0    Kaza -181865.387  1025749.843  3639.0  2002   \n",
       "362456 2002-03-30   0.0    Kaza -181865.387  1025749.843  3639.0  2002   \n",
       "362457 2002-03-31   0.0    Kaza -181865.387  1025749.843  3639.0  2002   \n",
       "\n",
       "        CWV_norris  RH2_norris  RH500_norris   T2_norris  T2max_norris  \\\n",
       "5250      3.900692   67.949028     77.829865  267.663208    273.243530   \n",
       "5251      4.840403   86.734413     88.465652  267.096832    271.658447   \n",
       "5252      4.417695   87.843475     81.684746  266.134796    271.721741   \n",
       "5253      3.710116   79.812820     76.067314  264.495697    272.745667   \n",
       "5254      2.205372   52.509171     22.733532  265.309937    272.083191   \n",
       "...            ...         ...           ...         ...           ...   \n",
       "362453    0.915667   16.914795     19.830414  265.655151    270.611908   \n",
       "362454    0.736175   14.063007     14.571829  266.203613    271.294678   \n",
       "362455    1.371173   17.868814     25.336786  267.185150    271.854889   \n",
       "362456    2.904233   30.141476     45.924198  270.359222    275.374878   \n",
       "362457    4.761830   67.527557     69.730652  270.178223    274.756348   \n",
       "\n",
       "        T2min_norris  Td2_norris  precip_norris   rain_norris  u10_norris  \\\n",
       "5250      260.863953  261.393494       4.494797 -9.685755e-07    2.888071   \n",
       "5251      261.891418  264.979767       9.052742 -2.729893e-05    2.912471   \n",
       "5252      260.397675  264.265442       8.247139 -1.713634e-07    3.589097   \n",
       "5253      258.341980  260.719025       2.020142  0.000000e+00    0.689556   \n",
       "5254      257.120880  256.406616       0.000000  0.000000e+00   -3.163874   \n",
       "...              ...         ...            ...           ...         ...   \n",
       "362453    261.328156  244.228470       0.000000  0.000000e+00   -0.326931   \n",
       "362454    260.577942  241.997269       0.000000  0.000000e+00    0.265043   \n",
       "362455    262.180695  246.129974       0.000000  0.000000e+00    0.157151   \n",
       "362456    264.183624  254.144836       0.000000  0.000000e+00   -0.320685   \n",
       "362457    265.318970  264.397980       5.071777 -2.288818e-05   -0.535872   \n",
       "\n",
       "        u500_norris  v10_norris  v500_norris   Region  month season  \\\n",
       "5250      11.761724    4.219371     8.389020  WestUIB      4     AM   \n",
       "5251      17.005379    3.910732    11.143065  WestUIB      4     AM   \n",
       "5252      19.146626    3.896772    12.554890  WestUIB      4     AM   \n",
       "5253      13.286465    1.232544     7.707052  WestUIB      4     AM   \n",
       "5254       6.187045   -0.202066     0.232556  WestUIB      4     AM   \n",
       "...             ...         ...          ...      ...    ...    ...   \n",
       "362453     2.077137   -0.203771    -1.107406  EastUIB      3    JFM   \n",
       "362454    -0.162587   -0.171392    -0.366935  EastUIB      3    JFM   \n",
       "362455     1.934790   -0.386113    -1.764641  EastUIB      3    JFM   \n",
       "362456     5.337810    0.078967    -2.275732  EastUIB      3    JFM   \n",
       "362457    11.815619    2.917371     4.964413  EastUIB      3    JFM   \n",
       "\n",
       "        obs_yesterday  \n",
       "5250              0.0  \n",
       "5251              3.7  \n",
       "5252              3.8  \n",
       "5253              3.9  \n",
       "5254              2.1  \n",
       "...               ...  \n",
       "362453            0.0  \n",
       "362454            0.0  \n",
       "362455            0.0  \n",
       "362456            0.0  \n",
       "362457            0.0  \n",
       "\n",
       "[260055 rows x 24 columns]"
      ]
     },
     "execution_count": 4,
     "metadata": {},
     "output_type": "execute_result"
    }
   ],
   "source": [
    "data.st"
   ]
  },
  {
   "cell_type": "code",
   "execution_count": 5,
   "metadata": {},
   "outputs": [
    {
     "name": "stdout",
     "output_type": "stream",
     "text": [
      "260055\n"
     ]
    },
    {
     "data": {
      "image/png": "[encoded data removed]",
      "text/plain": [
       "<Figure size 1440x360 with 1 Axes>"
      ]
     },
     "metadata": {
      "needs_background": "light"
     },
     "output_type": "display_data"
    }
   ],
   "source": [
    "print(len(data.st))\n",
    "df = data.st.groupby([\"Station\",\"year\"]).sum()['precip_norris'].reset_index()\n",
    "plt.figure(figsize=(20,5))\n",
    "for s in df.Station.unique():\n",
    "    df_s = df[df[\"Station\"]==s].reset_index()[['year','precip_norris']].sort_values('year')\n",
    "    x = df_s['year']\n",
    "    y = df_s['precip_norris']\n",
    "    plt.plot(x,y,'--o',label=s)\n",
    "# plt.legend()\n",
    "plt.ylabel('Total precipitation (mm / year)')\n",
    "plt.xlabel('Year')\n",
    "plt.xticks(sorted(df.year.unique()))\n",
    "plt.title('Annual precipitation for WAPDA stations (excluding incomplete station years)')\n",
    "plt.show()"
   ]
  },
  {
   "cell_type": "code",
   "execution_count": 6,
   "metadata": {},
   "outputs": [],
   "source": [
    "data.split_stations()"
   ]
  },
  {
   "cell_type": "code",
   "execution_count": 7,
   "metadata": {},
   "outputs": [],
   "source": [
    "# data.st.rename(columns={'Longitude':'X','Latitude':'Y','Elevation':'Z'}, inplace=True)\n",
    "# data.st.rename(columns={'Lon':'X','Lat':'Y'}, inplace=True)"
   ]
  },
  {
   "cell_type": "code",
   "execution_count": 8,
   "metadata": {},
   "outputs": [],
   "source": [
    "data.st['doy'] = data.st['Date'].dt.dayofyear"
   ]
  },
  {
   "cell_type": "code",
   "execution_count": 9,
   "metadata": {},
   "outputs": [],
   "source": [
    "data.st['doy_sin'] = data.st['doy'].transform(lambda x: np.sin(x))\n",
    "data.st['doy_cos'] = data.st['doy'].transform(lambda x: np.cos(x))"
   ]
  },
  {
   "cell_type": "code",
   "execution_count": 10,
   "metadata": {},
   "outputs": [
    {
     "data": {
      "text/plain": [
       "dtype('float64')"
      ]
     },
     "execution_count": 10,
     "metadata": {},
     "output_type": "execute_result"
    }
   ],
   "source": [
    "# data.st.Prec = data.st.Prec.astype('float64')\n",
    "data.st.Prec.dtype"
   ]
  },
  {
   "cell_type": "code",
   "execution_count": 11,
   "metadata": {},
   "outputs": [
    {
     "data": {
      "text/plain": [
       "array(['AM', 'JJAS', 'OND', 'JFM'], dtype=object)"
      ]
     },
     "execution_count": 11,
     "metadata": {},
     "output_type": "execute_result"
    }
   ],
   "source": [
    "data.st.season.unique()"
   ]
  },
  {
   "cell_type": "code",
   "execution_count": 12,
   "metadata": {},
   "outputs": [],
   "source": [
    "# def rename_seasons(df : pd.DataFrame, dict_names = {'Premonsoon (AM)' : 'AM', 'Monsoon (JJAS)' : 'JJAS', 'Postmonsoon (OND)' : 'OND', 'Winter (JFM)' : 'JMF'}):\n",
    "#     for k,v in dict_names.items():\n",
    "#         df[df['season']== k] = v\n",
    "#     return df"
   ]
  },
  {
   "cell_type": "markdown",
   "metadata": {},
   "source": [
    "### Split data into held out sets for K-fold cross validation"
   ]
  },
  {
   "cell_type": "markdown",
   "metadata": {},
   "source": [
    "### Prepare data"
   ]
  },
  {
   "cell_type": "code",
   "execution_count": 13,
   "metadata": {
    "scrolled": true
   },
   "outputs": [],
   "source": [
    "predictors = [\n",
    "                'wrf_prcp',\n",
    "                'wrf_prcp_-2','wrf_prcp_-1','wrf_prcp_1','wrf_prcp_2',\n",
    "                'Z',\n",
    "                #'doy',\n",
    "                'doy_sin',\n",
    "                'doy_cos',\n",
    "                'X',\n",
    "                'Y',\n",
    "                'aspect',\n",
    "                'slope',\n",
    "                'year',\n",
    "                'era5_u','era5_u_-1','era5_u_-2','era5_u_1','era5_u_2',\n",
    "                'era5_v','era5_v_-1','era5_v_-2','era5_v_1','era5_v_2',\n",
    "             ]\n",
    "\n",
    "# doy = ['doy_sin', 'doy_cos']\n",
    "# dem = ['Z','slope','aspect']\n",
    "# xy = ['X','Y']\n",
    "# year = ['year']\n",
    "# cwv = ['CWV_norris']\n",
    "# rh = ['RH2_norris', 'RH500_norris']\n",
    "# temp = ['T2_norris', 'T2max_norris', 'T2min_norris', 'Td2_norris']\n",
    "# prec = ['precip_norris', 'rain_norris']\n",
    "# wind = ['u10_norris', 'u500_norris', 'v10_norris', 'v500_norris']\n",
    "\n",
    "predictors = [ \n",
    "                'doy_sin',\n",
    "                'doy_cos',\n",
    "                'Z',\n",
    "                'X',\n",
    "                'Y',\n",
    "                #'aspect',\n",
    "                #'slope',\n",
    "                'year',\n",
    "                'CWV_norris', \n",
    "                'RH2_norris', 'RH500_norris', \n",
    "                'T2_norris', 'T2max_norris', 'T2min_norris', 'Td2_norris', \n",
    "                'precip_norris', 'rain_norris', \n",
    "                'u10_norris', 'u500_norris', 'v10_norris', 'v500_norris',\n",
    "              ]\n",
    "\n",
    "# predictors.append('obs_yesterday')\n",
    "\n",
    "predictand = ['Prec']\n",
    "\n",
    "data.input_data(predictors, predictand, sort_by_quantile=False)"
   ]
  },
  {
   "cell_type": "markdown",
   "metadata": {},
   "source": [
    "## Multi-Run: Train model with different hyperparameters"
   ]
  },
  {
   "cell_type": "markdown",
   "metadata": {},
   "source": [
    "### Model run"
   ]
  },
  {
   "cell_type": "code",
   "execution_count": 14,
   "metadata": {
    "tags": []
   },
   "outputs": [
    {
     "name": "stdout",
     "output_type": "stream",
     "text": [
      "# models: 2\n",
      "# epochs: 10\n"
     ]
    }
   ],
   "source": [
    "params = OrderedDict(\n",
    "    lr = [0.005]\n",
    "    ,batch_size = [64]\n",
    "    ,likelihood_fn = ['bgmm'] #, 'b2gmm'] #['bernoulli_loggaussian','gamma']\n",
    "    ,hidden_channels = [[50,50]] #[[10], [50], [100], [50,50], [100,100]] #[[10],[30],[50],[100],[10,10],[30,30],[50,50],[100,100]]\n",
    "    ,dropout_rate = [0]\n",
    "    ,linear_model = [False] #[False, True]\n",
    "    #,k = [0]\n",
    "    ,k = list(range(2)) #list(range(10))\n",
    ")\n",
    "\n",
    "epochs = 5\n",
    "\n",
    "n = 1 \n",
    "for k,v in params.items():\n",
    "    n = len(v) * n\n",
    "print('# models:', n)\n",
    "print('# epochs:', n*epochs)"
   ]
  },
  {
   "cell_type": "code",
   "execution_count": 15,
   "metadata": {
    "code_folding": [],
    "tags": []
   },
   "outputs": [
    {
     "data": {
      "text/html": [
       "<div>\n",
       "<style scoped>\n",
       "    .dataframe tbody tr th:only-of-type {\n",
       "        vertical-align: middle;\n",
       "    }\n",
       "\n",
       "    .dataframe tbody tr th {\n",
       "        vertical-align: top;\n",
       "    }\n",
       "\n",
       "    .dataframe thead th {\n",
       "        text-align: right;\n",
       "    }\n",
       "</style>\n",
       "<table border=\"1\" class=\"dataframe\">\n",
       "  <thead>\n",
       "    <tr style=\"text-align: right;\">\n",
       "      <th></th>\n",
       "      <th>run</th>\n",
       "      <th>epoch</th>\n",
       "      <th>loss</th>\n",
       "      <th>valid_loss</th>\n",
       "      <th>test_loss</th>\n",
       "      <th>decision_loss</th>\n",
       "      <th>epoch duration</th>\n",
       "      <th>run duration</th>\n",
       "      <th>lr</th>\n",
       "      <th>batch_size</th>\n",
       "      <th>likelihood_fn</th>\n",
       "      <th>hidden_channels</th>\n",
       "      <th>dropout_rate</th>\n",
       "      <th>linear_model</th>\n",
       "      <th>k</th>\n",
       "    </tr>\n",
       "  </thead>\n",
       "  <tbody>\n",
       "    <tr>\n",
       "      <th>0</th>\n",
       "      <td>1</td>\n",
       "      <td>1</td>\n",
       "      <td>1.199274</td>\n",
       "      <td>1.101366</td>\n",
       "      <td>1.324154</td>\n",
       "      <td>1.101366</td>\n",
       "      <td>15.449237</td>\n",
       "      <td>15.492588</td>\n",
       "      <td>0.005</td>\n",
       "      <td>64</td>\n",
       "      <td>bgmm</td>\n",
       "      <td>[50, 50]</td>\n",
       "      <td>0</td>\n",
       "      <td>False</td>\n",
       "      <td>0</td>\n",
       "    </tr>\n",
       "    <tr>\n",
       "      <th>1</th>\n",
       "      <td>1</td>\n",
       "      <td>2</td>\n",
       "      <td>1.181277</td>\n",
       "      <td>1.106711</td>\n",
       "      <td>1.321195</td>\n",
       "      <td>1.106711</td>\n",
       "      <td>14.488861</td>\n",
       "      <td>30.057829</td>\n",
       "      <td>0.005</td>\n",
       "      <td>64</td>\n",
       "      <td>bgmm</td>\n",
       "      <td>[50, 50]</td>\n",
       "      <td>0</td>\n",
       "      <td>False</td>\n",
       "      <td>0</td>\n",
       "    </tr>\n",
       "    <tr>\n",
       "      <th>2</th>\n",
       "      <td>1</td>\n",
       "      <td>3</td>\n",
       "      <td>1.175741</td>\n",
       "      <td>1.105954</td>\n",
       "      <td>1.318955</td>\n",
       "      <td>1.105954</td>\n",
       "      <td>15.803683</td>\n",
       "      <td>45.920273</td>\n",
       "      <td>0.005</td>\n",
       "      <td>64</td>\n",
       "      <td>bgmm</td>\n",
       "      <td>[50, 50]</td>\n",
       "      <td>0</td>\n",
       "      <td>False</td>\n",
       "      <td>0</td>\n",
       "    </tr>\n",
       "    <tr>\n",
       "      <th>3</th>\n",
       "      <td>1</td>\n",
       "      <td>4</td>\n",
       "      <td>1.173641</td>\n",
       "      <td>1.106749</td>\n",
       "      <td>1.320946</td>\n",
       "      <td>1.106749</td>\n",
       "      <td>15.481951</td>\n",
       "      <td>61.448987</td>\n",
       "      <td>0.005</td>\n",
       "      <td>64</td>\n",
       "      <td>bgmm</td>\n",
       "      <td>[50, 50]</td>\n",
       "      <td>0</td>\n",
       "      <td>False</td>\n",
       "      <td>0</td>\n",
       "    </tr>\n",
       "    <tr>\n",
       "      <th>4</th>\n",
       "      <td>1</td>\n",
       "      <td>5</td>\n",
       "      <td>1.169977</td>\n",
       "      <td>1.120426</td>\n",
       "      <td>1.330169</td>\n",
       "      <td>1.120426</td>\n",
       "      <td>14.840503</td>\n",
       "      <td>76.365467</td>\n",
       "      <td>0.005</td>\n",
       "      <td>64</td>\n",
       "      <td>bgmm</td>\n",
       "      <td>[50, 50]</td>\n",
       "      <td>0</td>\n",
       "      <td>False</td>\n",
       "      <td>0</td>\n",
       "    </tr>\n",
       "    <tr>\n",
       "      <th>5</th>\n",
       "      <td>2</td>\n",
       "      <td>1</td>\n",
       "      <td>1.222161</td>\n",
       "      <td>1.146441</td>\n",
       "      <td>1.128132</td>\n",
       "      <td>1.146441</td>\n",
       "      <td>16.516637</td>\n",
       "      <td>16.520431</td>\n",
       "      <td>0.005</td>\n",
       "      <td>64</td>\n",
       "      <td>bgmm</td>\n",
       "      <td>[50, 50]</td>\n",
       "      <td>0</td>\n",
       "      <td>False</td>\n",
       "      <td>1</td>\n",
       "    </tr>\n",
       "    <tr>\n",
       "      <th>6</th>\n",
       "      <td>2</td>\n",
       "      <td>2</td>\n",
       "      <td>1.203486</td>\n",
       "      <td>1.190100</td>\n",
       "      <td>1.127721</td>\n",
       "      <td>1.190100</td>\n",
       "      <td>15.481275</td>\n",
       "      <td>32.166268</td>\n",
       "      <td>0.005</td>\n",
       "      <td>64</td>\n",
       "      <td>bgmm</td>\n",
       "      <td>[50, 50]</td>\n",
       "      <td>0</td>\n",
       "      <td>False</td>\n",
       "      <td>1</td>\n",
       "    </tr>\n",
       "    <tr>\n",
       "      <th>7</th>\n",
       "      <td>2</td>\n",
       "      <td>3</td>\n",
       "      <td>1.197968</td>\n",
       "      <td>1.148224</td>\n",
       "      <td>1.148969</td>\n",
       "      <td>1.148224</td>\n",
       "      <td>15.724638</td>\n",
       "      <td>47.992295</td>\n",
       "      <td>0.005</td>\n",
       "      <td>64</td>\n",
       "      <td>bgmm</td>\n",
       "      <td>[50, 50]</td>\n",
       "      <td>0</td>\n",
       "      <td>False</td>\n",
       "      <td>1</td>\n",
       "    </tr>\n",
       "    <tr>\n",
       "      <th>8</th>\n",
       "      <td>2</td>\n",
       "      <td>4</td>\n",
       "      <td>1.195440</td>\n",
       "      <td>1.146644</td>\n",
       "      <td>1.145270</td>\n",
       "      <td>1.146644</td>\n",
       "      <td>17.098020</td>\n",
       "      <td>65.150516</td>\n",
       "      <td>0.005</td>\n",
       "      <td>64</td>\n",
       "      <td>bgmm</td>\n",
       "      <td>[50, 50]</td>\n",
       "      <td>0</td>\n",
       "      <td>False</td>\n",
       "      <td>1</td>\n",
       "    </tr>\n",
       "    <tr>\n",
       "      <th>9</th>\n",
       "      <td>2</td>\n",
       "      <td>5</td>\n",
       "      <td>1.192764</td>\n",
       "      <td>1.167781</td>\n",
       "      <td>1.130224</td>\n",
       "      <td>1.167781</td>\n",
       "      <td>16.874911</td>\n",
       "      <td>82.084472</td>\n",
       "      <td>0.005</td>\n",
       "      <td>64</td>\n",
       "      <td>bgmm</td>\n",
       "      <td>[50, 50]</td>\n",
       "      <td>0</td>\n",
       "      <td>False</td>\n",
       "      <td>1</td>\n",
       "    </tr>\n",
       "  </tbody>\n",
       "</table>\n",
       "</div>"
      ],
      "text/plain": [
       "   run  epoch      loss  valid_loss  test_loss  decision_loss  epoch duration  \\\n",
       "0    1      1  1.199274    1.101366   1.324154       1.101366       15.449237   \n",
       "1    1      2  1.181277    1.106711   1.321195       1.106711       14.488861   \n",
       "2    1      3  1.175741    1.105954   1.318955       1.105954       15.803683   \n",
       "3    1      4  1.173641    1.106749   1.320946       1.106749       15.481951   \n",
       "4    1      5  1.169977    1.120426   1.330169       1.120426       14.840503   \n",
       "5    2      1  1.222161    1.146441   1.128132       1.146441       16.516637   \n",
       "6    2      2  1.203486    1.190100   1.127721       1.190100       15.481275   \n",
       "7    2      3  1.197968    1.148224   1.148969       1.148224       15.724638   \n",
       "8    2      4  1.195440    1.146644   1.145270       1.146644       17.098020   \n",
       "9    2      5  1.192764    1.167781   1.130224       1.167781       16.874911   \n",
       "\n",
       "   run duration     lr  batch_size likelihood_fn hidden_channels  \\\n",
       "0     15.492588  0.005          64          bgmm        [50, 50]   \n",
       "1     30.057829  0.005          64          bgmm        [50, 50]   \n",
       "2     45.920273  0.005          64          bgmm        [50, 50]   \n",
       "3     61.448987  0.005          64          bgmm        [50, 50]   \n",
       "4     76.365467  0.005          64          bgmm        [50, 50]   \n",
       "5     16.520431  0.005          64          bgmm        [50, 50]   \n",
       "6     32.166268  0.005          64          bgmm        [50, 50]   \n",
       "7     47.992295  0.005          64          bgmm        [50, 50]   \n",
       "8     65.150516  0.005          64          bgmm        [50, 50]   \n",
       "9     82.084472  0.005          64          bgmm        [50, 50]   \n",
       "\n",
       "   dropout_rate  linear_model  k  \n",
       "0             0         False  0  \n",
       "1             0         False  0  \n",
       "2             0         False  0  \n",
       "3             0         False  0  \n",
       "4             0         False  0  \n",
       "5             0         False  1  \n",
       "6             0         False  1  \n",
       "7             0         False  1  \n",
       "8             0         False  1  \n",
       "9             0         False  1  "
      ]
     },
     "metadata": {},
     "output_type": "display_data"
    }
   ],
   "source": [
    "st_test, predictions = multirun(data, predictors, params, epochs, split_by='station',\n",
    "                                sequential_samples=False, use_device='cuda')"
   ]
  },
  {
   "cell_type": "code",
   "execution_count": 16,
   "metadata": {},
   "outputs": [],
   "source": [
    "# network.load_state_dict(torch.load(os.path.join(wd.root,'model_best.pth.tar')))"
   ]
  },
  {
   "cell_type": "code",
   "execution_count": 17,
   "metadata": {},
   "outputs": [],
   "source": [
    "for run in predictions.keys():\n",
    "    for i in range(len(params['k'])):\n",
    "        predictions[run][f'k{i}']['k_fold'] = i\n",
    "        if i == 0:\n",
    "            predictions[run]['k_all'] = predictions[run][f'k{i}']\n",
    "        else:\n",
    "            predictions[run]['k_all'] = pd.concat([predictions[run]['k_all'],predictions[run][f'k{i}']])"
   ]
  },
  {
   "cell_type": "code",
   "execution_count": 18,
   "metadata": {},
   "outputs": [],
   "source": [
    "# Table of predictions\n",
    "# seasons = ['Winter (JFM)', 'Premonsoon (AM)', 'Monsoon (JJAS)','Postmonsoon (OND)']\n",
    "seasons = ['JFM', 'AM', 'JJAS','OND']\n",
    "# table_of_predictions(predictions, seasons, sample_cols=['sample'])"
   ]
  },
  {
   "cell_type": "code",
   "execution_count": 19,
   "metadata": {},
   "outputs": [],
   "source": [
    "# for key in predictions.keys():\n",
    "#     predictions[key]['k_all'].rename(columns={\"sample\": \"sample_0\"}, inplace=True)"
   ]
  },
  {
   "cell_type": "code",
   "execution_count": 20,
   "metadata": {},
   "outputs": [],
   "source": [
    "# predictions['bgmm_[50]_False']['k_all'].rename(columns={\"wrf_prcp\": \"bannister_wrf_prcp\", \"precip_norris\": \"wrf_prcp\"}, inplace=True)"
   ]
  },
  {
   "cell_type": "code",
   "execution_count": 21,
   "metadata": {},
   "outputs": [],
   "source": [
    "n_samples = 10\n",
    "sample_cols = [f'sample_{i}' for i in range(n_samples)]\n",
    "add_cols = []\n",
    "\n",
    "columns = ['Prec','wrf_prcp','wrf_bc_prcp','precip_norris'] #+ sample_cols + add_cols"
   ]
  },
  {
   "cell_type": "code",
   "execution_count": 22,
   "metadata": {},
   "outputs": [],
   "source": [
    "for p in predictions.keys(): \n",
    "    for k,v in predictions[p].items():\n",
    "        v['wrf_prcp'] = v['precip_norris'] \n",
    "        v['wrf_bc_prcp'] = v['precip_norris'] "
   ]
  },
  {
   "cell_type": "code",
   "execution_count": 23,
   "metadata": {},
   "outputs": [
    {
     "data": {
      "text/plain": [
       "dict_keys(['bgmm_[50, 50]_NL_B=64_D=0'])"
      ]
     },
     "execution_count": 23,
     "metadata": {},
     "output_type": "execute_result"
    }
   ],
   "source": [
    "predictions.keys()"
   ]
  },
  {
   "cell_type": "code",
   "execution_count": 24,
   "metadata": {},
   "outputs": [
    {
     "name": "stdout",
     "output_type": "stream",
     "text": [
      "bgmm_[50, 50]_NL_B=64_D=0 :\t 0.5686743683926266\n"
     ]
    }
   ],
   "source": [
    "for k,v in predictions.items():\n",
    "    print(k, ':\\t', v['k_all'].BS.mean())"
   ]
  },
  {
   "cell_type": "code",
   "execution_count": 25,
   "metadata": {},
   "outputs": [
    {
     "name": "stdout",
     "output_type": "stream",
     "text": [
      "bgmm_[50, 50]_NL_B=64_D=0 :\t 1.3672600457874629\n"
     ]
    }
   ],
   "source": [
    "for k,v in predictions.items():\n",
    "    print(k, ':\\t', v['k_all'].QS.mean())"
   ]
  },
  {
   "cell_type": "code",
   "execution_count": 26,
   "metadata": {},
   "outputs": [],
   "source": [
    "# for k,v in predictions.items():\n",
    "#     rename_seasons(v['k_all'])"
   ]
  },
  {
   "cell_type": "code",
   "execution_count": 27,
   "metadata": {},
   "outputs": [
    {
     "ename": "ValueError",
     "evalue": "Data passed to ks_2samp must not be empty",
     "output_type": "error",
     "traceback": [
      "\u001b[0;31m---------------------------------------------------------------------------\u001b[0m",
      "\u001b[0;31mValueError\u001b[0m                                Traceback (most recent call last)",
      "Input \u001b[0;32mIn [27]\u001b[0m, in \u001b[0;36m<cell line: 1>\u001b[0;34m()\u001b[0m\n\u001b[0;32m----> 1\u001b[0m \u001b[43mtable_of_predictions_ks_test\u001b[49m\u001b[43m(\u001b[49m\u001b[43mpredictions\u001b[49m\u001b[43m,\u001b[49m\u001b[43m \u001b[49m\u001b[43mseasons\u001b[49m\u001b[43m,\u001b[49m\u001b[43m \u001b[49m\u001b[43mcolumns\u001b[49m\u001b[43m,\u001b[49m\u001b[43m \u001b[49m\u001b[43msample_cols\u001b[49m\u001b[43m,\u001b[49m\u001b[43m \u001b[49m\u001b[43madd_cols\u001b[49m\u001b[43m)\u001b[49m\n",
      "File \u001b[0;32m~/repos/upper-indus-prec-bc/plot_utils.py:1002\u001b[0m, in \u001b[0;36mtable_of_predictions_ks_test\u001b[0;34m(predictions, seasons, columns, sample_columns, additional_columns)\u001b[0m\n\u001b[1;32m    999\u001b[0m cdfb \u001b[38;5;241m=\u001b[39m df[df[\u001b[38;5;124m'\u001b[39m\u001b[38;5;124mseason\u001b[39m\u001b[38;5;124m'\u001b[39m]\u001b[38;5;241m==\u001b[39mseason][\u001b[38;5;124m'\u001b[39m\u001b[38;5;124mwrf_bc_prcp\u001b[39m\u001b[38;5;124m'\u001b[39m]\n\u001b[1;32m   1000\u001b[0m cdfc \u001b[38;5;241m=\u001b[39m df[df[\u001b[38;5;124m'\u001b[39m\u001b[38;5;124mseason\u001b[39m\u001b[38;5;124m'\u001b[39m]\u001b[38;5;241m==\u001b[39mseason][\u001b[38;5;124m'\u001b[39m\u001b[38;5;124mprecip_norris\u001b[39m\u001b[38;5;124m'\u001b[39m]\n\u001b[0;32m-> 1002\u001b[0m kstesta \u001b[38;5;241m=\u001b[39m \u001b[43mscipy\u001b[49m\u001b[38;5;241;43m.\u001b[39;49m\u001b[43mstats\u001b[49m\u001b[38;5;241;43m.\u001b[39;49m\u001b[43mks_2samp\u001b[49m\u001b[43m(\u001b[49m\u001b[43mrvs\u001b[49m\u001b[43m,\u001b[49m\u001b[43m \u001b[49m\u001b[43mcdfa\u001b[49m\u001b[43m,\u001b[49m\u001b[43m \u001b[49m\u001b[43malternative\u001b[49m\u001b[38;5;241;43m=\u001b[39;49m\u001b[38;5;124;43m'\u001b[39;49m\u001b[38;5;124;43mtwo-sided\u001b[39;49m\u001b[38;5;124;43m'\u001b[39;49m\u001b[43m,\u001b[49m\u001b[43m \u001b[49m\u001b[43mmode\u001b[49m\u001b[38;5;241;43m=\u001b[39;49m\u001b[38;5;124;43m'\u001b[39;49m\u001b[38;5;124;43mauto\u001b[39;49m\u001b[38;5;124;43m'\u001b[39;49m\u001b[43m)\u001b[49m\n\u001b[1;32m   1003\u001b[0m kstestb \u001b[38;5;241m=\u001b[39m scipy\u001b[38;5;241m.\u001b[39mstats\u001b[38;5;241m.\u001b[39mks_2samp(rvs, cdfb, alternative\u001b[38;5;241m=\u001b[39m\u001b[38;5;124m'\u001b[39m\u001b[38;5;124mtwo-sided\u001b[39m\u001b[38;5;124m'\u001b[39m, mode\u001b[38;5;241m=\u001b[39m\u001b[38;5;124m'\u001b[39m\u001b[38;5;124mauto\u001b[39m\u001b[38;5;124m'\u001b[39m)\n\u001b[1;32m   1004\u001b[0m kstestc \u001b[38;5;241m=\u001b[39m scipy\u001b[38;5;241m.\u001b[39mstats\u001b[38;5;241m.\u001b[39mks_2samp(rvs, cdfc, alternative\u001b[38;5;241m=\u001b[39m\u001b[38;5;124m'\u001b[39m\u001b[38;5;124mtwo-sided\u001b[39m\u001b[38;5;124m'\u001b[39m, mode\u001b[38;5;241m=\u001b[39m\u001b[38;5;124m'\u001b[39m\u001b[38;5;124mauto\u001b[39m\u001b[38;5;124m'\u001b[39m)\n",
      "File \u001b[0;32m/data/hpcdata/users/marron31/conda-envs/bcdp/lib/python3.9/site-packages/scipy/stats/stats.py:7442\u001b[0m, in \u001b[0;36mks_2samp\u001b[0;34m(data1, data2, alternative, mode)\u001b[0m\n\u001b[1;32m   7440\u001b[0m n2 \u001b[38;5;241m=\u001b[39m data2\u001b[38;5;241m.\u001b[39mshape[\u001b[38;5;241m0\u001b[39m]\n\u001b[1;32m   7441\u001b[0m \u001b[38;5;28;01mif\u001b[39;00m \u001b[38;5;28mmin\u001b[39m(n1, n2) \u001b[38;5;241m==\u001b[39m \u001b[38;5;241m0\u001b[39m:\n\u001b[0;32m-> 7442\u001b[0m     \u001b[38;5;28;01mraise\u001b[39;00m \u001b[38;5;167;01mValueError\u001b[39;00m(\u001b[38;5;124m'\u001b[39m\u001b[38;5;124mData passed to ks_2samp must not be empty\u001b[39m\u001b[38;5;124m'\u001b[39m)\n\u001b[1;32m   7444\u001b[0m data_all \u001b[38;5;241m=\u001b[39m np\u001b[38;5;241m.\u001b[39mconcatenate([data1, data2])\n\u001b[1;32m   7445\u001b[0m \u001b[38;5;66;03m# using searchsorted solves equal data problem\u001b[39;00m\n",
      "\u001b[0;31mValueError\u001b[0m: Data passed to ks_2samp must not be empty"
     ]
    }
   ],
   "source": [
    "table_of_predictions_ks_test(predictions, seasons, columns, sample_cols, add_cols)"
   ]
  },
  {
   "cell_type": "code",
   "execution_count": 28,
   "metadata": {},
   "outputs": [
    {
     "name": "stdout",
     "output_type": "stream",
     "text": [
      "Model                      JFM mean    JFM median    AM mean    AM median    JJAS mean    JJAS median    OND mean    OND median\n",
      "-------------------------  ----------  ------------  ---------  -----------  -----------  -------------  ----------  ------------\n",
      "Bann                       0.30        0.25          0.41       0.40         0.35         0.34           0.44        0.39\n",
      "BannCorr                   0.30        0.25          0.41       0.40         0.35         0.34           0.44        0.39\n",
      "Norr                       0.30        0.25          0.41       0.40         0.35         0.34           0.44        0.39\n",
      "bgmm_[50, 50]_NL_B=64_D=0  0.23        0.20          0.27       0.23         0.19         0.13           0.36        0.30\n"
     ]
    }
   ],
   "source": [
    "table_of_predictions_for_metric(predictions, seasons, columns, n_samples, sample_cols, add_cols, metric = 'smape', prefix='smape')"
   ]
  },
  {
   "cell_type": "code",
   "execution_count": 29,
   "metadata": {},
   "outputs": [
    {
     "name": "stdout",
     "output_type": "stream",
     "text": [
      "Model                      JFM mean    JFM median    AM mean    AM median    JJAS mean    JJAS median    OND mean    OND median\n",
      "-------------------------  ----------  ------------  ---------  -----------  -----------  -------------  ----------  ------------\n",
      "Bann                       12.31       10.00         12.11      11.00        36.33        37.00          7.46        6.00\n",
      "BannCorr                   12.31       10.00         12.11      11.00        36.33        37.00          7.46        6.00\n",
      "Norr                       12.31       10.00         12.11      11.00        36.33        37.00          7.46        6.00\n",
      "bgmm_[50, 50]_NL_B=64_D=0  7.25        4.50          5.71       4.40         10.59        7.30           4.73        3.15\n"
     ]
    }
   ],
   "source": [
    "table_of_predictions_for_metric(predictions, seasons, columns, n_samples, sample_cols, add_cols, metric = 'edd', prefix='edd')"
   ]
  },
  {
   "cell_type": "code",
   "execution_count": 30,
   "metadata": {},
   "outputs": [
    {
     "name": "stdout",
     "output_type": "stream",
     "text": [
      "Model                      JFM mean    JFM median    AM mean    AM median    JJAS mean    JJAS median    OND mean    OND median\n",
      "-------------------------  ----------  ------------  ---------  -----------  -----------  -------------  ----------  ------------\n",
      "Bann                       116.08      84.44         87.04      59.29        462.64       275.54         58.62       30.62\n",
      "BannCorr                   116.08      84.44         87.04      59.29        462.64       275.54         58.62       30.62\n",
      "Norr                       116.08      84.44         87.04      59.29        462.64       275.54         58.62       30.62\n",
      "bgmm_[50, 50]_NL_B=64_D=0  79.93       63.16         64.47      42.84        186.07       138.52         50.46       32.55\n"
     ]
    }
   ],
   "source": [
    "table_of_predictions_for_metric(predictions, seasons, columns, n_samples, sample_cols, add_cols, metric = 'ae', prefix='ae')"
   ]
  },
  {
   "cell_type": "code",
   "execution_count": 31,
   "metadata": {},
   "outputs": [
    {
     "name": "stdout",
     "output_type": "stream",
     "text": [
      "Model                      JFM mean      JFM median    AM mean       AM median    JJAS mean        JJAS median    OND mean      OND median\n",
      "-------------------------  ------------  ------------  ------------  -----------  ---------------  -------------  ------------  ------------\n",
      "Bann                       25618.21      7130.11       13451.88      3516.50      443145.37        75922.82       8621.89       937.48\n",
      "BannCorr                   25618.21      7130.11       13451.88      3516.50      443145.37        75922.82       8621.89       937.48\n",
      "Norr                       25618.21      7130.11       13451.88      3516.50      443145.37        75922.82       8621.89       937.48\n",
      "bgmm_[50, 50]_NL_B=64_D=0  527467688.12  51735724.66   414936192.51  10283370.10  127490884404.04  1645475141.43  719325573.39  3796214.82\n"
     ]
    }
   ],
   "source": [
    "table_of_predictions_for_metric(predictions, seasons, columns, n_samples, sample_cols, add_cols, metric = 'se', prefix='se')"
   ]
  },
  {
   "cell_type": "code",
   "execution_count": null,
   "metadata": {},
   "outputs": [],
   "source": [
    "a = pd.read_csv('results.csv')\n",
    "\n",
    "b = a.groupby(['k','run']).agg({'valid_loss': 'min', \n",
    "                                 'hidden_channels': 'first', \n",
    "                                 'likelihood_fn': 'first',\n",
    "                                 'lr':'first',\n",
    "                                 'batch_size':'first',\n",
    "                                 'dropout_rate':'first',\n",
    "                                 'linear_model':'first'})\n",
    "\n",
    "c = b.groupby(['run']).agg({'valid_loss': 'mean', \n",
    "                        'hidden_channels': 'first', \n",
    "                        'likelihood_fn': 'first',\n",
    "                        'lr':'first',\n",
    "                        'batch_size':'first',\n",
    "                        'dropout_rate':'first',\n",
    "                         'linear_model':'first'}\n",
    "                   ).sort_values('valid_loss').reset_index()\n",
    "\n",
    "d = c.groupby(['hidden_channels',\n",
    "           'likelihood_fn',\n",
    "           'lr',\n",
    "           'batch_size',\n",
    "           'dropout_rate',\n",
    "           'linear_model']).agg({'valid_loss': 'mean'}\n",
    "                   ).sort_values('valid_loss').reset_index()"
   ]
  },
  {
   "cell_type": "code",
   "execution_count": null,
   "metadata": {},
   "outputs": [],
   "source": [
    "d"
   ]
  },
  {
   "cell_type": "code",
   "execution_count": null,
   "metadata": {},
   "outputs": [],
   "source": [
    "c"
   ]
  },
  {
   "cell_type": "code",
   "execution_count": null,
   "metadata": {},
   "outputs": [],
   "source": []
  }
 ],
 "metadata": {
  "kernelspec": {
   "display_name": "Python [conda env:bcdp]",
   "language": "python",
   "name": "conda-env-bcdp-py"
  },
  "language_info": {
   "codemirror_mode": {
    "name": "ipython",
    "version": 3
   },
   "file_extension": ".py",
   "mimetype": "text/x-python",
   "name": "python",
   "nbconvert_exporter": "python",
   "pygments_lexer": "ipython3",
   "version": "3.9.12"
  },
  "vscode": {
   "interpreter": {
    "hash": "d6f7d0f407510cc81edbbb8fa0d61f79bb70425ade7d5a8e5edb94832bf1e351"
   }
  }
 },
 "nbformat": 4,
 "nbformat_minor": 4
}
