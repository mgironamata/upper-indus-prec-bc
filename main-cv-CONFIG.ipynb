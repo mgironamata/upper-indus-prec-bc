{
 "cells": [
  {
   "cell_type": "code",
   "execution_count": 1,
   "metadata": {},
   "outputs": [],
   "source": [
    "import sys\n",
    "sys.path.append('CONFIG_files/')"
   ]
  },
  {
   "cell_type": "code",
   "execution_count": 2,
   "metadata": {},
   "outputs": [
    {
     "data": {
      "text/plain": [
       "('COMBINED', 'COMBINED_RECURRENT_2_DEC_2023_EXP_2', 'station')"
      ]
     },
     "execution_count": 2,
     "metadata": {},
     "output_type": "execute_result"
    }
   ],
   "source": [
    "import numpy as np\n",
    "import pandas as pd\n",
    "import seaborn as sns\n",
    "import shutil\n",
    "\n",
    "from matplotlib import pyplot as plt\n",
    "from tabulate import tabulate\n",
    "\n",
    "import os, shutil, time, pdb, random\n",
    "import scipy.stats as stats \n",
    "import scipy\n",
    "\n",
    "from math import pi\n",
    "from datetime import datetime\n",
    "from collections import OrderedDict\n",
    "import pickle\n",
    "\n",
    "import torch\n",
    "from torch.utils.data import TensorDataset, DataLoader\n",
    "\n",
    "from importlib import reload\n",
    "from models import *\n",
    "from utils import *\n",
    "from runmanager import *\n",
    "from experiment import *\n",
    "from plot_utils import *\n",
    "from preprocessing_utils import *\n",
    "from analysis_seasonal import * \n",
    "\n",
    "from sklearn.metrics import mean_squared_error as mse\n",
    "\n",
    "import matplotlib\n",
    "matplotlib.rc_file_defaults()\n",
    "%matplotlib inline\n",
    "\n",
    "# import CONFIG_SUSHIWAT_BGMM_23_JUNE_2023 as C\n",
    "import CONFIG as C\n",
    "\n",
    "pd.options.display.max_columns = None\n",
    "\n",
    "np.random.seed(4)\n",
    "\n",
    "%load_ext autoreload\n",
    "%autoreload 2\n",
    "\n",
    "device = C.device\n",
    "\n",
    "C.REGION, C.RUN_NAME, C.split_by"
   ]
  },
  {
   "cell_type": "markdown",
   "metadata": {},
   "source": [
    "### Import data"
   ]
  },
  {
   "cell_type": "code",
   "execution_count": 2,
   "metadata": {},
   "outputs": [
    {
     "name": "stderr",
     "output_type": "stream",
     "text": [
      "/users/marron31/repos/upper-indus-prec-bc/preprocessing_utils.py:278: SettingWithCopyWarning: \n",
      "A value is trying to be set on a copy of a slice from a DataFrame\n",
      "\n",
      "See the caveats in the documentation: https://pandas.pydata.org/pandas-docs/stable/user_guide/indexing.html#returning-a-view-versus-a-copy\n",
      "  df[series][df[series] < 0] = 0\n"
     ]
    }
   ],
   "source": [
    "data = DataPreprocessing(train_path=C.TRAIN_PATH, start=C.start, end=C.end, \n",
    "                add_yesterday = False, \n",
    "                basin_filter = None, \n",
    "                split_bias_corrected_only = False, \n",
    "                filter_incomplete_years = False, \n",
    "                include_non_bc_stations = True, \n",
    "                split_by = C.split_by)"
   ]
  },
  {
   "cell_type": "markdown",
   "metadata": {},
   "source": [
    "### Split data into held out sets for K-fold cross validation"
   ]
  },
  {
   "cell_type": "code",
   "execution_count": 3,
   "metadata": {},
   "outputs": [
    {
     "name": "stdout",
     "output_type": "stream",
     "text": [
      "False\n"
     ]
    }
   ],
   "source": [
    "if C.SORT_BY_ELEVATION:\n",
    "    data.split_stations(sort_by_elev = True)\n",
    "else:\n",
    "    data.split_stations(sort_by_elev = False)\n",
    "    \n",
    "print(C.SORT_BY_ELEVATION)"
   ]
  },
  {
   "cell_type": "markdown",
   "metadata": {},
   "source": [
    "### Prepare data"
   ]
  },
  {
   "cell_type": "code",
   "execution_count": null,
   "metadata": {
    "scrolled": true
   },
   "outputs": [],
   "source": [
    "if C.ADD_PREVIOUS_DAY:\n",
    "    C.predictors.append('obs_yesterday')\n",
    "\n",
    "data.input_data(C.predictors, C.predictand, sort_by_quantile=C.sort_by_quantile)\n",
    "\n",
    "print(C.ADD_PREVIOUS_DAY)\n",
    "print(C.sort_by_quantile)"
   ]
  },
  {
   "cell_type": "markdown",
   "metadata": {},
   "source": [
    "## Multi-Run: Train model with different hyperparameters"
   ]
  },
  {
   "cell_type": "markdown",
   "metadata": {},
   "source": [
    "### Model run"
   ]
  },
  {
   "cell_type": "code",
   "execution_count": null,
   "metadata": {},
   "outputs": [],
   "source": [
    "experiment_label = C.RUN_NAME\n",
    "experiment_label, C.K_FOLD"
   ]
  },
  {
   "cell_type": "code",
   "execution_count": null,
   "metadata": {},
   "outputs": [],
   "source": [
    "load_run = None"
   ]
  },
  {
   "cell_type": "code",
   "execution_count": 50,
   "metadata": {
    "code_folding": [],
    "tags": []
   },
   "outputs": [
    {
     "data": {
      "text/html": [
       "<div>\n",
       "<style scoped>\n",
       "    .dataframe tbody tr th:only-of-type {\n",
       "        vertical-align: middle;\n",
       "    }\n",
       "\n",
       "    .dataframe tbody tr th {\n",
       "        vertical-align: top;\n",
       "    }\n",
       "\n",
       "    .dataframe thead th {\n",
       "        text-align: right;\n",
       "    }\n",
       "</style>\n",
       "<table border=\"1\" class=\"dataframe\">\n",
       "  <thead>\n",
       "    <tr style=\"text-align: right;\">\n",
       "      <th></th>\n",
       "      <th>run</th>\n",
       "      <th>epoch</th>\n",
       "      <th>loss</th>\n",
       "      <th>valid_loss</th>\n",
       "      <th>test_loss</th>\n",
       "      <th>decision_loss</th>\n",
       "      <th>epoch duration</th>\n",
       "      <th>run duration</th>\n",
       "      <th>lr</th>\n",
       "      <th>batch_size</th>\n",
       "      <th>likelihood_fn</th>\n",
       "      <th>dropout_rate</th>\n",
       "      <th>random_noise</th>\n",
       "      <th>k</th>\n",
       "      <th>model_arch</th>\n",
       "    </tr>\n",
       "  </thead>\n",
       "  <tbody>\n",
       "    <tr>\n",
       "      <th>0</th>\n",
       "      <td>1</td>\n",
       "      <td>1</td>\n",
       "      <td>3.035277</td>\n",
       "      <td>4.166486</td>\n",
       "      <td>3.869365</td>\n",
       "      <td>4.166486</td>\n",
       "      <td>16.664939</td>\n",
       "      <td>16.664949</td>\n",
       "      <td>0.001</td>\n",
       "      <td>32</td>\n",
       "      <td>gaussian</td>\n",
       "      <td>0</td>\n",
       "      <td>0</td>\n",
       "      <td>0</td>\n",
       "      <td>(MLP, [50, 50])</td>\n",
       "    </tr>\n",
       "    <tr>\n",
       "      <th>1</th>\n",
       "      <td>1</td>\n",
       "      <td>2</td>\n",
       "      <td>2.588123</td>\n",
       "      <td>3.652568</td>\n",
       "      <td>3.542632</td>\n",
       "      <td>3.652568</td>\n",
       "      <td>16.035712</td>\n",
       "      <td>32.718657</td>\n",
       "      <td>0.001</td>\n",
       "      <td>32</td>\n",
       "      <td>gaussian</td>\n",
       "      <td>0</td>\n",
       "      <td>0</td>\n",
       "      <td>0</td>\n",
       "      <td>(MLP, [50, 50])</td>\n",
       "    </tr>\n",
       "    <tr>\n",
       "      <th>2</th>\n",
       "      <td>1</td>\n",
       "      <td>3</td>\n",
       "      <td>2.547319</td>\n",
       "      <td>3.942407</td>\n",
       "      <td>3.719121</td>\n",
       "      <td>3.942407</td>\n",
       "      <td>16.161398</td>\n",
       "      <td>48.899365</td>\n",
       "      <td>0.001</td>\n",
       "      <td>32</td>\n",
       "      <td>gaussian</td>\n",
       "      <td>0</td>\n",
       "      <td>0</td>\n",
       "      <td>0</td>\n",
       "      <td>(MLP, [50, 50])</td>\n",
       "    </tr>\n",
       "    <tr>\n",
       "      <th>3</th>\n",
       "      <td>1</td>\n",
       "      <td>4</td>\n",
       "      <td>2.550579</td>\n",
       "      <td>3.668114</td>\n",
       "      <td>3.561984</td>\n",
       "      <td>3.668114</td>\n",
       "      <td>16.182381</td>\n",
       "      <td>65.100014</td>\n",
       "      <td>0.001</td>\n",
       "      <td>32</td>\n",
       "      <td>gaussian</td>\n",
       "      <td>0</td>\n",
       "      <td>0</td>\n",
       "      <td>0</td>\n",
       "      <td>(MLP, [50, 50])</td>\n",
       "    </tr>\n",
       "    <tr>\n",
       "      <th>4</th>\n",
       "      <td>1</td>\n",
       "      <td>5</td>\n",
       "      <td>2.569315</td>\n",
       "      <td>3.652273</td>\n",
       "      <td>3.557734</td>\n",
       "      <td>3.652273</td>\n",
       "      <td>16.238965</td>\n",
       "      <td>81.354405</td>\n",
       "      <td>0.001</td>\n",
       "      <td>32</td>\n",
       "      <td>gaussian</td>\n",
       "      <td>0</td>\n",
       "      <td>0</td>\n",
       "      <td>0</td>\n",
       "      <td>(MLP, [50, 50])</td>\n",
       "    </tr>\n",
       "    <tr>\n",
       "      <th>...</th>\n",
       "      <td>...</td>\n",
       "      <td>...</td>\n",
       "      <td>...</td>\n",
       "      <td>...</td>\n",
       "      <td>...</td>\n",
       "      <td>...</td>\n",
       "      <td>...</td>\n",
       "      <td>...</td>\n",
       "      <td>...</td>\n",
       "      <td>...</td>\n",
       "      <td>...</td>\n",
       "      <td>...</td>\n",
       "      <td>...</td>\n",
       "      <td>...</td>\n",
       "      <td>...</td>\n",
       "    </tr>\n",
       "    <tr>\n",
       "      <th>75</th>\n",
       "      <td>8</td>\n",
       "      <td>6</td>\n",
       "      <td>1.241296</td>\n",
       "      <td>1.152631</td>\n",
       "      <td>1.304085</td>\n",
       "      <td>1.152631</td>\n",
       "      <td>18.581110</td>\n",
       "      <td>112.786939</td>\n",
       "      <td>0.001</td>\n",
       "      <td>32</td>\n",
       "      <td>bernoulli_halfnormal</td>\n",
       "      <td>0</td>\n",
       "      <td>0</td>\n",
       "      <td>0</td>\n",
       "      <td>(MLP, [50, 50])</td>\n",
       "    </tr>\n",
       "    <tr>\n",
       "      <th>76</th>\n",
       "      <td>8</td>\n",
       "      <td>7</td>\n",
       "      <td>1.229003</td>\n",
       "      <td>1.140785</td>\n",
       "      <td>1.314341</td>\n",
       "      <td>1.140785</td>\n",
       "      <td>18.663235</td>\n",
       "      <td>131.473986</td>\n",
       "      <td>0.001</td>\n",
       "      <td>32</td>\n",
       "      <td>bernoulli_halfnormal</td>\n",
       "      <td>0</td>\n",
       "      <td>0</td>\n",
       "      <td>0</td>\n",
       "      <td>(MLP, [50, 50])</td>\n",
       "    </tr>\n",
       "    <tr>\n",
       "      <th>77</th>\n",
       "      <td>8</td>\n",
       "      <td>8</td>\n",
       "      <td>1.230008</td>\n",
       "      <td>1.139755</td>\n",
       "      <td>1.303873</td>\n",
       "      <td>1.139755</td>\n",
       "      <td>18.582851</td>\n",
       "      <td>150.088901</td>\n",
       "      <td>0.001</td>\n",
       "      <td>32</td>\n",
       "      <td>bernoulli_halfnormal</td>\n",
       "      <td>0</td>\n",
       "      <td>0</td>\n",
       "      <td>0</td>\n",
       "      <td>(MLP, [50, 50])</td>\n",
       "    </tr>\n",
       "    <tr>\n",
       "      <th>78</th>\n",
       "      <td>8</td>\n",
       "      <td>9</td>\n",
       "      <td>1.232803</td>\n",
       "      <td>1.145598</td>\n",
       "      <td>1.313998</td>\n",
       "      <td>1.145598</td>\n",
       "      <td>18.269347</td>\n",
       "      <td>168.380692</td>\n",
       "      <td>0.001</td>\n",
       "      <td>32</td>\n",
       "      <td>bernoulli_halfnormal</td>\n",
       "      <td>0</td>\n",
       "      <td>0</td>\n",
       "      <td>0</td>\n",
       "      <td>(MLP, [50, 50])</td>\n",
       "    </tr>\n",
       "    <tr>\n",
       "      <th>79</th>\n",
       "      <td>8</td>\n",
       "      <td>10</td>\n",
       "      <td>1.230659</td>\n",
       "      <td>1.159706</td>\n",
       "      <td>1.333178</td>\n",
       "      <td>1.159706</td>\n",
       "      <td>18.268646</td>\n",
       "      <td>186.672677</td>\n",
       "      <td>0.001</td>\n",
       "      <td>32</td>\n",
       "      <td>bernoulli_halfnormal</td>\n",
       "      <td>0</td>\n",
       "      <td>0</td>\n",
       "      <td>0</td>\n",
       "      <td>(MLP, [50, 50])</td>\n",
       "    </tr>\n",
       "  </tbody>\n",
       "</table>\n",
       "<p>80 rows × 15 columns</p>\n",
       "</div>"
      ],
      "text/plain": [
       "    run  epoch      loss  valid_loss  test_loss  decision_loss  \\\n",
       "0     1      1  3.035277    4.166486   3.869365       4.166486   \n",
       "1     1      2  2.588123    3.652568   3.542632       3.652568   \n",
       "2     1      3  2.547319    3.942407   3.719121       3.942407   \n",
       "3     1      4  2.550579    3.668114   3.561984       3.668114   \n",
       "4     1      5  2.569315    3.652273   3.557734       3.652273   \n",
       "..  ...    ...       ...         ...        ...            ...   \n",
       "75    8      6  1.241296    1.152631   1.304085       1.152631   \n",
       "76    8      7  1.229003    1.140785   1.314341       1.140785   \n",
       "77    8      8  1.230008    1.139755   1.303873       1.139755   \n",
       "78    8      9  1.232803    1.145598   1.313998       1.145598   \n",
       "79    8     10  1.230659    1.159706   1.333178       1.159706   \n",
       "\n",
       "    epoch duration  run duration     lr  batch_size         likelihood_fn  \\\n",
       "0        16.664939     16.664949  0.001          32              gaussian   \n",
       "1        16.035712     32.718657  0.001          32              gaussian   \n",
       "2        16.161398     48.899365  0.001          32              gaussian   \n",
       "3        16.182381     65.100014  0.001          32              gaussian   \n",
       "4        16.238965     81.354405  0.001          32              gaussian   \n",
       "..             ...           ...    ...         ...                   ...   \n",
       "75       18.581110    112.786939  0.001          32  bernoulli_halfnormal   \n",
       "76       18.663235    131.473986  0.001          32  bernoulli_halfnormal   \n",
       "77       18.582851    150.088901  0.001          32  bernoulli_halfnormal   \n",
       "78       18.269347    168.380692  0.001          32  bernoulli_halfnormal   \n",
       "79       18.268646    186.672677  0.001          32  bernoulli_halfnormal   \n",
       "\n",
       "    dropout_rate  random_noise  k       model_arch  \n",
       "0              0             0  0  (MLP, [50, 50])  \n",
       "1              0             0  0  (MLP, [50, 50])  \n",
       "2              0             0  0  (MLP, [50, 50])  \n",
       "3              0             0  0  (MLP, [50, 50])  \n",
       "4              0             0  0  (MLP, [50, 50])  \n",
       "..           ...           ... ..              ...  \n",
       "75             0             0  0  (MLP, [50, 50])  \n",
       "76             0             0  0  (MLP, [50, 50])  \n",
       "77             0             0  0  (MLP, [50, 50])  \n",
       "78             0             0  0  (MLP, [50, 50])  \n",
       "79             0             0  0  (MLP, [50, 50])  \n",
       "\n",
       "[80 rows x 15 columns]"
      ]
     },
     "metadata": {},
     "output_type": "display_data"
    },
    {
     "data": {
      "image/png": "[encoded data removed]",
      "text/plain": [
       "<Figure size 360x360 with 1 Axes>"
      ]
     },
     "metadata": {},
     "output_type": "display_data"
    },
    {
     "name": "stdout",
     "output_type": "stream",
     "text": [
      "MLP_[50, 50]_bernoulli_halfnormal_B=32_D=0_RN=0\n"
     ]
    }
   ],
   "source": [
    "if load_run == None:\n",
    "    src = 'CONFIG.py'\n",
    "    dst = f'CONFIG_files/CONFIG_{experiment_label}.py'\n",
    "    shutil.copy(src, dst)\n",
    "\n",
    "st_test, predictions, importances = multirun(data, C.predictors, C.params, C.epochs, \n",
    "                                split_by = 'station', \n",
    "                                draw_samples=False, sequential_samples = True, n_samples=1, \n",
    "                                load_run = load_run, #None, \n",
    "                                experiment_label = experiment_label, \n",
    "                                feature_attribution = False, \n",
    "                                show_loss_plot=True)"
   ]
  },
  {
   "cell_type": "code",
   "execution_count": 14,
   "metadata": {},
   "outputs": [],
   "source": [
    "# table_of_predictions_ks_test(predictions, C.seasons, columns, sample_cols, add_cols)"
   ]
  },
  {
   "cell_type": "code",
   "execution_count": 17,
   "metadata": {},
   "outputs": [],
   "source": [
    "# table_of_predictions_for_metric(predictions, C.seasons, columns, C.n_samples, sample_cols, add_cols, metric = 'smape', prefix='smape')"
   ]
  },
  {
   "cell_type": "code",
   "execution_count": 18,
   "metadata": {},
   "outputs": [],
   "source": [
    "# table_of_predictions_for_metric(predictions, C.seasons, columns, C.n_samples, sample_cols, add_cols, metric = 'edd', prefix='edd')"
   ]
  },
  {
   "cell_type": "code",
   "execution_count": 19,
   "metadata": {},
   "outputs": [],
   "source": [
    "# table_of_predictions_for_metric(predictions, C.seasons, columns, C.n_samples, sample_cols, add_cols, metric = 'ae', prefix='ae')"
   ]
  },
  {
   "cell_type": "code",
   "execution_count": null,
   "metadata": {},
   "outputs": [],
   "source": []
  },
  {
   "cell_type": "code",
   "execution_count": null,
   "metadata": {},
   "outputs": [],
   "source": [
    "a = pd.read_csv('results.csv')\n",
    "\n",
    "b = a.groupby(['k','run']).agg({'valid_loss': 'min', \n",
    "                                 'model_arch': 'first', \n",
    "                                 'likelihood_fn': 'first',\n",
    "                                 'lr':'first',\n",
    "                                 'batch_size':'first',\n",
    "                                 'dropout_rate':'first',\n",
    "                               })\n",
    "\n",
    "c = b.groupby(['run']).agg({'valid_loss': 'mean', \n",
    "                        'model_arch': 'first', \n",
    "                        'likelihood_fn': 'first',\n",
    "                        'lr':'first',\n",
    "                        'batch_size':'first',\n",
    "                        'dropout_rate':'first',\n",
    "                         }\n",
    "                   ).sort_values('valid_loss').reset_index()\n",
    "\n",
    "c.groupby(['model_arch',\n",
    "           'likelihood_fn',\n",
    "           'lr',\n",
    "           'batch_size',\n",
    "           'dropout_rate',\n",
    "           ]).agg({'valid_loss': 'mean'}\n",
    "                   ).sort_values('valid_loss').reset_index()"
   ]
  },
  {
   "cell_type": "code",
   "execution_count": null,
   "metadata": {},
   "outputs": [],
   "source": []
  }
 ],
 "metadata": {
  "kernelspec": {
   "display_name": "base",
   "language": "python",
   "name": "python3"
  },
  "language_info": {
   "codemirror_mode": {
    "name": "ipython",
    "version": 3
   },
   "file_extension": ".py",
   "mimetype": "text/x-python",
   "name": "python",
   "nbconvert_exporter": "python",
   "pygments_lexer": "ipython3",
   "version": "3.9.12"
  }
 },
 "nbformat": 4,
 "nbformat_minor": 4
}
