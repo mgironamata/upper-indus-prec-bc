{
 "cells": [
  {
   "cell_type": "code",
   "execution_count": 1,
   "metadata": {},
   "outputs": [
    {
     "name": "stderr",
     "output_type": "stream",
     "text": [
      "/data/hpcdata/users/marron31/conda-envs/bcdp/lib/python3.9/site-packages/scipy/__init__.py:146: UserWarning: A NumPy version >=1.16.5 and <1.23.0 is required for this version of SciPy (detected version 1.23.1\n",
      "  warnings.warn(f\"A NumPy version >={np_minversion} and <{np_maxversion}\"\n"
     ]
    }
   ],
   "source": [
    "import numpy as np\n",
    "import pandas as pd\n",
    "import seaborn as sns\n",
    "\n",
    "from matplotlib import pyplot as plt\n",
    "from tabulate import tabulate\n",
    "\n",
    "import os, shutil, time, pdb, random\n",
    "import scipy.stats as stats \n",
    "import scipy\n",
    "\n",
    "from math import pi\n",
    "from datetime import datetime\n",
    "from collections import OrderedDict\n",
    "import pickle\n",
    "\n",
    "import torch\n",
    "from torch.utils.data import TensorDataset, DataLoader\n",
    "\n",
    "from importlib import reload\n",
    "from models import *\n",
    "from utils import *\n",
    "from runmanager import *\n",
    "from experiment import *\n",
    "from plot_utils import *\n",
    "from preprocessing_utils import *\n",
    "from analysis_seasonal import * \n",
    "\n",
    "from sklearn.metrics import mean_squared_error as mse\n",
    "\n",
    "import matplotlib\n",
    "matplotlib.rc_file_defaults()\n",
    "%matplotlib inline\n",
    "\n",
    "import CONFIG\n",
    "\n",
    "pd.options.display.max_columns = None\n",
    "\n",
    "np.random.seed(4)\n",
    "\n",
    "%load_ext autoreload\n",
    "%autoreload 2\n",
    "\n",
    "device = CONFIG.device"
   ]
  },
  {
   "cell_type": "markdown",
   "metadata": {},
   "source": [
    "### Import data"
   ]
  },
  {
   "cell_type": "code",
   "execution_count": 2,
   "metadata": {},
   "outputs": [],
   "source": [
    "data = DataPreprocessing(train_path=CONFIG.TRAIN_PATH, start=CONFIG.start, end=CONFIG.end, \n",
    "                add_yesterday = False, \n",
    "                basin_filter = None, \n",
    "                split_bias_corrected_only = False, \n",
    "                filter_incomplete_years = False, \n",
    "                include_non_bc_stations = True, \n",
    "                split_by = 'station')"
   ]
  },
  {
   "cell_type": "markdown",
   "metadata": {},
   "source": [
    "### Split data into held out sets for K-fold cross validation"
   ]
  },
  {
   "cell_type": "code",
   "execution_count": 3,
   "metadata": {},
   "outputs": [],
   "source": [
    "data.split_stations()"
   ]
  },
  {
   "cell_type": "markdown",
   "metadata": {},
   "source": [
    "### Prepare data"
   ]
  },
  {
   "cell_type": "code",
   "execution_count": 4,
   "metadata": {
    "scrolled": true
   },
   "outputs": [],
   "source": [
    "# CONFIG.predictors.append('obs_yesterday')\n",
    "data.input_data(CONFIG.predictors, CONFIG.predictand, sort_by_quantile=False)"
   ]
  },
  {
   "cell_type": "markdown",
   "metadata": {},
   "source": [
    "## Multi-Run: Train model with different hyperparameters"
   ]
  },
  {
   "cell_type": "markdown",
   "metadata": {},
   "source": [
    "### Model run"
   ]
  },
  {
   "cell_type": "code",
   "execution_count": null,
   "metadata": {
    "code_folding": [],
    "tags": []
   },
   "outputs": [
    {
     "data": {
      "text/html": [
       "<div>\n",
       "<style scoped>\n",
       "    .dataframe tbody tr th:only-of-type {\n",
       "        vertical-align: middle;\n",
       "    }\n",
       "\n",
       "    .dataframe tbody tr th {\n",
       "        vertical-align: top;\n",
       "    }\n",
       "\n",
       "    .dataframe thead th {\n",
       "        text-align: right;\n",
       "    }\n",
       "</style>\n",
       "<table border=\"1\" class=\"dataframe\">\n",
       "  <thead>\n",
       "    <tr style=\"text-align: right;\">\n",
       "      <th></th>\n",
       "      <th>run</th>\n",
       "      <th>epoch</th>\n",
       "      <th>loss</th>\n",
       "      <th>valid_loss</th>\n",
       "      <th>test_loss</th>\n",
       "      <th>decision_loss</th>\n",
       "      <th>epoch duration</th>\n",
       "      <th>run duration</th>\n",
       "      <th>lr</th>\n",
       "      <th>batch_size</th>\n",
       "      <th>likelihood_fn</th>\n",
       "      <th>dropout_rate</th>\n",
       "      <th>k</th>\n",
       "      <th>model_arch</th>\n",
       "    </tr>\n",
       "  </thead>\n",
       "  <tbody>\n",
       "    <tr>\n",
       "      <th>0</th>\n",
       "      <td>1</td>\n",
       "      <td>1</td>\n",
       "      <td>1.265911</td>\n",
       "      <td>1.172906</td>\n",
       "      <td>1.242172</td>\n",
       "      <td>1.172906</td>\n",
       "      <td>5.860004</td>\n",
       "      <td>5.867386</td>\n",
       "      <td>0.005</td>\n",
       "      <td>128</td>\n",
       "      <td>bgmm</td>\n",
       "      <td>0</td>\n",
       "      <td>0</td>\n",
       "      <td>(VGLM, [])</td>\n",
       "    </tr>\n",
       "    <tr>\n",
       "      <th>1</th>\n",
       "      <td>1</td>\n",
       "      <td>2</td>\n",
       "      <td>1.206676</td>\n",
       "      <td>1.173375</td>\n",
       "      <td>1.242178</td>\n",
       "      <td>1.173375</td>\n",
       "      <td>5.791552</td>\n",
       "      <td>11.717118</td>\n",
       "      <td>0.005</td>\n",
       "      <td>128</td>\n",
       "      <td>bgmm</td>\n",
       "      <td>0</td>\n",
       "      <td>0</td>\n",
       "      <td>(VGLM, [])</td>\n",
       "    </tr>\n",
       "    <tr>\n",
       "      <th>2</th>\n",
       "      <td>1</td>\n",
       "      <td>3</td>\n",
       "      <td>1.206488</td>\n",
       "      <td>1.173694</td>\n",
       "      <td>1.240549</td>\n",
       "      <td>1.173694</td>\n",
       "      <td>5.769708</td>\n",
       "      <td>17.528613</td>\n",
       "      <td>0.005</td>\n",
       "      <td>128</td>\n",
       "      <td>bgmm</td>\n",
       "      <td>0</td>\n",
       "      <td>0</td>\n",
       "      <td>(VGLM, [])</td>\n",
       "    </tr>\n",
       "    <tr>\n",
       "      <th>3</th>\n",
       "      <td>1</td>\n",
       "      <td>4</td>\n",
       "      <td>1.206122</td>\n",
       "      <td>1.171363</td>\n",
       "      <td>1.246699</td>\n",
       "      <td>1.171363</td>\n",
       "      <td>6.008654</td>\n",
       "      <td>23.582618</td>\n",
       "      <td>0.005</td>\n",
       "      <td>128</td>\n",
       "      <td>bgmm</td>\n",
       "      <td>0</td>\n",
       "      <td>0</td>\n",
       "      <td>(VGLM, [])</td>\n",
       "    </tr>\n",
       "    <tr>\n",
       "      <th>4</th>\n",
       "      <td>1</td>\n",
       "      <td>5</td>\n",
       "      <td>1.205902</td>\n",
       "      <td>1.169312</td>\n",
       "      <td>1.238578</td>\n",
       "      <td>1.169312</td>\n",
       "      <td>5.705728</td>\n",
       "      <td>29.326298</td>\n",
       "      <td>0.005</td>\n",
       "      <td>128</td>\n",
       "      <td>bgmm</td>\n",
       "      <td>0</td>\n",
       "      <td>0</td>\n",
       "      <td>(VGLM, [])</td>\n",
       "    </tr>\n",
       "    <tr>\n",
       "      <th>5</th>\n",
       "      <td>1</td>\n",
       "      <td>6</td>\n",
       "      <td>1.205763</td>\n",
       "      <td>1.168970</td>\n",
       "      <td>1.240158</td>\n",
       "      <td>1.168970</td>\n",
       "      <td>6.367269</td>\n",
       "      <td>35.738897</td>\n",
       "      <td>0.005</td>\n",
       "      <td>128</td>\n",
       "      <td>bgmm</td>\n",
       "      <td>0</td>\n",
       "      <td>0</td>\n",
       "      <td>(VGLM, [])</td>\n",
       "    </tr>\n",
       "    <tr>\n",
       "      <th>6</th>\n",
       "      <td>1</td>\n",
       "      <td>7</td>\n",
       "      <td>1.205577</td>\n",
       "      <td>1.172987</td>\n",
       "      <td>1.240681</td>\n",
       "      <td>1.172987</td>\n",
       "      <td>5.758368</td>\n",
       "      <td>41.546102</td>\n",
       "      <td>0.005</td>\n",
       "      <td>128</td>\n",
       "      <td>bgmm</td>\n",
       "      <td>0</td>\n",
       "      <td>0</td>\n",
       "      <td>(VGLM, [])</td>\n",
       "    </tr>\n",
       "    <tr>\n",
       "      <th>7</th>\n",
       "      <td>1</td>\n",
       "      <td>8</td>\n",
       "      <td>1.205447</td>\n",
       "      <td>1.172107</td>\n",
       "      <td>1.243065</td>\n",
       "      <td>1.172107</td>\n",
       "      <td>6.412961</td>\n",
       "      <td>48.029615</td>\n",
       "      <td>0.005</td>\n",
       "      <td>128</td>\n",
       "      <td>bgmm</td>\n",
       "      <td>0</td>\n",
       "      <td>0</td>\n",
       "      <td>(VGLM, [])</td>\n",
       "    </tr>\n",
       "    <tr>\n",
       "      <th>8</th>\n",
       "      <td>1</td>\n",
       "      <td>9</td>\n",
       "      <td>1.205291</td>\n",
       "      <td>1.175139</td>\n",
       "      <td>1.239771</td>\n",
       "      <td>1.175139</td>\n",
       "      <td>5.891509</td>\n",
       "      <td>53.968575</td>\n",
       "      <td>0.005</td>\n",
       "      <td>128</td>\n",
       "      <td>bgmm</td>\n",
       "      <td>0</td>\n",
       "      <td>0</td>\n",
       "      <td>(VGLM, [])</td>\n",
       "    </tr>\n",
       "    <tr>\n",
       "      <th>9</th>\n",
       "      <td>1</td>\n",
       "      <td>10</td>\n",
       "      <td>1.205385</td>\n",
       "      <td>1.175429</td>\n",
       "      <td>1.240272</td>\n",
       "      <td>1.175429</td>\n",
       "      <td>5.724869</td>\n",
       "      <td>59.760617</td>\n",
       "      <td>0.005</td>\n",
       "      <td>128</td>\n",
       "      <td>bgmm</td>\n",
       "      <td>0</td>\n",
       "      <td>0</td>\n",
       "      <td>(VGLM, [])</td>\n",
       "    </tr>\n",
       "    <tr>\n",
       "      <th>10</th>\n",
       "      <td>2</td>\n",
       "      <td>1</td>\n",
       "      <td>1.218563</td>\n",
       "      <td>1.175389</td>\n",
       "      <td>1.227037</td>\n",
       "      <td>1.175389</td>\n",
       "      <td>6.581424</td>\n",
       "      <td>6.585539</td>\n",
       "      <td>0.005</td>\n",
       "      <td>128</td>\n",
       "      <td>bgmm</td>\n",
       "      <td>0</td>\n",
       "      <td>0</td>\n",
       "      <td>(MLP, [10])</td>\n",
       "    </tr>\n",
       "    <tr>\n",
       "      <th>11</th>\n",
       "      <td>2</td>\n",
       "      <td>2</td>\n",
       "      <td>1.182681</td>\n",
       "      <td>1.174192</td>\n",
       "      <td>1.220320</td>\n",
       "      <td>1.174192</td>\n",
       "      <td>6.460976</td>\n",
       "      <td>13.098555</td>\n",
       "      <td>0.005</td>\n",
       "      <td>128</td>\n",
       "      <td>bgmm</td>\n",
       "      <td>0</td>\n",
       "      <td>0</td>\n",
       "      <td>(MLP, [10])</td>\n",
       "    </tr>\n",
       "    <tr>\n",
       "      <th>12</th>\n",
       "      <td>2</td>\n",
       "      <td>3</td>\n",
       "      <td>1.179845</td>\n",
       "      <td>1.168974</td>\n",
       "      <td>1.220888</td>\n",
       "      <td>1.168974</td>\n",
       "      <td>6.435303</td>\n",
       "      <td>19.629205</td>\n",
       "      <td>0.005</td>\n",
       "      <td>128</td>\n",
       "      <td>bgmm</td>\n",
       "      <td>0</td>\n",
       "      <td>0</td>\n",
       "      <td>(MLP, [10])</td>\n",
       "    </tr>\n",
       "    <tr>\n",
       "      <th>13</th>\n",
       "      <td>2</td>\n",
       "      <td>4</td>\n",
       "      <td>1.178597</td>\n",
       "      <td>1.165562</td>\n",
       "      <td>1.216949</td>\n",
       "      <td>1.165562</td>\n",
       "      <td>6.471814</td>\n",
       "      <td>26.155375</td>\n",
       "      <td>0.005</td>\n",
       "      <td>128</td>\n",
       "      <td>bgmm</td>\n",
       "      <td>0</td>\n",
       "      <td>0</td>\n",
       "      <td>(MLP, [10])</td>\n",
       "    </tr>\n",
       "    <tr>\n",
       "      <th>14</th>\n",
       "      <td>2</td>\n",
       "      <td>5</td>\n",
       "      <td>1.177493</td>\n",
       "      <td>1.160466</td>\n",
       "      <td>1.216893</td>\n",
       "      <td>1.160466</td>\n",
       "      <td>6.452610</td>\n",
       "      <td>32.670918</td>\n",
       "      <td>0.005</td>\n",
       "      <td>128</td>\n",
       "      <td>bgmm</td>\n",
       "      <td>0</td>\n",
       "      <td>0</td>\n",
       "      <td>(MLP, [10])</td>\n",
       "    </tr>\n",
       "    <tr>\n",
       "      <th>15</th>\n",
       "      <td>2</td>\n",
       "      <td>6</td>\n",
       "      <td>1.176554</td>\n",
       "      <td>1.155299</td>\n",
       "      <td>1.216094</td>\n",
       "      <td>1.155299</td>\n",
       "      <td>6.407240</td>\n",
       "      <td>39.147938</td>\n",
       "      <td>0.005</td>\n",
       "      <td>128</td>\n",
       "      <td>bgmm</td>\n",
       "      <td>0</td>\n",
       "      <td>0</td>\n",
       "      <td>(MLP, [10])</td>\n",
       "    </tr>\n",
       "    <tr>\n",
       "      <th>16</th>\n",
       "      <td>2</td>\n",
       "      <td>7</td>\n",
       "      <td>1.175592</td>\n",
       "      <td>1.154493</td>\n",
       "      <td>1.212835</td>\n",
       "      <td>1.154493</td>\n",
       "      <td>6.489383</td>\n",
       "      <td>45.694017</td>\n",
       "      <td>0.005</td>\n",
       "      <td>128</td>\n",
       "      <td>bgmm</td>\n",
       "      <td>0</td>\n",
       "      <td>0</td>\n",
       "      <td>(MLP, [10])</td>\n",
       "    </tr>\n",
       "    <tr>\n",
       "      <th>17</th>\n",
       "      <td>2</td>\n",
       "      <td>8</td>\n",
       "      <td>1.175214</td>\n",
       "      <td>1.158880</td>\n",
       "      <td>1.220348</td>\n",
       "      <td>1.158880</td>\n",
       "      <td>6.482408</td>\n",
       "      <td>52.234407</td>\n",
       "      <td>0.005</td>\n",
       "      <td>128</td>\n",
       "      <td>bgmm</td>\n",
       "      <td>0</td>\n",
       "      <td>0</td>\n",
       "      <td>(MLP, [10])</td>\n",
       "    </tr>\n",
       "    <tr>\n",
       "      <th>18</th>\n",
       "      <td>2</td>\n",
       "      <td>9</td>\n",
       "      <td>1.174981</td>\n",
       "      <td>1.156973</td>\n",
       "      <td>1.219689</td>\n",
       "      <td>1.156973</td>\n",
       "      <td>6.564034</td>\n",
       "      <td>58.854067</td>\n",
       "      <td>0.005</td>\n",
       "      <td>128</td>\n",
       "      <td>bgmm</td>\n",
       "      <td>0</td>\n",
       "      <td>0</td>\n",
       "      <td>(MLP, [10])</td>\n",
       "    </tr>\n",
       "    <tr>\n",
       "      <th>19</th>\n",
       "      <td>2</td>\n",
       "      <td>10</td>\n",
       "      <td>1.174598</td>\n",
       "      <td>1.162088</td>\n",
       "      <td>1.215497</td>\n",
       "      <td>1.162088</td>\n",
       "      <td>6.433092</td>\n",
       "      <td>65.381094</td>\n",
       "      <td>0.005</td>\n",
       "      <td>128</td>\n",
       "      <td>bgmm</td>\n",
       "      <td>0</td>\n",
       "      <td>0</td>\n",
       "      <td>(MLP, [10])</td>\n",
       "    </tr>\n",
       "  </tbody>\n",
       "</table>\n",
       "</div>"
      ],
      "text/plain": [
       "    run  epoch      loss  valid_loss  test_loss  decision_loss  \\\n",
       "0     1      1  1.265911    1.172906   1.242172       1.172906   \n",
       "1     1      2  1.206676    1.173375   1.242178       1.173375   \n",
       "2     1      3  1.206488    1.173694   1.240549       1.173694   \n",
       "3     1      4  1.206122    1.171363   1.246699       1.171363   \n",
       "4     1      5  1.205902    1.169312   1.238578       1.169312   \n",
       "5     1      6  1.205763    1.168970   1.240158       1.168970   \n",
       "6     1      7  1.205577    1.172987   1.240681       1.172987   \n",
       "7     1      8  1.205447    1.172107   1.243065       1.172107   \n",
       "8     1      9  1.205291    1.175139   1.239771       1.175139   \n",
       "9     1     10  1.205385    1.175429   1.240272       1.175429   \n",
       "10    2      1  1.218563    1.175389   1.227037       1.175389   \n",
       "11    2      2  1.182681    1.174192   1.220320       1.174192   \n",
       "12    2      3  1.179845    1.168974   1.220888       1.168974   \n",
       "13    2      4  1.178597    1.165562   1.216949       1.165562   \n",
       "14    2      5  1.177493    1.160466   1.216893       1.160466   \n",
       "15    2      6  1.176554    1.155299   1.216094       1.155299   \n",
       "16    2      7  1.175592    1.154493   1.212835       1.154493   \n",
       "17    2      8  1.175214    1.158880   1.220348       1.158880   \n",
       "18    2      9  1.174981    1.156973   1.219689       1.156973   \n",
       "19    2     10  1.174598    1.162088   1.215497       1.162088   \n",
       "\n",
       "    epoch duration  run duration     lr  batch_size likelihood_fn  \\\n",
       "0         5.860004      5.867386  0.005         128          bgmm   \n",
       "1         5.791552     11.717118  0.005         128          bgmm   \n",
       "2         5.769708     17.528613  0.005         128          bgmm   \n",
       "3         6.008654     23.582618  0.005         128          bgmm   \n",
       "4         5.705728     29.326298  0.005         128          bgmm   \n",
       "5         6.367269     35.738897  0.005         128          bgmm   \n",
       "6         5.758368     41.546102  0.005         128          bgmm   \n",
       "7         6.412961     48.029615  0.005         128          bgmm   \n",
       "8         5.891509     53.968575  0.005         128          bgmm   \n",
       "9         5.724869     59.760617  0.005         128          bgmm   \n",
       "10        6.581424      6.585539  0.005         128          bgmm   \n",
       "11        6.460976     13.098555  0.005         128          bgmm   \n",
       "12        6.435303     19.629205  0.005         128          bgmm   \n",
       "13        6.471814     26.155375  0.005         128          bgmm   \n",
       "14        6.452610     32.670918  0.005         128          bgmm   \n",
       "15        6.407240     39.147938  0.005         128          bgmm   \n",
       "16        6.489383     45.694017  0.005         128          bgmm   \n",
       "17        6.482408     52.234407  0.005         128          bgmm   \n",
       "18        6.564034     58.854067  0.005         128          bgmm   \n",
       "19        6.433092     65.381094  0.005         128          bgmm   \n",
       "\n",
       "    dropout_rate  k   model_arch  \n",
       "0              0  0   (VGLM, [])  \n",
       "1              0  0   (VGLM, [])  \n",
       "2              0  0   (VGLM, [])  \n",
       "3              0  0   (VGLM, [])  \n",
       "4              0  0   (VGLM, [])  \n",
       "5              0  0   (VGLM, [])  \n",
       "6              0  0   (VGLM, [])  \n",
       "7              0  0   (VGLM, [])  \n",
       "8              0  0   (VGLM, [])  \n",
       "9              0  0   (VGLM, [])  \n",
       "10             0  0  (MLP, [10])  \n",
       "11             0  0  (MLP, [10])  \n",
       "12             0  0  (MLP, [10])  \n",
       "13             0  0  (MLP, [10])  \n",
       "14             0  0  (MLP, [10])  \n",
       "15             0  0  (MLP, [10])  \n",
       "16             0  0  (MLP, [10])  \n",
       "17             0  0  (MLP, [10])  \n",
       "18             0  0  (MLP, [10])  \n",
       "19             0  0  (MLP, [10])  "
      ]
     },
     "metadata": {},
     "output_type": "display_data"
    }
   ],
   "source": [
    "st_test, predictions = multirun(data, CONFIG.predictors, CONFIG.params, CONFIG.epochs, \n",
    "                                split_by = 'station', sequential_samples = False, load_run = None)"
   ]
  },
  {
   "cell_type": "code",
   "execution_count": 7,
   "metadata": {
    "scrolled": true
   },
   "outputs": [],
   "source": [
    "# # Create predictions for k_all\n",
    "# for run in predictions.keys():\n",
    "#     for i in range(len(CONFIG.params['k'])):\n",
    "#         predictions[run][f'k{i}']['k_fold'] = i\n",
    "#         if i == 0:\n",
    "#             predictions[run]['k_all'] = predictions[run][f'k{i}']\n",
    "#         else:\n",
    "#             predictions[run]['k_all'] = predictions[run]['k_all'].append(predictions[run][f'k{i}'])"
   ]
  },
  {
   "cell_type": "code",
   "execution_count": 8,
   "metadata": {},
   "outputs": [],
   "source": [
    "sample_cols = [f'sample_{i}' for i in range(CONFIG.n_samples)]\n",
    "add_cols = []\n",
    "columns = ['Prec','wrf_prcp','wrf_bc_prcp','precip_norris']"
   ]
  },
  {
   "cell_type": "code",
   "execution_count": 9,
   "metadata": {},
   "outputs": [],
   "source": [
    "# with open('_experiments/None/predictions.pkl', 'rb') as handle:\n",
    "#     b = pickle.load(handle)\n",
    "\n",
    "# with open('_experiments/magali/predictions.pkl', 'rb') as handle:\n",
    "#     a = pickle.load(handle)\n",
    "    \n",
    "# a.update(b)\n",
    "# a.update(predictions)\n",
    "\n",
    "# predictions = a.copy()"
   ]
  },
  {
   "cell_type": "code",
   "execution_count": 10,
   "metadata": {},
   "outputs": [],
   "source": [
    "for p in predictions.keys(): \n",
    "    for k,v in predictions[p].items():\n",
    "        v['wrf_prcp'] = v['precip_norris'] \n",
    "        v['wrf_bc_prcp'] = v['precip_norris'] "
   ]
  },
  {
   "cell_type": "code",
   "execution_count": 11,
   "metadata": {},
   "outputs": [
    {
     "name": "stdout",
     "output_type": "stream",
     "text": [
      "VGLM_[]_bgmm_B=128_D=0                   0.574\n",
      "MLP_[10]_bgmm_B=128_D=0                  0.589\n",
      "SimpleRNN_[10]_bgmm_B=128_D=0            0.427\n"
     ]
    }
   ],
   "source": [
    "for k,v in predictions.items():\n",
    "    print(f\"{k : <40} {v['k_all'].BS.mean():.3f}\")"
   ]
  },
  {
   "cell_type": "code",
   "execution_count": 12,
   "metadata": {},
   "outputs": [],
   "source": [
    "from utils import QS"
   ]
  },
  {
   "cell_type": "code",
   "execution_count": 13,
   "metadata": {},
   "outputs": [],
   "source": [
    "def compute_QS(predictions, quantile = 0.5): \n",
    "    for k,v in predictions.items(): \n",
    "        p = v['k_all']\n",
    "        p[f'QS_quantile_{quantile}'] = quantile\n",
    "        likelihood = k.split('_')[2]\n",
    "        p[f'QS_sample_{quantile}'] = p.apply(sample_apply, axis=1, args=(likelihood, 10000, f'QS_quantile_{quantile}'))\n",
    "        p[f'QS_{quantile}'] = p.apply(QS, axis=1, args=('QS_sample', 'Prec', quantile))\n",
    "        print(f'Completed {k} {quantile}')"
   ]
  },
  {
   "cell_type": "code",
   "execution_count": 14,
   "metadata": {},
   "outputs": [
    {
     "name": "stdout",
     "output_type": "stream",
     "text": [
      "Completed VGLM_[]_bgmm_B=128_D=0 0.1\n",
      "Completed MLP_[10]_bgmm_B=128_D=0 0.1\n",
      "Completed SimpleRNN_[10]_bgmm_B=128_D=0 0.1\n",
      "Completed VGLM_[]_bgmm_B=128_D=0 0.25\n",
      "Completed MLP_[10]_bgmm_B=128_D=0 0.25\n",
      "Completed SimpleRNN_[10]_bgmm_B=128_D=0 0.25\n",
      "Completed VGLM_[]_bgmm_B=128_D=0 0.5\n",
      "Completed MLP_[10]_bgmm_B=128_D=0 0.5\n",
      "Completed SimpleRNN_[10]_bgmm_B=128_D=0 0.5\n",
      "Completed VGLM_[]_bgmm_B=128_D=0 0.75\n",
      "Completed MLP_[10]_bgmm_B=128_D=0 0.75\n",
      "Completed SimpleRNN_[10]_bgmm_B=128_D=0 0.75\n",
      "Completed VGLM_[]_bgmm_B=128_D=0 0.9\n",
      "Completed MLP_[10]_bgmm_B=128_D=0 0.9\n",
      "Completed SimpleRNN_[10]_bgmm_B=128_D=0 0.9\n",
      "Completed VGLM_[]_bgmm_B=128_D=0 0.95\n",
      "Completed MLP_[10]_bgmm_B=128_D=0 0.95\n",
      "Completed SimpleRNN_[10]_bgmm_B=128_D=0 0.95\n"
     ]
    }
   ],
   "source": [
    "compute_QS(predictions, quantile = 0.10)\n",
    "compute_QS(predictions, quantile = 0.25)\n",
    "compute_QS(predictions, quantile = 0.50)\n",
    "compute_QS(predictions, quantile = 0.75)\n",
    "compute_QS(predictions, quantile = 0.90)\n",
    "compute_QS(predictions, quantile = 0.95)"
   ]
  },
  {
   "cell_type": "code",
   "execution_count": 15,
   "metadata": {},
   "outputs": [
    {
     "name": "stdout",
     "output_type": "stream",
     "text": [
      "VGLM_[]_bgmm_B=128_D=0                   5.644\n",
      "MLP_[10]_bgmm_B=128_D=0                  5.758\n",
      "SimpleRNN_[10]_bgmm_B=128_D=0            4.390\n"
     ]
    }
   ],
   "source": [
    "for k,v in predictions.items():\n",
    "    print(f\"{k : <40} {v['k_all']['QS_0.1'].mean():.3f}\")"
   ]
  },
  {
   "cell_type": "code",
   "execution_count": 16,
   "metadata": {},
   "outputs": [
    {
     "name": "stdout",
     "output_type": "stream",
     "text": [
      "VGLM_[]_bgmm_B=128_D=0                   4.880\n",
      "MLP_[10]_bgmm_B=128_D=0                  4.961\n",
      "SimpleRNN_[10]_bgmm_B=128_D=0            3.940\n"
     ]
    }
   ],
   "source": [
    "for k,v in predictions.items():\n",
    "    print(f\"{k : <40} {v['k_all']['QS_0.25'].mean():.3f}\")"
   ]
  },
  {
   "cell_type": "code",
   "execution_count": 17,
   "metadata": {},
   "outputs": [
    {
     "name": "stdout",
     "output_type": "stream",
     "text": [
      "VGLM_[]_bgmm_B=128_D=0                   3.607\n",
      "MLP_[10]_bgmm_B=128_D=0                  3.633\n",
      "SimpleRNN_[10]_bgmm_B=128_D=0            3.189\n"
     ]
    }
   ],
   "source": [
    "for k,v in predictions.items():\n",
    "    print(f\"{k : <40} {v['k_all']['QS_0.5'].mean():.3f}\")"
   ]
  },
  {
   "cell_type": "code",
   "execution_count": 18,
   "metadata": {},
   "outputs": [
    {
     "name": "stdout",
     "output_type": "stream",
     "text": [
      "VGLM_[]_bgmm_B=128_D=0                   2.334\n",
      "MLP_[10]_bgmm_B=128_D=0                  2.305\n",
      "SimpleRNN_[10]_bgmm_B=128_D=0            2.438\n"
     ]
    }
   ],
   "source": [
    "for k,v in predictions.items():\n",
    "    print(f\"{k : <40} {v['k_all']['QS_0.75'].mean():.3f}\")"
   ]
  },
  {
   "cell_type": "code",
   "execution_count": 19,
   "metadata": {},
   "outputs": [
    {
     "name": "stdout",
     "output_type": "stream",
     "text": [
      "VGLM_[]_bgmm_B=128_D=0                   1.570\n",
      "MLP_[10]_bgmm_B=128_D=0                  1.508\n",
      "SimpleRNN_[10]_bgmm_B=128_D=0            1.988\n"
     ]
    }
   ],
   "source": [
    "for k,v in predictions.items():\n",
    "    print(f\"{k : <40} {v['k_all']['QS_0.9'].mean():.3f}\")"
   ]
  },
  {
   "cell_type": "code",
   "execution_count": 20,
   "metadata": {},
   "outputs": [
    {
     "name": "stdout",
     "output_type": "stream",
     "text": [
      "VGLM_[]_bgmm_B=128_D=0                   1.315\n",
      "MLP_[10]_bgmm_B=128_D=0                  1.242\n",
      "SimpleRNN_[10]_bgmm_B=128_D=0            1.838\n"
     ]
    }
   ],
   "source": [
    "for k,v in predictions.items():\n",
    "    print(f\"{k : <40} {v['k_all']['QS_0.95'].mean():.3f}\")"
   ]
  },
  {
   "cell_type": "code",
   "execution_count": 21,
   "metadata": {},
   "outputs": [
    {
     "name": "stdout",
     "output_type": "stream",
     "text": [
      "VGLM_[]_bgmm_B=128_D=0\n",
      "MLP_[10]_bgmm_B=128_D=0\n",
      "SimpleRNN_[10]_bgmm_B=128_D=0\n",
      "Model                          JFM mean    JFM median    AM mean    AM median    JJAS mean    JJAS median    OND mean    OND median\n",
      "-----------------------------  ----------  ------------  ---------  -----------  -----------  -------------  ----------  ------------\n",
      "Bann                           0.0757      0.0573        0.1029     0.0567       0.1522       0.0601         0.1348      0.0584\n",
      "BannCorr                       0.0757      0.0573        0.1029     0.0567       0.1522       0.0601         0.1348      0.0584\n",
      "Norr                           0.0757      0.0573        0.1029     0.0567       0.1522       0.0601         0.1348      0.0584\n",
      "VGLM_[]_bgmm_B=128_D=0         0.2198      0.0585        0.1215     0.0920       0.0566       0.0509         0.1680      0.0583\n",
      "MLP_[10]_bgmm_B=128_D=0        0.2107      0.0607        0.2306     0.0692       0.0548       0.0246         0.1978      0.0492\n",
      "SimpleRNN_[10]_bgmm_B=128_D=0  0.0632      0.0357        0.0714     0.0560       0.0695       0.0417         0.1072      0.0387\n"
     ]
    }
   ],
   "source": [
    "table_of_predictions_ks_test(predictions, CONFIG.seasons, columns, sample_cols, add_cols)"
   ]
  },
  {
   "cell_type": "code",
   "execution_count": 22,
   "metadata": {},
   "outputs": [
    {
     "name": "stdout",
     "output_type": "stream",
     "text": [
      "Model                          JFM mean    JFM median    AM mean    AM median    JJAS mean    JJAS median    OND mean    OND median\n",
      "-----------------------------  ----------  ------------  ---------  -----------  -----------  -------------  ----------  ------------\n",
      "Prec                           0.00        0.00          0.00       0.00         0.00         0.00           0.00        0.00\n",
      "wrf_prcp                       0.23        0.18          0.38       0.35         0.21         0.18           0.39        0.34\n",
      "wrf_bc_prcp                    0.23        0.18          0.38       0.35         0.21         0.18           0.39        0.34\n",
      "precip_norris                  0.23        0.18          0.38       0.35         0.21         0.18           0.39        0.34\n",
      "VGLM_[]_bgmm_B=128_D=0         0.25        0.21          0.36       0.32         0.20         0.15           0.40        0.30\n",
      "MLP_[10]_bgmm_B=128_D=0        0.24        0.18          0.29       0.25         0.20         0.16           0.41        0.33\n",
      "SimpleRNN_[10]_bgmm_B=128_D=0  0.24        0.21          0.26       0.22         0.32         0.29           0.48        0.46\n"
     ]
    }
   ],
   "source": [
    "table_of_predictions_for_metric(predictions, CONFIG.seasons, columns, CONFIG.n_samples, sample_cols, add_cols, metric = 'smape', prefix='smape')"
   ]
  },
  {
   "cell_type": "code",
   "execution_count": 23,
   "metadata": {},
   "outputs": [
    {
     "name": "stdout",
     "output_type": "stream",
     "text": [
      "Model                          JFM mean    JFM median    AM mean    AM median    JJAS mean    JJAS median    OND mean    OND median\n",
      "-----------------------------  ----------  ------------  ---------  -----------  -----------  -------------  ----------  ------------\n",
      "Prec                           0.00        0.00          0.00       0.00         0.00         0.00           0.00        0.00\n",
      "wrf_prcp                       14.21       10.00         12.79      12.00        32.95        34.00          7.52        5.50\n",
      "wrf_bc_prcp                    14.21       10.00         12.79      12.00        32.95        34.00          7.52        5.50\n",
      "precip_norris                  14.21       10.00         12.79      12.00        32.95        34.00          7.52        5.50\n",
      "VGLM_[]_bgmm_B=128_D=0         5.74        4.60          5.85       4.30         10.32        7.70           5.16        4.30\n",
      "MLP_[10]_bgmm_B=128_D=0        5.86        4.80          4.77       3.70         10.84        8.80           4.73        3.55\n",
      "SimpleRNN_[10]_bgmm_B=128_D=0  10.17       9.60          6.36       5.10         11.04        9.40           18.46       19.70\n"
     ]
    }
   ],
   "source": [
    "table_of_predictions_for_metric(predictions, CONFIG.seasons, columns, CONFIG.n_samples, sample_cols, add_cols, metric = 'edd', prefix='edd')"
   ]
  },
  {
   "cell_type": "code",
   "execution_count": 24,
   "metadata": {},
   "outputs": [
    {
     "name": "stdout",
     "output_type": "stream",
     "text": [
      "Model                          JFM mean    JFM median    AM mean    AM median    JJAS mean    JJAS median    OND mean    OND median\n",
      "-----------------------------  ----------  ------------  ---------  -----------  -----------  -------------  ----------  ------------\n",
      "Prec                           0.00        0.00          0.00       0.00         0.00         0.00           0.00        0.00\n",
      "wrf_prcp                       74.51       55.94         53.95      44.58        293.28       191.28         33.85       19.84\n",
      "wrf_bc_prcp                    74.51       55.94         53.95      44.58        293.28       191.28         33.85       19.84\n",
      "precip_norris                  74.51       55.94         53.95      44.58        293.28       191.28         33.85       19.84\n",
      "VGLM_[]_bgmm_B=128_D=0         84.24       63.04         51.28      37.37        273.26       203.65         44.41       37.07\n",
      "MLP_[10]_bgmm_B=128_D=0        86.69       62.62         45.33      37.92        276.16       187.20         46.52       38.32\n",
      "SimpleRNN_[10]_bgmm_B=128_D=0  87.43       57.98         43.57      32.23        417.48       192.75         71.02       78.97\n"
     ]
    }
   ],
   "source": [
    "table_of_predictions_for_metric(predictions, CONFIG.seasons, columns, CONFIG.n_samples, sample_cols, add_cols, metric = 'ae', prefix='ae')"
   ]
  },
  {
   "cell_type": "code",
   "execution_count": 49,
   "metadata": {},
   "outputs": [],
   "source": [
    "# table_of_predictions_for_metric(predictions, CONFIG.seasons, columns, CONFIG.n_samples, sample_cols, add_cols, metric = 'se', prefix='se')"
   ]
  },
  {
   "cell_type": "code",
   "execution_count": null,
   "metadata": {},
   "outputs": [],
   "source": [
    "a = pd.read_csv('results.csv')\n",
    "\n",
    "b = a.groupby(['k','run']).agg({'valid_loss': 'min', \n",
    "                                 'model_arch': 'first', \n",
    "                                 'likelihood_fn': 'first',\n",
    "                                 'lr':'first',\n",
    "                                 'batch_size':'first',\n",
    "                                 'dropout_rate':'first',\n",
    "                               })\n",
    "\n",
    "c = b.groupby(['run']).agg({'valid_loss': 'mean', \n",
    "                        'model_arch': 'first', \n",
    "                        'likelihood_fn': 'first',\n",
    "                        'lr':'first',\n",
    "                        'batch_size':'first',\n",
    "                        'dropout_rate':'first',\n",
    "                         }\n",
    "                   ).sort_values('valid_loss').reset_index()\n",
    "\n",
    "c.groupby(['model_arch',\n",
    "           'likelihood_fn',\n",
    "           'lr',\n",
    "           'batch_size',\n",
    "           'dropout_rate',\n",
    "           ]).agg({'valid_loss': 'mean'}\n",
    "                   ).sort_values('valid_loss').reset_index()"
   ]
  },
  {
   "cell_type": "code",
   "execution_count": null,
   "metadata": {},
   "outputs": [],
   "source": []
  }
 ],
 "metadata": {
  "kernelspec": {
   "display_name": "Python [conda env:bcdp]",
   "language": "python",
   "name": "conda-env-bcdp-py"
  },
  "language_info": {
   "codemirror_mode": {
    "name": "ipython",
    "version": 3
   },
   "file_extension": ".py",
   "mimetype": "text/x-python",
   "name": "python",
   "nbconvert_exporter": "python",
   "pygments_lexer": "ipython3",
   "version": "3.9.12"
  },
  "vscode": {
   "interpreter": {
    "hash": "d6f7d0f407510cc81edbbb8fa0d61f79bb70425ade7d5a8e5edb94832bf1e351"
   }
  }
 },
 "nbformat": 4,
 "nbformat_minor": 4
}
