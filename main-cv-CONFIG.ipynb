{
 "cells": [
  {
   "cell_type": "code",
   "execution_count": 1,
   "metadata": {},
   "outputs": [],
   "source": [
    "import sys\n",
    "sys.path.append('CONFIG_files/')"
   ]
  },
  {
   "cell_type": "code",
   "execution_count": 2,
   "metadata": {},
   "outputs": [
    {
     "data": {
      "text/plain": [
       "('COMBINED', 'COMBINED_BGMM_07_NOV_2023_EXP_1', 'station')"
      ]
     },
     "execution_count": 2,
     "metadata": {},
     "output_type": "execute_result"
    }
   ],
   "source": [
    "import numpy as np\n",
    "import pandas as pd\n",
    "import seaborn as sns\n",
    "import shutil\n",
    "\n",
    "from matplotlib import pyplot as plt\n",
    "from tabulate import tabulate\n",
    "\n",
    "import os, shutil, time, pdb, random\n",
    "import scipy.stats as stats \n",
    "import scipy\n",
    "\n",
    "from math import pi\n",
    "from datetime import datetime\n",
    "from collections import OrderedDict\n",
    "import pickle\n",
    "\n",
    "import torch\n",
    "from torch.utils.data import TensorDataset, DataLoader\n",
    "\n",
    "from importlib import reload\n",
    "from models import *\n",
    "from utils import *\n",
    "from runmanager import *\n",
    "from experiment import *\n",
    "from plot_utils import *\n",
    "from preprocessing_utils import *\n",
    "from analysis_seasonal import * \n",
    "\n",
    "from sklearn.metrics import mean_squared_error as mse\n",
    "\n",
    "import matplotlib\n",
    "matplotlib.rc_file_defaults()\n",
    "%matplotlib inline\n",
    "\n",
    "# import CONFIG_SUSHIWAT_BGMM_23_JUNE_2023 as C\n",
    "import CONFIG as C\n",
    "\n",
    "pd.options.display.max_columns = None\n",
    "\n",
    "np.random.seed(4)\n",
    "\n",
    "%load_ext autoreload\n",
    "%autoreload 2\n",
    "\n",
    "device = C.device\n",
    "\n",
    "C.REGION, C.RUN_NAME, C.split_by"
   ]
  },
  {
   "cell_type": "markdown",
   "metadata": {},
   "source": [
    "### Import data"
   ]
  },
  {
   "cell_type": "code",
   "execution_count": 3,
   "metadata": {},
   "outputs": [],
   "source": [
    "data = DataPreprocessing(train_path=C.TRAIN_PATH, start=C.start, end=C.end, \n",
    "                add_yesterday = False, \n",
    "                basin_filter = None, \n",
    "                split_bias_corrected_only = False, \n",
    "                filter_incomplete_years = False, \n",
    "                include_non_bc_stations = True, \n",
    "                split_by = C.split_by)"
   ]
  },
  {
   "cell_type": "markdown",
   "metadata": {},
   "source": [
    "### Split data into held out sets for K-fold cross validation"
   ]
  },
  {
   "cell_type": "code",
   "execution_count": 4,
   "metadata": {},
   "outputs": [
    {
     "name": "stdout",
     "output_type": "stream",
     "text": [
      "False\n"
     ]
    }
   ],
   "source": [
    "if C.SORT_BY_ELEVATION:\n",
    "    data.split_stations(sort_by_elev = True)\n",
    "else:\n",
    "    data.split_stations(sort_by_elev = False)\n",
    "    \n",
    "print(C.SORT_BY_ELEVATION)"
   ]
  },
  {
   "cell_type": "markdown",
   "metadata": {},
   "source": [
    "### Prepare data"
   ]
  },
  {
   "cell_type": "code",
   "execution_count": 5,
   "metadata": {
    "scrolled": true
   },
   "outputs": [
    {
     "name": "stdout",
     "output_type": "stream",
     "text": [
      "False\n",
      "False\n"
     ]
    }
   ],
   "source": [
    "if C.ADD_PREVIOUS_DAY:\n",
    "    C.predictors.append('obs_yesterday')\n",
    "\n",
    "data.input_data(C.predictors, C.predictand, sort_by_quantile=C.sort_by_quantile)\n",
    "\n",
    "print(C.ADD_PREVIOUS_DAY)\n",
    "print(C.sort_by_quantile)"
   ]
  },
  {
   "cell_type": "markdown",
   "metadata": {},
   "source": [
    "## Multi-Run: Train model with different hyperparameters"
   ]
  },
  {
   "cell_type": "markdown",
   "metadata": {},
   "source": [
    "### Model run"
   ]
  },
  {
   "cell_type": "code",
   "execution_count": 7,
   "metadata": {},
   "outputs": [
    {
     "data": {
      "text/plain": [
       "('COMBINED_BGMM_09_NOV_2023_EXP_2', 10)"
      ]
     },
     "execution_count": 7,
     "metadata": {},
     "output_type": "execute_result"
    }
   ],
   "source": [
    "experiment_label = C.RUN_NAME\n",
    "\n",
    "experiment_label, C.K_FOLD"
   ]
  },
  {
   "cell_type": "code",
   "execution_count": 8,
   "metadata": {},
   "outputs": [],
   "source": [
    "load_run = None"
   ]
  },
  {
   "cell_type": "code",
   "execution_count": 9,
   "metadata": {
    "code_folding": [],
    "tags": []
   },
   "outputs": [
    {
     "data": {
      "text/html": [
       "<div>\n",
       "<style scoped>\n",
       "    .dataframe tbody tr th:only-of-type {\n",
       "        vertical-align: middle;\n",
       "    }\n",
       "\n",
       "    .dataframe tbody tr th {\n",
       "        vertical-align: top;\n",
       "    }\n",
       "\n",
       "    .dataframe thead th {\n",
       "        text-align: right;\n",
       "    }\n",
       "</style>\n",
       "<table border=\"1\" class=\"dataframe\">\n",
       "  <thead>\n",
       "    <tr style=\"text-align: right;\">\n",
       "      <th></th>\n",
       "      <th>run</th>\n",
       "      <th>epoch</th>\n",
       "      <th>loss</th>\n",
       "      <th>valid_loss</th>\n",
       "      <th>test_loss</th>\n",
       "      <th>decision_loss</th>\n",
       "      <th>epoch duration</th>\n",
       "      <th>run duration</th>\n",
       "      <th>lr</th>\n",
       "      <th>batch_size</th>\n",
       "      <th>likelihood_fn</th>\n",
       "      <th>dropout_rate</th>\n",
       "      <th>random_noise</th>\n",
       "      <th>k</th>\n",
       "      <th>model_arch</th>\n",
       "    </tr>\n",
       "  </thead>\n",
       "  <tbody>\n",
       "    <tr>\n",
       "      <th>0</th>\n",
       "      <td>1</td>\n",
       "      <td>1</td>\n",
       "      <td>1.283150</td>\n",
       "      <td>1.125735</td>\n",
       "      <td>1.251856</td>\n",
       "      <td>1.125735</td>\n",
       "      <td>14.903860</td>\n",
       "      <td>14.921769</td>\n",
       "      <td>0.001</td>\n",
       "      <td>32</td>\n",
       "      <td>bgmm</td>\n",
       "      <td>0</td>\n",
       "      <td>0</td>\n",
       "      <td>0</td>\n",
       "      <td>(VGLM, [])</td>\n",
       "    </tr>\n",
       "    <tr>\n",
       "      <th>1</th>\n",
       "      <td>1</td>\n",
       "      <td>2</td>\n",
       "      <td>1.205419</td>\n",
       "      <td>1.123854</td>\n",
       "      <td>1.251637</td>\n",
       "      <td>1.123854</td>\n",
       "      <td>14.213668</td>\n",
       "      <td>30.071979</td>\n",
       "      <td>0.001</td>\n",
       "      <td>32</td>\n",
       "      <td>bgmm</td>\n",
       "      <td>0</td>\n",
       "      <td>0</td>\n",
       "      <td>0</td>\n",
       "      <td>(VGLM, [])</td>\n",
       "    </tr>\n",
       "    <tr>\n",
       "      <th>2</th>\n",
       "      <td>1</td>\n",
       "      <td>3</td>\n",
       "      <td>1.203991</td>\n",
       "      <td>1.122947</td>\n",
       "      <td>1.252874</td>\n",
       "      <td>1.122947</td>\n",
       "      <td>14.051169</td>\n",
       "      <td>44.146604</td>\n",
       "      <td>0.001</td>\n",
       "      <td>32</td>\n",
       "      <td>bgmm</td>\n",
       "      <td>0</td>\n",
       "      <td>0</td>\n",
       "      <td>0</td>\n",
       "      <td>(VGLM, [])</td>\n",
       "    </tr>\n",
       "    <tr>\n",
       "      <th>3</th>\n",
       "      <td>1</td>\n",
       "      <td>4</td>\n",
       "      <td>1.203121</td>\n",
       "      <td>1.121859</td>\n",
       "      <td>1.249670</td>\n",
       "      <td>1.121859</td>\n",
       "      <td>14.323198</td>\n",
       "      <td>58.516319</td>\n",
       "      <td>0.001</td>\n",
       "      <td>32</td>\n",
       "      <td>bgmm</td>\n",
       "      <td>0</td>\n",
       "      <td>0</td>\n",
       "      <td>0</td>\n",
       "      <td>(VGLM, [])</td>\n",
       "    </tr>\n",
       "    <tr>\n",
       "      <th>4</th>\n",
       "      <td>1</td>\n",
       "      <td>5</td>\n",
       "      <td>1.202783</td>\n",
       "      <td>1.124523</td>\n",
       "      <td>1.248176</td>\n",
       "      <td>1.124523</td>\n",
       "      <td>15.106483</td>\n",
       "      <td>73.691222</td>\n",
       "      <td>0.001</td>\n",
       "      <td>32</td>\n",
       "      <td>bgmm</td>\n",
       "      <td>0</td>\n",
       "      <td>0</td>\n",
       "      <td>0</td>\n",
       "      <td>(VGLM, [])</td>\n",
       "    </tr>\n",
       "    <tr>\n",
       "      <th>...</th>\n",
       "      <td>...</td>\n",
       "      <td>...</td>\n",
       "      <td>...</td>\n",
       "      <td>...</td>\n",
       "      <td>...</td>\n",
       "      <td>...</td>\n",
       "      <td>...</td>\n",
       "      <td>...</td>\n",
       "      <td>...</td>\n",
       "      <td>...</td>\n",
       "      <td>...</td>\n",
       "      <td>...</td>\n",
       "      <td>...</td>\n",
       "      <td>...</td>\n",
       "      <td>...</td>\n",
       "    </tr>\n",
       "    <tr>\n",
       "      <th>77</th>\n",
       "      <td>8</td>\n",
       "      <td>8</td>\n",
       "      <td>1.591516</td>\n",
       "      <td>1.528922</td>\n",
       "      <td>1.693231</td>\n",
       "      <td>1.528922</td>\n",
       "      <td>42.389566</td>\n",
       "      <td>333.761155</td>\n",
       "      <td>0.001</td>\n",
       "      <td>32</td>\n",
       "      <td>bgmm</td>\n",
       "      <td>0</td>\n",
       "      <td>0</td>\n",
       "      <td>1</td>\n",
       "      <td>(SimpleRNN, [10])</td>\n",
       "    </tr>\n",
       "    <tr>\n",
       "      <th>78</th>\n",
       "      <td>8</td>\n",
       "      <td>9</td>\n",
       "      <td>1.590839</td>\n",
       "      <td>1.526480</td>\n",
       "      <td>1.690071</td>\n",
       "      <td>1.526480</td>\n",
       "      <td>42.427782</td>\n",
       "      <td>376.270917</td>\n",
       "      <td>0.001</td>\n",
       "      <td>32</td>\n",
       "      <td>bgmm</td>\n",
       "      <td>0</td>\n",
       "      <td>0</td>\n",
       "      <td>1</td>\n",
       "      <td>(SimpleRNN, [10])</td>\n",
       "    </tr>\n",
       "    <tr>\n",
       "      <th>79</th>\n",
       "      <td>8</td>\n",
       "      <td>10</td>\n",
       "      <td>1.590116</td>\n",
       "      <td>1.524706</td>\n",
       "      <td>1.690315</td>\n",
       "      <td>1.524706</td>\n",
       "      <td>41.957183</td>\n",
       "      <td>418.320185</td>\n",
       "      <td>0.001</td>\n",
       "      <td>32</td>\n",
       "      <td>bgmm</td>\n",
       "      <td>0</td>\n",
       "      <td>0</td>\n",
       "      <td>1</td>\n",
       "      <td>(SimpleRNN, [10])</td>\n",
       "    </tr>\n",
       "    <tr>\n",
       "      <th>80</th>\n",
       "      <td>9</td>\n",
       "      <td>1</td>\n",
       "      <td>1.185395</td>\n",
       "      <td>1.074925</td>\n",
       "      <td>1.263685</td>\n",
       "      <td>1.074925</td>\n",
       "      <td>18.884199</td>\n",
       "      <td>20.089280</td>\n",
       "      <td>0.001</td>\n",
       "      <td>32</td>\n",
       "      <td>bgmm</td>\n",
       "      <td>0</td>\n",
       "      <td>0</td>\n",
       "      <td>1</td>\n",
       "      <td>(MLP, [50, 50])</td>\n",
       "    </tr>\n",
       "    <tr>\n",
       "      <th>81</th>\n",
       "      <td>9</td>\n",
       "      <td>2</td>\n",
       "      <td>1.161643</td>\n",
       "      <td>1.079639</td>\n",
       "      <td>1.260965</td>\n",
       "      <td>1.079639</td>\n",
       "      <td>19.369137</td>\n",
       "      <td>39.563929</td>\n",
       "      <td>0.001</td>\n",
       "      <td>32</td>\n",
       "      <td>bgmm</td>\n",
       "      <td>0</td>\n",
       "      <td>0</td>\n",
       "      <td>1</td>\n",
       "      <td>(MLP, [50, 50])</td>\n",
       "    </tr>\n",
       "  </tbody>\n",
       "</table>\n",
       "<p>82 rows × 15 columns</p>\n",
       "</div>"
      ],
      "text/plain": [
       "    run  epoch      loss  valid_loss  test_loss  decision_loss  \\\n",
       "0     1      1  1.283150    1.125735   1.251856       1.125735   \n",
       "1     1      2  1.205419    1.123854   1.251637       1.123854   \n",
       "2     1      3  1.203991    1.122947   1.252874       1.122947   \n",
       "3     1      4  1.203121    1.121859   1.249670       1.121859   \n",
       "4     1      5  1.202783    1.124523   1.248176       1.124523   \n",
       "..  ...    ...       ...         ...        ...            ...   \n",
       "77    8      8  1.591516    1.528922   1.693231       1.528922   \n",
       "78    8      9  1.590839    1.526480   1.690071       1.526480   \n",
       "79    8     10  1.590116    1.524706   1.690315       1.524706   \n",
       "80    9      1  1.185395    1.074925   1.263685       1.074925   \n",
       "81    9      2  1.161643    1.079639   1.260965       1.079639   \n",
       "\n",
       "    epoch duration  run duration     lr  batch_size likelihood_fn  \\\n",
       "0        14.903860     14.921769  0.001          32          bgmm   \n",
       "1        14.213668     30.071979  0.001          32          bgmm   \n",
       "2        14.051169     44.146604  0.001          32          bgmm   \n",
       "3        14.323198     58.516319  0.001          32          bgmm   \n",
       "4        15.106483     73.691222  0.001          32          bgmm   \n",
       "..             ...           ...    ...         ...           ...   \n",
       "77       42.389566    333.761155  0.001          32          bgmm   \n",
       "78       42.427782    376.270917  0.001          32          bgmm   \n",
       "79       41.957183    418.320185  0.001          32          bgmm   \n",
       "80       18.884199     20.089280  0.001          32          bgmm   \n",
       "81       19.369137     39.563929  0.001          32          bgmm   \n",
       "\n",
       "    dropout_rate  random_noise  k         model_arch  \n",
       "0              0             0  0         (VGLM, [])  \n",
       "1              0             0  0         (VGLM, [])  \n",
       "2              0             0  0         (VGLM, [])  \n",
       "3              0             0  0         (VGLM, [])  \n",
       "4              0             0  0         (VGLM, [])  \n",
       "..           ...           ... ..                ...  \n",
       "77             0             0  1  (SimpleRNN, [10])  \n",
       "78             0             0  1  (SimpleRNN, [10])  \n",
       "79             0             0  1  (SimpleRNN, [10])  \n",
       "80             0             0  1    (MLP, [50, 50])  \n",
       "81             0             0  1    (MLP, [50, 50])  \n",
       "\n",
       "[82 rows x 15 columns]"
      ]
     },
     "metadata": {},
     "output_type": "display_data"
    },
    {
     "ename": "KeyboardInterrupt",
     "evalue": "",
     "output_type": "error",
     "traceback": [
      "\u001b[0;31m---------------------------------------------------------------------------\u001b[0m",
      "\u001b[0;31mKeyboardInterrupt\u001b[0m                         Traceback (most recent call last)",
      "Input \u001b[0;32mIn [9]\u001b[0m, in \u001b[0;36m<cell line: 6>\u001b[0;34m()\u001b[0m\n\u001b[1;32m      3\u001b[0m     dst \u001b[38;5;241m=\u001b[39m \u001b[38;5;124mf\u001b[39m\u001b[38;5;124m'\u001b[39m\u001b[38;5;124mCONFIG_files/CONFIG_\u001b[39m\u001b[38;5;132;01m{\u001b[39;00mexperiment_label\u001b[38;5;132;01m}\u001b[39;00m\u001b[38;5;124m.py\u001b[39m\u001b[38;5;124m'\u001b[39m\n\u001b[1;32m      4\u001b[0m     shutil\u001b[38;5;241m.\u001b[39mcopy(src, dst)\n\u001b[0;32m----> 6\u001b[0m st_test, predictions, importances \u001b[38;5;241m=\u001b[39m \u001b[43mmultirun\u001b[49m\u001b[43m(\u001b[49m\u001b[43mdata\u001b[49m\u001b[43m,\u001b[49m\u001b[43m \u001b[49m\u001b[43mC\u001b[49m\u001b[38;5;241;43m.\u001b[39;49m\u001b[43mpredictors\u001b[49m\u001b[43m,\u001b[49m\u001b[43m \u001b[49m\u001b[43mC\u001b[49m\u001b[38;5;241;43m.\u001b[39;49m\u001b[43mparams\u001b[49m\u001b[43m,\u001b[49m\u001b[43m \u001b[49m\u001b[43mC\u001b[49m\u001b[38;5;241;43m.\u001b[39;49m\u001b[43mepochs\u001b[49m\u001b[43m,\u001b[49m\u001b[43m \u001b[49m\n\u001b[1;32m      7\u001b[0m \u001b[43m                                \u001b[49m\u001b[43msplit_by\u001b[49m\u001b[43m \u001b[49m\u001b[38;5;241;43m=\u001b[39;49m\u001b[43m \u001b[49m\u001b[38;5;124;43m'\u001b[39;49m\u001b[38;5;124;43mstation\u001b[39;49m\u001b[38;5;124;43m'\u001b[39;49m\u001b[43m,\u001b[49m\u001b[43m \u001b[49m\u001b[43msequential_samples\u001b[49m\u001b[43m \u001b[49m\u001b[38;5;241;43m=\u001b[39;49m\u001b[43m \u001b[49m\u001b[38;5;28;43;01mTrue\u001b[39;49;00m\u001b[43m,\u001b[49m\u001b[43m \u001b[49m\u001b[43mn_samples\u001b[49m\u001b[38;5;241;43m=\u001b[39;49m\u001b[38;5;241;43m1\u001b[39;49m\u001b[43m,\u001b[49m\u001b[43m \u001b[49m\n\u001b[1;32m      8\u001b[0m \u001b[43m                                \u001b[49m\u001b[43mload_run\u001b[49m\u001b[43m \u001b[49m\u001b[38;5;241;43m=\u001b[39;49m\u001b[43m \u001b[49m\u001b[43mload_run\u001b[49m\u001b[43m,\u001b[49m\u001b[43m \u001b[49m\u001b[38;5;66;43;03m#None, \u001b[39;49;00m\n\u001b[1;32m      9\u001b[0m \u001b[43m                                \u001b[49m\u001b[43mexperiment_label\u001b[49m\u001b[43m \u001b[49m\u001b[38;5;241;43m=\u001b[39;49m\u001b[43m \u001b[49m\u001b[43mexperiment_label\u001b[49m\u001b[43m,\u001b[49m\u001b[43m \u001b[49m\u001b[43mfeature_attribution\u001b[49m\u001b[43m \u001b[49m\u001b[38;5;241;43m=\u001b[39;49m\u001b[43m \u001b[49m\u001b[38;5;28;43;01mTrue\u001b[39;49;00m\u001b[43m,\u001b[49m\u001b[43m \u001b[49m\n\u001b[1;32m     10\u001b[0m \u001b[43m                                \u001b[49m\u001b[43mshow_loss_plot\u001b[49m\u001b[38;5;241;43m=\u001b[39;49m\u001b[38;5;28;43;01mFalse\u001b[39;49;00m\u001b[43m)\u001b[49m\n",
      "File \u001b[0;32m~/repos/upper-indus-prec-bc/utils.py:989\u001b[0m, in \u001b[0;36mmultirun\u001b[0;34m(data, predictors, params, epochs, split_by, sequential_samples, sample_threshold, n_samples, draw_samples, best_by, use_device, load_run, feature_attribution, save_to, experiment_label, show_loss_plot)\u001b[0m\n\u001b[1;32m    983\u001b[0m \u001b[38;5;28;01mfor\u001b[39;00m epoch \u001b[38;5;129;01min\u001b[39;00m \u001b[38;5;28mrange\u001b[39m (epochs):\n\u001b[1;32m    985\u001b[0m     m\u001b[38;5;241m.\u001b[39mbegin_epoch()\n\u001b[1;32m    987\u001b[0m     train_loss, val_loss, test_loss \u001b[38;5;241m=\u001b[39m train_epoch(network,\n\u001b[1;32m    988\u001b[0m                                         optimizer,\n\u001b[0;32m--> 989\u001b[0m                                         train_loader,\n\u001b[1;32m    990\u001b[0m                                         val_loader,\n\u001b[1;32m    991\u001b[0m                                         epoch\u001b[38;5;241m=\u001b[39mepoch,\n\u001b[1;32m    992\u001b[0m                                         test_loader\u001b[38;5;241m=\u001b[39mtest_loader,\n\u001b[1;32m    993\u001b[0m                                         print_progress\u001b[38;5;241m=\u001b[39m\u001b[38;5;28;01mTrue\u001b[39;00m)\n\u001b[1;32m    995\u001b[0m     \u001b[38;5;28;01mif\u001b[39;00m best_by \u001b[38;5;241m==\u001b[39m \u001b[38;5;124m'\u001b[39m\u001b[38;5;124mval\u001b[39m\u001b[38;5;124m'\u001b[39m: decision_loss \u001b[38;5;241m=\u001b[39m val_loss\n\u001b[1;32m    996\u001b[0m     \u001b[38;5;28;01melif\u001b[39;00m best_by \u001b[38;5;241m==\u001b[39m \u001b[38;5;124m'\u001b[39m\u001b[38;5;124mtrain\u001b[39m\u001b[38;5;124m'\u001b[39m: decision_loss \u001b[38;5;241m=\u001b[39m train_loss\n",
      "File \u001b[0;32m~/repos/upper-indus-prec-bc/utils.py:128\u001b[0m, in \u001b[0;36mtrain_epoch\u001b[0;34m(model, optimizer, train_loader, valid_loader, epoch, test_loader, print_progress)\u001b[0m\n\u001b[1;32m    124\u001b[0m model\u001b[38;5;241m.\u001b[39mtrain()\n\u001b[1;32m    126\u001b[0m \u001b[38;5;28;01mfor\u001b[39;00m idx, (predictors, labels) \u001b[38;5;129;01min\u001b[39;00m \u001b[38;5;28menumerate\u001b[39m(train_loader):\n\u001b[0;32m--> 128\u001b[0m     predictors \u001b[38;5;241m=\u001b[39m predictors\u001b[38;5;241m.\u001b[39mto(device)\n\u001b[1;32m    129\u001b[0m     labels \u001b[38;5;241m=\u001b[39m labels\u001b[38;5;241m.\u001b[39mto(device)\n\u001b[1;32m    131\u001b[0m     \u001b[38;5;66;03m# max_param = max(optimizer.param_groups[0]['params'])\u001b[39;00m\n\u001b[1;32m    132\u001b[0m     \u001b[38;5;66;03m# min_param = min(optimizer.param_groups[0]['params'])\u001b[39;00m\n",
      "File \u001b[0;32m/data/hpcdata/users/marron31/conda-envs/bcdp/lib/python3.9/site-packages/torch/utils/data/dataloader.py:665\u001b[0m, in \u001b[0;36m_BaseDataLoaderIter.__next__\u001b[0;34m(self)\u001b[0m\n\u001b[1;32m    661\u001b[0m         warn_msg \u001b[38;5;241m+\u001b[39m\u001b[38;5;241m=\u001b[39m (\u001b[38;5;124m\"\u001b[39m\u001b[38;5;124mFor multiprocessing data-loading, this could be caused by not properly configuring the \u001b[39m\u001b[38;5;124m\"\u001b[39m\n\u001b[1;32m    662\u001b[0m                      \u001b[38;5;124m\"\u001b[39m\u001b[38;5;124mIterableDataset replica at each worker. Please see \u001b[39m\u001b[38;5;124m\"\u001b[39m\n\u001b[1;32m    663\u001b[0m                      \u001b[38;5;124m\"\u001b[39m\u001b[38;5;124mhttps://pytorch.org/docs/stable/data.html#torch.utils.data.IterableDataset for examples.\u001b[39m\u001b[38;5;124m\"\u001b[39m)\n\u001b[1;32m    664\u001b[0m     warnings\u001b[38;5;241m.\u001b[39mwarn(warn_msg)\n\u001b[0;32m--> 665\u001b[0m \u001b[38;5;28;01mreturn\u001b[39;00m data\n",
      "File \u001b[0;32m/data/hpcdata/users/marron31/conda-envs/bcdp/lib/python3.9/site-packages/torch/autograd/profiler.py:451\u001b[0m, in \u001b[0;36mrecord_function.__exit__\u001b[0;34m(self, exc_type, exc_value, traceback)\u001b[0m\n\u001b[1;32m    449\u001b[0m \u001b[38;5;28;01mdef\u001b[39;00m \u001b[38;5;21m__exit__\u001b[39m(\u001b[38;5;28mself\u001b[39m, exc_type: Any, exc_value: Any, traceback: Any):\n\u001b[1;32m    450\u001b[0m     \u001b[38;5;28;01mif\u001b[39;00m \u001b[38;5;28mself\u001b[39m\u001b[38;5;241m.\u001b[39mrun_callbacks_on_exit:\n\u001b[0;32m--> 451\u001b[0m         \u001b[43mtorch\u001b[49m\u001b[38;5;241;43m.\u001b[39;49m\u001b[43mops\u001b[49m\u001b[38;5;241;43m.\u001b[39;49m\u001b[43mprofiler\u001b[49m\u001b[38;5;241;43m.\u001b[39;49m\u001b[43m_record_function_exit\u001b[49m\u001b[43m(\u001b[49m\u001b[38;5;28;43mself\u001b[39;49m\u001b[38;5;241;43m.\u001b[39;49m\u001b[43mhandle\u001b[49m\u001b[43m)\u001b[49m\n",
      "File \u001b[0;32m/data/hpcdata/users/marron31/conda-envs/bcdp/lib/python3.9/site-packages/torch/_ops.py:143\u001b[0m, in \u001b[0;36mOpOverloadPacket.__call__\u001b[0;34m(self, *args, **kwargs)\u001b[0m\n\u001b[1;32m    138\u001b[0m \u001b[38;5;28;01mdef\u001b[39;00m \u001b[38;5;21m__call__\u001b[39m(\u001b[38;5;28mself\u001b[39m, \u001b[38;5;241m*\u001b[39margs, \u001b[38;5;241m*\u001b[39m\u001b[38;5;241m*\u001b[39mkwargs):\n\u001b[1;32m    139\u001b[0m     \u001b[38;5;66;03m# overloading __call__ to ensure torch.ops.foo.bar()\u001b[39;00m\n\u001b[1;32m    140\u001b[0m     \u001b[38;5;66;03m# is still callable from JIT\u001b[39;00m\n\u001b[1;32m    141\u001b[0m     \u001b[38;5;66;03m# We save the function ptr as the `op` attribute on\u001b[39;00m\n\u001b[1;32m    142\u001b[0m     \u001b[38;5;66;03m# OpOverloadPacket to access it here.\u001b[39;00m\n\u001b[0;32m--> 143\u001b[0m     \u001b[38;5;28;01mreturn\u001b[39;00m \u001b[38;5;28;43mself\u001b[39;49m\u001b[38;5;241;43m.\u001b[39;49m\u001b[43m_op\u001b[49m\u001b[43m(\u001b[49m\u001b[38;5;241;43m*\u001b[39;49m\u001b[43margs\u001b[49m\u001b[43m,\u001b[49m\u001b[43m \u001b[49m\u001b[38;5;241;43m*\u001b[39;49m\u001b[38;5;241;43m*\u001b[39;49m\u001b[43mkwargs\u001b[49m\u001b[43m \u001b[49m\u001b[38;5;129;43;01mor\u001b[39;49;00m\u001b[43m \u001b[49m\u001b[43m{\u001b[49m\u001b[43m}\u001b[49m\u001b[43m)\u001b[49m\n",
      "\u001b[0;31mKeyboardInterrupt\u001b[0m: "
     ]
    }
   ],
   "source": [
    "if load_run == None:\n",
    "    src = 'CONFIG.py'\n",
    "    dst = f'CONFIG_files/CONFIG_{experiment_label}.py'\n",
    "    shutil.copy(src, dst)\n",
    "\n",
    "st_test, predictions, importances = multirun(data, C.predictors, C.params, C.epochs, \n",
    "                                split_by = 'station', sequential_samples = True, n_samples=1, \n",
    "                                load_run = load_run, #None, \n",
    "                                experiment_label = experiment_label, feature_attribution = True, \n",
    "                                show_loss_plot=False)"
   ]
  },
  {
   "cell_type": "code",
   "execution_count": 14,
   "metadata": {},
   "outputs": [],
   "source": [
    "# table_of_predictions_ks_test(predictions, C.seasons, columns, sample_cols, add_cols)"
   ]
  },
  {
   "cell_type": "code",
   "execution_count": 17,
   "metadata": {},
   "outputs": [],
   "source": [
    "# table_of_predictions_for_metric(predictions, C.seasons, columns, C.n_samples, sample_cols, add_cols, metric = 'smape', prefix='smape')"
   ]
  },
  {
   "cell_type": "code",
   "execution_count": 18,
   "metadata": {},
   "outputs": [],
   "source": [
    "# table_of_predictions_for_metric(predictions, C.seasons, columns, C.n_samples, sample_cols, add_cols, metric = 'edd', prefix='edd')"
   ]
  },
  {
   "cell_type": "code",
   "execution_count": 19,
   "metadata": {},
   "outputs": [],
   "source": [
    "# table_of_predictions_for_metric(predictions, C.seasons, columns, C.n_samples, sample_cols, add_cols, metric = 'ae', prefix='ae')"
   ]
  },
  {
   "cell_type": "code",
   "execution_count": null,
   "metadata": {},
   "outputs": [],
   "source": []
  },
  {
   "cell_type": "code",
   "execution_count": null,
   "metadata": {},
   "outputs": [],
   "source": [
    "a = pd.read_csv('results.csv')\n",
    "\n",
    "b = a.groupby(['k','run']).agg({'valid_loss': 'min', \n",
    "                                 'model_arch': 'first', \n",
    "                                 'likelihood_fn': 'first',\n",
    "                                 'lr':'first',\n",
    "                                 'batch_size':'first',\n",
    "                                 'dropout_rate':'first',\n",
    "                               })\n",
    "\n",
    "c = b.groupby(['run']).agg({'valid_loss': 'mean', \n",
    "                        'model_arch': 'first', \n",
    "                        'likelihood_fn': 'first',\n",
    "                        'lr':'first',\n",
    "                        'batch_size':'first',\n",
    "                        'dropout_rate':'first',\n",
    "                         }\n",
    "                   ).sort_values('valid_loss').reset_index()\n",
    "\n",
    "c.groupby(['model_arch',\n",
    "           'likelihood_fn',\n",
    "           'lr',\n",
    "           'batch_size',\n",
    "           'dropout_rate',\n",
    "           ]).agg({'valid_loss': 'mean'}\n",
    "                   ).sort_values('valid_loss').reset_index()"
   ]
  }
 ],
 "metadata": {
  "kernelspec": {
   "display_name": "Python [conda env:bcdp]",
   "language": "python",
   "name": "conda-env-bcdp-py"
  },
  "language_info": {
   "codemirror_mode": {
    "name": "ipython",
    "version": 3
   },
   "file_extension": ".py",
   "mimetype": "text/x-python",
   "name": "python",
   "nbconvert_exporter": "python",
   "pygments_lexer": "ipython3",
   "version": "3.9.12"
  },
  "vscode": {
   "interpreter": {
    "hash": "d6f7d0f407510cc81edbbb8fa0d61f79bb70425ade7d5a8e5edb94832bf1e351"
   }
  }
 },
 "nbformat": 4,
 "nbformat_minor": 4
}
