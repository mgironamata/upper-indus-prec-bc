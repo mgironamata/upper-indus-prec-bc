{
 "cells": [
  {
   "cell_type": "code",
   "execution_count": 1,
   "metadata": {},
   "outputs": [
    {
     "name": "stderr",
     "output_type": "stream",
     "text": [
      "/data/hpcdata/users/marron31/conda-envs/bcdp/lib/python3.9/site-packages/scipy/__init__.py:146: UserWarning: A NumPy version >=1.16.5 and <1.23.0 is required for this version of SciPy (detected version 1.23.1\n",
      "  warnings.warn(f\"A NumPy version >={np_minversion} and <{np_maxversion}\"\n",
      "/data/hpcdata/users/marron31/conda-envs/bcdp/lib/python3.9/site-packages/tqdm/auto.py:22: TqdmWarning: IProgress not found. Please update jupyter and ipywidgets. See https://ipywidgets.readthedocs.io/en/stable/user_install.html\n",
      "  from .autonotebook import tqdm as notebook_tqdm\n"
     ]
    }
   ],
   "source": [
    "import numpy as np\n",
    "import pandas as pd\n",
    "import seaborn as sns\n",
    "\n",
    "from matplotlib import pyplot as plt\n",
    "from tabulate import tabulate\n",
    "\n",
    "import os, shutil, time, pdb, random\n",
    "import scipy.stats as stats \n",
    "import scipy\n",
    "\n",
    "from math import pi\n",
    "from datetime import datetime\n",
    "from collections import OrderedDict\n",
    "import pickle\n",
    "\n",
    "import torch\n",
    "from torch.utils.data import TensorDataset, DataLoader\n",
    "\n",
    "from importlib import reload\n",
    "from models import *\n",
    "from utils import *\n",
    "from runmanager import *\n",
    "from experiment import *\n",
    "from plot_utils import *\n",
    "from preprocessing_utils import *\n",
    "from analysis_seasonal import * \n",
    "\n",
    "from sklearn.metrics import mean_squared_error as mse\n",
    "\n",
    "import matplotlib\n",
    "matplotlib.rc_file_defaults()\n",
    "%matplotlib inline\n",
    "\n",
    "import CONFIG\n",
    "\n",
    "pd.options.display.max_columns = None\n",
    "\n",
    "np.random.seed(4)\n",
    "\n",
    "%load_ext autoreload\n",
    "%autoreload 2\n",
    "\n",
    "device = CONFIG.device"
   ]
  },
  {
   "cell_type": "markdown",
   "metadata": {},
   "source": [
    "### Import data"
   ]
  },
  {
   "cell_type": "code",
   "execution_count": 2,
   "metadata": {},
   "outputs": [],
   "source": [
    "data = DataPreprocessing(train_path=CONFIG.TRAIN_PATH, start=CONFIG.start, end=CONFIG.end, \n",
    "                add_yesterday = False, \n",
    "                basin_filter = None, \n",
    "                split_bias_corrected_only = False, \n",
    "                filter_incomplete_years = False, \n",
    "                include_non_bc_stations = True, \n",
    "                split_by = 'station')"
   ]
  },
  {
   "cell_type": "markdown",
   "metadata": {},
   "source": [
    "### Split data into held out sets for K-fold cross validation"
   ]
  },
  {
   "cell_type": "code",
   "execution_count": 3,
   "metadata": {},
   "outputs": [],
   "source": [
    "data.split_stations()"
   ]
  },
  {
   "cell_type": "markdown",
   "metadata": {},
   "source": [
    "### Prepare data"
   ]
  },
  {
   "cell_type": "code",
   "execution_count": 4,
   "metadata": {
    "scrolled": true
   },
   "outputs": [],
   "source": [
    "# CONFIG.predictors.append('obs_yesterday')\n",
    "data.input_data(CONFIG.predictors, CONFIG.predictand, sort_by_quantile=False)"
   ]
  },
  {
   "cell_type": "markdown",
   "metadata": {},
   "source": [
    "## Multi-Run: Train model with different hyperparameters"
   ]
  },
  {
   "cell_type": "markdown",
   "metadata": {},
   "source": [
    "### Model run"
   ]
  },
  {
   "cell_type": "code",
   "execution_count": 12,
   "metadata": {
    "code_folding": [],
    "scrolled": true,
    "tags": []
   },
   "outputs": [
    {
     "name": "stdout",
     "output_type": "stream",
     "text": [
      "VGLM_[]_bgmm_B=128_D=0\n",
      "MLP_[10]_bgmm_B=128_D=0\n",
      "SimpleRNN_[10]_bgmm_B=128_D=0\n",
      "VGLM_[]_bgmm_B=128_D=0\n",
      "MLP_[10]_bgmm_B=128_D=0\n",
      "SimpleRNN_[10]_bgmm_B=128_D=0\n",
      "VGLM_[]_bgmm_B=128_D=0\n",
      "MLP_[10]_bgmm_B=128_D=0\n",
      "SimpleRNN_[10]_bgmm_B=128_D=0\n",
      "VGLM_[]_bgmm_B=128_D=0\n",
      "MLP_[10]_bgmm_B=128_D=0\n",
      "SimpleRNN_[10]_bgmm_B=128_D=0\n",
      "VGLM_[]_bgmm_B=128_D=0\n",
      "MLP_[10]_bgmm_B=128_D=0\n",
      "SimpleRNN_[10]_bgmm_B=128_D=0\n",
      "VGLM_[]_bgmm_B=128_D=0\n",
      "MLP_[10]_bgmm_B=128_D=0\n",
      "SimpleRNN_[10]_bgmm_B=128_D=0\n",
      "VGLM_[]_bgmm_B=128_D=0\n",
      "MLP_[10]_bgmm_B=128_D=0\n",
      "SimpleRNN_[10]_bgmm_B=128_D=0\n",
      "VGLM_[]_bgmm_B=128_D=0\n",
      "MLP_[10]_bgmm_B=128_D=0\n",
      "SimpleRNN_[10]_bgmm_B=128_D=0\n",
      "VGLM_[]_bgmm_B=128_D=0\n",
      "MLP_[10]_bgmm_B=128_D=0\n",
      "SimpleRNN_[10]_bgmm_B=128_D=0\n",
      "VGLM_[]_bgmm_B=128_D=0\n",
      "MLP_[10]_bgmm_B=128_D=0\n",
      "SimpleRNN_[10]_bgmm_B=128_D=0\n",
      "VGLM_[]_bgmm_B=128_D=0.25\n",
      "MLP_[10]_bgmm_B=128_D=0.25\n",
      "SimpleRNN_[10]_bgmm_B=128_D=0.25\n",
      "VGLM_[]_bgmm_B=128_D=0.25\n",
      "MLP_[10]_bgmm_B=128_D=0.25\n",
      "SimpleRNN_[10]_bgmm_B=128_D=0.25\n",
      "VGLM_[]_bgmm_B=128_D=0.25\n",
      "MLP_[10]_bgmm_B=128_D=0.25\n",
      "SimpleRNN_[10]_bgmm_B=128_D=0.25\n",
      "VGLM_[]_bgmm_B=128_D=0.25\n",
      "MLP_[10]_bgmm_B=128_D=0.25\n",
      "SimpleRNN_[10]_bgmm_B=128_D=0.25\n",
      "VGLM_[]_bgmm_B=128_D=0.25\n",
      "MLP_[10]_bgmm_B=128_D=0.25\n",
      "SimpleRNN_[10]_bgmm_B=128_D=0.25\n",
      "VGLM_[]_bgmm_B=128_D=0.25\n",
      "MLP_[10]_bgmm_B=128_D=0.25\n",
      "SimpleRNN_[10]_bgmm_B=128_D=0.25\n",
      "VGLM_[]_bgmm_B=128_D=0.25\n",
      "MLP_[10]_bgmm_B=128_D=0.25\n",
      "SimpleRNN_[10]_bgmm_B=128_D=0.25\n",
      "VGLM_[]_bgmm_B=128_D=0.25\n",
      "MLP_[10]_bgmm_B=128_D=0.25\n",
      "SimpleRNN_[10]_bgmm_B=128_D=0.25\n",
      "VGLM_[]_bgmm_B=128_D=0.25\n",
      "MLP_[10]_bgmm_B=128_D=0.25\n",
      "SimpleRNN_[10]_bgmm_B=128_D=0.25\n",
      "VGLM_[]_bgmm_B=128_D=0.25\n",
      "MLP_[10]_bgmm_B=128_D=0.25\n",
      "SimpleRNN_[10]_bgmm_B=128_D=0.25\n"
     ]
    },
    {
     "name": "stderr",
     "output_type": "stream",
     "text": [
      "/users/marron31/repos/upper-indus-prec-bc/utils.py:1053: FutureWarning: The frame.append method is deprecated and will be removed from pandas in a future version. Use pandas.concat instead.\n",
      "  return st_test, predictions\n",
      "/users/marron31/repos/upper-indus-prec-bc/utils.py:1053: FutureWarning: The frame.append method is deprecated and will be removed from pandas in a future version. Use pandas.concat instead.\n",
      "  return st_test, predictions\n",
      "/users/marron31/repos/upper-indus-prec-bc/utils.py:1053: FutureWarning: The frame.append method is deprecated and will be removed from pandas in a future version. Use pandas.concat instead.\n",
      "  return st_test, predictions\n",
      "/users/marron31/repos/upper-indus-prec-bc/utils.py:1053: FutureWarning: The frame.append method is deprecated and will be removed from pandas in a future version. Use pandas.concat instead.\n",
      "  return st_test, predictions\n",
      "/users/marron31/repos/upper-indus-prec-bc/utils.py:1053: FutureWarning: The frame.append method is deprecated and will be removed from pandas in a future version. Use pandas.concat instead.\n",
      "  return st_test, predictions\n",
      "/users/marron31/repos/upper-indus-prec-bc/utils.py:1053: FutureWarning: The frame.append method is deprecated and will be removed from pandas in a future version. Use pandas.concat instead.\n",
      "  return st_test, predictions\n",
      "/users/marron31/repos/upper-indus-prec-bc/utils.py:1053: FutureWarning: The frame.append method is deprecated and will be removed from pandas in a future version. Use pandas.concat instead.\n",
      "  return st_test, predictions\n",
      "/users/marron31/repos/upper-indus-prec-bc/utils.py:1053: FutureWarning: The frame.append method is deprecated and will be removed from pandas in a future version. Use pandas.concat instead.\n",
      "  return st_test, predictions\n",
      "/users/marron31/repos/upper-indus-prec-bc/utils.py:1053: FutureWarning: The frame.append method is deprecated and will be removed from pandas in a future version. Use pandas.concat instead.\n",
      "  return st_test, predictions\n",
      "/users/marron31/repos/upper-indus-prec-bc/utils.py:1053: FutureWarning: The frame.append method is deprecated and will be removed from pandas in a future version. Use pandas.concat instead.\n",
      "  return st_test, predictions\n",
      "/users/marron31/repos/upper-indus-prec-bc/utils.py:1053: FutureWarning: The frame.append method is deprecated and will be removed from pandas in a future version. Use pandas.concat instead.\n",
      "  return st_test, predictions\n",
      "/users/marron31/repos/upper-indus-prec-bc/utils.py:1053: FutureWarning: The frame.append method is deprecated and will be removed from pandas in a future version. Use pandas.concat instead.\n",
      "  return st_test, predictions\n",
      "/users/marron31/repos/upper-indus-prec-bc/utils.py:1053: FutureWarning: The frame.append method is deprecated and will be removed from pandas in a future version. Use pandas.concat instead.\n",
      "  return st_test, predictions\n",
      "/users/marron31/repos/upper-indus-prec-bc/utils.py:1053: FutureWarning: The frame.append method is deprecated and will be removed from pandas in a future version. Use pandas.concat instead.\n",
      "  return st_test, predictions\n",
      "/users/marron31/repos/upper-indus-prec-bc/utils.py:1053: FutureWarning: The frame.append method is deprecated and will be removed from pandas in a future version. Use pandas.concat instead.\n",
      "  return st_test, predictions\n",
      "/users/marron31/repos/upper-indus-prec-bc/utils.py:1053: FutureWarning: The frame.append method is deprecated and will be removed from pandas in a future version. Use pandas.concat instead.\n",
      "  return st_test, predictions\n",
      "/users/marron31/repos/upper-indus-prec-bc/utils.py:1053: FutureWarning: The frame.append method is deprecated and will be removed from pandas in a future version. Use pandas.concat instead.\n",
      "  return st_test, predictions\n",
      "/users/marron31/repos/upper-indus-prec-bc/utils.py:1053: FutureWarning: The frame.append method is deprecated and will be removed from pandas in a future version. Use pandas.concat instead.\n",
      "  return st_test, predictions\n",
      "/users/marron31/repos/upper-indus-prec-bc/utils.py:1053: FutureWarning: The frame.append method is deprecated and will be removed from pandas in a future version. Use pandas.concat instead.\n",
      "  return st_test, predictions\n",
      "/users/marron31/repos/upper-indus-prec-bc/utils.py:1053: FutureWarning: The frame.append method is deprecated and will be removed from pandas in a future version. Use pandas.concat instead.\n",
      "  return st_test, predictions\n",
      "/users/marron31/repos/upper-indus-prec-bc/utils.py:1053: FutureWarning: The frame.append method is deprecated and will be removed from pandas in a future version. Use pandas.concat instead.\n",
      "  return st_test, predictions\n",
      "/users/marron31/repos/upper-indus-prec-bc/utils.py:1053: FutureWarning: The frame.append method is deprecated and will be removed from pandas in a future version. Use pandas.concat instead.\n",
      "  return st_test, predictions\n",
      "/users/marron31/repos/upper-indus-prec-bc/utils.py:1053: FutureWarning: The frame.append method is deprecated and will be removed from pandas in a future version. Use pandas.concat instead.\n",
      "  return st_test, predictions\n",
      "/users/marron31/repos/upper-indus-prec-bc/utils.py:1053: FutureWarning: The frame.append method is deprecated and will be removed from pandas in a future version. Use pandas.concat instead.\n",
      "  return st_test, predictions\n",
      "/users/marron31/repos/upper-indus-prec-bc/utils.py:1053: FutureWarning: The frame.append method is deprecated and will be removed from pandas in a future version. Use pandas.concat instead.\n",
      "  return st_test, predictions\n",
      "/users/marron31/repos/upper-indus-prec-bc/utils.py:1053: FutureWarning: The frame.append method is deprecated and will be removed from pandas in a future version. Use pandas.concat instead.\n",
      "  return st_test, predictions\n",
      "/users/marron31/repos/upper-indus-prec-bc/utils.py:1053: FutureWarning: The frame.append method is deprecated and will be removed from pandas in a future version. Use pandas.concat instead.\n",
      "  return st_test, predictions\n",
      "/users/marron31/repos/upper-indus-prec-bc/utils.py:1053: FutureWarning: The frame.append method is deprecated and will be removed from pandas in a future version. Use pandas.concat instead.\n",
      "  return st_test, predictions\n",
      "/users/marron31/repos/upper-indus-prec-bc/utils.py:1053: FutureWarning: The frame.append method is deprecated and will be removed from pandas in a future version. Use pandas.concat instead.\n",
      "  return st_test, predictions\n",
      "/users/marron31/repos/upper-indus-prec-bc/utils.py:1053: FutureWarning: The frame.append method is deprecated and will be removed from pandas in a future version. Use pandas.concat instead.\n",
      "  return st_test, predictions\n",
      "/users/marron31/repos/upper-indus-prec-bc/utils.py:1053: FutureWarning: The frame.append method is deprecated and will be removed from pandas in a future version. Use pandas.concat instead.\n",
      "  return st_test, predictions\n",
      "/users/marron31/repos/upper-indus-prec-bc/utils.py:1053: FutureWarning: The frame.append method is deprecated and will be removed from pandas in a future version. Use pandas.concat instead.\n",
      "  return st_test, predictions\n",
      "/users/marron31/repos/upper-indus-prec-bc/utils.py:1053: FutureWarning: The frame.append method is deprecated and will be removed from pandas in a future version. Use pandas.concat instead.\n",
      "  return st_test, predictions\n",
      "/users/marron31/repos/upper-indus-prec-bc/utils.py:1053: FutureWarning: The frame.append method is deprecated and will be removed from pandas in a future version. Use pandas.concat instead.\n",
      "  return st_test, predictions\n",
      "/users/marron31/repos/upper-indus-prec-bc/utils.py:1053: FutureWarning: The frame.append method is deprecated and will be removed from pandas in a future version. Use pandas.concat instead.\n",
      "  return st_test, predictions\n",
      "/users/marron31/repos/upper-indus-prec-bc/utils.py:1053: FutureWarning: The frame.append method is deprecated and will be removed from pandas in a future version. Use pandas.concat instead.\n",
      "  return st_test, predictions\n",
      "/users/marron31/repos/upper-indus-prec-bc/utils.py:1053: FutureWarning: The frame.append method is deprecated and will be removed from pandas in a future version. Use pandas.concat instead.\n",
      "  return st_test, predictions\n",
      "/users/marron31/repos/upper-indus-prec-bc/utils.py:1053: FutureWarning: The frame.append method is deprecated and will be removed from pandas in a future version. Use pandas.concat instead.\n",
      "  return st_test, predictions\n",
      "/users/marron31/repos/upper-indus-prec-bc/utils.py:1053: FutureWarning: The frame.append method is deprecated and will be removed from pandas in a future version. Use pandas.concat instead.\n",
      "  return st_test, predictions\n",
      "/users/marron31/repos/upper-indus-prec-bc/utils.py:1053: FutureWarning: The frame.append method is deprecated and will be removed from pandas in a future version. Use pandas.concat instead.\n",
      "  return st_test, predictions\n",
      "/users/marron31/repos/upper-indus-prec-bc/utils.py:1053: FutureWarning: The frame.append method is deprecated and will be removed from pandas in a future version. Use pandas.concat instead.\n",
      "  return st_test, predictions\n",
      "/users/marron31/repos/upper-indus-prec-bc/utils.py:1053: FutureWarning: The frame.append method is deprecated and will be removed from pandas in a future version. Use pandas.concat instead.\n",
      "  return st_test, predictions\n",
      "/users/marron31/repos/upper-indus-prec-bc/utils.py:1053: FutureWarning: The frame.append method is deprecated and will be removed from pandas in a future version. Use pandas.concat instead.\n",
      "  return st_test, predictions\n",
      "/users/marron31/repos/upper-indus-prec-bc/utils.py:1053: FutureWarning: The frame.append method is deprecated and will be removed from pandas in a future version. Use pandas.concat instead.\n",
      "  return st_test, predictions\n",
      "/users/marron31/repos/upper-indus-prec-bc/utils.py:1053: FutureWarning: The frame.append method is deprecated and will be removed from pandas in a future version. Use pandas.concat instead.\n",
      "  return st_test, predictions\n",
      "/users/marron31/repos/upper-indus-prec-bc/utils.py:1053: FutureWarning: The frame.append method is deprecated and will be removed from pandas in a future version. Use pandas.concat instead.\n",
      "  return st_test, predictions\n",
      "/users/marron31/repos/upper-indus-prec-bc/utils.py:1053: FutureWarning: The frame.append method is deprecated and will be removed from pandas in a future version. Use pandas.concat instead.\n",
      "  return st_test, predictions\n",
      "/users/marron31/repos/upper-indus-prec-bc/utils.py:1053: FutureWarning: The frame.append method is deprecated and will be removed from pandas in a future version. Use pandas.concat instead.\n",
      "  return st_test, predictions\n",
      "/users/marron31/repos/upper-indus-prec-bc/utils.py:1053: FutureWarning: The frame.append method is deprecated and will be removed from pandas in a future version. Use pandas.concat instead.\n",
      "  return st_test, predictions\n",
      "/users/marron31/repos/upper-indus-prec-bc/utils.py:1053: FutureWarning: The frame.append method is deprecated and will be removed from pandas in a future version. Use pandas.concat instead.\n",
      "  return st_test, predictions\n",
      "/users/marron31/repos/upper-indus-prec-bc/utils.py:1053: FutureWarning: The frame.append method is deprecated and will be removed from pandas in a future version. Use pandas.concat instead.\n",
      "  return st_test, predictions\n",
      "/users/marron31/repos/upper-indus-prec-bc/utils.py:1053: FutureWarning: The frame.append method is deprecated and will be removed from pandas in a future version. Use pandas.concat instead.\n",
      "  return st_test, predictions\n",
      "/users/marron31/repos/upper-indus-prec-bc/utils.py:1053: FutureWarning: The frame.append method is deprecated and will be removed from pandas in a future version. Use pandas.concat instead.\n",
      "  return st_test, predictions\n",
      "/users/marron31/repos/upper-indus-prec-bc/utils.py:1053: FutureWarning: The frame.append method is deprecated and will be removed from pandas in a future version. Use pandas.concat instead.\n",
      "  return st_test, predictions\n"
     ]
    }
   ],
   "source": [
    "st_test, predictions = multirun(data, CONFIG.predictors, CONFIG.params, CONFIG.epochs, \n",
    "                                split_by = 'station', sequential_samples = False, load_run='magali')"
   ]
  },
  {
   "cell_type": "code",
   "execution_count": 13,
   "metadata": {},
   "outputs": [],
   "source": [
    "sample_cols = [f'sample_{i}' for i in range(CONFIG.n_samples)]\n",
    "add_cols = []\n",
    "columns = ['Prec','wrf_prcp','wrf_bc_prcp','precip_norris']"
   ]
  },
  {
   "cell_type": "code",
   "execution_count": 14,
   "metadata": {},
   "outputs": [],
   "source": [
    "for p in predictions.keys(): \n",
    "    for k,v in predictions[p].items():\n",
    "        v['wrf_prcp'] = v['precip_norris'] \n",
    "        v['wrf_bc_prcp'] = v['precip_norris'] "
   ]
  },
  {
   "cell_type": "code",
   "execution_count": 18,
   "metadata": {},
   "outputs": [
    {
     "name": "stdout",
     "output_type": "stream",
     "text": [
      "VGLM_[]_bgmm_B=128_D=0 :\t 0.49213955615874994\n",
      "MLP_[10]_bgmm_B=128_D=0 :\t 0.515341283787051\n",
      "SimpleRNN_[10]_bgmm_B=128_D=0 :\t 0.4021090504115829\n",
      "VGLM_[]_bgmm_B=128_D=0.25 :\t 0.4922598656162913\n",
      "MLP_[10]_bgmm_B=128_D=0.25 :\t 0.506051200985456\n",
      "SimpleRNN_[10]_bgmm_B=128_D=0.25 :\t 0.4019137438771068\n"
     ]
    }
   ],
   "source": [
    "for k,v in predictions.items():\n",
    "    print(k, ':\\t', v['k_all'].BS.mean())"
   ]
  },
  {
   "cell_type": "code",
   "execution_count": 19,
   "metadata": {},
   "outputs": [
    {
     "name": "stdout",
     "output_type": "stream",
     "text": [
      "VGLM_[]_bgmm_B=128_D=0 :\t 2.0919779688762397\n",
      "MLP_[10]_bgmm_B=128_D=0 :\t 2.0088629883560207\n",
      "SimpleRNN_[10]_bgmm_B=128_D=0 :\t 2.2923352411625757\n",
      "VGLM_[]_bgmm_B=128_D=0.25 :\t 2.0785768147990438\n",
      "MLP_[10]_bgmm_B=128_D=0.25 :\t 2.0279127133481833\n",
      "SimpleRNN_[10]_bgmm_B=128_D=0.25 :\t 2.295472957171233\n"
     ]
    }
   ],
   "source": [
    "for k,v in predictions.items():\n",
    "    print(k, ':\\t', v['k_all'].QS.mean())"
   ]
  },
  {
   "cell_type": "code",
   "execution_count": 15,
   "metadata": {},
   "outputs": [
    {
     "name": "stdout",
     "output_type": "stream",
     "text": [
      "VGLM_[]_bgmm_B=128_D=0\n",
      "MLP_[10]_bgmm_B=128_D=0\n",
      "SimpleRNN_[10]_bgmm_B=128_D=0\n",
      "VGLM_[]_bgmm_B=128_D=0.25\n",
      "MLP_[10]_bgmm_B=128_D=0.25\n",
      "SimpleRNN_[10]_bgmm_B=128_D=0.25\n",
      "Model                             JFM mean    JFM median    AM mean    AM median    JJAS mean    JJAS median    OND mean    OND median\n",
      "--------------------------------  ----------  ------------  ---------  -----------  -----------  -------------  ----------  ------------\n",
      "Bann                              0.1702      0.0931        0.1432     0.0805       0.2183       0.1297         0.2703      0.0637\n",
      "BannCorr                          0.1702      0.0931        0.1432     0.0805       0.2183       0.1297         0.2703      0.0637\n",
      "Norr                              0.1702      0.0931        0.1432     0.0805       0.2183       0.1297         0.2703      0.0637\n",
      "VGLM_[]_bgmm_B=128_D=0            0.3173      0.1349        0.1795     0.0888       0.0972       0.0610         0.1341      0.0968\n",
      "MLP_[10]_bgmm_B=128_D=0           0.3200      0.1593        0.2375     0.0974       0.0856       0.0647         0.1868      0.0833\n",
      "SimpleRNN_[10]_bgmm_B=128_D=0     0.1596      0.1222        0.1488     0.0981       0.0813       0.0639         0.1693      0.1680\n",
      "VGLM_[]_bgmm_B=128_D=0.25         0.3100      0.1264        0.1821     0.0834       0.0917       0.0586         0.1348      0.1046\n",
      "MLP_[10]_bgmm_B=128_D=0.25        0.3364      0.1611        0.2119     0.0924       0.0937       0.0624         0.1252      0.0766\n",
      "SimpleRNN_[10]_bgmm_B=128_D=0.25  0.1535      0.1375        0.1432     0.0969       0.0815       0.0778         0.1691      0.1622\n"
     ]
    }
   ],
   "source": [
    "table_of_predictions_ks_test(predictions, CONFIG.seasons, columns, sample_cols, add_cols)"
   ]
  },
  {
   "cell_type": "code",
   "execution_count": 16,
   "metadata": {},
   "outputs": [
    {
     "name": "stdout",
     "output_type": "stream",
     "text": [
      "Model                             JFM mean    JFM median    AM mean    AM median    JJAS mean    JJAS median    OND mean    OND median\n",
      "--------------------------------  ----------  ------------  ---------  -----------  -----------  -------------  ----------  ------------\n",
      "Prec                              0.00        0.00          0.00       0.00         0.00         0.00           0.00        0.00\n",
      "wrf_prcp                          0.85        1.00          0.85       1.00         0.85         1.00           0.75        1.00\n",
      "wrf_bc_prcp                       0.85        1.00          0.85       1.00         0.85         1.00           0.75        1.00\n",
      "precip_norris                     0.85        1.00          0.85       1.00         0.85         1.00           0.75        1.00\n",
      "VGLM_[]_bgmm_B=128_D=0            0.53        0.49          0.37       0.31         0.24         0.18           0.62        0.65\n",
      "MLP_[10]_bgmm_B=128_D=0           0.49        0.45          0.35       0.29         0.22         0.16           0.58        0.55\n",
      "SimpleRNN_[10]_bgmm_B=128_D=0     0.43        0.37          0.33       0.28         0.36         0.36           0.62        0.66\n",
      "VGLM_[]_bgmm_B=128_D=0.25         0.53        0.49          0.38       0.32         0.22         0.16           0.63        0.66\n",
      "MLP_[10]_bgmm_B=128_D=0.25        0.49        0.45          0.36       0.30         0.23         0.17           0.60        0.60\n",
      "SimpleRNN_[10]_bgmm_B=128_D=0.25  0.44        0.36          0.34       0.27         0.36         0.36           0.62        0.66\n"
     ]
    }
   ],
   "source": [
    "table_of_predictions_for_metric(predictions, CONFIG.seasons, columns, CONFIG.n_samples, sample_cols, add_cols, metric = 'smape', prefix='smape')"
   ]
  },
  {
   "cell_type": "code",
   "execution_count": 27,
   "metadata": {},
   "outputs": [
    {
     "name": "stdout",
     "output_type": "stream",
     "text": [
      "Model                                  JFM mean    JFM median    AM mean    AM median    JJAS mean    JJAS median    OND mean    OND median\n",
      "-------------------------------------  ----------  ------------  ---------  -----------  -----------  -------------  ----------  ------------\n",
      "Prec                                   0.00        0.00          0.00       0.00         0.00         0.00           0.00        0.00\n",
      "wrf_prcp                               4.60        5.00          9.09       8.50         36.33        37.00          3.17        3.00\n",
      "wrf_bc_prcp                            4.60        5.00          9.09       8.50         36.33        37.00          3.17        3.00\n",
      "precip_norris                          4.60        5.00          9.09       8.50         36.33        37.00          3.17        3.00\n",
      "VGLM_[]_bgmm_B=128_D=0                 2.55        2.10          4.25       3.85         9.15         8.10           7.07        7.20\n",
      "MLP_[10, 10, 10]_bgmm_B=128_D=0        2.33        2.10          3.69       3.05         11.01        9.60           3.97        3.55\n",
      "SimpleRNN_[10, 10, 10]_bgmm_B=128_D=0  5.76        5.30          7.01       6.90         9.96         8.60           13.97       16.00\n"
     ]
    }
   ],
   "source": [
    "table_of_predictions_for_metric(predictions, CONFIG.seasons, columns, CONFIG.n_samples, sample_cols, add_cols, metric = 'edd', prefix='edd')"
   ]
  },
  {
   "cell_type": "code",
   "execution_count": 28,
   "metadata": {},
   "outputs": [
    {
     "name": "stdout",
     "output_type": "stream",
     "text": [
      "Model                                  JFM mean    JFM median    AM mean    AM median    JJAS mean    JJAS median    OND mean    OND median\n",
      "-------------------------------------  ----------  ------------  ---------  -----------  -----------  -------------  ----------  ------------\n",
      "Prec                                   0.00        0.00          0.00       0.00         0.00         0.00           0.00        0.00\n",
      "wrf_prcp                               53.33       42.40         82.33      68.65        665.58       593.30         42.50       15.00\n",
      "wrf_bc_prcp                            53.33       42.40         82.33      68.65        665.58       593.30         42.50       15.00\n",
      "precip_norris                          53.33       42.40         82.33      68.65        665.58       593.30         42.50       15.00\n",
      "VGLM_[]_bgmm_B=128_D=0                 40.44       26.91         62.38      54.08        251.27       167.62         95.48       90.30\n",
      "MLP_[10, 10, 10]_bgmm_B=128_D=0        36.94       25.01         55.97      46.87        313.75       253.46         63.55       58.99\n",
      "SimpleRNN_[10, 10, 10]_bgmm_B=128_D=0  40.97       30.98         47.07      37.00        409.83       302.73         84.20       87.63\n"
     ]
    }
   ],
   "source": [
    "table_of_predictions_for_metric(predictions, CONFIG.seasons, columns, CONFIG.n_samples, sample_cols, add_cols, metric = 'ae', prefix='ae')"
   ]
  },
  {
   "cell_type": "code",
   "execution_count": 30,
   "metadata": {},
   "outputs": [],
   "source": [
    "# table_of_predictions_for_metric(predictions, CONFIG.seasons, columns, CONFIG.n_samples, sample_cols, add_cols, metric = 'se', prefix='se')"
   ]
  },
  {
   "cell_type": "code",
   "execution_count": 20,
   "metadata": {},
   "outputs": [
    {
     "ename": "KeyError",
     "evalue": "'k'",
     "output_type": "error",
     "traceback": [
      "\u001b[0;31m---------------------------------------------------------------------------\u001b[0m",
      "\u001b[0;31mKeyError\u001b[0m                                  Traceback (most recent call last)",
      "Input \u001b[0;32mIn [20]\u001b[0m, in \u001b[0;36m<cell line: 3>\u001b[0;34m()\u001b[0m\n\u001b[1;32m      1\u001b[0m a \u001b[38;5;241m=\u001b[39m pd\u001b[38;5;241m.\u001b[39mread_csv(\u001b[38;5;124m'\u001b[39m\u001b[38;5;124mresults.csv\u001b[39m\u001b[38;5;124m'\u001b[39m)\n\u001b[0;32m----> 3\u001b[0m b \u001b[38;5;241m=\u001b[39m \u001b[43ma\u001b[49m\u001b[38;5;241;43m.\u001b[39;49m\u001b[43mgroupby\u001b[49m\u001b[43m(\u001b[49m\u001b[43m[\u001b[49m\u001b[38;5;124;43m'\u001b[39;49m\u001b[38;5;124;43mk\u001b[39;49m\u001b[38;5;124;43m'\u001b[39;49m\u001b[43m,\u001b[49m\u001b[38;5;124;43m'\u001b[39;49m\u001b[38;5;124;43mrun\u001b[39;49m\u001b[38;5;124;43m'\u001b[39;49m\u001b[43m]\u001b[49m\u001b[43m)\u001b[49m\u001b[38;5;241m.\u001b[39magg({\u001b[38;5;124m'\u001b[39m\u001b[38;5;124mvalid_loss\u001b[39m\u001b[38;5;124m'\u001b[39m: \u001b[38;5;124m'\u001b[39m\u001b[38;5;124mmin\u001b[39m\u001b[38;5;124m'\u001b[39m, \n\u001b[1;32m      4\u001b[0m                                  \u001b[38;5;124m'\u001b[39m\u001b[38;5;124mmodel_arch\u001b[39m\u001b[38;5;124m'\u001b[39m: \u001b[38;5;124m'\u001b[39m\u001b[38;5;124mfirst\u001b[39m\u001b[38;5;124m'\u001b[39m, \n\u001b[1;32m      5\u001b[0m                                  \u001b[38;5;124m'\u001b[39m\u001b[38;5;124mlikelihood_fn\u001b[39m\u001b[38;5;124m'\u001b[39m: \u001b[38;5;124m'\u001b[39m\u001b[38;5;124mfirst\u001b[39m\u001b[38;5;124m'\u001b[39m,\n\u001b[1;32m      6\u001b[0m                                  \u001b[38;5;124m'\u001b[39m\u001b[38;5;124mlr\u001b[39m\u001b[38;5;124m'\u001b[39m:\u001b[38;5;124m'\u001b[39m\u001b[38;5;124mfirst\u001b[39m\u001b[38;5;124m'\u001b[39m,\n\u001b[1;32m      7\u001b[0m                                  \u001b[38;5;124m'\u001b[39m\u001b[38;5;124mbatch_size\u001b[39m\u001b[38;5;124m'\u001b[39m:\u001b[38;5;124m'\u001b[39m\u001b[38;5;124mfirst\u001b[39m\u001b[38;5;124m'\u001b[39m,\n\u001b[1;32m      8\u001b[0m                                  \u001b[38;5;124m'\u001b[39m\u001b[38;5;124mdropout_rate\u001b[39m\u001b[38;5;124m'\u001b[39m:\u001b[38;5;124m'\u001b[39m\u001b[38;5;124mfirst\u001b[39m\u001b[38;5;124m'\u001b[39m,\n\u001b[1;32m      9\u001b[0m                                })\n\u001b[1;32m     11\u001b[0m c \u001b[38;5;241m=\u001b[39m b\u001b[38;5;241m.\u001b[39mgroupby([\u001b[38;5;124m'\u001b[39m\u001b[38;5;124mrun\u001b[39m\u001b[38;5;124m'\u001b[39m])\u001b[38;5;241m.\u001b[39magg({\u001b[38;5;124m'\u001b[39m\u001b[38;5;124mvalid_loss\u001b[39m\u001b[38;5;124m'\u001b[39m: \u001b[38;5;124m'\u001b[39m\u001b[38;5;124mmean\u001b[39m\u001b[38;5;124m'\u001b[39m, \n\u001b[1;32m     12\u001b[0m                         \u001b[38;5;124m'\u001b[39m\u001b[38;5;124mmodel_arch\u001b[39m\u001b[38;5;124m'\u001b[39m: \u001b[38;5;124m'\u001b[39m\u001b[38;5;124mfirst\u001b[39m\u001b[38;5;124m'\u001b[39m, \n\u001b[1;32m     13\u001b[0m                         \u001b[38;5;124m'\u001b[39m\u001b[38;5;124mlikelihood_fn\u001b[39m\u001b[38;5;124m'\u001b[39m: \u001b[38;5;124m'\u001b[39m\u001b[38;5;124mfirst\u001b[39m\u001b[38;5;124m'\u001b[39m,\n\u001b[0;32m   (...)\u001b[0m\n\u001b[1;32m     17\u001b[0m                          }\n\u001b[1;32m     18\u001b[0m                    )\u001b[38;5;241m.\u001b[39msort_values(\u001b[38;5;124m'\u001b[39m\u001b[38;5;124mvalid_loss\u001b[39m\u001b[38;5;124m'\u001b[39m)\u001b[38;5;241m.\u001b[39mreset_index()\n\u001b[1;32m     20\u001b[0m c\u001b[38;5;241m.\u001b[39mgroupby([\u001b[38;5;124m'\u001b[39m\u001b[38;5;124mmodel_arch\u001b[39m\u001b[38;5;124m'\u001b[39m,\n\u001b[1;32m     21\u001b[0m            \u001b[38;5;124m'\u001b[39m\u001b[38;5;124mlikelihood_fn\u001b[39m\u001b[38;5;124m'\u001b[39m,\n\u001b[1;32m     22\u001b[0m            \u001b[38;5;124m'\u001b[39m\u001b[38;5;124mlr\u001b[39m\u001b[38;5;124m'\u001b[39m,\n\u001b[0;32m   (...)\u001b[0m\n\u001b[1;32m     25\u001b[0m            ])\u001b[38;5;241m.\u001b[39magg({\u001b[38;5;124m'\u001b[39m\u001b[38;5;124mvalid_loss\u001b[39m\u001b[38;5;124m'\u001b[39m: \u001b[38;5;124m'\u001b[39m\u001b[38;5;124mmean\u001b[39m\u001b[38;5;124m'\u001b[39m}\n\u001b[1;32m     26\u001b[0m                    )\u001b[38;5;241m.\u001b[39msort_values(\u001b[38;5;124m'\u001b[39m\u001b[38;5;124mvalid_loss\u001b[39m\u001b[38;5;124m'\u001b[39m)\u001b[38;5;241m.\u001b[39mreset_index()\n",
      "File \u001b[0;32m/data/hpcdata/users/marron31/conda-envs/bcdp/lib/python3.9/site-packages/pandas/core/frame.py:7718\u001b[0m, in \u001b[0;36mDataFrame.groupby\u001b[0;34m(self, by, axis, level, as_index, sort, group_keys, squeeze, observed, dropna)\u001b[0m\n\u001b[1;32m   7713\u001b[0m axis \u001b[38;5;241m=\u001b[39m \u001b[38;5;28mself\u001b[39m\u001b[38;5;241m.\u001b[39m_get_axis_number(axis)\n\u001b[1;32m   7715\u001b[0m \u001b[38;5;66;03m# https://github.com/python/mypy/issues/7642\u001b[39;00m\n\u001b[1;32m   7716\u001b[0m \u001b[38;5;66;03m# error: Argument \"squeeze\" to \"DataFrameGroupBy\" has incompatible type\u001b[39;00m\n\u001b[1;32m   7717\u001b[0m \u001b[38;5;66;03m# \"Union[bool, NoDefault]\"; expected \"bool\"\u001b[39;00m\n\u001b[0;32m-> 7718\u001b[0m \u001b[38;5;28;01mreturn\u001b[39;00m \u001b[43mDataFrameGroupBy\u001b[49m\u001b[43m(\u001b[49m\n\u001b[1;32m   7719\u001b[0m \u001b[43m    \u001b[49m\u001b[43mobj\u001b[49m\u001b[38;5;241;43m=\u001b[39;49m\u001b[38;5;28;43mself\u001b[39;49m\u001b[43m,\u001b[49m\n\u001b[1;32m   7720\u001b[0m \u001b[43m    \u001b[49m\u001b[43mkeys\u001b[49m\u001b[38;5;241;43m=\u001b[39;49m\u001b[43mby\u001b[49m\u001b[43m,\u001b[49m\n\u001b[1;32m   7721\u001b[0m \u001b[43m    \u001b[49m\u001b[43maxis\u001b[49m\u001b[38;5;241;43m=\u001b[39;49m\u001b[43maxis\u001b[49m\u001b[43m,\u001b[49m\n\u001b[1;32m   7722\u001b[0m \u001b[43m    \u001b[49m\u001b[43mlevel\u001b[49m\u001b[38;5;241;43m=\u001b[39;49m\u001b[43mlevel\u001b[49m\u001b[43m,\u001b[49m\n\u001b[1;32m   7723\u001b[0m \u001b[43m    \u001b[49m\u001b[43mas_index\u001b[49m\u001b[38;5;241;43m=\u001b[39;49m\u001b[43mas_index\u001b[49m\u001b[43m,\u001b[49m\n\u001b[1;32m   7724\u001b[0m \u001b[43m    \u001b[49m\u001b[43msort\u001b[49m\u001b[38;5;241;43m=\u001b[39;49m\u001b[43msort\u001b[49m\u001b[43m,\u001b[49m\n\u001b[1;32m   7725\u001b[0m \u001b[43m    \u001b[49m\u001b[43mgroup_keys\u001b[49m\u001b[38;5;241;43m=\u001b[39;49m\u001b[43mgroup_keys\u001b[49m\u001b[43m,\u001b[49m\n\u001b[1;32m   7726\u001b[0m \u001b[43m    \u001b[49m\u001b[43msqueeze\u001b[49m\u001b[38;5;241;43m=\u001b[39;49m\u001b[43msqueeze\u001b[49m\u001b[43m,\u001b[49m\u001b[43m  \u001b[49m\u001b[38;5;66;43;03m# type: ignore[arg-type]\u001b[39;49;00m\n\u001b[1;32m   7727\u001b[0m \u001b[43m    \u001b[49m\u001b[43mobserved\u001b[49m\u001b[38;5;241;43m=\u001b[39;49m\u001b[43mobserved\u001b[49m\u001b[43m,\u001b[49m\n\u001b[1;32m   7728\u001b[0m \u001b[43m    \u001b[49m\u001b[43mdropna\u001b[49m\u001b[38;5;241;43m=\u001b[39;49m\u001b[43mdropna\u001b[49m\u001b[43m,\u001b[49m\n\u001b[1;32m   7729\u001b[0m \u001b[43m\u001b[49m\u001b[43m)\u001b[49m\n",
      "File \u001b[0;32m/data/hpcdata/users/marron31/conda-envs/bcdp/lib/python3.9/site-packages/pandas/core/groupby/groupby.py:882\u001b[0m, in \u001b[0;36mGroupBy.__init__\u001b[0;34m(self, obj, keys, axis, level, grouper, exclusions, selection, as_index, sort, group_keys, squeeze, observed, mutated, dropna)\u001b[0m\n\u001b[1;32m    879\u001b[0m \u001b[38;5;28;01mif\u001b[39;00m grouper \u001b[38;5;129;01mis\u001b[39;00m \u001b[38;5;28;01mNone\u001b[39;00m:\n\u001b[1;32m    880\u001b[0m     \u001b[38;5;28;01mfrom\u001b[39;00m \u001b[38;5;21;01mpandas\u001b[39;00m\u001b[38;5;21;01m.\u001b[39;00m\u001b[38;5;21;01mcore\u001b[39;00m\u001b[38;5;21;01m.\u001b[39;00m\u001b[38;5;21;01mgroupby\u001b[39;00m\u001b[38;5;21;01m.\u001b[39;00m\u001b[38;5;21;01mgrouper\u001b[39;00m \u001b[38;5;28;01mimport\u001b[39;00m get_grouper\n\u001b[0;32m--> 882\u001b[0m     grouper, exclusions, obj \u001b[38;5;241m=\u001b[39m \u001b[43mget_grouper\u001b[49m\u001b[43m(\u001b[49m\n\u001b[1;32m    883\u001b[0m \u001b[43m        \u001b[49m\u001b[43mobj\u001b[49m\u001b[43m,\u001b[49m\n\u001b[1;32m    884\u001b[0m \u001b[43m        \u001b[49m\u001b[43mkeys\u001b[49m\u001b[43m,\u001b[49m\n\u001b[1;32m    885\u001b[0m \u001b[43m        \u001b[49m\u001b[43maxis\u001b[49m\u001b[38;5;241;43m=\u001b[39;49m\u001b[43maxis\u001b[49m\u001b[43m,\u001b[49m\n\u001b[1;32m    886\u001b[0m \u001b[43m        \u001b[49m\u001b[43mlevel\u001b[49m\u001b[38;5;241;43m=\u001b[39;49m\u001b[43mlevel\u001b[49m\u001b[43m,\u001b[49m\n\u001b[1;32m    887\u001b[0m \u001b[43m        \u001b[49m\u001b[43msort\u001b[49m\u001b[38;5;241;43m=\u001b[39;49m\u001b[43msort\u001b[49m\u001b[43m,\u001b[49m\n\u001b[1;32m    888\u001b[0m \u001b[43m        \u001b[49m\u001b[43mobserved\u001b[49m\u001b[38;5;241;43m=\u001b[39;49m\u001b[43mobserved\u001b[49m\u001b[43m,\u001b[49m\n\u001b[1;32m    889\u001b[0m \u001b[43m        \u001b[49m\u001b[43mmutated\u001b[49m\u001b[38;5;241;43m=\u001b[39;49m\u001b[38;5;28;43mself\u001b[39;49m\u001b[38;5;241;43m.\u001b[39;49m\u001b[43mmutated\u001b[49m\u001b[43m,\u001b[49m\n\u001b[1;32m    890\u001b[0m \u001b[43m        \u001b[49m\u001b[43mdropna\u001b[49m\u001b[38;5;241;43m=\u001b[39;49m\u001b[38;5;28;43mself\u001b[39;49m\u001b[38;5;241;43m.\u001b[39;49m\u001b[43mdropna\u001b[49m\u001b[43m,\u001b[49m\n\u001b[1;32m    891\u001b[0m \u001b[43m    \u001b[49m\u001b[43m)\u001b[49m\n\u001b[1;32m    893\u001b[0m \u001b[38;5;28mself\u001b[39m\u001b[38;5;241m.\u001b[39mobj \u001b[38;5;241m=\u001b[39m obj\n\u001b[1;32m    894\u001b[0m \u001b[38;5;28mself\u001b[39m\u001b[38;5;241m.\u001b[39maxis \u001b[38;5;241m=\u001b[39m obj\u001b[38;5;241m.\u001b[39m_get_axis_number(axis)\n",
      "File \u001b[0;32m/data/hpcdata/users/marron31/conda-envs/bcdp/lib/python3.9/site-packages/pandas/core/groupby/grouper.py:882\u001b[0m, in \u001b[0;36mget_grouper\u001b[0;34m(obj, key, axis, level, sort, observed, mutated, validate, dropna)\u001b[0m\n\u001b[1;32m    880\u001b[0m         in_axis, level, gpr \u001b[38;5;241m=\u001b[39m \u001b[38;5;28;01mFalse\u001b[39;00m, gpr, \u001b[38;5;28;01mNone\u001b[39;00m\n\u001b[1;32m    881\u001b[0m     \u001b[38;5;28;01melse\u001b[39;00m:\n\u001b[0;32m--> 882\u001b[0m         \u001b[38;5;28;01mraise\u001b[39;00m \u001b[38;5;167;01mKeyError\u001b[39;00m(gpr)\n\u001b[1;32m    883\u001b[0m \u001b[38;5;28;01melif\u001b[39;00m \u001b[38;5;28misinstance\u001b[39m(gpr, Grouper) \u001b[38;5;129;01mand\u001b[39;00m gpr\u001b[38;5;241m.\u001b[39mkey \u001b[38;5;129;01mis\u001b[39;00m \u001b[38;5;129;01mnot\u001b[39;00m \u001b[38;5;28;01mNone\u001b[39;00m:\n\u001b[1;32m    884\u001b[0m     \u001b[38;5;66;03m# Add key to exclusions\u001b[39;00m\n\u001b[1;32m    885\u001b[0m     exclusions\u001b[38;5;241m.\u001b[39madd(gpr\u001b[38;5;241m.\u001b[39mkey)\n",
      "\u001b[0;31mKeyError\u001b[0m: 'k'"
     ]
    }
   ],
   "source": [
    "a = pd.read_csv('results.csv')\n",
    "\n",
    "b = a.groupby(['k','run']).agg({'valid_loss': 'min', \n",
    "                                 'model_arch': 'first', \n",
    "                                 'likelihood_fn': 'first',\n",
    "                                 'lr':'first',\n",
    "                                 'batch_size':'first',\n",
    "                                 'dropout_rate':'first',\n",
    "                               })\n",
    "\n",
    "c = b.groupby(['run']).agg({'valid_loss': 'mean', \n",
    "                        'model_arch': 'first', \n",
    "                        'likelihood_fn': 'first',\n",
    "                        'lr':'first',\n",
    "                        'batch_size':'first',\n",
    "                        'dropout_rate':'first',\n",
    "                         }\n",
    "                   ).sort_values('valid_loss').reset_index()\n",
    "\n",
    "c.groupby(['model_arch',\n",
    "           'likelihood_fn',\n",
    "           'lr',\n",
    "           'batch_size',\n",
    "           'dropout_rate',\n",
    "           ]).agg({'valid_loss': 'mean'}\n",
    "                   ).sort_values('valid_loss').reset_index()"
   ]
  },
  {
   "cell_type": "code",
   "execution_count": 32,
   "metadata": {},
   "outputs": [
    {
     "data": {
      "image/png": "[encoded data removed]",
      "text/plain": [
       "<Figure size 432x288 with 1 Axes>"
      ]
     },
     "metadata": {
      "needs_background": "light"
     },
     "output_type": "display_data"
    },
    {
     "data": {
      "image/png": "[encoded data removed]",
      "text/plain": [
       "<Figure size 432x288 with 1 Axes>"
      ]
     },
     "metadata": {
      "needs_background": "light"
     },
     "output_type": "display_data"
    },
    {
     "data": {
      "image/png": "[encoded data removed]",
      "text/plain": [
       "<Figure size 432x288 with 1 Axes>"
      ]
     },
     "metadata": {
      "needs_background": "light"
     },
     "output_type": "display_data"
    }
   ],
   "source": [
    "for i in a.model_arch.unique():\n",
    "    a[['valid_loss','test_loss','loss']][a.model_arch == i].plot()\n",
    "    plt.title(i)\n",
    "    plt.show"
   ]
  },
  {
   "cell_type": "code",
   "execution_count": null,
   "metadata": {},
   "outputs": [],
   "source": []
  }
 ],
 "metadata": {
  "kernelspec": {
   "display_name": "Python [conda env:bcdp]",
   "language": "python",
   "name": "conda-env-bcdp-py"
  },
  "language_info": {
   "codemirror_mode": {
    "name": "ipython",
    "version": 3
   },
   "file_extension": ".py",
   "mimetype": "text/x-python",
   "name": "python",
   "nbconvert_exporter": "python",
   "pygments_lexer": "ipython3",
   "version": "3.9.12"
  },
  "vscode": {
   "interpreter": {
    "hash": "d6f7d0f407510cc81edbbb8fa0d61f79bb70425ade7d5a8e5edb94832bf1e351"
   }
  }
 },
 "nbformat": 4,
 "nbformat_minor": 4
}
