{
 "cells": [
  {
   "cell_type": "code",
   "execution_count": 31,
   "metadata": {},
   "outputs": [],
   "source": [
    "import sys\n",
    "sys.path.append('CONFIG_files/')"
   ]
  },
  {
   "cell_type": "code",
   "execution_count": 23,
   "metadata": {},
   "outputs": [
    {
     "name": "stdout",
     "output_type": "stream",
     "text": [
      "The autoreload extension is already loaded. To reload it, use:\n",
      "  %reload_ext autoreload\n"
     ]
    },
    {
     "data": {
      "text/plain": [
       "('SUSHIWAT', 'SUSHIWAT_BGMM_21_AUG_2023_EXP_4', 'station')"
      ]
     },
     "execution_count": 23,
     "metadata": {},
     "output_type": "execute_result"
    }
   ],
   "source": [
    "import numpy as np\n",
    "import pandas as pd\n",
    "import seaborn as sns\n",
    "import shutil\n",
    "\n",
    "from matplotlib import pyplot as plt\n",
    "from tabulate import tabulate\n",
    "\n",
    "import os, shutil, time, pdb, random\n",
    "import scipy.stats as stats \n",
    "import scipy\n",
    "\n",
    "from math import pi\n",
    "from datetime import datetime\n",
    "from collections import OrderedDict\n",
    "import pickle\n",
    "\n",
    "import torch\n",
    "from torch.utils.data import TensorDataset, DataLoader\n",
    "\n",
    "from importlib import reload\n",
    "from models import *\n",
    "from utils import *\n",
    "from runmanager import *\n",
    "from experiment import *\n",
    "from plot_utils import *\n",
    "from preprocessing_utils import *\n",
    "from analysis_seasonal import * \n",
    "\n",
    "from sklearn.metrics import mean_squared_error as mse\n",
    "\n",
    "import matplotlib\n",
    "matplotlib.rc_file_defaults()\n",
    "%matplotlib inline\n",
    "\n",
    "# import CONFIG_SUSHIWAT_BGMM_23_JUNE_2023 as C\n",
    "import CONFIG as C\n",
    "\n",
    "pd.options.display.max_columns = None\n",
    "\n",
    "np.random.seed(4)\n",
    "\n",
    "%load_ext autoreload\n",
    "%autoreload 2\n",
    "\n",
    "device = C.device\n",
    "\n",
    "C.REGION, C.RUN_NAME, C.split_by"
   ]
  },
  {
   "cell_type": "markdown",
   "metadata": {},
   "source": [
    "### Import data"
   ]
  },
  {
   "cell_type": "code",
   "execution_count": 24,
   "metadata": {},
   "outputs": [],
   "source": [
    "data = DataPreprocessing(train_path=C.TRAIN_PATH, start=C.start, end=C.end, \n",
    "                add_yesterday = False, \n",
    "                basin_filter = None, \n",
    "                split_bias_corrected_only = False, \n",
    "                filter_incomplete_years = False, \n",
    "                include_non_bc_stations = True, \n",
    "                split_by = C.split_by)"
   ]
  },
  {
   "cell_type": "markdown",
   "metadata": {},
   "source": [
    "### Split data into held out sets for K-fold cross validation"
   ]
  },
  {
   "cell_type": "code",
   "execution_count": 25,
   "metadata": {},
   "outputs": [],
   "source": [
    "data.split_stations(sort_by_elev = True)"
   ]
  },
  {
   "cell_type": "markdown",
   "metadata": {},
   "source": [
    "### Prepare data"
   ]
  },
  {
   "cell_type": "code",
   "execution_count": 26,
   "metadata": {
    "scrolled": true
   },
   "outputs": [
    {
     "name": "stdout",
     "output_type": "stream",
     "text": [
      "False\n"
     ]
    }
   ],
   "source": [
    "# C.predictors.append('obs_yesterday')\n",
    "data.input_data(C.predictors, C.predictand, sort_by_quantile=C.sort_by_quantile)\n",
    "print(C.sort_by_quantile)"
   ]
  },
  {
   "cell_type": "markdown",
   "metadata": {},
   "source": [
    "## Multi-Run: Train model with different hyperparameters"
   ]
  },
  {
   "cell_type": "markdown",
   "metadata": {},
   "source": [
    "### Model run"
   ]
  },
  {
   "cell_type": "code",
   "execution_count": 27,
   "metadata": {},
   "outputs": [],
   "source": [
    "experiment_label = C.RUN_NAME"
   ]
  },
  {
   "cell_type": "code",
   "execution_count": 28,
   "metadata": {},
   "outputs": [
    {
     "data": {
      "text/plain": [
       "('SUSHIWAT_BGMM_21_AUG_2023_EXP_4', 10)"
      ]
     },
     "execution_count": 28,
     "metadata": {},
     "output_type": "execute_result"
    }
   ],
   "source": [
    "experiment_label, C.K_FOLD"
   ]
  },
  {
   "cell_type": "code",
   "execution_count": 29,
   "metadata": {},
   "outputs": [],
   "source": [
    "load_run = None"
   ]
  },
  {
   "cell_type": "code",
   "execution_count": null,
   "metadata": {
    "code_folding": [],
    "tags": []
   },
   "outputs": [
    {
     "data": {
      "text/html": [
       "<div>\n",
       "<style scoped>\n",
       "    .dataframe tbody tr th:only-of-type {\n",
       "        vertical-align: middle;\n",
       "    }\n",
       "\n",
       "    .dataframe tbody tr th {\n",
       "        vertical-align: top;\n",
       "    }\n",
       "\n",
       "    .dataframe thead th {\n",
       "        text-align: right;\n",
       "    }\n",
       "</style>\n",
       "<table border=\"1\" class=\"dataframe\">\n",
       "  <thead>\n",
       "    <tr style=\"text-align: right;\">\n",
       "      <th></th>\n",
       "      <th>run</th>\n",
       "      <th>epoch</th>\n",
       "      <th>loss</th>\n",
       "      <th>valid_loss</th>\n",
       "      <th>test_loss</th>\n",
       "      <th>decision_loss</th>\n",
       "      <th>epoch duration</th>\n",
       "      <th>run duration</th>\n",
       "      <th>lr</th>\n",
       "      <th>batch_size</th>\n",
       "      <th>likelihood_fn</th>\n",
       "      <th>dropout_rate</th>\n",
       "      <th>random_noise</th>\n",
       "      <th>k</th>\n",
       "      <th>model_arch</th>\n",
       "    </tr>\n",
       "  </thead>\n",
       "  <tbody>\n",
       "    <tr>\n",
       "      <th>0</th>\n",
       "      <td>1</td>\n",
       "      <td>1</td>\n",
       "      <td>1.411865</td>\n",
       "      <td>1.123909</td>\n",
       "      <td>1.020516</td>\n",
       "      <td>1.123909</td>\n",
       "      <td>12.266305</td>\n",
       "      <td>12.310094</td>\n",
       "      <td>0.001</td>\n",
       "      <td>32</td>\n",
       "      <td>bgmm</td>\n",
       "      <td>0</td>\n",
       "      <td>0</td>\n",
       "      <td>0</td>\n",
       "      <td>(VGLM, [])</td>\n",
       "    </tr>\n",
       "    <tr>\n",
       "      <th>1</th>\n",
       "      <td>1</td>\n",
       "      <td>2</td>\n",
       "      <td>1.238527</td>\n",
       "      <td>1.068133</td>\n",
       "      <td>1.021942</td>\n",
       "      <td>1.068133</td>\n",
       "      <td>12.260561</td>\n",
       "      <td>24.604027</td>\n",
       "      <td>0.001</td>\n",
       "      <td>32</td>\n",
       "      <td>bgmm</td>\n",
       "      <td>0</td>\n",
       "      <td>0</td>\n",
       "      <td>0</td>\n",
       "      <td>(VGLM, [])</td>\n",
       "    </tr>\n",
       "    <tr>\n",
       "      <th>2</th>\n",
       "      <td>1</td>\n",
       "      <td>3</td>\n",
       "      <td>1.236635</td>\n",
       "      <td>1.057511</td>\n",
       "      <td>1.019307</td>\n",
       "      <td>1.057511</td>\n",
       "      <td>12.283524</td>\n",
       "      <td>36.921548</td>\n",
       "      <td>0.001</td>\n",
       "      <td>32</td>\n",
       "      <td>bgmm</td>\n",
       "      <td>0</td>\n",
       "      <td>0</td>\n",
       "      <td>0</td>\n",
       "      <td>(VGLM, [])</td>\n",
       "    </tr>\n",
       "  </tbody>\n",
       "</table>\n",
       "</div>"
      ],
      "text/plain": [
       "   run  epoch      loss  valid_loss  test_loss  decision_loss  epoch duration  \\\n",
       "0    1      1  1.411865    1.123909   1.020516       1.123909       12.266305   \n",
       "1    1      2  1.238527    1.068133   1.021942       1.068133       12.260561   \n",
       "2    1      3  1.236635    1.057511   1.019307       1.057511       12.283524   \n",
       "\n",
       "   run duration     lr  batch_size likelihood_fn  dropout_rate  random_noise  \\\n",
       "0     12.310094  0.001          32          bgmm             0             0   \n",
       "1     24.604027  0.001          32          bgmm             0             0   \n",
       "2     36.921548  0.001          32          bgmm             0             0   \n",
       "\n",
       "   k  model_arch  \n",
       "0  0  (VGLM, [])  \n",
       "1  0  (VGLM, [])  \n",
       "2  0  (VGLM, [])  "
      ]
     },
     "metadata": {},
     "output_type": "display_data"
    }
   ],
   "source": [
    "if load_run == None:\n",
    "    src = 'CONFIG.py'\n",
    "    dst = f'CONFIG_files/CONFIG_{experiment_label}.py'\n",
    "    shutil.copy(src, dst)\n",
    "\n",
    "st_test, predictions, importances = multirun(data, C.predictors, C.params, C.epochs, \n",
    "                                split_by = 'station', sequential_samples = False, n_samples=1, load_run = load_run, #None, \n",
    "                                experiment_label = experiment_label, feature_attribution=False, \n",
    "                                show_loss_plot=False)"
   ]
  },
  {
   "cell_type": "code",
   "execution_count": 14,
   "metadata": {},
   "outputs": [],
   "source": [
    "# table_of_predictions_ks_test(predictions, C.seasons, columns, sample_cols, add_cols)"
   ]
  },
  {
   "cell_type": "code",
   "execution_count": 22,
   "metadata": {},
   "outputs": [
    {
     "name": "stdout",
     "output_type": "stream",
     "text": [
      "Model                          JFM mean    JFM median    AM mean    AM median    JJAS mean    JJAS median    OND mean    OND median\n",
      "-----------------------------  ----------  ------------  ---------  -----------  -----------  -------------  ----------  ------------\n",
      "Prec                           0.00        0.00          0.00       0.00         0.00         0.00           0.00        0.00\n",
      "wrf_prcp                       0.23        0.18          0.38       0.35         0.21         0.18           0.39        0.34\n",
      "wrf_bc_prcp                    0.23        0.18          0.38       0.35         0.21         0.18           0.39        0.34\n",
      "precip_norris                  0.23        0.18          0.38       0.35         0.21         0.18           0.39        0.34\n",
      "VGLM_[]_bgmm_B=128_D=0         0.25        0.21          0.36       0.32         0.20         0.15           0.40        0.30\n",
      "MLP_[10]_bgmm_B=128_D=0        0.24        0.18          0.29       0.25         0.20         0.16           0.41        0.33\n",
      "SimpleRNN_[10]_bgmm_B=128_D=0  0.24        0.21          0.26       0.22         0.32         0.29           0.48        0.46\n"
     ]
    }
   ],
   "source": [
    "table_of_predictions_for_metric(predictions, C.seasons, columns, C.n_samples, sample_cols, add_cols, metric = 'smape', prefix='smape')"
   ]
  },
  {
   "cell_type": "code",
   "execution_count": 23,
   "metadata": {},
   "outputs": [
    {
     "name": "stdout",
     "output_type": "stream",
     "text": [
      "Model                          JFM mean    JFM median    AM mean    AM median    JJAS mean    JJAS median    OND mean    OND median\n",
      "-----------------------------  ----------  ------------  ---------  -----------  -----------  -------------  ----------  ------------\n",
      "Prec                           0.00        0.00          0.00       0.00         0.00         0.00           0.00        0.00\n",
      "wrf_prcp                       14.21       10.00         12.79      12.00        32.95        34.00          7.52        5.50\n",
      "wrf_bc_prcp                    14.21       10.00         12.79      12.00        32.95        34.00          7.52        5.50\n",
      "precip_norris                  14.21       10.00         12.79      12.00        32.95        34.00          7.52        5.50\n",
      "VGLM_[]_bgmm_B=128_D=0         5.74        4.60          5.85       4.30         10.32        7.70           5.16        4.30\n",
      "MLP_[10]_bgmm_B=128_D=0        5.86        4.80          4.77       3.70         10.84        8.80           4.73        3.55\n",
      "SimpleRNN_[10]_bgmm_B=128_D=0  10.17       9.60          6.36       5.10         11.04        9.40           18.46       19.70\n"
     ]
    }
   ],
   "source": [
    "table_of_predictions_for_metric(predictions, C.seasons, columns, C.n_samples, sample_cols, add_cols, metric = 'edd', prefix='edd')"
   ]
  },
  {
   "cell_type": "code",
   "execution_count": 24,
   "metadata": {},
   "outputs": [
    {
     "name": "stdout",
     "output_type": "stream",
     "text": [
      "Model                          JFM mean    JFM median    AM mean    AM median    JJAS mean    JJAS median    OND mean    OND median\n",
      "-----------------------------  ----------  ------------  ---------  -----------  -----------  -------------  ----------  ------------\n",
      "Prec                           0.00        0.00          0.00       0.00         0.00         0.00           0.00        0.00\n",
      "wrf_prcp                       74.51       55.94         53.95      44.58        293.28       191.28         33.85       19.84\n",
      "wrf_bc_prcp                    74.51       55.94         53.95      44.58        293.28       191.28         33.85       19.84\n",
      "precip_norris                  74.51       55.94         53.95      44.58        293.28       191.28         33.85       19.84\n",
      "VGLM_[]_bgmm_B=128_D=0         84.24       63.04         51.28      37.37        273.26       203.65         44.41       37.07\n",
      "MLP_[10]_bgmm_B=128_D=0        86.69       62.62         45.33      37.92        276.16       187.20         46.52       38.32\n",
      "SimpleRNN_[10]_bgmm_B=128_D=0  87.43       57.98         43.57      32.23        417.48       192.75         71.02       78.97\n"
     ]
    }
   ],
   "source": [
    "table_of_predictions_for_metric(predictions, C.seasons, columns, C.n_samples, sample_cols, add_cols, metric = 'ae', prefix='ae')"
   ]
  },
  {
   "cell_type": "code",
   "execution_count": null,
   "metadata": {},
   "outputs": [],
   "source": []
  },
  {
   "cell_type": "code",
   "execution_count": null,
   "metadata": {},
   "outputs": [],
   "source": [
    "a = pd.read_csv('results.csv')\n",
    "\n",
    "b = a.groupby(['k','run']).agg({'valid_loss': 'min', \n",
    "                                 'model_arch': 'first', \n",
    "                                 'likelihood_fn': 'first',\n",
    "                                 'lr':'first',\n",
    "                                 'batch_size':'first',\n",
    "                                 'dropout_rate':'first',\n",
    "                               })\n",
    "\n",
    "c = b.groupby(['run']).agg({'valid_loss': 'mean', \n",
    "                        'model_arch': 'first', \n",
    "                        'likelihood_fn': 'first',\n",
    "                        'lr':'first',\n",
    "                        'batch_size':'first',\n",
    "                        'dropout_rate':'first',\n",
    "                         }\n",
    "                   ).sort_values('valid_loss').reset_index()\n",
    "\n",
    "c.groupby(['model_arch',\n",
    "           'likelihood_fn',\n",
    "           'lr',\n",
    "           'batch_size',\n",
    "           'dropout_rate',\n",
    "           ]).agg({'valid_loss': 'mean'}\n",
    "                   ).sort_values('valid_loss').reset_index()"
   ]
  }
 ],
 "metadata": {
  "kernelspec": {
   "display_name": "Python [conda env:bcdp]",
   "language": "python",
   "name": "conda-env-bcdp-py"
  },
  "language_info": {
   "codemirror_mode": {
    "name": "ipython",
    "version": 3
   },
   "file_extension": ".py",
   "mimetype": "text/x-python",
   "name": "python",
   "nbconvert_exporter": "python",
   "pygments_lexer": "ipython3",
   "version": "3.9.12"
  },
  "vscode": {
   "interpreter": {
    "hash": "d6f7d0f407510cc81edbbb8fa0d61f79bb70425ade7d5a8e5edb94832bf1e351"
   }
  }
 },
 "nbformat": 4,
 "nbformat_minor": 4
}
