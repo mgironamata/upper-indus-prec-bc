{
 "cells": [
  {
   "cell_type": "code",
   "execution_count": 1,
   "metadata": {},
   "outputs": [],
   "source": [
    "import sys\n",
    "sys.path.append('CONFIG_files/')"
   ]
  },
  {
   "cell_type": "code",
   "execution_count": 2,
   "metadata": {},
   "outputs": [
    {
     "data": {
      "text/plain": [
       "('SUSHIWAT', 'SUSHIWAT_BGMM_09_OCT_2023_EXP_1', 'station')"
      ]
     },
     "execution_count": 2,
     "metadata": {},
     "output_type": "execute_result"
    }
   ],
   "source": [
    "import numpy as np\n",
    "import pandas as pd\n",
    "import seaborn as sns\n",
    "import shutil\n",
    "\n",
    "from matplotlib import pyplot as plt\n",
    "from tabulate import tabulate\n",
    "\n",
    "import os, shutil, time, pdb, random\n",
    "import scipy.stats as stats \n",
    "import scipy\n",
    "\n",
    "from math import pi\n",
    "from datetime import datetime\n",
    "from collections import OrderedDict\n",
    "import pickle\n",
    "\n",
    "import torch\n",
    "from torch.utils.data import TensorDataset, DataLoader\n",
    "\n",
    "from importlib import reload\n",
    "from models import *\n",
    "from utils import *\n",
    "from runmanager import *\n",
    "from experiment import *\n",
    "from plot_utils import *\n",
    "from preprocessing_utils import *\n",
    "from analysis_seasonal import * \n",
    "\n",
    "from sklearn.metrics import mean_squared_error as mse\n",
    "\n",
    "import matplotlib\n",
    "matplotlib.rc_file_defaults()\n",
    "%matplotlib inline\n",
    "\n",
    "# import CONFIG_SUSHIWAT_BGMM_23_JUNE_2023 as C\n",
    "import CONFIG as C\n",
    "\n",
    "pd.options.display.max_columns = None\n",
    "\n",
    "np.random.seed(4)\n",
    "\n",
    "%load_ext autoreload\n",
    "%autoreload 2\n",
    "\n",
    "device = C.device\n",
    "\n",
    "C.REGION, C.RUN_NAME, C.split_by"
   ]
  },
  {
   "cell_type": "markdown",
   "metadata": {},
   "source": [
    "### Import data"
   ]
  },
  {
   "cell_type": "code",
   "execution_count": 3,
   "metadata": {},
   "outputs": [],
   "source": [
    "data = DataPreprocessing(train_path=C.TRAIN_PATH, start=C.start, end=C.end, \n",
    "                add_yesterday = False, \n",
    "                basin_filter = None, \n",
    "                split_bias_corrected_only = False, \n",
    "                filter_incomplete_years = False, \n",
    "                include_non_bc_stations = True, \n",
    "                split_by = C.split_by)"
   ]
  },
  {
   "cell_type": "markdown",
   "metadata": {},
   "source": [
    "### Split data into held out sets for K-fold cross validation"
   ]
  },
  {
   "cell_type": "code",
   "execution_count": 4,
   "metadata": {},
   "outputs": [],
   "source": [
    "SORT_BY_ELEVATION = False\n",
    "\n",
    "if SORT_BY_ELEVATION:\n",
    "    data.split_stations(sort_by_elev = True)\n",
    "else:\n",
    "    data.split_stations(sort_by_elev = False)"
   ]
  },
  {
   "cell_type": "markdown",
   "metadata": {},
   "source": [
    "### Prepare data"
   ]
  },
  {
   "cell_type": "code",
   "execution_count": 5,
   "metadata": {
    "scrolled": true
   },
   "outputs": [
    {
     "name": "stdout",
     "output_type": "stream",
     "text": [
      "False\n"
     ]
    }
   ],
   "source": [
    "# C.predictors.append('obs_yesterday')\n",
    "data.input_data(C.predictors, C.predictand, sort_by_quantile=C.sort_by_quantile)\n",
    "print(C.sort_by_quantile)"
   ]
  },
  {
   "cell_type": "markdown",
   "metadata": {},
   "source": [
    "## Multi-Run: Train model with different hyperparameters"
   ]
  },
  {
   "cell_type": "markdown",
   "metadata": {},
   "source": [
    "### Model run"
   ]
  },
  {
   "cell_type": "code",
   "execution_count": 6,
   "metadata": {},
   "outputs": [],
   "source": [
    "experiment_label = C.RUN_NAME"
   ]
  },
  {
   "cell_type": "code",
   "execution_count": 7,
   "metadata": {},
   "outputs": [
    {
     "data": {
      "text/plain": [
       "('SUSHIWAT_BGMM_09_OCT_2023_EXP_1', 10)"
      ]
     },
     "execution_count": 7,
     "metadata": {},
     "output_type": "execute_result"
    }
   ],
   "source": [
    "experiment_label, C.K_FOLD"
   ]
  },
  {
   "cell_type": "code",
   "execution_count": 8,
   "metadata": {},
   "outputs": [],
   "source": [
    "load_run = None"
   ]
  },
  {
   "cell_type": "code",
   "execution_count": 9,
   "metadata": {
    "code_folding": [],
    "tags": []
   },
   "outputs": [
    {
     "data": {
      "text/html": [
       "<div>\n",
       "<style scoped>\n",
       "    .dataframe tbody tr th:only-of-type {\n",
       "        vertical-align: middle;\n",
       "    }\n",
       "\n",
       "    .dataframe tbody tr th {\n",
       "        vertical-align: top;\n",
       "    }\n",
       "\n",
       "    .dataframe thead th {\n",
       "        text-align: right;\n",
       "    }\n",
       "</style>\n",
       "<table border=\"1\" class=\"dataframe\">\n",
       "  <thead>\n",
       "    <tr style=\"text-align: right;\">\n",
       "      <th></th>\n",
       "      <th>run</th>\n",
       "      <th>epoch</th>\n",
       "      <th>loss</th>\n",
       "      <th>valid_loss</th>\n",
       "      <th>test_loss</th>\n",
       "      <th>decision_loss</th>\n",
       "      <th>epoch duration</th>\n",
       "      <th>run duration</th>\n",
       "      <th>lr</th>\n",
       "      <th>batch_size</th>\n",
       "      <th>likelihood_fn</th>\n",
       "      <th>dropout_rate</th>\n",
       "      <th>random_noise</th>\n",
       "      <th>k</th>\n",
       "      <th>model_arch</th>\n",
       "    </tr>\n",
       "  </thead>\n",
       "  <tbody>\n",
       "    <tr>\n",
       "      <th>0</th>\n",
       "      <td>1</td>\n",
       "      <td>1</td>\n",
       "      <td>1.706470</td>\n",
       "      <td>1.542926</td>\n",
       "      <td>1.772155</td>\n",
       "      <td>1.542926</td>\n",
       "      <td>43.474975</td>\n",
       "      <td>43.505986</td>\n",
       "      <td>0.001</td>\n",
       "      <td>32</td>\n",
       "      <td>bgmm</td>\n",
       "      <td>0</td>\n",
       "      <td>0</td>\n",
       "      <td>0</td>\n",
       "      <td>(SimpleRNN, [10])</td>\n",
       "    </tr>\n",
       "    <tr>\n",
       "      <th>1</th>\n",
       "      <td>1</td>\n",
       "      <td>2</td>\n",
       "      <td>1.650723</td>\n",
       "      <td>1.543304</td>\n",
       "      <td>1.773700</td>\n",
       "      <td>1.543304</td>\n",
       "      <td>43.685493</td>\n",
       "      <td>87.265645</td>\n",
       "      <td>0.001</td>\n",
       "      <td>32</td>\n",
       "      <td>bgmm</td>\n",
       "      <td>0</td>\n",
       "      <td>0</td>\n",
       "      <td>0</td>\n",
       "      <td>(SimpleRNN, [10])</td>\n",
       "    </tr>\n",
       "    <tr>\n",
       "      <th>2</th>\n",
       "      <td>1</td>\n",
       "      <td>3</td>\n",
       "      <td>1.648394</td>\n",
       "      <td>1.539983</td>\n",
       "      <td>1.775499</td>\n",
       "      <td>1.539983</td>\n",
       "      <td>39.346869</td>\n",
       "      <td>126.675210</td>\n",
       "      <td>0.001</td>\n",
       "      <td>32</td>\n",
       "      <td>bgmm</td>\n",
       "      <td>0</td>\n",
       "      <td>0</td>\n",
       "      <td>0</td>\n",
       "      <td>(SimpleRNN, [10])</td>\n",
       "    </tr>\n",
       "    <tr>\n",
       "      <th>3</th>\n",
       "      <td>1</td>\n",
       "      <td>4</td>\n",
       "      <td>1.649567</td>\n",
       "      <td>1.544402</td>\n",
       "      <td>1.775243</td>\n",
       "      <td>1.544402</td>\n",
       "      <td>39.017154</td>\n",
       "      <td>165.751792</td>\n",
       "      <td>0.001</td>\n",
       "      <td>32</td>\n",
       "      <td>bgmm</td>\n",
       "      <td>0</td>\n",
       "      <td>0</td>\n",
       "      <td>0</td>\n",
       "      <td>(SimpleRNN, [10])</td>\n",
       "    </tr>\n",
       "    <tr>\n",
       "      <th>4</th>\n",
       "      <td>1</td>\n",
       "      <td>5</td>\n",
       "      <td>1.650870</td>\n",
       "      <td>1.542836</td>\n",
       "      <td>1.773305</td>\n",
       "      <td>1.542836</td>\n",
       "      <td>39.302563</td>\n",
       "      <td>205.114011</td>\n",
       "      <td>0.001</td>\n",
       "      <td>32</td>\n",
       "      <td>bgmm</td>\n",
       "      <td>0</td>\n",
       "      <td>0</td>\n",
       "      <td>0</td>\n",
       "      <td>(SimpleRNN, [10])</td>\n",
       "    </tr>\n",
       "    <tr>\n",
       "      <th>...</th>\n",
       "      <td>...</td>\n",
       "      <td>...</td>\n",
       "      <td>...</td>\n",
       "      <td>...</td>\n",
       "      <td>...</td>\n",
       "      <td>...</td>\n",
       "      <td>...</td>\n",
       "      <td>...</td>\n",
       "      <td>...</td>\n",
       "      <td>...</td>\n",
       "      <td>...</td>\n",
       "      <td>...</td>\n",
       "      <td>...</td>\n",
       "      <td>...</td>\n",
       "      <td>...</td>\n",
       "    </tr>\n",
       "    <tr>\n",
       "      <th>95</th>\n",
       "      <td>10</td>\n",
       "      <td>6</td>\n",
       "      <td>1.653992</td>\n",
       "      <td>1.577579</td>\n",
       "      <td>1.747935</td>\n",
       "      <td>1.577579</td>\n",
       "      <td>40.443414</td>\n",
       "      <td>242.083750</td>\n",
       "      <td>0.001</td>\n",
       "      <td>32</td>\n",
       "      <td>bgmm</td>\n",
       "      <td>0</td>\n",
       "      <td>0</td>\n",
       "      <td>9</td>\n",
       "      <td>(SimpleRNN, [10])</td>\n",
       "    </tr>\n",
       "    <tr>\n",
       "      <th>96</th>\n",
       "      <td>10</td>\n",
       "      <td>7</td>\n",
       "      <td>1.653186</td>\n",
       "      <td>1.580762</td>\n",
       "      <td>1.748931</td>\n",
       "      <td>1.580762</td>\n",
       "      <td>40.565939</td>\n",
       "      <td>282.705860</td>\n",
       "      <td>0.001</td>\n",
       "      <td>32</td>\n",
       "      <td>bgmm</td>\n",
       "      <td>0</td>\n",
       "      <td>0</td>\n",
       "      <td>9</td>\n",
       "      <td>(SimpleRNN, [10])</td>\n",
       "    </tr>\n",
       "    <tr>\n",
       "      <th>97</th>\n",
       "      <td>10</td>\n",
       "      <td>8</td>\n",
       "      <td>1.653215</td>\n",
       "      <td>1.580853</td>\n",
       "      <td>1.750732</td>\n",
       "      <td>1.580853</td>\n",
       "      <td>40.399656</td>\n",
       "      <td>323.180671</td>\n",
       "      <td>0.001</td>\n",
       "      <td>32</td>\n",
       "      <td>bgmm</td>\n",
       "      <td>0</td>\n",
       "      <td>0</td>\n",
       "      <td>9</td>\n",
       "      <td>(SimpleRNN, [10])</td>\n",
       "    </tr>\n",
       "    <tr>\n",
       "      <th>98</th>\n",
       "      <td>10</td>\n",
       "      <td>9</td>\n",
       "      <td>1.652705</td>\n",
       "      <td>1.586369</td>\n",
       "      <td>1.749132</td>\n",
       "      <td>1.586369</td>\n",
       "      <td>39.774901</td>\n",
       "      <td>363.017573</td>\n",
       "      <td>0.001</td>\n",
       "      <td>32</td>\n",
       "      <td>bgmm</td>\n",
       "      <td>0</td>\n",
       "      <td>0</td>\n",
       "      <td>9</td>\n",
       "      <td>(SimpleRNN, [10])</td>\n",
       "    </tr>\n",
       "    <tr>\n",
       "      <th>99</th>\n",
       "      <td>10</td>\n",
       "      <td>10</td>\n",
       "      <td>1.652109</td>\n",
       "      <td>1.596392</td>\n",
       "      <td>1.750194</td>\n",
       "      <td>1.596392</td>\n",
       "      <td>39.534663</td>\n",
       "      <td>402.614616</td>\n",
       "      <td>0.001</td>\n",
       "      <td>32</td>\n",
       "      <td>bgmm</td>\n",
       "      <td>0</td>\n",
       "      <td>0</td>\n",
       "      <td>9</td>\n",
       "      <td>(SimpleRNN, [10])</td>\n",
       "    </tr>\n",
       "  </tbody>\n",
       "</table>\n",
       "<p>100 rows × 15 columns</p>\n",
       "</div>"
      ],
      "text/plain": [
       "    run  epoch      loss  valid_loss  test_loss  decision_loss  \\\n",
       "0     1      1  1.706470    1.542926   1.772155       1.542926   \n",
       "1     1      2  1.650723    1.543304   1.773700       1.543304   \n",
       "2     1      3  1.648394    1.539983   1.775499       1.539983   \n",
       "3     1      4  1.649567    1.544402   1.775243       1.544402   \n",
       "4     1      5  1.650870    1.542836   1.773305       1.542836   \n",
       "..  ...    ...       ...         ...        ...            ...   \n",
       "95   10      6  1.653992    1.577579   1.747935       1.577579   \n",
       "96   10      7  1.653186    1.580762   1.748931       1.580762   \n",
       "97   10      8  1.653215    1.580853   1.750732       1.580853   \n",
       "98   10      9  1.652705    1.586369   1.749132       1.586369   \n",
       "99   10     10  1.652109    1.596392   1.750194       1.596392   \n",
       "\n",
       "    epoch duration  run duration     lr  batch_size likelihood_fn  \\\n",
       "0        43.474975     43.505986  0.001          32          bgmm   \n",
       "1        43.685493     87.265645  0.001          32          bgmm   \n",
       "2        39.346869    126.675210  0.001          32          bgmm   \n",
       "3        39.017154    165.751792  0.001          32          bgmm   \n",
       "4        39.302563    205.114011  0.001          32          bgmm   \n",
       "..             ...           ...    ...         ...           ...   \n",
       "95       40.443414    242.083750  0.001          32          bgmm   \n",
       "96       40.565939    282.705860  0.001          32          bgmm   \n",
       "97       40.399656    323.180671  0.001          32          bgmm   \n",
       "98       39.774901    363.017573  0.001          32          bgmm   \n",
       "99       39.534663    402.614616  0.001          32          bgmm   \n",
       "\n",
       "    dropout_rate  random_noise  k         model_arch  \n",
       "0              0             0  0  (SimpleRNN, [10])  \n",
       "1              0             0  0  (SimpleRNN, [10])  \n",
       "2              0             0  0  (SimpleRNN, [10])  \n",
       "3              0             0  0  (SimpleRNN, [10])  \n",
       "4              0             0  0  (SimpleRNN, [10])  \n",
       "..           ...           ... ..                ...  \n",
       "95             0             0  9  (SimpleRNN, [10])  \n",
       "96             0             0  9  (SimpleRNN, [10])  \n",
       "97             0             0  9  (SimpleRNN, [10])  \n",
       "98             0             0  9  (SimpleRNN, [10])  \n",
       "99             0             0  9  (SimpleRNN, [10])  \n",
       "\n",
       "[100 rows x 15 columns]"
      ]
     },
     "metadata": {},
     "output_type": "display_data"
    },
    {
     "name": "stdout",
     "output_type": "stream",
     "text": [
      "0\n",
      "10000\n",
      "20000\n",
      "SimpleRNN_[10]_bgmm_B=32_D=0_RN=0\n"
     ]
    },
    {
     "name": "stderr",
     "output_type": "stream",
     "text": [
      "/users/marron31/repos/upper-indus-prec-bc/utils.py:1102: FutureWarning: The frame.append method is deprecated and will be removed from pandas in a future version. Use pandas.concat instead.\n",
      "  predictions[run]['k_all'] = predictions[run]['k_all'].append(predictions[run][f'k{i}'])\n",
      "/users/marron31/repos/upper-indus-prec-bc/utils.py:1102: FutureWarning: The frame.append method is deprecated and will be removed from pandas in a future version. Use pandas.concat instead.\n",
      "  predictions[run]['k_all'] = predictions[run]['k_all'].append(predictions[run][f'k{i}'])\n",
      "/users/marron31/repos/upper-indus-prec-bc/utils.py:1102: FutureWarning: The frame.append method is deprecated and will be removed from pandas in a future version. Use pandas.concat instead.\n",
      "  predictions[run]['k_all'] = predictions[run]['k_all'].append(predictions[run][f'k{i}'])\n",
      "/users/marron31/repos/upper-indus-prec-bc/utils.py:1102: FutureWarning: The frame.append method is deprecated and will be removed from pandas in a future version. Use pandas.concat instead.\n",
      "  predictions[run]['k_all'] = predictions[run]['k_all'].append(predictions[run][f'k{i}'])\n",
      "/users/marron31/repos/upper-indus-prec-bc/utils.py:1102: FutureWarning: The frame.append method is deprecated and will be removed from pandas in a future version. Use pandas.concat instead.\n",
      "  predictions[run]['k_all'] = predictions[run]['k_all'].append(predictions[run][f'k{i}'])\n",
      "/users/marron31/repos/upper-indus-prec-bc/utils.py:1102: FutureWarning: The frame.append method is deprecated and will be removed from pandas in a future version. Use pandas.concat instead.\n",
      "  predictions[run]['k_all'] = predictions[run]['k_all'].append(predictions[run][f'k{i}'])\n",
      "/users/marron31/repos/upper-indus-prec-bc/utils.py:1102: FutureWarning: The frame.append method is deprecated and will be removed from pandas in a future version. Use pandas.concat instead.\n",
      "  predictions[run]['k_all'] = predictions[run]['k_all'].append(predictions[run][f'k{i}'])\n",
      "/users/marron31/repos/upper-indus-prec-bc/utils.py:1102: FutureWarning: The frame.append method is deprecated and will be removed from pandas in a future version. Use pandas.concat instead.\n",
      "  predictions[run]['k_all'] = predictions[run]['k_all'].append(predictions[run][f'k{i}'])\n",
      "/users/marron31/repos/upper-indus-prec-bc/utils.py:1102: FutureWarning: The frame.append method is deprecated and will be removed from pandas in a future version. Use pandas.concat instead.\n",
      "  predictions[run]['k_all'] = predictions[run]['k_all'].append(predictions[run][f'k{i}'])\n"
     ]
    }
   ],
   "source": [
    "if load_run == None:\n",
    "    src = 'CONFIG.py'\n",
    "    dst = f'CONFIG_files/CONFIG_{experiment_label}.py'\n",
    "    shutil.copy(src, dst)\n",
    "\n",
    "st_test, predictions, importances = multirun(data, C.predictors, C.params, C.epochs, \n",
    "                                split_by = 'station', sequential_samples = True, n_samples=1, \n",
    "                                load_run = load_run, #None, \n",
    "                                experiment_label = experiment_label, feature_attribution = False, \n",
    "                                show_loss_plot=False)"
   ]
  },
  {
   "cell_type": "code",
   "execution_count": 14,
   "metadata": {},
   "outputs": [],
   "source": [
    "# table_of_predictions_ks_test(predictions, C.seasons, columns, sample_cols, add_cols)"
   ]
  },
  {
   "cell_type": "code",
   "execution_count": 17,
   "metadata": {},
   "outputs": [],
   "source": [
    "# table_of_predictions_for_metric(predictions, C.seasons, columns, C.n_samples, sample_cols, add_cols, metric = 'smape', prefix='smape')"
   ]
  },
  {
   "cell_type": "code",
   "execution_count": 18,
   "metadata": {},
   "outputs": [],
   "source": [
    "# table_of_predictions_for_metric(predictions, C.seasons, columns, C.n_samples, sample_cols, add_cols, metric = 'edd', prefix='edd')"
   ]
  },
  {
   "cell_type": "code",
   "execution_count": 19,
   "metadata": {},
   "outputs": [],
   "source": [
    "# table_of_predictions_for_metric(predictions, C.seasons, columns, C.n_samples, sample_cols, add_cols, metric = 'ae', prefix='ae')"
   ]
  },
  {
   "cell_type": "code",
   "execution_count": null,
   "metadata": {},
   "outputs": [],
   "source": []
  },
  {
   "cell_type": "code",
   "execution_count": null,
   "metadata": {},
   "outputs": [],
   "source": [
    "a = pd.read_csv('results.csv')\n",
    "\n",
    "b = a.groupby(['k','run']).agg({'valid_loss': 'min', \n",
    "                                 'model_arch': 'first', \n",
    "                                 'likelihood_fn': 'first',\n",
    "                                 'lr':'first',\n",
    "                                 'batch_size':'first',\n",
    "                                 'dropout_rate':'first',\n",
    "                               })\n",
    "\n",
    "c = b.groupby(['run']).agg({'valid_loss': 'mean', \n",
    "                        'model_arch': 'first', \n",
    "                        'likelihood_fn': 'first',\n",
    "                        'lr':'first',\n",
    "                        'batch_size':'first',\n",
    "                        'dropout_rate':'first',\n",
    "                         }\n",
    "                   ).sort_values('valid_loss').reset_index()\n",
    "\n",
    "c.groupby(['model_arch',\n",
    "           'likelihood_fn',\n",
    "           'lr',\n",
    "           'batch_size',\n",
    "           'dropout_rate',\n",
    "           ]).agg({'valid_loss': 'mean'}\n",
    "                   ).sort_values('valid_loss').reset_index()"
   ]
  }
 ],
 "metadata": {
  "kernelspec": {
   "display_name": "Python [conda env:bcdp]",
   "language": "python",
   "name": "conda-env-bcdp-py"
  },
  "language_info": {
   "codemirror_mode": {
    "name": "ipython",
    "version": 3
   },
   "file_extension": ".py",
   "mimetype": "text/x-python",
   "name": "python",
   "nbconvert_exporter": "python",
   "pygments_lexer": "ipython3",
   "version": "3.9.12"
  },
  "vscode": {
   "interpreter": {
    "hash": "d6f7d0f407510cc81edbbb8fa0d61f79bb70425ade7d5a8e5edb94832bf1e351"
   }
  }
 },
 "nbformat": 4,
 "nbformat_minor": 4
}
