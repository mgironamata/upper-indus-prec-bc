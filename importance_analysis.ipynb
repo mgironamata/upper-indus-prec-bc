{
 "cells": [
  {
   "cell_type": "code",
   "execution_count": 1,
   "metadata": {},
   "outputs": [],
   "source": [
    "import pickle, os\n",
    "import sys\n",
    "import numpy as np\n",
    "import torch\n",
    "import matplotlib.pyplot as plt\n",
    "import pdb\n",
    "\n",
    "%load_ext autoreload\n",
    "%autoreload 2"
   ]
  },
  {
   "cell_type": "code",
   "execution_count": 2,
   "metadata": {},
   "outputs": [],
   "source": [
    "sys.path.append('CONFIG_files/')"
   ]
  },
  {
   "cell_type": "code",
   "execution_count": 3,
   "metadata": {},
   "outputs": [],
   "source": [
    "# import CONFIG_ICIMOD_06May2023 as CONFIG\n",
    "# import CONFIG_WAPDA_BGMM as CONFIG\n",
    "# import CONFIG_SUSHIWAT_BGMM as CONFIG\n",
    "# import CONFIG_COMBINED_BGMM as CONFIG\n",
    "\n",
    "# import CONFIG_ICIMOD_BGMM_23_JUNE_2023 as CONFIG\n",
    "# import CONFIG_WAPDA_BGMM_23_JUNE_2023 as CONFIG\n",
    "# import CONFIG_SUSHIWAT_BGMM_23_JUNE_2023 as CONFIG\n",
    "\n",
    "# import CONFIG_COMBINED_BGMM_21_AUG_2023_EXP_3 as CONFIG\n",
    "\n",
    "# import CONFIG_COMBINED_BGMM_21_AUG_2023_EXP_2 as CONFIG\n",
    "\n",
    "# import CONFIG_WAPDA_BGMM_21_AUG_2023_EXP_4 as CONFIG\n",
    "# import CONFIG_ICIMOD_BGMM_21_AUG_2023_EXP_4 as CONFIG\n",
    "# import CONFIG_SUSHIWAT_BGMM_21_AUG_2023_EXP_4 as CONFIG\n",
    "\n",
    "\n",
    "# import CONFIG_ICIMOD_BGMM_07_NOV_2023_EXP_1 as CONFIG\n",
    "import CONFIG_COMBINED_BGMM_09_NOV_2023_EXP_2 as CONFIG\n"
   ]
  },
  {
   "cell_type": "code",
   "execution_count": 4,
   "metadata": {},
   "outputs": [
    {
     "data": {
      "text/plain": [
       "'COMBINED'"
      ]
     },
     "execution_count": 4,
     "metadata": {},
     "output_type": "execute_result"
    }
   ],
   "source": [
    "CONFIG.REGION"
   ]
  },
  {
   "cell_type": "code",
   "execution_count": 5,
   "metadata": {},
   "outputs": [
    {
     "name": "stdout",
     "output_type": "stream",
     "text": [
      "COMBINED_BGMM_09_NOV_2023_EXP_2\n"
     ]
    }
   ],
   "source": [
    "run_prefix = CONFIG.RUN_NAME\n",
    "\n",
    "print(run_prefix)\n",
    "\n",
    "with open(f'/data/hpcdata/users/marron31/_experiments/{run_prefix}/importance.pkl', 'rb') as handle:\n",
    "    importance = pickle.load(handle)"
   ]
  },
  {
   "cell_type": "code",
   "execution_count": 6,
   "metadata": {},
   "outputs": [],
   "source": [
    "def create_k_all_importance(importance, CONFIG):\n",
    "    # Create importance for k_all\n",
    "    for run in importance.keys():\n",
    "        for k in range(len(CONFIG.params['k'])):\n",
    "            if k == 0:\n",
    "                importance[run]['k_all'] = {}\n",
    "            \n",
    "            for j in range(len(importance[run][f'k{k}'].keys())):\n",
    "                if k==0: \n",
    "                    importance[run]['k_all'][f'{j:.0f}'] = importance[run][f'k{k}'][f'{j:.0f}']\n",
    "                else:\n",
    "                    importance[run]['k_all'][f'{j:.0f}'] = torch.concat([importance[run]['k_all'][f'{j:.0f}'],importance[run][f'k{k}'][f'{j:.0f}']])"
   ]
  },
  {
   "cell_type": "code",
   "execution_count": 7,
   "metadata": {},
   "outputs": [],
   "source": [
    "create_k_all_importance(importance, CONFIG)"
   ]
  },
  {
   "cell_type": "code",
   "execution_count": 8,
   "metadata": {},
   "outputs": [],
   "source": [
    "# importance['VGLM_[]_bgmm_B=128_D=0']['k_all']['0'].shape\n",
    "# importance['VGLM_[]_bgmm_B=128_D=0']['k_all']['1'].shape\n",
    "# importance['VGLM_[]_bgmm_B=128_D=0']['k_all']['2'].shape"
   ]
  },
  {
   "cell_type": "code",
   "execution_count": 9,
   "metadata": {},
   "outputs": [],
   "source": [
    "# Colorblind-friendly color dictionary\n",
    "color_dict = {\n",
    "        0: '#E69F00',  # Orange\n",
    "        1: '#56B4E9',  # Sky Blue\n",
    "        2: '#1B02A3',  # Dark Blue\n",
    "        3: '#F0E442',  # Yellow\n",
    "        4: '#0072B2',  # Blue\n",
    "        5: '#D55E00',  # Vermilion\n",
    "        6: '#CC79A7',  # Reddish Purple\n",
    "        7: '#999999',  # Grey\n",
    "        # Add more colors if needed\n",
    "    }\n",
    "\n",
    "# color_dict = {\n",
    "#     0: '#0072B2',  # Blue\n",
    "#     1: '#E69F00',  # Orange\n",
    "#     2: '#009E73',  # Green\n",
    "# }\n",
    "\n",
    "# color_dict = {\n",
    "#     0: '#1B9E77',  # Teal\n",
    "#     1: '#E69F00',  # Orange\n",
    "#     2: '#56B4E9',  # Sky Blue\n",
    "# }\n",
    "\n"
   ]
  },
  {
   "cell_type": "code",
   "execution_count": 13,
   "metadata": {},
   "outputs": [],
   "source": [
    "# Helper method to print importances and visualize distribution\n",
    "\n",
    "pi = '\\u03C0'\n",
    "alpha = '\\u03B1'\n",
    "beta = '\\u03B2'\n",
    "\n",
    "def visualize_importances(feature_names, attr, title=f\"Average Feature Importances\", plot=True, axis_title=\"Features\", plot_error_bars=False, ax=None):\n",
    "    \n",
    "    attr = attr.detach().numpy()\n",
    "    \n",
    "    importances = np.mean(attr, axis=0)\n",
    "    error_bars = np.stack([-np.quantile(attr, 0.1, axis=0),np.quantile(attr, 0.9, axis=0)])\n",
    "                  \n",
    "    feature_names = [x.split('_norris')[0] for x in feature_names]\n",
    "    \n",
    "    for i in range(len(feature_names)):\n",
    "        pass\n",
    "        #print(feature_names[i], \": \", f\"{importances[i]:.3f} {error_bars[0,i]:.3f} {error_bars[1,i]:.3f}\")\n",
    "    x_pos = (np.arange(len(feature_names)))\n",
    "    \n",
    "    if plot:\n",
    "        ax.figure(figsize=(18,4))\n",
    "        if plot_error_bars:\n",
    "            ax.bar(x_pos, importances,yerr=error_bars, align='center',capsize=10, color='black', ecolor='black', width=0.5)\n",
    "        else:\n",
    "            ax.bar(x_pos, importances,align='center',capsize=10, color='black',)    \n",
    "\n",
    "        ax.xticks(x_pos, feature_names, wrap=False, rotation=90, fontsize=14)\n",
    "        ax.xlabel(axis_title)\n",
    "        ax.title(title)\n",
    "        ax.grid()\n",
    "#         plt.show()    \n",
    "    \n",
    "def plot_multiple_bars(importances, feature_names, title='Average feature importance per held out set (k=10)', legend_items=None, plot_x_labels=True, label=None, ax = None):\n",
    "    \n",
    "#     fig, axes = plt.subplots(3,1, figsize=(20,9))\n",
    "    width = 1/len(importances)*0.7\n",
    "    \n",
    "#     feature_names = [x.split('_norris')[0] for x in feature_names]\n",
    "\n",
    "    sorted_indices = np.array([14, 15, 1, 2, 3, 5, 4, 20, 7, 10, 11, 12, 13, 18, 19, 16, 17, 21, 22, 24, 23, 8, 9, 25, 26, 6]) - 1 \n",
    "\n",
    "    unsorted_feature_names = [r'$DOY_{SIN}$', r'$DOY_{COS}$', '$Z$', '$X$', '$Y$', '$YEAR$', \n",
    "                              '$WVP$', '$RH_{2m}$', '$RH_{500}$', \n",
    "                              '$T_{2m}$', '$T_{2m,MAX}$', '$T_{2m,MIN}$', '$T_{2m,R}$', \n",
    "                              '$PRECIP$', '$RAIN$', \n",
    "                              '$U_{500}$', '$V_{500}$', '$U_{10m}$', '$V_{10m}$', '$CAPE$', '$U_{250}$','$V_{250}$', '$W_{250}$', '$W_{500}$', \n",
    "                              '$GPH$', '$LU$']\n",
    "    \n",
    "    feature_names = [unsorted_feature_names[i] for i in sorted_indices]\n",
    "    \n",
    "    for i in range(len(importances)):\n",
    "        \n",
    "        attr = importances[i].detach()[:, sorted_indices].numpy()\n",
    "        attr = np.mean(attr, axis=0)\n",
    "        x_pos = np.arange(attr.shape[0])\n",
    "        \n",
    "        # Use color from the dictionary\n",
    "        color = color_dict.get(i, '#000000') # Default color is black if not found in dictionary\n",
    "\n",
    "        if legend_items:\n",
    "            ax.bar(x_pos - 0.5*0.8 + i * width, attr, width=width, color=color, label=legend_items[i])\n",
    "        else:\n",
    "            ax.bar(x_pos - 0.5*0.8 + i * width, attr, width=width, color=color)\n",
    "            \n",
    "#         if legend_items:\n",
    "#             plt.bar(x_pos - 0.5*0.8 + i * width, attr, width=width, label=legend_items[i])\n",
    "#         else:\n",
    "#             plt.bar(x_pos - 0.5*0.8 + i * width, attr, width=width)\n",
    "    \n",
    "\n",
    "    ax.set_title(label, y=0.9, loc='left', x=-0.065)\n",
    "    if legend_items: plt.legend()\n",
    "    if plot_x_labels:\n",
    "        ax.set_xticks(ticks=x_pos, labels=feature_names, rotation=90, fontsize=14)\n",
    "    else:\n",
    "        ax.set_xticks(ticks=x_pos, labels=[], rotation=90, fontsize=14)\n",
    "    \n",
    "    # Adjust xlim to ensure the last set of bars is not cut off\n",
    "    right_limit = x_pos[-1] + width + 1*0.8\n",
    "    ax.set_xlim([-1, right_limit])\n",
    "    ax.set_ylim([0,0.15])\n",
    "    ax.set_yticks(ticks=[0,0.05,0.10,0.15])\n",
    "    delta = '\\u0394'\n",
    "    ax.set_ylabel(f'{delta}({title})', fontsize=16)\n",
    "    \n",
    "#     ax.grid()\n",
    "#     plt.savefig('figures/importances.png', dpi=400)\n",
    "#     plt.show()    "
   ]
  },
  {
   "cell_type": "code",
   "execution_count": 14,
   "metadata": {},
   "outputs": [],
   "source": [
    "# print('Pi')\n",
    "# visualize_importances(CONFIG.predictors, importance['VGLM_[]_bgmm_B=128_D=0']['k_all']['0'])\n",
    "# visualize_importances(CONFIG.predictors, importance['MLP_[10]_bgmm_B=128_D=0']['k_all']['0'])\n",
    "# visualize_importances(CONFIG.predictors, importance['MLP_[50, 50]_bgmm_B=128_D=0']['k_all']['0'])\n",
    "\n",
    "# print('Alpha')\n",
    "# visualize_importances(CONFIG.predictors, importance['VGLM_[]_bgmm_B=128_D=0']['k_all']['1'])\n",
    "# visualize_importances(CONFIG.predictors, importance['MLP_[10]_bgmm_B=128_D=0']['k_all']['1'])\n",
    "# visualize_importances(CONFIG.predictors, importance['MLP_[50, 50]_bgmm_B=128_D=0']['k_all']['1'])\n",
    "\n",
    "# print('Beta')\n",
    "# visualize_importances(CONFIG.predictors, importance['VGLM_[]_bgmm_B=128_D=0']['k_all']['2'])\n",
    "# visualize_importances(CONFIG.predictors, importance['MLP_[10]_bgmm_B=128_D=0']['k_all']['2'])\n",
    "# visualize_importances(CONFIG.predictors, importance['MLP_[50, 50]_bgmm_B=128_D=0']['k_all']['2'])"
   ]
  },
  {
   "cell_type": "code",
   "execution_count": 15,
   "metadata": {},
   "outputs": [
    {
     "name": "stderr",
     "output_type": "stream",
     "text": [
      "No artists with labels found to put in legend.  Note that artists whose label start with an underscore are ignored when legend() is called with no argument.\n",
      "No artists with labels found to put in legend.  Note that artists whose label start with an underscore are ignored when legend() is called with no argument.\n"
     ]
    },
    {
     "data": {
      "image/png": "[encoded data removed]",
      "text/plain": [
       "<Figure size 1296x504 with 3 Axes>"
      ]
     },
     "metadata": {},
     "output_type": "display_data"
    }
   ],
   "source": [
    "# k = '1'\n",
    "\n",
    "import seaborn as sns\n",
    "sns.set_style('whitegrid')\n",
    "# paper style\n",
    "sns.set_context(\"paper\", font_scale=1.5)\n",
    "\n",
    "fig, axes = plt.subplots(3,1,figsize=(18,7))\n",
    "for idx, (k, label, flag, l) in enumerate(zip(['0','1','2'],[pi, alpha, beta],[False, False, True],['a)','b)','c)'])):\n",
    "    \n",
    "    plot_multiple_bars([abs(importance['VGLM_[]_bgmm_B=32_D=0_RN=0']['k_all'][k]),\n",
    "                        abs(importance['MLP_[10]_bgmm_B=32_D=0_RN=0']['k_all'][k]),\n",
    "                        abs(importance['MLP_[50, 50]_bgmm_B=32_D=0_RN=0']['k_all'][k]),\n",
    "                        ], CONFIG.predictors, \n",
    "                       legend_items=['VGLM','$\\mathrm{MLP}_S$','$\\mathrm{MLP}_L$','RNN [10]','RNN [50,50]'], \n",
    "                       title=label, plot_x_labels=flag, label=l, ax=axes[idx])\n",
    "plt.savefig('figures/importances.png', dpi=400)    \n",
    "plt.show()"
   ]
  },
  {
   "cell_type": "code",
   "execution_count": null,
   "metadata": {},
   "outputs": [],
   "source": []
  }
 ],
 "metadata": {
  "kernelspec": {
   "display_name": "Python [conda env:bcdp]",
   "language": "python",
   "name": "conda-env-bcdp-py"
  },
  "language_info": {
   "codemirror_mode": {
    "name": "ipython",
    "version": 3
   },
   "file_extension": ".py",
   "mimetype": "text/x-python",
   "name": "python",
   "nbconvert_exporter": "python",
   "pygments_lexer": "ipython3",
   "version": "3.9.12"
  }
 },
 "nbformat": 4,
 "nbformat_minor": 4
}
