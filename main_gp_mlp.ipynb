{
 "cells": [
  {
   "cell_type": "markdown",
   "metadata": {},
   "source": [
    "### Imports"
   ]
  },
  {
   "cell_type": "code",
   "execution_count": 1,
   "metadata": {},
   "outputs": [
    {
     "name": "stdout",
     "output_type": "stream",
     "text": [
      "Thu Jun 27 20:58:35 2024       \n",
      "+-----------------------------------------------------------------------------------------+\n",
      "| NVIDIA-SMI 550.54.15              Driver Version: 550.54.15      CUDA Version: 12.4     |\n",
      "|-----------------------------------------+------------------------+----------------------+\n",
      "| GPU  Name                 Persistence-M | Bus-Id          Disp.A | Volatile Uncorr. ECC |\n",
      "| Fan  Temp   Perf          Pwr:Usage/Cap |           Memory-Usage | GPU-Util  Compute M. |\n",
      "|                                         |                        |               MIG M. |\n",
      "|=========================================+========================+======================|\n",
      "|   0  NVIDIA A2                      On  |   00000000:98:00.0 Off |                    0 |\n",
      "|  0%   30C    P8              7W /   60W |       0MiB /  15356MiB |      0%      Default |\n",
      "|                                         |                        |                  N/A |\n",
      "+-----------------------------------------+------------------------+----------------------+\n",
      "                                                                                         \n",
      "+-----------------------------------------------------------------------------------------+\n",
      "| Processes:                                                                              |\n",
      "|  GPU   GI   CI        PID   Type   Process name                              GPU Memory |\n",
      "|        ID   ID                                                               Usage      |\n",
      "|=========================================================================================|\n",
      "|  No running processes found                                                             |\n",
      "+-----------------------------------------------------------------------------------------+\n"
     ]
    }
   ],
   "source": [
    "!nvidia-smi"
   ]
  },
  {
   "cell_type": "code",
   "execution_count": 50,
   "metadata": {},
   "outputs": [],
   "source": [
    "import warnings\n",
    "warnings.filterwarnings('ignore')\n",
    "\n",
    "import gc"
   ]
  },
  {
   "cell_type": "code",
   "execution_count": 3,
   "metadata": {
    "tags": []
   },
   "outputs": [],
   "source": [
    "import numpy as np\n",
    "import pandas as pd\n",
    "import geopandas\n",
    "import time, pickle\n",
    "import torch\n",
    "from torch.utils.data import DataLoader\n",
    "import wandb"
   ]
  },
  {
   "cell_type": "code",
   "execution_count": 4,
   "metadata": {},
   "outputs": [],
   "source": [
    "from models import *\n",
    "from utils import *\n",
    "from runmanager import *\n",
    "from experiment import *\n",
    "from plot_utils import *\n",
    "from preprocessing_utils import *"
   ]
  },
  {
   "cell_type": "code",
   "execution_count": 5,
   "metadata": {},
   "outputs": [
    {
     "name": "stderr",
     "output_type": "stream",
     "text": [
      "/data/hpcdata/users/marron31/conda-envs/bcdp/lib/python3.9/site-packages/fdm/fdm.py:38: DeprecationWarning: `np.math` is a deprecated alias for the standard library `math` module (Deprecated Numpy 1.25). Replace usages of `np.math` with `math`\n",
      "  coefs = mat.inv()[:, deriv] * np.math.factorial(deriv)\n",
      "/data/hpcdata/users/marron31/conda-envs/bcdp/lib/python3.9/site-packages/fdm/fdm.py:44: DeprecationWarning: `np.math` is a deprecated alias for the standard library `math` module (Deprecated Numpy 1.25). Replace usages of `np.math` with `math`\n",
      "  / np.math.factorial(order)\n",
      "/data/hpcdata/users/marron31/conda-envs/bcdp/lib/python3.9/site-packages/fdm/fdm.py:38: DeprecationWarning: `np.math` is a deprecated alias for the standard library `math` module (Deprecated Numpy 1.25). Replace usages of `np.math` with `math`\n",
      "  coefs = mat.inv()[:, deriv] * np.math.factorial(deriv)\n",
      "/data/hpcdata/users/marron31/conda-envs/bcdp/lib/python3.9/site-packages/fdm/fdm.py:44: DeprecationWarning: `np.math` is a deprecated alias for the standard library `math` module (Deprecated Numpy 1.25). Replace usages of `np.math` with `math`\n",
      "  / np.math.factorial(order)\n"
     ]
    }
   ],
   "source": [
    "from elbo import ApproximatePosterior\n",
    "from gp_mlp import forward_backward_pass, MapDataset, MultipleOptimizer, UpperIndusGridDataset, UpperIndusDataset, prepare_data"
   ]
  },
  {
   "cell_type": "code",
   "execution_count": 6,
   "metadata": {},
   "outputs": [],
   "source": [
    "import torch.nn as nn\n",
    "from stheno.torch import B, GP, EQ, Normal, Measure, Matern12, Matern32, Matern52\n",
    "\n",
    "# Detect device.\n",
    "if torch.cuda.is_available():\n",
    "    device = \"cuda\"\n",
    "else:\n",
    "    device = \"cpu\""
   ]
  },
  {
   "cell_type": "code",
   "execution_count": 7,
   "metadata": {},
   "outputs": [],
   "source": [
    "from matplotlib import pyplot as plt\n",
    "%matplotlib inline\n",
    "pd.options.display.max_columns = None\n",
    "\n",
    "np.random.seed(4)\n",
    "\n",
    "%load_ext autoreload\n",
    "%autoreload 2"
   ]
  },
  {
   "cell_type": "code",
   "execution_count": 8,
   "metadata": {},
   "outputs": [],
   "source": [
    "# Let all of Stheno run on that device.\n",
    "B.on_device(device).__enter__();"
   ]
  },
  {
   "cell_type": "code",
   "execution_count": 9,
   "metadata": {},
   "outputs": [],
   "source": [
    "# Dates\n",
    "start=\"1900-01-01\"\n",
    "end=\"2020-12-31\""
   ]
  },
  {
   "cell_type": "code",
   "execution_count": 10,
   "metadata": {},
   "outputs": [],
   "source": [
    "experiment_region = 'alps_occurrence' # 'alps' or 'langtang'"
   ]
  },
  {
   "cell_type": "code",
   "execution_count": 11,
   "metadata": {},
   "outputs": [],
   "source": [
    "if experiment_region == 'alps':\n",
    "    TRAIN_PATH = '../../data/idaweb/observations_enriched_WRF_reduced.pkl'\n",
    "    TEST_PATH = r'/users/marron31/data/idaweb/maps_for_predictions/1991-06-03.csv'\n",
    "\n",
    "if experiment_region == 'langtang':\n",
    "    TRAIN_PATH = '../../data/norris/enriched_obs/enriched_langtang_obs_norris_ready.pkl'\n",
    "\n",
    "if experiment_region == 'alps_2000':\n",
    "    TRAIN_PATH = 'alps_2000.pkl'\n",
    "    TEST_PATH = r'/users/marron31/data/idaweb/maps_for_predictions/1991-06-03.csv'\n",
    "    \n",
    "if experiment_region == 'alps_2000s':    \n",
    "    TRAIN_PATH = 'alps_2000s.pkl'\n",
    "    TEST_PATH = r'/users/marron31/data/idaweb/maps_for_predictions/1991-06-03.csv'\n",
    "    \n",
    "if experiment_region == 'langtang_occurrence':\n",
    "    TRAIN_PATH = '../../data/norris/enriched_obs/enriched_langtang_obs_norris_ready_occurrence.pkl'\n",
    "    \n",
    "if experiment_region == 'alps_occurrence':\n",
    "    TRAIN_PATH = '../../data/idaweb/observations_enriched_WRF_reduced_occurrence.pkl'\n",
    "    TEST_PATH = r'/users/marron31/data/idaweb/maps_for_predictions/1991-06-03.csv'"
   ]
  },
  {
   "cell_type": "code",
   "execution_count": 12,
   "metadata": {},
   "outputs": [],
   "source": [
    "predictant = ['Prec']\n",
    "\n",
    "if 'alps' in experiment_region:\n",
    "    predictors = [\n",
    "                  'X','Y',#'Z', \n",
    "                  'RAIN',\n",
    "                  'doy_sin', 'doy_cos', \n",
    "                  'W500', 'RH2', 'U500', 'V10', \n",
    "                  'RH500', 'U10', 'V500', \n",
    "                  'T2MIN', 'T2', 'T2MAX'\n",
    "                 ]\n",
    "\n",
    "if 'langtang' in experiment_region:\n",
    "    predictors = [\n",
    "                  'X', 'Y', #'Z',\n",
    "                  'precip_norris',\n",
    "                  'doy_sin', 'doy_cos', \n",
    "                  'w500_norris','RH2_norris','u500_norris','v10_norris',\n",
    "                  'RH500_norris','u10_norris','v500_norris',\n",
    "                  'T2min_norris','T2_norris','T2max_norris'\n",
    "                 ]"
   ]
  },
  {
   "cell_type": "code",
   "execution_count": 13,
   "metadata": {},
   "outputs": [],
   "source": [
    "# Initially used to create split but then manually setting stations because \n",
    "# there is some issue with stations missing after data preparation process\n",
    "# pick 10% random stations for validation, 10% for testing and the rest for training\n",
    "\n",
    "# stations = list(pd.read_pickle(TRAIN_PATH).Station.unique())\n",
    "# random.shuffle(stations)\n",
    "# val_stations = stations[:int(len(stations)*0.1)]\n",
    "# test_stations = stations[int(len(stations)*0.1):int(len(stations)*0.2)]\n",
    "# train_stations = stations[int(len(stations)*0.2):]"
   ]
  },
  {
   "cell_type": "code",
   "execution_count": 14,
   "metadata": {},
   "outputs": [],
   "source": [
    "if 'alps' in experiment_region:\n",
    "    train_stations = ['ABO', 'AHO', 'AIR', 'ALV', 'APT', 'ARO', 'AUB', 'AVA', 'AVB', 'BAC', 'BAL', 'BEA', 'BEC', 'BEGTH', 'BEGWA', 'BEH', 'BEHAK', 'BEKSE', 'BERIF', 'BES', 'BEV', 'BIN', 'BIV', 'BLA', 'BRA', 'BRW', 'BSP', 'BSW', 'CAV', 'CDF', 'CHA', 'CHB', 'CHD', 'CHM', 'CHW', 'CIM', 'COV', 'CTA', 'CTO', 'CUE', 'DAV', 'DIB', 'DIS', 'DLBAL', 'DLFEB', 'DLZUG', 'DMA', 'DOL', 'EIT', 'ENG', 'ERN', 'EVL', 'EVO', 'FIL', 'FIO', 'FIT', 'FLI', 'FRE', 'GEN', 'GOA', 'GRC', 'GRH', 'GSB', 'GSG', 'GST', 'GTT', 'GWA', 'HER', 'HIR', 'HOE', 'INF', 'IYDEO', 'IYDEU', 'IYMMR', 'IYMUW', 'IYPEN', 'IYPFE', 'IYPFI', 'IYPLI', 'IYPRU', 'IYREI', 'IYRID', 'IYROT', 'IYSMG', 'IYSMT', 'IYSUL', 'IYSUM', 'IYSVP', 'IYSWA', 'IYTER', 'IYTOB', 'IYULT', 'IYVAA', 'IYVAL', 'IYWEL', 'IYWOL', 'KLA', 'KRO', 'KSE', 'LBA', 'LEH', 'LEU', 'LOC', 'LOE', 'MAL', 'MAT', 'MAU', 'MLS', 'MOD', 'MSO', 'MST', 'MTE', 'MUE', 'MUS', 'MVE', 'NABCHA', 'NABDAV', 'NAP', 'NEB', 'OBI', 'OBW', 'PDM', 'PIG', 'PIL', 'PLF', 'PON', 'PSB', 'PUD', 'REC', 'ROB', 'ROE', 'ROG', 'RUM', 'SAB', 'SAE', 'SAF', 'SAM', 'SAN', 'SAP', 'SAS', 'SBA', 'SBE', 'SCU', 'SDO', 'SED', 'SEP', 'SGD', 'SIA', 'SIM', 'SLFAM2', 'SLFEM2', 'SLFFIS', 'SLFGL2', 'SLFMEI', 'SLFOBM', 'SLFSA3', 'SLFSC2', 'SLFSC3', 'SLFTU2', 'SLFUR2', 'SLFURS', 'SNE', 'SOG', 'SRL', 'STP', 'SVG', 'SWA', 'TIBED', 'TIBIA', 'TICOL', 'TIFUS', 'TIOLI', 'TST', 'UNS', 'URB', 'VDLSP', 'VDSEP', 'VEL', 'VIO', 'VRI', 'VSANZ', 'VSARO', 'VSBRI', 'VSCHY', 'VSDUR', 'VSEMO', 'VSFIN', 'VSGDX', 'VSJEI', 'VSMAT', 'VSSAB', 'VSSTA', 'VST', 'VSVER', 'WAW', 'WET', 'ZER', 'ZEV', 'ZNZ']\n",
    "    val_stations = ['ANT', 'BEHAB', 'BIO', 'BOS', 'BRL', 'BUF', 'ELO', 'FIE', 'GRY', 'GUE', 'IYHIN', 'IYTAU', 'KAS', 'LAT', 'LBG', 'MEB', 'RIE', 'SLFSH2', 'SLFSP2', 'SMM', 'SMZ', 'TICVM', 'VAB', 'VSMOI', 'VSTSN']\n",
    "    len(train_stations), len(val_stations)"
   ]
  },
  {
   "cell_type": "code",
   "execution_count": 15,
   "metadata": {},
   "outputs": [],
   "source": [
    "if 'langtang' in experiment_region:\n",
    "    stations = ['Tipping Bucket Lama Hotel', \n",
    "                  'Tipping Bucket Langtang',\n",
    "                  'Tipping Bucket Kyanjing', \n",
    "#                 'Tipping Bucket Numthang old',\n",
    "#                 'Tipping Bucket Jathang', \n",
    "#                 'Pluviometer Yala', \n",
    "#                 'AWS Kyangjing',\n",
    "#                 'AWS Yala BC', \n",
    "                  'Tipping Bucket Ganja La 3',\n",
    "                  'Tipping Bucket Ganja La 2',\n",
    "                  'Tipping Bucket Langshisha Glacier (next to Pluviometer)',\n",
    "                  'Tipping Bucket Ganja La 1',\n",
    "                  'Tipping Bucket Langshisha BC',\n",
    "                  'Tipping Bucket Shalbachum',\n",
    "#                 'Pluviometer Langshisha Glacier (off-glacier)',\n",
    "                  'Pluviometer GanjaLa', \n",
    "                  'Pluviometer Morimoto'\n",
    "                 ]\n",
    "\n",
    "    train_stations = stations[:7]\n",
    "    val_stations = stations[7:]"
   ]
  },
  {
   "cell_type": "markdown",
   "metadata": {},
   "source": [
    "### Dataloaders"
   ]
  },
  {
   "cell_type": "code",
   "execution_count": 16,
   "metadata": {},
   "outputs": [],
   "source": [
    "ds_dataset = UpperIndusDataset(TRAIN_PATH, start, end, predictant, predictors, stations=train_stations)\n",
    "ds_dataset_val = UpperIndusDataset(TRAIN_PATH, start, end, predictant, predictors, stations=val_stations)\n",
    "\n",
    "train_mean = ds_dataset.mean\n",
    "train_var = ds_dataset.var"
   ]
  },
  {
   "cell_type": "code",
   "execution_count": 156,
   "metadata": {
    "scrolled": true
   },
   "outputs": [],
   "source": [
    "train_dataloader = DataLoader(dataset=ds_dataset, batch_size=8, shuffle=True)\n",
    "val_dataloader = DataLoader(dataset=ds_dataset_val, batch_size=16*2, shuffle=True)"
   ]
  },
  {
   "cell_type": "code",
   "execution_count": 114,
   "metadata": {},
   "outputs": [],
   "source": [
    "# ds_dataset_test = UpperIndusDataset(TRAIN_PATH, start, end, predictant, predictors, stations=test_stations)\n",
    "# ds_dataset_map = UpperIndusDataset(TEST_PATH, start, end, predictant, predictors, stations=test_stations)\n",
    "# dataloader_test = DataLoader(dataset=ds_dataset, batch_size=16, shuffle=True)\n",
    "\n",
    "if 'alps' in experiment_region:\n",
    "    ds_dataset_map = MapDataset(TEST_PATH, predictors, train_mean, train_var)\n",
    "    dataloader_map = DataLoader(dataset=ds_dataset_map, batch_size=1, shuffle=False)"
   ]
  },
  {
   "cell_type": "markdown",
   "metadata": {},
   "source": [
    "# Models"
   ]
  },
  {
   "cell_type": "code",
   "execution_count": 19,
   "metadata": {},
   "outputs": [],
   "source": [
    "num_GP_dims = 2"
   ]
  },
  {
   "cell_type": "code",
   "execution_count": 20,
   "metadata": {},
   "outputs": [],
   "source": [
    "drop_GP_dims = True\n",
    "\n",
    "if drop_GP_dims:\n",
    "    in_channels = len(predictors) + 1 - num_GP_dims\n",
    "else:\n",
    "    in_channels = len(predictors) + 1"
   ]
  },
  {
   "cell_type": "code",
   "execution_count": 21,
   "metadata": {},
   "outputs": [],
   "source": [
    "if 'occurrence' in experiment_region:\n",
    "    likelihood_fn='bernoulli'\n",
    "else:\n",
    "    likelihood_fn='bgmm'"
   ]
  },
  {
   "cell_type": "code",
   "execution_count": 124,
   "metadata": {},
   "outputs": [],
   "source": [
    "del model"
   ]
  },
  {
   "cell_type": "code",
   "execution_count": 125,
   "metadata": {},
   "outputs": [
    {
     "name": "stdout",
     "output_type": "stream",
     "text": [
      "Number of parameters: 3351\n"
     ]
    }
   ],
   "source": [
    "# This is the MLP used in the GP-MLP model\n",
    "model = MLP(in_channels=in_channels, \n",
    "            hidden_channels=[50,50], \n",
    "            likelihood_fn=likelihood_fn, # 'gamma', 'ggmm', bgmm', 'b2gmm', 'b2sgmm'\n",
    "            dropout_rate=0,\n",
    "           )\n",
    "\n",
    "print(f'Number of parameters: {sum(p.numel() for p in model.parameters())}')\n",
    "model.to(device);"
   ]
  },
  {
   "cell_type": "code",
   "execution_count": 126,
   "metadata": {},
   "outputs": [],
   "source": [
    "baseline = False\n",
    "\n",
    "# This is the MLP used as a baseline (on its own)\n",
    "if baseline:\n",
    "    MLP = MLP(in_channels= len(predictors), \n",
    "                hidden_channels=[50,50], \n",
    "                likelihood_fn=likelihood_fn, # 'gamma', 'ggmm', bgmm', 'b2gmm', 'b2sgmm'\n",
    "                dropout_rate=0,\n",
    "               )\n",
    "\n",
    "    print(f'Number of parameters: {sum(p.numel() for p in MLP.parameters())}')\n",
    "    MLP.to(device);"
   ]
  },
  {
   "cell_type": "code",
   "execution_count": 127,
   "metadata": {},
   "outputs": [],
   "source": [
    "def reset_weights(m):\n",
    "    '''\n",
    "    This function resets model weights randomly following the original initialization method.\n",
    "    Works for simple architectures and commonly used layers.\n",
    "    '''\n",
    "    for layer in m.children():\n",
    "        if hasattr(layer, 'reset_parameters'):\n",
    "            # If the layer has the method `reset_parameters`, it will be called\n",
    "            layer.reset_parameters()"
   ]
  },
  {
   "cell_type": "markdown",
   "metadata": {},
   "source": [
    "### MLP (baseline)"
   ]
  },
  {
   "cell_type": "code",
   "execution_count": 157,
   "metadata": {},
   "outputs": [],
   "source": [
    "log_on_wandb = False"
   ]
  },
  {
   "cell_type": "code",
   "execution_count": 158,
   "metadata": {},
   "outputs": [],
   "source": [
    "if log_on_wandb:\n",
    "    wandb.init(project=f'GP-MLP-{experiment_region}',\n",
    "               name='MLP-50-50'\n",
    "               )"
   ]
  },
  {
   "cell_type": "code",
   "execution_count": 159,
   "metadata": {},
   "outputs": [],
   "source": [
    "if baseline:\n",
    "    MLP.apply(reset_weights);"
   ]
  },
  {
   "cell_type": "code",
   "execution_count": 160,
   "metadata": {
    "scrolled": true
   },
   "outputs": [],
   "source": [
    "if baseline:\n",
    "    train_losses = []\n",
    "    val_losses = []\n",
    "    test_losses = []\n",
    "\n",
    "    train_loader = train_dataloader\n",
    "    valid_loader = val_dataloader\n",
    "    # test_loader = dataloader\n",
    "\n",
    "    epochs = 15\n",
    "\n",
    "    mlp_optimizer = torch.optim.Adam(MLP.parameters(), lr=0.005)\n",
    "\n",
    "    for epoch in range(epochs):\n",
    "\n",
    "        epoch_train_losses, epoch_val_losses = [], []\n",
    "\n",
    "        MLP.train()\n",
    "\n",
    "        for i, (inputs, labels) in enumerate(train_dataloader):\n",
    "\n",
    "            inputs = inputs.float().to(device) # [batch_size, num_stations, num_predictiors]\n",
    "            labels = labels.float().to(device) # [batch_size, num_stations]\n",
    "\n",
    "            inputs = inputs.permute([0,2,1])\n",
    "            batch_size = inputs.shape[0]\n",
    "\n",
    "            mlp_optimizer.zero_grad()\n",
    "\n",
    "            outputs = MLP(inputs)\n",
    "\n",
    "            loss = loss_fn(outputs, labels, inputs, MLP, reduction='sum', device=device)/batch_size \n",
    "\n",
    "            # print('train: ', epoch, i, loss.item())\n",
    "\n",
    "            if loss.item() != 0: \n",
    "\n",
    "                loss.backward()\n",
    "\n",
    "                for param in mlp_optimizer.param_groups[0]['params']:\n",
    "                    nn.utils.clip_grad_value_(param, 1) # Bit of regularisation\n",
    "\n",
    "                mlp_optimizer.step()\n",
    "\n",
    "            epoch_train_losses.append(loss.item())\n",
    "\n",
    "            #train_loss, val_loss, test_loss = train_epoch(MLP, optimizer, train_loader, valid_loader, test_loader=test_loader, print_progress=True, epoch=epoch, device=device, permute=True)\n",
    "\n",
    "        model.eval()\n",
    "\n",
    "        with torch.no_grad():\n",
    "\n",
    "            for i, (inputs, labels) in enumerate(val_dataloader):\n",
    "\n",
    "                inputs = inputs.float().to(device) # [batch_size, num_stations, num_predictiors]\n",
    "                labels = labels.float().to(device) # [batch_size, num_stations]\n",
    "\n",
    "                inputs = inputs.permute([0,2,1])\n",
    "                batch_size = inputs.shape[0]\n",
    "\n",
    "                outputs = MLP(inputs)\n",
    "\n",
    "                loss = loss_fn(outputs, labels, inputs, MLP, reduction='sum', device=device) / batch_size\n",
    "\n",
    "                epoch_val_losses.append(loss.item())\n",
    "\n",
    "        epoch_train_loss = np.mean(epoch_train_losses)/len(train_stations) \n",
    "        epoch_val_loss = np.mean(epoch_val_losses)/len(val_stations) #, np.mean(test_losses)\n",
    "\n",
    "        print(f'epoch : {epoch+1}, train loss : {np.mean(epoch_train_loss):.4f} , valid loss : {np.mean(epoch_val_loss):.4f}')\n",
    "\n",
    "        if log_on_wandb:\n",
    "            wandb.log({\"train_loss\": epoch_train_loss,  \n",
    "                       \"val_loss\": epoch_val_loss,\n",
    "                       \"epoch\" : epoch,\n",
    "                          })\n",
    "\n",
    "\n",
    "        train_losses.append(epoch_train_loss)\n",
    "        val_losses.append(epoch_val_loss)\n",
    "    #     test_losses.append(test_loss)"
   ]
  },
  {
   "cell_type": "code",
   "execution_count": 161,
   "metadata": {},
   "outputs": [],
   "source": [
    "if baseline:\n",
    "    plt.plot(np.array(train_losses), label='train')\n",
    "    plt.plot(np.array(val_losses), label='val')\n",
    "    plt.title(f\"best val loss: {min(val_losses):.4f}\")\n",
    "    plt.legend()\n",
    "    plt.show()"
   ]
  },
  {
   "cell_type": "markdown",
   "metadata": {},
   "source": [
    "### GP-MLP"
   ]
  },
  {
   "cell_type": "markdown",
   "metadata": {},
   "source": [
    "#### Diagonal jitter (depending on dataset)"
   ]
  },
  {
   "cell_type": "code",
   "execution_count": 162,
   "metadata": {},
   "outputs": [
    {
     "name": "stdout",
     "output_type": "stream",
     "text": [
      "1e-05\n"
     ]
    }
   ],
   "source": [
    "# B.epsilon is the default value for the diagonal jitter of the matrix\n",
    "# Needs to be relatively high for `float32`s\n",
    "\n",
    "if 'langtang' in experiment_region:\n",
    "    B.epsilon = 1e-6\n",
    "elif 'alps' in experiment_region:\n",
    "    B.epsilon = 1e-5\n",
    "    \n",
    "print(B.epsilon)"
   ]
  },
  {
   "cell_type": "code",
   "execution_count": 163,
   "metadata": {},
   "outputs": [],
   "source": [
    "model.apply(reset_weights);"
   ]
  },
  {
   "cell_type": "code",
   "execution_count": 164,
   "metadata": {},
   "outputs": [],
   "source": [
    "print_progress = True\n",
    "validate_flag = True\n",
    "f_marginal_flag = False\n",
    "mc_samples = 10"
   ]
  },
  {
   "cell_type": "code",
   "execution_count": 165,
   "metadata": {},
   "outputs": [],
   "source": [
    "experiment_name = 'MLP-50-50_matern_ls_ind_2D_lr10-4'"
   ]
  },
  {
   "cell_type": "code",
   "execution_count": 166,
   "metadata": {},
   "outputs": [],
   "source": [
    "log_on_wandb = False\n",
    "\n",
    "if log_on_wandb:\n",
    "    wandb.init(project=f'GP-MLP-{experiment_region}',\n",
    "               name=experiment_name,\n",
    "               )"
   ]
  },
  {
   "cell_type": "code",
   "execution_count": 167,
   "metadata": {},
   "outputs": [],
   "source": [
    "st = ds_dataset.st\n",
    "st_val = ds_dataset_val.st\n",
    "\n",
    "coords_train_stations = st.groupby('Station').mean()[predictors[:num_GP_dims]].values\n",
    "coords_val_stations = st_val.groupby('Station').mean()[predictors[:num_GP_dims]].values\n",
    "\n",
    "x_ind_stations = coords_train_stations\n",
    "x_val_statins = coords_val_stations"
   ]
  },
  {
   "cell_type": "code",
   "execution_count": 168,
   "metadata": {
    "tags": []
   },
   "outputs": [],
   "source": [
    "# Inducing points are points in the station locations\n",
    "# x_ind = torch.tensor(x_ind_stations, dtype=torch.float32).detach().requires_grad_(False).to(device)\n",
    "x_ind = torch.nn.Parameter(torch.tensor(x_ind_stations, dtype=torch.float32, requires_grad=True).to(device))\n",
    "num_ind_points = len(x_ind)\n",
    "\n",
    "n = len(st)\n",
    "\n",
    "log_ls = torch.nn.Parameter(torch.tensor(np.log(0.1), dtype=torch.float32, requires_grad=True).to(device))\n",
    "    \n",
    "q = ApproximatePosterior(num_ind_points) # q is the approximate posterior\n",
    "\n",
    "# optimizer = torch.optim.Adam(list(model.parameters())+list(q.parameters()), lr=10e-4)\n",
    "optimizer = torch.optim.Adam(list(model.parameters())+list(q.parameters())+[log_ls], lr=10e-3)\n",
    "# optimizer = torch.optim.Adam(list(model.parameters())+list(q.parameters())+[log_ls]+[x_ind], lr=10e-5)"
   ]
  },
  {
   "cell_type": "code",
   "execution_count": 169,
   "metadata": {},
   "outputs": [],
   "source": [
    "load_model = False\n",
    "exp_name = 'matern_ls'\n",
    "\n",
    "# Options for loading an existing model, otherwise start from scratch\n",
    "\n",
    "if load_model:\n",
    "    q.load_state_dict(torch.load(f'q_state_{exp_name}.pth'))\n",
    "    optimizer.load_state_dict(torch.load(f'optimizer_state_{exp_name}.pth'))\n",
    "    model.load_state_dict(torch.load(f'model_state_{exp_name}.pth'))\n",
    "\n",
    "    # Load the data back\n",
    "    with open(f'training_progress_{exp_name}.pkl', 'rb') as file:\n",
    "        data_loaded = pickle.load(file)\n",
    "\n",
    "    e_past = data_loaded[\"last_epoch\"]\n",
    "    train_loss = data_loaded[\"train_loss\"]\n",
    "    train_loglik = data_loaded[\"train_loglik\"]\n",
    "    train_kl = data_loaded[\"train_kl\"]\n",
    "    train_nll = data_loaded[\"train_nll\"]\n",
    "    val_loss = data_loaded[\"val_loss\"]\n",
    "    val_loglik = data_loaded[\"val_loglik\"]\n",
    "    val_kl = data_loaded[\"val_kl\"]\n",
    "    val_nll = data_loaded[\"val_nll\"]\n",
    "\n",
    "else:\n",
    "    e_past = 0\n",
    "    train_loss, train_loglik, train_kl, train_nll = [], [], [], []\n",
    "    val_loss, val_loglik, val_kl, val_nll = [], [], [], []\n",
    "\n",
    "test_loss, test_loglik, test_kl, test_nll  = [], [], [], []\n",
    "\n",
    "train_loss_batch, train_loglik_batch, train_kl_batch, train_nll_batch = RunningAverage(), RunningAverage(), RunningAverage(), RunningAverage()\n",
    "val_loss_batch, val_loglik_batch, val_kl_batch, val_nll_batch = RunningAverage(), RunningAverage(), RunningAverage(),RunningAverage()"
   ]
  },
  {
   "cell_type": "code",
   "execution_count": null,
   "metadata": {},
   "outputs": [
    {
     "name": "stdout",
     "output_type": "stream",
     "text": [
      "Train epoch  1: -elbo: 0.770 | kl: 716.339 | -recon: 0.320 | nll: 0.320 -- time: 64.02\n",
      "Val epoch 1: -elbo: 0.300 | kl: 41.596 | -recon: 0.247 | nll: 0.247 -- time: 52.62\n",
      "GP lengthscale: 0.046\n",
      "---\n",
      "Train epoch  2: -elbo: 0.324 | kl: 34.253 | -recon: 0.302 | nll: 0.302 -- time: 65.00\n",
      "Val epoch 2: -elbo: 0.279 | kl: 30.046 | -recon: 0.240 | nll: 0.240 -- time: 52.88\n",
      "GP lengthscale: 0.047\n",
      "---\n",
      "Train epoch  3: -elbo: 0.319 | kl: 28.991 | -recon: 0.301 | nll: 0.301 -- time: 66.77\n",
      "Val epoch 3: -elbo: 0.274 | kl: 27.445 | -recon: 0.239 | nll: 0.239 -- time: 53.32\n",
      "GP lengthscale: 0.051\n",
      "---\n",
      "Train epoch  4: -elbo: 0.315 | kl: 24.656 | -recon: 0.300 | nll: 0.300 -- time: 66.22\n",
      "Val epoch 4: -elbo: 0.273 | kl: 24.563 | -recon: 0.242 | nll: 0.242 -- time: 53.02\n",
      "GP lengthscale: 0.059\n",
      "---\n",
      "Train epoch  5: -elbo: 0.315 | kl: 24.452 | -recon: 0.299 | nll: 0.299 -- time: 65.73\n",
      "Val epoch 5: -elbo: 0.269 | kl: 24.185 | -recon: 0.238 | nll: 0.238 -- time: 52.81\n",
      "GP lengthscale: 0.081\n",
      "---\n",
      "Train epoch  6: -elbo: 0.313 | kl: 22.732 | -recon: 0.299 | nll: 0.299 -- time: 65.11\n",
      "Val epoch 6: -elbo: 0.266 | kl: 21.474 | -recon: 0.239 | nll: 0.239 -- time: 52.95\n",
      "GP lengthscale: 0.193\n",
      "---\n",
      "Train epoch  7: -elbo: 0.309 | kl: 17.089 | -recon: 0.298 | nll: 0.298 -- time: 79.71\n",
      "Val epoch 7: -elbo: 0.260 | kl: 14.833 | -recon: 0.241 | nll: 0.241 -- time: 73.67\n",
      "GP lengthscale: 1.348\n",
      "---\n",
      "Train epoch  8: -elbo: 0.305 | kl: 11.014 | -recon: 0.298 | nll: 0.298 -- time: 139.83\n",
      "Val epoch 8: -elbo: 0.263 | kl: 19.740 | -recon: 0.238 | nll: 0.238 -- time: 70.37\n",
      "GP lengthscale: 8.846\n",
      "---\n",
      "Train epoch  9: -elbo: 0.302 | kl: 7.704 | -recon: 0.297 | nll: 0.297 -- time: 65.28\n",
      "Val epoch 9: -elbo: 0.283 | kl: 35.587 | -recon: 0.237 | nll: 0.237 -- time: 52.85\n",
      "GP lengthscale: 25.981\n",
      "---\n",
      "Train epoch  10: -elbo: 0.301 | kl: 6.800 | -recon: 0.297 | nll: 0.297 -- time: 65.25\n",
      "Val epoch 10: -elbo: 0.425 | kl: 145.018 | -recon: 0.240 | nll: 0.239 -- time: 53.07\n",
      "GP lengthscale: 46.779\n",
      "---\n",
      "Train epoch  11: -elbo: 0.302 | kl: 8.442 | -recon: 0.297 | nll: 0.297 -- time: 65.52\n",
      "Val epoch 11: -elbo: 0.277 | kl: 32.110 | -recon: 0.236 | nll: 0.236 -- time: 52.83\n",
      "GP lengthscale: 61.247\n",
      "---\n",
      "Train epoch  12: -elbo: 0.302 | kl: 7.380 | -recon: 0.297 | nll: 0.297 -- time: 65.09\n",
      "Val epoch 12: -elbo: 0.460 | kl: 173.103 | -recon: 0.238 | nll: 0.238 -- time: 53.03\n",
      "GP lengthscale: 89.179\n",
      "---\n",
      "Train epoch  13: -elbo: 0.302 | kl: 7.744 | -recon: 0.297 | nll: 0.297 -- time: 66.54\n",
      "Val epoch 13: -elbo: 0.326 | kl: 69.697 | -recon: 0.237 | nll: 0.237 -- time: 52.83\n",
      "GP lengthscale: 97.529\n",
      "---\n",
      "Train epoch  14: -elbo: 0.301 | kl: 6.610 | -recon: 0.296 | nll: 0.296 -- time: 65.23\n",
      "Val epoch 14: -elbo: 0.302 | kl: 48.179 | -recon: 0.240 | nll: 0.240 -- time: 52.72\n",
      "GP lengthscale: 109.946\n",
      "---\n",
      "Train epoch  15: -elbo: 0.300 | kl: 6.416 | -recon: 0.296 | nll: 0.296 -- time: 66.09\n",
      "Val epoch 15: -elbo: 0.669 | kl: 334.140 | -recon: 0.241 | nll: 0.240 -- time: 52.77\n",
      "GP lengthscale: 121.581\n",
      "---\n",
      "Train epoch  16: -elbo: 0.302 | kl: 9.395 | -recon: 0.296 | nll: 0.296 -- time: 65.82\n",
      "Val epoch 16: -elbo: 0.487 | kl: 189.842 | -recon: 0.243 | nll: 0.243 -- time: 52.81\n",
      "GP lengthscale: 113.743\n",
      "---\n",
      "Train epoch  17: -elbo: 0.301 | kl: 7.163 | -recon: 0.296 | nll: 0.296 -- time: 66.60\n",
      "Val epoch 17: -elbo: 0.354 | kl: 91.101 | -recon: 0.237 | nll: 0.237 -- time: 52.73\n",
      "GP lengthscale: 116.234\n",
      "---\n",
      "Train epoch  18: -elbo: 0.300 | kl: 6.539 | -recon: 0.296 | nll: 0.296 -- time: 65.09\n",
      "Val epoch 18: -elbo: 0.303 | kl: 50.451 | -recon: 0.238 | nll: 0.238 -- time: 52.73\n",
      "GP lengthscale: 128.568\n",
      "---\n",
      "Train epoch  19: -elbo: 0.300 | kl: 6.419 | -recon: 0.296 | nll: 0.296 -- time: 64.70\n",
      "Val epoch 19: -elbo: 0.245 | kl: 6.210 | -recon: 0.237 | nll: 0.237 -- time: 52.82\n",
      "GP lengthscale: 107.124\n",
      "---\n",
      "Train epoch  20: -elbo: 0.299 | kl: 5.686 | -recon: 0.296 | nll: 0.296 -- time: 65.32\n"
     ]
    }
   ],
   "source": [
    "num_epochs = 30\n",
    "\n",
    "# with Measure() as prior:\n",
    "#     f3 = GP(Matern12().stretch(ls))\n",
    "#     f = f3 #f1 + f2 + f3\n",
    "    \n",
    "for e in range(e_past + 1, num_epochs + 1):\n",
    "    \n",
    "    gc.collect()\n",
    "    \n",
    "#     print(f\"Memory allocated before training epoch: {e}, {torch.cuda.memory_allocated()/(1024**2):.2f}\")\n",
    "#     print(f\"Max memory allocated before training epoch: {e}, {torch.cuda.max_memory_allocated()/(1024**2):.2f}\")\n",
    "    \n",
    "    # TRAIN EPOCH    \n",
    "    model.train()\n",
    "\n",
    "    start_time = time.time()\n",
    "\n",
    "    train_loss_batch.reset()\n",
    "    train_loglik_batch.reset()\n",
    "    train_kl_batch.reset()\n",
    "    train_nll_batch.reset()\n",
    "    val_loss_batch.reset()\n",
    "    val_loglik_batch.reset()\n",
    "    val_kl_batch.reset()\n",
    "    val_nll_batch.reset()\n",
    "\n",
    "    n = train_dataloader.dataset.n\n",
    "    \n",
    "    for i, (inputs, labels) in enumerate(train_dataloader):\n",
    "\n",
    "        inputs = inputs.to(device) # inputs [batch_size, num_predictors, num_stations]\n",
    "        labels = labels.to(device) # labels [batch_size, num_stations]\n",
    "        \n",
    "        with Measure() as prior:\n",
    "            f3 = GP(Matern12().stretch(torch.exp(log_ls)))\n",
    "            f = f3 #f1 + f2 + f3\n",
    "\n",
    "        elbo, recon, kl, num_points, nll = forward_backward_pass(inputs, labels, n, model, optimizer, q, f, x_ind, \n",
    "                                                            inducing_points=True, backward=True, f_marginal=f_marginal_flag, n_samples=mc_samples,\n",
    "                                                            num_GP_dims=num_GP_dims, remove_from_inputs=drop_GP_dims)\n",
    "        \n",
    "#         print(i, elbo.item(), recon.item(), kl.item(), num_points.item(), nll.item())\n",
    "#         print(f'GP lengthscale: {ls.item()}')\n",
    "#         print(torch.stack([torch.isnan(p).sum() for p in model.parameters()]))\n",
    "\n",
    "        # Keep track of loss terms\n",
    "        train_loss_batch.update(-elbo.item())\n",
    "        train_loglik_batch.update(-recon.item()/num_points.item())\n",
    "        train_kl_batch.update(kl.item())\n",
    "        train_nll_batch.update(nll.item()/num_points.item())\n",
    "    \n",
    "    elapsed = time.time() - start_time\n",
    "\n",
    "    if print_progress:\n",
    "        print(f'Train epoch  {e}: -elbo: {train_loss_batch.avg:.3f} | kl: {train_kl_batch.avg:.3f} | -recon: {train_loglik_batch.avg:.3f} | nll: {train_nll_batch.avg:.3f} -- time: {elapsed:.2f}')\n",
    "\n",
    "    # Add average batch loss terms to lists\n",
    "    train_loss.append(train_loss_batch.avg)\n",
    "    train_loglik.append(train_loglik_batch.avg)\n",
    "    train_kl.append(train_kl_batch.avg)\n",
    "    train_nll.append(train_nll_batch.avg)\n",
    "    \n",
    "    # VALIDATION EPOCH\n",
    "    validate_flag = True\n",
    "    if validate_flag:\n",
    "        \n",
    "#         print(f\"Memory allocated before validation epoch: {e}, {torch.cuda.memory_allocated()/(1024**2):.2f}\")\n",
    "#         print(f\"Max memory allocated before validation epoch: {e}, {torch.cuda.max_memory_allocated()/(1024**2):.2f}\")\n",
    "\n",
    "        model.eval()\n",
    "\n",
    "        n = val_dataloader.dataset.n\n",
    "        \n",
    "        start_time = time.time()\n",
    "\n",
    "        with torch.no_grad():\n",
    "\n",
    "            for i, (inputs, labels) in enumerate(val_dataloader):        \n",
    "                \n",
    "                inputs = inputs.to(device)\n",
    "                labels = labels.to(device)\n",
    "                \n",
    "                with Measure() as prior:\n",
    "                    f3 = GP(Matern12().stretch(torch.exp(log_ls)))\n",
    "                    f = f3 #f1 + f2 + f3\n",
    "\n",
    "                elbo, recon, kl, num_points, nll = forward_backward_pass(inputs, labels, n, model, optimizer, q, f, x_ind, \n",
    "                                                                    inducing_points=True, backward=False, f_marginal=f_marginal_flag, n_samples=mc_samples*100,\n",
    "                                                                    num_GP_dims=num_GP_dims, remove_from_inputs=drop_GP_dims)\n",
    "\n",
    "                \n",
    "                # Keep track of loss terms\n",
    "                val_loss_batch.update(-elbo.item())\n",
    "                val_loglik_batch.update(-recon.item()/num_points.item())\n",
    "                val_kl_batch.update(kl.item())\n",
    "                val_nll_batch.update(nll.item()/num_points.item())\n",
    "        \n",
    "        elapsed_val = time.time() - start_time\n",
    "\n",
    "        if print_progress:\n",
    "            print(f'Val epoch {e}: -elbo: {val_loss_batch.avg:.3f} | kl: {val_kl_batch.avg:.3f} | -recon: {val_loglik_batch.avg:.3f} | nll: {val_nll_batch.avg:.3f} -- time: {elapsed_val:.2f}')\n",
    "            print(f'GP lengthscale: {torch.exp(log_ls).item():.3f}')\n",
    "            print('---')\n",
    "            \n",
    "        if log_on_wandb:\n",
    "            wandb.log({\"train_nelbo\": train_loss_batch.avg,  \n",
    "                       \"val_nelbo\": val_loss_batch.avg,\n",
    "                       \"train_kl\": train_kl_batch.avg,  \n",
    "                       \"val_kl\": val_kl_batch.avg,\n",
    "                       \"train_nrecon\": train_loglik_batch.avg,  \n",
    "                       \"val_nrecon\": val_loglik_batch.avg,\n",
    "                       \"train_nll\": train_nll_batch.avg,  \n",
    "                       \"val_nll\": val_nll_batch.avg,\n",
    "                       \"epoch\" : e,\n",
    "                       \"ls\" : torch.exp(log_ls).item(),\n",
    "                      })\n",
    "\n",
    "        # Add average batch loss terms to lists\n",
    "        val_loss.append(val_loss_batch.avg)\n",
    "        val_loglik.append(val_loglik_batch.avg)\n",
    "        val_kl.append(val_kl_batch.avg)\n",
    "        val_nll.append(val_nll_batch.avg)"
   ]
  },
  {
   "cell_type": "code",
   "execution_count": 79,
   "metadata": {},
   "outputs": [],
   "source": [
    "# Save the model and optimizer state\n",
    "\n",
    "exp_name = experiment_name\n",
    "\n",
    "torch.save(q.state_dict(), f'q_state_{exp_name}.pth')\n",
    "torch.save(model.state_dict(), f'model_state_{exp_name}.pth')\n",
    "torch.save(optimizer.state_dict(), f'optimizer_state_{exp_name}.pth')\n",
    "\n",
    "data_to_save = {\n",
    "    \"last_epoch\": e,\n",
    "    \"train_loss\": train_loss,\n",
    "    \"train_loglik\": train_loglik,\n",
    "    \"train_kl\": train_kl,\n",
    "    \"train_nll\": train_nll,\n",
    "    \"val_loss\": val_loss,\n",
    "    \"val_loglik\": val_loglik,\n",
    "    \"val_kl\": val_kl,\n",
    "    \"val_nll\": val_nll,\n",
    "}\n",
    "\n",
    "# Save the data to a file\n",
    "with open(f'training_progress_{exp_name}.pkl', 'wb') as file:\n",
    "    pickle.dump(data_to_save, file)"
   ]
  },
  {
   "cell_type": "code",
   "execution_count": 80,
   "metadata": {},
   "outputs": [
    {
     "ename": "ValueError",
     "evalue": "zero-size array to reduction operation minimum which has no identity",
     "output_type": "error",
     "traceback": [
      "\u001b[0;31m---------------------------------------------------------------------------\u001b[0m",
      "\u001b[0;31mValueError\u001b[0m                                Traceback (most recent call last)",
      "Input \u001b[0;32mIn [80]\u001b[0m, in \u001b[0;36m<cell line: 7>\u001b[0;34m()\u001b[0m\n\u001b[1;32m      8\u001b[0m ax\u001b[38;5;241m.\u001b[39mplot(train_vars[i], label\u001b[38;5;241m=\u001b[39m\u001b[38;5;124m'\u001b[39m\u001b[38;5;124mtrain\u001b[39m\u001b[38;5;124m'\u001b[39m)\n\u001b[1;32m      9\u001b[0m ax\u001b[38;5;241m.\u001b[39mplot(validation_vars[i], label\u001b[38;5;241m=\u001b[39m\u001b[38;5;124m'\u001b[39m\u001b[38;5;124mval\u001b[39m\u001b[38;5;124m'\u001b[39m)\n\u001b[0;32m---> 10\u001b[0m ax\u001b[38;5;241m.\u001b[39mset_title(\u001b[38;5;124mf\u001b[39m\u001b[38;5;124m'\u001b[39m\u001b[38;5;132;01m{\u001b[39;00mlabels[i]\u001b[38;5;132;01m}\u001b[39;00m\u001b[38;5;124m | best: \u001b[39m\u001b[38;5;132;01m{\u001b[39;00mnp\u001b[38;5;241m.\u001b[39mmin(validation_vars[i])\u001b[38;5;132;01m:\u001b[39;00m\u001b[38;5;124m.4f\u001b[39m\u001b[38;5;132;01m}\u001b[39;00m\u001b[38;5;124m'\u001b[39m)\n\u001b[1;32m     11\u001b[0m ax\u001b[38;5;241m.\u001b[39mset_ylabel(\u001b[38;5;124mf\u001b[39m\u001b[38;5;124m'\u001b[39m\u001b[38;5;132;01m{\u001b[39;00mlabels[i]\u001b[38;5;132;01m}\u001b[39;00m\u001b[38;5;124m'\u001b[39m, fontsize\u001b[38;5;241m=\u001b[39m\u001b[38;5;241m14\u001b[39m)\n\u001b[1;32m     12\u001b[0m ax\u001b[38;5;241m.\u001b[39mset_xlabel(\u001b[38;5;124m'\u001b[39m\u001b[38;5;124mEpoch\u001b[39m\u001b[38;5;124m'\u001b[39m, fontsize\u001b[38;5;241m=\u001b[39m\u001b[38;5;241m14\u001b[39m)\n",
      "File \u001b[0;32m/data/hpcdata/users/marron31/conda-envs/bcdp/lib/python3.9/site-packages/numpy/core/fromnumeric.py:2953\u001b[0m, in \u001b[0;36mmin\u001b[0;34m(a, axis, out, keepdims, initial, where)\u001b[0m\n\u001b[1;32m   2836\u001b[0m \u001b[38;5;129m@array_function_dispatch\u001b[39m(_min_dispatcher)\n\u001b[1;32m   2837\u001b[0m \u001b[38;5;28;01mdef\u001b[39;00m \u001b[38;5;21mmin\u001b[39m(a, axis\u001b[38;5;241m=\u001b[39m\u001b[38;5;28;01mNone\u001b[39;00m, out\u001b[38;5;241m=\u001b[39m\u001b[38;5;28;01mNone\u001b[39;00m, keepdims\u001b[38;5;241m=\u001b[39mnp\u001b[38;5;241m.\u001b[39m_NoValue, initial\u001b[38;5;241m=\u001b[39mnp\u001b[38;5;241m.\u001b[39m_NoValue,\n\u001b[1;32m   2838\u001b[0m         where\u001b[38;5;241m=\u001b[39mnp\u001b[38;5;241m.\u001b[39m_NoValue):\n\u001b[1;32m   2839\u001b[0m     \u001b[38;5;124;03m\"\"\"\u001b[39;00m\n\u001b[1;32m   2840\u001b[0m \u001b[38;5;124;03m    Return the minimum of an array or minimum along an axis.\u001b[39;00m\n\u001b[1;32m   2841\u001b[0m \n\u001b[0;32m   (...)\u001b[0m\n\u001b[1;32m   2951\u001b[0m \u001b[38;5;124;03m    6\u001b[39;00m\n\u001b[1;32m   2952\u001b[0m \u001b[38;5;124;03m    \"\"\"\u001b[39;00m\n\u001b[0;32m-> 2953\u001b[0m     \u001b[38;5;28;01mreturn\u001b[39;00m \u001b[43m_wrapreduction\u001b[49m\u001b[43m(\u001b[49m\u001b[43ma\u001b[49m\u001b[43m,\u001b[49m\u001b[43m \u001b[49m\u001b[43mnp\u001b[49m\u001b[38;5;241;43m.\u001b[39;49m\u001b[43mminimum\u001b[49m\u001b[43m,\u001b[49m\u001b[43m \u001b[49m\u001b[38;5;124;43m'\u001b[39;49m\u001b[38;5;124;43mmin\u001b[39;49m\u001b[38;5;124;43m'\u001b[39;49m\u001b[43m,\u001b[49m\u001b[43m \u001b[49m\u001b[43maxis\u001b[49m\u001b[43m,\u001b[49m\u001b[43m \u001b[49m\u001b[38;5;28;43;01mNone\u001b[39;49;00m\u001b[43m,\u001b[49m\u001b[43m \u001b[49m\u001b[43mout\u001b[49m\u001b[43m,\u001b[49m\n\u001b[1;32m   2954\u001b[0m \u001b[43m                          \u001b[49m\u001b[43mkeepdims\u001b[49m\u001b[38;5;241;43m=\u001b[39;49m\u001b[43mkeepdims\u001b[49m\u001b[43m,\u001b[49m\u001b[43m \u001b[49m\u001b[43minitial\u001b[49m\u001b[38;5;241;43m=\u001b[39;49m\u001b[43minitial\u001b[49m\u001b[43m,\u001b[49m\u001b[43m \u001b[49m\u001b[43mwhere\u001b[49m\u001b[38;5;241;43m=\u001b[39;49m\u001b[43mwhere\u001b[49m\u001b[43m)\u001b[49m\n",
      "File \u001b[0;32m/data/hpcdata/users/marron31/conda-envs/bcdp/lib/python3.9/site-packages/numpy/core/fromnumeric.py:88\u001b[0m, in \u001b[0;36m_wrapreduction\u001b[0;34m(obj, ufunc, method, axis, dtype, out, **kwargs)\u001b[0m\n\u001b[1;32m     85\u001b[0m         \u001b[38;5;28;01melse\u001b[39;00m:\n\u001b[1;32m     86\u001b[0m             \u001b[38;5;28;01mreturn\u001b[39;00m reduction(axis\u001b[38;5;241m=\u001b[39maxis, out\u001b[38;5;241m=\u001b[39mout, \u001b[38;5;241m*\u001b[39m\u001b[38;5;241m*\u001b[39mpasskwargs)\n\u001b[0;32m---> 88\u001b[0m \u001b[38;5;28;01mreturn\u001b[39;00m \u001b[43mufunc\u001b[49m\u001b[38;5;241;43m.\u001b[39;49m\u001b[43mreduce\u001b[49m\u001b[43m(\u001b[49m\u001b[43mobj\u001b[49m\u001b[43m,\u001b[49m\u001b[43m \u001b[49m\u001b[43maxis\u001b[49m\u001b[43m,\u001b[49m\u001b[43m \u001b[49m\u001b[43mdtype\u001b[49m\u001b[43m,\u001b[49m\u001b[43m \u001b[49m\u001b[43mout\u001b[49m\u001b[43m,\u001b[49m\u001b[43m \u001b[49m\u001b[38;5;241;43m*\u001b[39;49m\u001b[38;5;241;43m*\u001b[39;49m\u001b[43mpasskwargs\u001b[49m\u001b[43m)\u001b[49m\n",
      "\u001b[0;31mValueError\u001b[0m: zero-size array to reduction operation minimum which has no identity"
     ]
    },
    {
     "data": {
      "image/png": "[encoded data removed]",
      "text/plain": [
       "<Figure size 1000x1000 with 4 Axes>"
      ]
     },
     "metadata": {},
     "output_type": "display_data"
    }
   ],
   "source": [
    "train_vars = [train_loss, train_loglik, train_kl, train_nll] \n",
    "validation_vars = [val_loss, val_loglik, val_kl, val_nll]\n",
    "\n",
    "labels = ['Negative ELBO','Negative log likelihood term','KL divergence term','NLL']\n",
    "\n",
    "fig, axes = plt.subplots(4,1, figsize=(10,10))\n",
    "for i,ax in enumerate(axes.flatten()):\n",
    "    ax.plot(train_vars[i], label='train')\n",
    "    ax.plot(validation_vars[i], label='val')\n",
    "    ax.set_title(f'{labels[i]} | best: {np.min(validation_vars[i]):.4f}')\n",
    "    ax.set_ylabel(f'{labels[i]}', fontsize=14)\n",
    "    ax.set_xlabel('Epoch', fontsize=14)\n",
    "    ax.set_xticks(np.arange(0, len(train_vars[i])))\n",
    "    ax.legend()\n",
    "#     ax.set_yscale('log')\n",
    "plt.tight_layout()\n",
    "plt.show()"
   ]
  },
  {
   "cell_type": "markdown",
   "metadata": {},
   "source": [
    "### Test maps"
   ]
  },
  {
   "cell_type": "code",
   "execution_count": null,
   "metadata": {},
   "outputs": [],
   "source": [
    "# test_dataloader = DataLoader(dataset=UpperIndusGridDataset(root_folder, train_mean, train_var), batch_size=1, shuffle=True)\n",
    "\n",
    "inducing_points = True\n",
    "\n",
    "model.eval()\n",
    "\n",
    "# n = val_dataloader.dataset.n\n",
    "\n",
    "with torch.no_grad():\n",
    "\n",
    "    for i, (inputs, aux_inputs) in enumerate(dataloader_map):\n",
    "        \n",
    "        inputs = inputs.permute(0,2,1).to(device)\n",
    "        og_inputs = inputs.to('cpu')\n",
    "#         pdb.set_trace()\n",
    "        inputs, outputs = forward_backward_pass(inputs, None, n, model, optimizer, q, f, x_ind, num_GP_dims=num_GP_dims,\n",
    "                                                inducing_points=True, backward=False, f_marginal=f_marginal_flag, n_samples=1, \n",
    "                                                test_time=True, remove_from_inputs=drop_GP_dims)\n",
    "\n"
   ]
  },
  {
   "cell_type": "code",
   "execution_count": null,
   "metadata": {},
   "outputs": [],
   "source": [
    "# Build MV Normal Distribution\n",
    "q.build_normal()\n",
    "\n",
    "if 'f_samples' in locals():\n",
    "    del f_samples\n",
    "\n",
    "for i in range(5):\n",
    "    f_post = f | (f(x_ind), q.sample())\n",
    "    x = inputs[:,:,:,1:num_GP_dims+1]\n",
    "    f_sample = f_post(x).sample()\n",
    "    if 'f_samples' not in locals():\n",
    "        f_samples = f_sample\n",
    "    else:\n",
    "        f_samples = torch.cat((f_samples, f_sample), dim=0)\n",
    "    "
   ]
  },
  {
   "cell_type": "code",
   "execution_count": null,
   "metadata": {},
   "outputs": [],
   "source": [
    "f_samples = f_samples.permute(2,1,3,0)"
   ]
  },
  {
   "cell_type": "code",
   "execution_count": null,
   "metadata": {},
   "outputs": [],
   "source": [
    "import warnings\n",
    "warnings.filterwarnings('ignore')"
   ]
  },
  {
   "cell_type": "code",
   "execution_count": null,
   "metadata": {},
   "outputs": [],
   "source": [
    "col_names = ['X','Y','wrf_prcp',\n",
    "#              'doy_sin','doy_cos',\n",
    "             'GPsample','pi',#,'alpha','beta',\n",
    "             'S1','S2','S3','S4','S5']\n",
    "#col_names = ['X','Y','Z','wrf_prcp','doy_sin','doy_cos','GPsample','alpha','beta']\n",
    "\n",
    "data = np.concatenate([og_inputs.squeeze().permute(1,0).cpu().numpy()[:,:3],\n",
    "#                        inputs.squeeze().cpu().numpy()[:,9:10], #* np.sqrt(train_var[9:10]) + train_mean[9:10],\n",
    "                       np.expand_dims(inputs.squeeze().cpu().numpy()[:,0], axis=1),\n",
    "                       np.expand_dims(outputs.squeeze().cpu().numpy(), axis=1), # pi\n",
    "                       f_samples.squeeze().detach().cpu().numpy()] # GP samples\n",
    "                      , axis=1\n",
    "                      )\n",
    "\n",
    "# pdb.set_trace()\n",
    "\n",
    "df = pd.DataFrame(data, columns=col_names)\n",
    "\n",
    "df.X = df.X * np.sqrt(train_var[0]) + train_mean[0]\n",
    "df.Y = df.Y * np.sqrt(train_var[1]) + train_mean[1]\n",
    "\n",
    "gdf = geopandas.GeoDataFrame(\n",
    "    df, geometry=geopandas.points_from_xy(df.X, df.Y))\n",
    "\n",
    "gdf['uniform'] = gdf.apply(lambda x: np.random.uniform(0,1),axis=1)\n",
    "#gdf['uniform'] = np.random.uniform(0,1)\n",
    "\n",
    "gdf['sample'] = gdf.apply(sample_apply, axis=1, likelihood_fn=model.likelihood)\n",
    "\n",
    "gdf['sample_occurrence'] = gdf['sample'].apply(lambda x: 1 if x > 1 else 0)\n",
    "\n",
    "# gdf['uniform'] = gdf.apply(lambda x: 0.5, axis=1)\n",
    "# gdf['bg_median'] = gdf.apply(sample_apply, axis=1)\n",
    "# gdf['g_mean'] = gdf['alpha']/gdf['beta']\n",
    "\n",
    "gdf['p'] = 1 - gdf['pi']\n",
    "gdf['p_binary'] = gdf['sample'].apply(lambda x: 1 if x >= 0.5 else 0)"
   ]
  },
  {
   "cell_type": "code",
   "execution_count": null,
   "metadata": {},
   "outputs": [],
   "source": [
    "st_stations = st.groupby('Station').mean()[['X','Y']] * np.sqrt(train_var[:2]) + train_mean[:2]"
   ]
  },
  {
   "cell_type": "code",
   "execution_count": null,
   "metadata": {},
   "outputs": [],
   "source": [
    "gdf_stations = geopandas.GeoDataFrame(geometry=geopandas.points_from_xy(x_ind_plot[:,0], x_ind_plot[:,1]))\n",
    "gdf_val_stations = geopandas.GeoDataFrame(geometry=geopandas.points_from_xy(x_val_plot[:,0], x_val_plot[:,1]))\n",
    "\n",
    "plt.figure()\n",
    "gdf_stations['q_sample'] = q.sample().detach().cpu().numpy()\n",
    "plt.scatter(x_ind_plot[:,0],x_ind_plot[:,1], label='training locations')\n",
    "plt.scatter(x_val_plot[:,0],x_val_plot[:,1], label='test locations')\n",
    "# gdf_stations.plot('q_sample', cmap='viridis')\n",
    "# gdf_val_stations.plot()\n",
    "plt.gca().set_aspect('equal')\n",
    "plt.legend()\n",
    "plt.show()\n",
    "\n",
    "# plt.plot(gdf_stations['geometry'].x, gdf_stations['q_sample'], 'o')"
   ]
  },
  {
   "cell_type": "code",
   "execution_count": null,
   "metadata": {},
   "outputs": [],
   "source": [
    "variables = ['wrf_prcp',\n",
    "             'p_binary',\n",
    "#              'g_mean',\n",
    "#              'bg_median',\n",
    "#              'Z',\n",
    "             'sample',\n",
    "             'GPsample',\n",
    "             'S1','S2','S3','S4','S5',\n",
    "            ]\n",
    "\n",
    "labels = ['RCM simulated precip. (mm/day)', \n",
    "          'GP-MLP probability of precip. occurrence',\n",
    "#           '(c) GP-MLP Gamma mean precip. (mm/day)',\n",
    "#           '(d) GP-MLP median precip. (mm/day)',\n",
    "#           'Elevation (m.a.s.l.)',\n",
    "          'Sample from GP-MLP outputs (mm/day)', \n",
    "          'GP sample', 'S1','S2','S3','S4','S5',\n",
    "         ]\n",
    "\n",
    "cmaps = ['terrain',\n",
    "         'viridis',\n",
    "         'terrain',\n",
    "         'terrain',\n",
    "         'terrain',\n",
    "         'terrain',\n",
    "         'terrain',\n",
    "         'terrain',\n",
    "         'terrain',\n",
    "        ]\n",
    "\n",
    "fig, axes = plt.subplots(3,3, figsize=(20,20))\n",
    "\n",
    "for idx, ax in enumerate(axes.flatten()):\n",
    "    \n",
    "    if idx < len(variables):\n",
    "    \n",
    "    #     gdf.set_crs(catchments.crs)\n",
    "    #     gdf_clip = geopandas.clip(gdf, catchments)\n",
    "    \n",
    "        gdf.plot(variables[idx], ax=ax, markersize=5, marker='.', legend=True, cmap=cmaps[idx], legend_kwds={'shrink': 0.6},)\n",
    "#         beas.plot(ax=ax, facecolor='None', edgecolor='black')\n",
    "        #gdf_stations.plot(ax=ax, color='red')\n",
    "        #sutlej.plot(ax=ax, facecolor='None', edgecolor='black')\n",
    "\n",
    "        ax.set_title(labels[idx],fontsize=15)\n",
    "        \n",
    "#         if variables[idx]=='GPsample':\n",
    "#             ax.scatter(x_ind_plot[:,0],x_ind_plot[:,1], s=4, c='r')\n",
    "#             ax.scatter(st_stations['X'],st_stations['Y'], s=3, c='w')\n",
    "\n",
    "    ax.set_frame_on(False)\n",
    "    ax.set_yticks([])\n",
    "    ax.set_xticks([])     \n",
    "\n",
    "plt.tight_layout()\n",
    "# plt.savefig('maps2',dpi=300)"
   ]
  },
  {
   "cell_type": "code",
   "execution_count": null,
   "metadata": {},
   "outputs": [],
   "source": []
  }
 ],
 "metadata": {
  "kernelspec": {
   "display_name": "Python [conda env:bcdp]",
   "language": "python",
   "name": "conda-env-bcdp-py"
  },
  "language_info": {
   "codemirror_mode": {
    "name": "ipython",
    "version": 3
   },
   "file_extension": ".py",
   "mimetype": "text/x-python",
   "name": "python",
   "nbconvert_exporter": "python",
   "pygments_lexer": "ipython3",
   "version": "3.9.12"
  }
 },
 "nbformat": 4,
 "nbformat_minor": 5
}
