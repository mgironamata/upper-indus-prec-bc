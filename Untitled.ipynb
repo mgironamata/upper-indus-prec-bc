{
 "cells": [
  {
   "cell_type": "code",
   "execution_count": 107,
   "id": "59510539-4d81-454e-b9e3-3960cb15300b",
   "metadata": {},
   "outputs": [
    {
     "name": "stdout",
     "output_type": "stream",
     "text": [
      "The autoreload extension is already loaded. To reload it, use:\n",
      "  %reload_ext autoreload\n"
     ]
    }
   ],
   "source": [
    "import numpy as np\n",
    "import pandas as pd\n",
    "import xarray as xr\n",
    "import seaborn as sns\n",
    "import geopandas\n",
    "import os, shutil, time, pdb, random, pickle\n",
    "import scipy.stats as stats \n",
    "\n",
    "from IPython.display import clear_output\n",
    "\n",
    "from math import pi\n",
    "from datetime import datetime\n",
    "from collections import OrderedDict\n",
    "\n",
    "import torch\n",
    "from torch.utils.data import TensorDataset, DataLoader \n",
    "\n",
    "from importlib import reload\n",
    "from models import *\n",
    "from utils import *\n",
    "from runmanager import *\n",
    "from experiment import *\n",
    "from plot_utils import *\n",
    "from preprocessing_utils import *\n",
    "\n",
    "# from shapely.geometry import box, mapping\n",
    "import descartes\n",
    "\n",
    "from sklearn.metrics import mean_squared_error as mse\n",
    "from sklearn.model_selection import KFold\n",
    "\n",
    "import matplotlib\n",
    "from matplotlib import pyplot as plt\n",
    "matplotlib.rc_file_defaults()\n",
    "%matplotlib inline\n",
    "\n",
    "import seaborn as sns\n",
    "\n",
    "pd.options.display.max_columns = None\n",
    "np.random.seed(4)\n",
    "\n",
    "%load_ext autoreload\n",
    "%autoreload 2\n",
    "\n",
    "# Detect device.\n",
    "if torch.cuda.is_available():\n",
    "    device = \"cuda\"\n",
    "else:\n",
    "    device = \"cpu\""
   ]
  },
  {
   "cell_type": "code",
   "execution_count": 108,
   "id": "3a98141d-00a6-49c1-b085-700c3c43c5f9",
   "metadata": {},
   "outputs": [],
   "source": [
    "# Parameters\n",
    "start=\"1998-01-01\"\n",
    "end=\"2007-12-31\"\n",
    "\n",
    "TRAIN_PATH = \"../data/pickle/df_stations_all_nonzero_extended.pkl\"\n",
    "TEST_PATH = \"../data/pickle/df_stations_val_all_nonzero_extended.pkl\""
   ]
  },
  {
   "cell_type": "code",
   "execution_count": 109,
   "id": "5a81b3ed-9863-4686-b62f-15d1350d5315",
   "metadata": {},
   "outputs": [],
   "source": [
    "st = (import_dataframe(TRAIN_PATH).pipe(drop_df_NaNs, series='Prec'))"
   ]
  },
  {
   "cell_type": "code",
   "execution_count": 110,
   "id": "b183136f-369f-4c32-963d-71fb34e05def",
   "metadata": {},
   "outputs": [],
   "source": [
    "st['Year'] = pd.DatetimeIndex(pd.to_datetime(st['Date'], format='%Y-%m-%d')).year\n",
    "st['month'] = pd.DatetimeIndex(pd.to_datetime(st['Date'], format='%Y-%m-%d')).month\n",
    "st['season'] = st.apply(season_apply, axis=1) \n",
    "st['StationYearTuple'] = st[['Station','Year']].apply(tuple, 1)"
   ]
  },
  {
   "cell_type": "code",
   "execution_count": 111,
   "id": "08c61331-6487-47b7-a6a7-1b4fc5a251da",
   "metadata": {},
   "outputs": [
    {
     "name": "stdout",
     "output_type": "stream",
     "text": [
      "364771 1034\n",
      "331266 907\n",
      "829\n"
     ]
    }
   ],
   "source": [
    "print(len(st), len(st['StationYearTuple'].unique()))\n",
    "st = FilterCompleteStationYears(st)\n",
    "print(len(st), len(st['StationYearTuple'].unique()))\n",
    "print(len(st[st['Basin'].isin(['Beas','Sutlej'])]['StationYearTuple'].unique()))"
   ]
  },
  {
   "cell_type": "code",
   "execution_count": 58,
   "id": "d16a3437-e8ec-4dbb-80e0-1372c6592916",
   "metadata": {},
   "outputs": [],
   "source": [
    "gst = st.groupby(['Station','Year']).count().reset_index()"
   ]
  },
  {
   "cell_type": "code",
   "execution_count": 61,
   "id": "3efacbee-d1d8-48d7-b0d1-dd9ae60bb05e",
   "metadata": {},
   "outputs": [],
   "source": [
    "StationYearPairs = list(gst[gst['Prec']>=365][['Station','Year']].apply(tuple,1))"
   ]
  },
  {
   "cell_type": "code",
   "execution_count": 63,
   "id": "d95217af-9de9-49a4-aca0-4a9b7d6ecf35",
   "metadata": {},
   "outputs": [
    {
     "data": {
      "image/png": "[encoded data removed]",
      "text/plain": [
       "<Figure size 2000x500 with 1 Axes>"
      ]
     },
     "metadata": {},
     "output_type": "display_data"
    }
   ],
   "source": [
    "sns.set_theme(context='paper',style='white',font_scale=1.4)\n",
    "fig, ax = plt.subplots(figsize=(20,5))\n",
    "sns.barplot(data=gst[gst['Prec']>364].groupby('Year').count().reset_index(),x='Year',y='X',color='blue',ax=ax)\n",
    "plt.show()"
   ]
  },
  {
   "cell_type": "code",
   "execution_count": 64,
   "id": "6ebfc8c1-06b5-47e5-a25a-482eb20c638a",
   "metadata": {},
   "outputs": [],
   "source": [
    "st_completeyears = st[st[['Station','Year']].apply(tuple, 1).isin(StationYearPairs)]"
   ]
  },
  {
   "cell_type": "code",
   "execution_count": 70,
   "id": "8c835f8b-5897-4b32-a3d7-dad2377a2c4c",
   "metadata": {},
   "outputs": [
    {
     "name": "stderr",
     "output_type": "stream",
     "text": [
      "<ipython-input-70-202f77e6d036>:1: SettingWithCopyWarning: \n",
      "A value is trying to be set on a copy of a slice from a DataFrame.\n",
      "Try using .loc[row_indexer,col_indexer] = value instead\n",
      "\n",
      "See the caveats in the documentation: https://pandas.pydata.org/pandas-docs/stable/user_guide/indexing.html#returning-a-view-versus-a-copy\n",
      "  st_completeyears['StationYearTuple'] = st_completeyears[['Station','Year']].apply(tuple, 1)\n"
     ]
    }
   ],
   "source": [
    "st_completeyears['StationYearTuple'] = st_completeyears[['Station','Year']].apply(tuple, 1)"
   ]
  },
  {
   "cell_type": "code",
   "execution_count": 78,
   "id": "5a888066-1d10-4e70-98bc-5c0c0790ed3a",
   "metadata": {},
   "outputs": [
    {
     "data": {
      "text/plain": [
       "829"
      ]
     },
     "execution_count": 78,
     "metadata": {},
     "output_type": "execute_result"
    }
   ],
   "source": [
    "len(st_completeyears[st_completeyears['Basin'].isin(['Beas','Sutlej'])]['StationYearTuple'].unique())"
   ]
  },
  {
   "cell_type": "code",
   "execution_count": 81,
   "id": "97dbac6a-ae44-4926-b374-15f1d3db6251",
   "metadata": {},
   "outputs": [
    {
     "data": {
      "text/plain": [
       "58"
      ]
     },
     "execution_count": 81,
     "metadata": {},
     "output_type": "execute_result"
    }
   ],
   "source": [
    "len(st['Station'].unique())"
   ]
  },
  {
   "cell_type": "code",
   "execution_count": null,
   "id": "25559ac3-6785-4796-9d82-1f2bbd74c03e",
   "metadata": {},
   "outputs": [],
   "source": []
  }
 ],
 "metadata": {
  "kernelspec": {
   "display_name": "Python 3",
   "language": "python",
   "name": "python3"
  },
  "language_info": {
   "codemirror_mode": {
    "name": "ipython",
    "version": 3
   },
   "file_extension": ".py",
   "mimetype": "text/x-python",
   "name": "python",
   "nbconvert_exporter": "python",
   "pygments_lexer": "ipython3",
   "version": "3.8.10"
  }
 },
 "nbformat": 4,
 "nbformat_minor": 5
}
