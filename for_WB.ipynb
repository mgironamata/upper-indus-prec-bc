{
 "cells": [
  {
   "cell_type": "code",
   "execution_count": 1,
   "metadata": {},
   "outputs": [
    {
     "name": "stderr",
     "output_type": "stream",
     "text": [
      "/data/hpcdata/users/marron31/conda-envs/bcdp/lib/python3.9/site-packages/fdm/fdm.py:38: DeprecationWarning: `np.math` is a deprecated alias for the standard library `math` module (Deprecated Numpy 1.25). Replace usages of `np.math` with `math`\n",
      "  coefs = mat.inv()[:, deriv] * np.math.factorial(deriv)\n",
      "/data/hpcdata/users/marron31/conda-envs/bcdp/lib/python3.9/site-packages/fdm/fdm.py:44: DeprecationWarning: `np.math` is a deprecated alias for the standard library `math` module (Deprecated Numpy 1.25). Replace usages of `np.math` with `math`\n",
      "  / np.math.factorial(order)\n",
      "/data/hpcdata/users/marron31/conda-envs/bcdp/lib/python3.9/site-packages/fdm/fdm.py:38: DeprecationWarning: `np.math` is a deprecated alias for the standard library `math` module (Deprecated Numpy 1.25). Replace usages of `np.math` with `math`\n",
      "  coefs = mat.inv()[:, deriv] * np.math.factorial(deriv)\n",
      "/data/hpcdata/users/marron31/conda-envs/bcdp/lib/python3.9/site-packages/fdm/fdm.py:44: DeprecationWarning: `np.math` is a deprecated alias for the standard library `math` module (Deprecated Numpy 1.25). Replace usages of `np.math` with `math`\n",
      "  / np.math.factorial(order)\n",
      "/data/hpcdata/users/marron31/conda-envs/bcdp/lib/python3.9/site-packages/seaborn/rcmod.py:82: DeprecationWarning: distutils Version classes are deprecated. Use packaging.version instead.\n",
      "  if LooseVersion(mpl.__version__) >= \"3.0\":\n",
      "/data/hpcdata/users/marron31/conda-envs/bcdp/lib/python3.9/site-packages/setuptools/_distutils/version.py:351: DeprecationWarning: distutils Version classes are deprecated. Use packaging.version instead.\n",
      "  other = LooseVersion(other)\n",
      "/data/hpcdata/users/marron31/conda-envs/bcdp/lib/python3.9/site-packages/captum/attr/_utils/visualization.py:15: DeprecationWarning: Importing display from IPython.core.display is deprecated since IPython 7.14, please import from IPython display\n",
      "  from IPython.core.display import HTML, display\n"
     ]
    }
   ],
   "source": [
    "import time\n",
    "\n",
    "import torch\n",
    "import torch.nn as nn\n",
    "from torch.utils.data import DataLoader\n",
    "\n",
    "from stheno.torch import B, GP, EQ, Normal, Measure, Matern12, Matern32, Matern52\n",
    "\n",
    "from models import MLP\n",
    "from utils import RunningAverage\n",
    "\n",
    "from elbo import ApproximatePosterior\n",
    "from gp_mlp import forward_backward_pass, UpperIndusDataset\n",
    "\n",
    "# Detect device.\n",
    "if torch.cuda.is_available():\n",
    "    device = \"cuda\"\n",
    "else:\n",
    "    device = \"cpu\""
   ]
  },
  {
   "cell_type": "code",
   "execution_count": 2,
   "metadata": {},
   "outputs": [],
   "source": [
    "import warnings\n",
    "warnings.filterwarnings('ignore')"
   ]
  },
  {
   "cell_type": "code",
   "execution_count": 3,
   "metadata": {},
   "outputs": [],
   "source": [
    "# Let all of Stheno run on that device.\n",
    "B.on_device(device).__enter__()\n",
    "    \n",
    "# B.epsilon is the default value for the diagonal jitter of the matrix\n",
    "B.epsilon = 1e-4  # Needs to be relatively high for `float32`s"
   ]
  },
  {
   "cell_type": "code",
   "execution_count": 4,
   "metadata": {},
   "outputs": [],
   "source": [
    "# DEFINE INPUT AND OUTPUT VARIABLES (PREDICTORS AND PREDICTANDS)\n",
    "\n",
    "predictant = ['Prec']\n",
    "predictors = [\n",
    "              'X','Y','Z', \n",
    "              'RAIN',\n",
    "              'doy_sin', 'doy_cos', \n",
    "              'W500', 'RH2', 'U500', 'V10', \n",
    "              'RH500', 'U10', 'V500', \n",
    "              'T2MIN', 'T2', 'T2MAX'\n",
    "                 ]\n",
    "    \n",
    "\n",
    "# DEFINE TRAINING STATIONS\n",
    "train_stations = ['ABO', 'AHO', 'AIR', 'ALV', 'APT', 'ARO', 'AUB', 'AVA', 'AVB', 'BAC', 'BAL', 'BEA', 'BEC', 'BEGTH', 'BEGWA', 'BEH', 'BEHAK', 'BEKSE', 'BERIF', 'BES', 'BEV', 'BIN', 'BIV', 'BLA', 'BRA', 'BRW', 'BSP', 'BSW', 'CAV', 'CDF', 'CHA', 'CHB', 'CHD', 'CHM', 'CHW', 'CIM', 'COV', 'CTA', 'CTO', 'CUE', 'DAV', 'DIB', 'DIS', 'DLBAL', 'DLFEB', 'DLZUG', 'DMA', 'DOL', 'EIT', 'ENG', 'ERN', 'EVL', 'EVO', 'FIL', 'FIO', 'FIT', 'FLI', 'FRE', 'GEN', 'GOA', 'GRC', 'GRH', 'GSB', 'GSG', 'GST', 'GTT', 'GWA', 'HER', 'HIR', 'HOE', 'INF', 'IYDEO', 'IYDEU', 'IYMMR', 'IYMUW', 'IYPEN', 'IYPFE', 'IYPFI', 'IYPLI', 'IYPRU', 'IYREI', 'IYRID', 'IYROT', 'IYSMG', 'IYSMT', 'IYSUL', 'IYSUM', 'IYSVP', 'IYSWA', 'IYTER', 'IYTOB', 'IYULT', 'IYVAA', 'IYVAL', 'IYWEL', 'IYWOL', 'KLA', 'KRO', 'KSE', 'LBA', 'LEH', 'LEU', 'LOC', 'LOE', 'MAL', 'MAT', 'MAU', 'MLS', 'MOD', 'MSO', 'MST', 'MTE', 'MUE', 'MUS', 'MVE', 'NABCHA', 'NABDAV', 'NAP', 'NEB', 'OBI', 'OBW', 'PDM', 'PIG', 'PIL', 'PLF', 'PON', 'PSB', 'PUD', 'REC', 'ROB', 'ROE', 'ROG', 'RUM', 'SAB', 'SAE', 'SAF', 'SAM', 'SAN', 'SAP', 'SAS', 'SBA', 'SBE', 'SCU', 'SDO', 'SED', 'SEP', 'SGD', 'SIA', 'SIM', 'SLFAM2', 'SLFEM2', 'SLFFIS', 'SLFGL2', 'SLFMEI', 'SLFOBM', 'SLFSA3', 'SLFSC2', 'SLFSC3', 'SLFTU2', 'SLFUR2', 'SLFURS', 'SNE', 'SOG', 'SRL', 'STP', 'SVG', 'SWA', 'TIBED', 'TIBIA', 'TICOL', 'TIFUS', 'TIOLI', 'TST', 'UNS', 'URB', 'VDLSP', 'VDSEP', 'VEL', 'VIO', 'VRI', 'VSANZ', 'VSARO', 'VSBRI', 'VSCHY', 'VSDUR', 'VSEMO', 'VSFIN', 'VSGDX', 'VSJEI', 'VSMAT', 'VSSAB', 'VSSTA', 'VST', 'VSVER', 'WAW', 'WET', 'ZER', 'ZEV', 'ZNZ']"
   ]
  },
  {
   "cell_type": "code",
   "execution_count": 5,
   "metadata": {},
   "outputs": [],
   "source": [
    "# Dates (but in this notebook we only use data for year 2000)\n",
    "start=\"1900-01-01\"\n",
    "end=\"2020-12-31\""
   ]
  },
  {
   "cell_type": "code",
   "execution_count": 6,
   "metadata": {},
   "outputs": [],
   "source": [
    "# Data for year 2000\n",
    "TRAIN_PATH = 'alps_2000.pkl'"
   ]
  },
  {
   "cell_type": "markdown",
   "metadata": {},
   "source": [
    "### Dataloaders"
   ]
  },
  {
   "cell_type": "code",
   "execution_count": 7,
   "metadata": {
    "scrolled": true
   },
   "outputs": [],
   "source": [
    "ds_dataset = UpperIndusDataset(TRAIN_PATH, start, end, predictant, predictors, stations=train_stations)\n",
    "\n",
    "train_dataloader = DataLoader(dataset=ds_dataset, batch_size=16, shuffle=True)"
   ]
  },
  {
   "cell_type": "markdown",
   "metadata": {},
   "source": [
    "# Models"
   ]
  },
  {
   "cell_type": "code",
   "execution_count": 8,
   "metadata": {},
   "outputs": [],
   "source": [
    "num_GP_dims = 2"
   ]
  },
  {
   "cell_type": "code",
   "execution_count": 9,
   "metadata": {},
   "outputs": [
    {
     "name": "stdout",
     "output_type": "stream",
     "text": [
      "Number of parameters: 3603\n"
     ]
    }
   ],
   "source": [
    "# This is the MLP used in the GP-MLP model\n",
    "model = MLP(in_channels= len(predictors)+1,#-num_GP_dims, \n",
    "            hidden_channels=[50,50], \n",
    "            likelihood_fn='bgmm', # 'gamma', 'ggmm', bgmm', 'b2gmm', 'b2sgmm'\n",
    "            dropout_rate=0,\n",
    "           )\n",
    "\n",
    "print(f'Number of parameters: {sum(p.numel() for p in model.parameters())}')"
   ]
  },
  {
   "cell_type": "code",
   "execution_count": 10,
   "metadata": {},
   "outputs": [
    {
     "data": {
      "text/plain": [
       "MLP(\n",
       "  (relu): ReLU()\n",
       "  (dropout): Dropout(p=0, inplace=False)\n",
       "  (hidden): ModuleList(\n",
       "    (0): Linear(in_features=17, out_features=50, bias=True)\n",
       "    (1): Linear(in_features=50, out_features=50, bias=True)\n",
       "  )\n",
       "  (out): Linear(in_features=50, out_features=3, bias=True)\n",
       ")"
      ]
     },
     "execution_count": 10,
     "metadata": {},
     "output_type": "execute_result"
    }
   ],
   "source": [
    "model.to(device)"
   ]
  },
  {
   "cell_type": "markdown",
   "metadata": {},
   "source": [
    "### GP-MLP"
   ]
  },
  {
   "cell_type": "code",
   "execution_count": 11,
   "metadata": {},
   "outputs": [],
   "source": [
    "print_progress = True\n",
    "plot_x_ind = True\n",
    "validate_flag = True\n",
    "f_marginal_flag = False\n",
    "mc_samples = 5"
   ]
  },
  {
   "cell_type": "code",
   "execution_count": 12,
   "metadata": {},
   "outputs": [],
   "source": [
    "st = ds_dataset.st\n",
    "coords_train_stations = st.groupby('Station').mean()[predictors[:num_GP_dims]].values\n",
    "\n",
    "x_ind_stations = coords_train_stations"
   ]
  },
  {
   "cell_type": "code",
   "execution_count": 13,
   "metadata": {
    "tags": []
   },
   "outputs": [],
   "source": [
    "# Inducing points are fixed to the station locations\n",
    "x_ind = torch.tensor(x_ind_stations, dtype=torch.float32).detach().requires_grad_(False).to(device)\n",
    "\n",
    "num_ind_points = len(x_ind)\n",
    "n = len(st)\n",
    "\n",
    "ls = torch.nn.Parameter(torch.tensor(2, dtype=torch.float32, requires_grad=True).to(device))\n",
    "    \n",
    "q = ApproximatePosterior(num_ind_points, use_device=device) # q is the approximate posterior\n",
    "\n",
    "# optimizer = torch.optim.Adam(list(model.parameters())+list(q.parameters()), lr=10e-4)\n",
    "optimizer = torch.optim.Adam(list(model.parameters())+list(q.parameters())+[ls], lr=10e-4)"
   ]
  },
  {
   "cell_type": "code",
   "execution_count": 14,
   "metadata": {},
   "outputs": [],
   "source": [
    "e_past = 0\n",
    "\n",
    "train_loss, train_loglik, train_kl, train_nll = [], [], [], []\n",
    "val_loss, val_loglik, val_kl, val_nll = [], [], [], []\n",
    "\n",
    "test_loss, test_loglik, test_kl, test_nll  = [], [], [], []\n",
    "\n",
    "train_loss_batch, train_loglik_batch, train_kl_batch, train_nll_batch = RunningAverage(), RunningAverage(), RunningAverage(), RunningAverage()\n",
    "val_loss_batch, val_loglik_batch, val_kl_batch, val_nll_batch = RunningAverage(), RunningAverage(), RunningAverage(),RunningAverage()"
   ]
  },
  {
   "cell_type": "code",
   "execution_count": 17,
   "metadata": {
    "scrolled": true
   },
   "outputs": [
    {
     "name": "stdout",
     "output_type": "stream",
     "text": [
      "Memory allocated: 1, 25071616.00\n",
      "Max memory allocated: 1, 44838400.00\n",
      "Train epoch  1: -elbo: 1.803 | kl: 2437.826 | -recon: 1.763 | nll: 1.763 -- time: 1.28\n",
      "GP lengthscale: 0.8358832597732544\n",
      "Memory allocated: 2, 28010496.00\n",
      "Max memory allocated: 2, 44838400.00\n",
      "Train epoch  2: -elbo: 1.808 | kl: 2367.171 | -recon: 1.770 | nll: 1.769 -- time: 1.27\n",
      "GP lengthscale: 0.8302987217903137\n",
      "Memory allocated: 3, 25620480.00\n",
      "Max memory allocated: 3, 45384192.00\n",
      "Train epoch  3: -elbo: 1.802 | kl: 2297.626 | -recon: 1.764 | nll: 1.763 -- time: 1.32\n",
      "GP lengthscale: 0.8247811198234558\n",
      "Memory allocated: 4, 28559360.00\n",
      "Max memory allocated: 4, 45384192.00\n",
      "Train epoch  4: -elbo: 1.799 | kl: 2231.638 | -recon: 1.762 | nll: 1.762 -- time: 1.32\n",
      "GP lengthscale: 0.8193244338035583\n",
      "Memory allocated: 5, 26169344.00\n",
      "Max memory allocated: 5, 45933056.00\n",
      "Train epoch  5: -elbo: 1.796 | kl: 2167.982 | -recon: 1.761 | nll: 1.760 -- time: 1.35\n",
      "GP lengthscale: 0.813925564289093\n",
      "Memory allocated: 6, 29108224.00\n",
      "Max memory allocated: 6, 45933056.00\n",
      "Train epoch  6: -elbo: 1.795 | kl: 2105.441 | -recon: 1.761 | nll: 1.760 -- time: 1.32\n",
      "GP lengthscale: 0.8085885643959045\n",
      "Memory allocated: 7, 26718208.00\n",
      "Max memory allocated: 7, 46491136.00\n",
      "Train epoch  7: -elbo: 1.795 | kl: 2045.317 | -recon: 1.761 | nll: 1.760 -- time: 1.33\n",
      "GP lengthscale: 0.8033097386360168\n",
      "Memory allocated: 8, 29657088.00\n",
      "Max memory allocated: 8, 46491136.00\n",
      "Train epoch  8: -elbo: 1.797 | kl: 1986.941 | -recon: 1.764 | nll: 1.763 -- time: 1.34\n",
      "GP lengthscale: 0.7980890274047852\n",
      "Memory allocated: 9, 27267072.00\n",
      "Max memory allocated: 9, 47035904.00\n",
      "Train epoch  9: -elbo: 1.789 | kl: 1930.546 | -recon: 1.757 | nll: 1.756 -- time: 1.31\n",
      "GP lengthscale: 0.7929261922836304\n",
      "Memory allocated: 10, 30205952.00\n",
      "Max memory allocated: 10, 47035904.00\n",
      "Train epoch  10: -elbo: 1.791 | kl: 1876.493 | -recon: 1.760 | nll: 1.759 -- time: 1.32\n",
      "GP lengthscale: 0.7878178954124451\n",
      "Memory allocated: 11, 27815936.00\n",
      "Max memory allocated: 11, 47589888.00\n",
      "Train epoch  11: -elbo: 1.789 | kl: 1822.894 | -recon: 1.759 | nll: 1.758 -- time: 1.33\n",
      "GP lengthscale: 0.7827661633491516\n",
      "Memory allocated: 12, 30754816.00\n",
      "Max memory allocated: 12, 47589888.00\n",
      "Train epoch  12: -elbo: 1.786 | kl: 1772.103 | -recon: 1.757 | nll: 1.756 -- time: 1.32\n",
      "GP lengthscale: 0.7777677774429321\n",
      "Memory allocated: 13, 28364800.00\n",
      "Max memory allocated: 13, 48113152.00\n",
      "Train epoch  13: -elbo: 1.784 | kl: 1722.302 | -recon: 1.756 | nll: 1.755 -- time: 1.32\n",
      "GP lengthscale: 0.7728238105773926\n",
      "Memory allocated: 14, 31303680.00\n",
      "Max memory allocated: 14, 48113152.00\n",
      "Train epoch  14: -elbo: 1.781 | kl: 1674.752 | -recon: 1.753 | nll: 1.753 -- time: 1.33\n",
      "GP lengthscale: 0.7679307460784912\n",
      "Memory allocated: 15, 28913664.00\n",
      "Max memory allocated: 15, 48691712.00\n",
      "Train epoch  15: -elbo: 1.785 | kl: 1627.837 | -recon: 1.759 | nll: 1.758 -- time: 1.31\n",
      "GP lengthscale: 0.7630919814109802\n",
      "Memory allocated: 16, 31852544.00\n",
      "Max memory allocated: 16, 48691712.00\n",
      "Train epoch  16: -elbo: 1.780 | kl: 1582.670 | -recon: 1.754 | nll: 1.754 -- time: 1.34\n",
      "GP lengthscale: 0.7583057284355164\n",
      "Memory allocated: 17, 29462528.00\n",
      "Max memory allocated: 17, 49237504.00\n",
      "Train epoch  17: -elbo: 1.784 | kl: 1538.903 | -recon: 1.759 | nll: 1.759 -- time: 1.33\n",
      "GP lengthscale: 0.7535701394081116\n",
      "Memory allocated: 18, 32401408.00\n",
      "Max memory allocated: 18, 49237504.00\n",
      "Train epoch  18: -elbo: 1.779 | kl: 1496.368 | -recon: 1.754 | nll: 1.754 -- time: 1.32\n",
      "GP lengthscale: 0.7488852143287659\n",
      "Memory allocated: 19, 30011392.00\n",
      "Max memory allocated: 19, 49781248.00\n",
      "Train epoch  19: -elbo: 1.776 | kl: 1455.229 | -recon: 1.752 | nll: 1.752 -- time: 1.03\n",
      "GP lengthscale: 0.7442502975463867\n",
      "Memory allocated: 20, 32950272.00\n",
      "Max memory allocated: 20, 49781248.00\n",
      "Train epoch  20: -elbo: 1.779 | kl: 1415.529 | -recon: 1.755 | nll: 1.755 -- time: 0.92\n",
      "GP lengthscale: 0.7396650314331055\n",
      "Memory allocated: 21, 30560256.00\n",
      "Max memory allocated: 21, 50317824.00\n",
      "Train epoch  21: -elbo: 1.777 | kl: 1376.587 | -recon: 1.754 | nll: 1.754 -- time: 0.95\n",
      "GP lengthscale: 0.7351291179656982\n",
      "Memory allocated: 22, 33499136.00\n",
      "Max memory allocated: 22, 50317824.00\n",
      "Train epoch  22: -elbo: 1.775 | kl: 1339.265 | -recon: 1.753 | nll: 1.752 -- time: 0.96\n",
      "GP lengthscale: 0.7306392192840576\n",
      "Memory allocated: 23, 31109120.00\n",
      "Max memory allocated: 23, 50878976.00\n",
      "Train epoch  23: -elbo: 1.778 | kl: 1302.872 | -recon: 1.757 | nll: 1.756 -- time: 0.94\n",
      "GP lengthscale: 0.7261970639228821\n",
      "Memory allocated: 24, 34048000.00\n",
      "Max memory allocated: 24, 50878976.00\n",
      "Train epoch  24: -elbo: 1.774 | kl: 1267.466 | -recon: 1.753 | nll: 1.752 -- time: 1.09\n",
      "GP lengthscale: 0.7218016982078552\n",
      "Memory allocated: 25, 31657984.00\n",
      "Max memory allocated: 25, 51429888.00\n",
      "Train epoch  25: -elbo: 1.772 | kl: 1233.437 | -recon: 1.751 | nll: 1.751 -- time: 1.21\n",
      "GP lengthscale: 0.7174516916275024\n",
      "Memory allocated: 26, 34596864.00\n",
      "Max memory allocated: 26, 51429888.00\n",
      "Train epoch  26: -elbo: 1.772 | kl: 1200.273 | -recon: 1.752 | nll: 1.752 -- time: 1.30\n",
      "GP lengthscale: 0.7131475210189819\n",
      "Memory allocated: 27, 32206848.00\n",
      "Max memory allocated: 27, 51961344.00\n",
      "Train epoch  27: -elbo: 1.770 | kl: 1168.334 | -recon: 1.750 | nll: 1.750 -- time: 1.31\n",
      "GP lengthscale: 0.7088860869407654\n",
      "Memory allocated: 28, 35145728.00\n",
      "Max memory allocated: 28, 51961344.00\n",
      "Train epoch  28: -elbo: 1.769 | kl: 1136.756 | -recon: 1.750 | nll: 1.750 -- time: 1.28\n",
      "GP lengthscale: 0.7046706080436707\n",
      "Memory allocated: 29, 32755712.00\n",
      "Max memory allocated: 29, 52518400.00\n",
      "Train epoch  29: -elbo: 1.764 | kl: 1106.477 | -recon: 1.746 | nll: 1.745 -- time: 1.34\n",
      "GP lengthscale: 0.7004994750022888\n",
      "Memory allocated: 30, 35694592.00\n",
      "Max memory allocated: 30, 52518400.00\n",
      "Train epoch  30: -elbo: 1.764 | kl: 1077.225 | -recon: 1.746 | nll: 1.745 -- time: 1.27\n",
      "GP lengthscale: 0.6963704824447632\n",
      "Memory allocated: 31, 33304576.00\n",
      "Max memory allocated: 31, 53069312.00\n",
      "Train epoch  31: -elbo: 1.762 | kl: 1048.526 | -recon: 1.745 | nll: 1.744 -- time: 1.27\n",
      "GP lengthscale: 0.692284345626831\n",
      "Memory allocated: 32, 36243456.00\n",
      "Max memory allocated: 32, 53069312.00\n",
      "Train epoch  32: -elbo: 1.766 | kl: 1020.892 | -recon: 1.749 | nll: 1.749 -- time: 1.31\n",
      "GP lengthscale: 0.6882405281066895\n",
      "Memory allocated: 33, 33853440.00\n",
      "Max memory allocated: 33, 53634560.00\n",
      "Train epoch  33: -elbo: 1.761 | kl: 994.105 | -recon: 1.745 | nll: 1.744 -- time: 1.32\n",
      "GP lengthscale: 0.6842368245124817\n",
      "Memory allocated: 34, 36792320.00\n",
      "Max memory allocated: 34, 53634560.00\n",
      "Train epoch  34: -elbo: 1.765 | kl: 968.175 | -recon: 1.749 | nll: 1.748 -- time: 1.27\n",
      "GP lengthscale: 0.680274248123169\n",
      "Memory allocated: 35, 34402304.00\n",
      "Max memory allocated: 35, 54151680.00\n",
      "Train epoch  35: -elbo: 1.761 | kl: 942.875 | -recon: 1.745 | nll: 1.745 -- time: 1.32\n",
      "GP lengthscale: 0.6763513684272766\n",
      "Memory allocated: 36, 37341184.00\n",
      "Max memory allocated: 36, 54151680.00\n",
      "Train epoch  36: -elbo: 1.757 | kl: 918.464 | -recon: 1.742 | nll: 1.742 -- time: 1.35\n",
      "GP lengthscale: 0.6724680662155151\n",
      "Memory allocated: 37, 34951168.00\n",
      "Max memory allocated: 37, 54724096.00\n",
      "Train epoch  37: -elbo: 1.761 | kl: 894.567 | -recon: 1.746 | nll: 1.746 -- time: 1.33\n",
      "GP lengthscale: 0.6686246991157532\n",
      "Memory allocated: 38, 37890048.00\n",
      "Max memory allocated: 38, 54724096.00\n",
      "Train epoch  38: -elbo: 1.758 | kl: 871.400 | -recon: 1.743 | nll: 1.743 -- time: 1.34\n",
      "GP lengthscale: 0.6648204922676086\n",
      "Memory allocated: 39, 35500032.00\n",
      "Max memory allocated: 39, 55267840.00\n",
      "Train epoch  39: -elbo: 1.759 | kl: 849.067 | -recon: 1.745 | nll: 1.744 -- time: 1.33\n",
      "GP lengthscale: 0.6610538363456726\n",
      "Memory allocated: 40, 38438912.00\n",
      "Max memory allocated: 40, 55267840.00\n",
      "Train epoch  40: -elbo: 1.758 | kl: 827.270 | -recon: 1.745 | nll: 1.744 -- time: 1.33\n",
      "GP lengthscale: 0.6573246717453003\n",
      "Memory allocated: 41, 36048896.00\n",
      "Max memory allocated: 41, 55816704.00\n",
      "Train epoch  41: -elbo: 1.762 | kl: 806.020 | -recon: 1.748 | nll: 1.748 -- time: 1.23\n",
      "GP lengthscale: 0.6536334753036499\n",
      "Memory allocated: 42, 38987776.00\n",
      "Max memory allocated: 42, 55816704.00\n",
      "Train epoch  42: -elbo: 1.753 | kl: 785.434 | -recon: 1.740 | nll: 1.740 -- time: 1.34\n",
      "GP lengthscale: 0.6499796509742737\n",
      "Memory allocated: 43, 36597760.00\n",
      "Max memory allocated: 43, 56356352.00\n",
      "Train epoch  43: -elbo: 1.754 | kl: 765.362 | -recon: 1.742 | nll: 1.741 -- time: 1.33\n",
      "GP lengthscale: 0.6463621258735657\n",
      "Memory allocated: 44, 39536640.00\n",
      "Max memory allocated: 44, 56356352.00\n",
      "Train epoch  44: -elbo: 1.751 | kl: 746.152 | -recon: 1.739 | nll: 1.738 -- time: 1.33\n",
      "GP lengthscale: 0.6427789926528931\n",
      "Memory allocated: 45, 37146624.00\n",
      "Max memory allocated: 45, 56913408.00\n",
      "Train epoch  45: -elbo: 1.750 | kl: 727.321 | -recon: 1.738 | nll: 1.738 -- time: 1.34\n",
      "GP lengthscale: 0.6392319202423096\n",
      "Memory allocated: 46, 40085504.00\n",
      "Max memory allocated: 46, 56913408.00\n",
      "Train epoch  46: -elbo: 1.749 | kl: 708.850 | -recon: 1.738 | nll: 1.737 -- time: 1.33\n",
      "GP lengthscale: 0.6357205510139465\n",
      "Memory allocated: 47, 37695488.00\n",
      "Max memory allocated: 47, 57465344.00\n",
      "Train epoch  47: -elbo: 1.749 | kl: 691.165 | -recon: 1.738 | nll: 1.738 -- time: 1.33\n",
      "GP lengthscale: 0.6322450637817383\n",
      "Memory allocated: 48, 40634368.00\n",
      "Max memory allocated: 48, 57465344.00\n",
      "Train epoch  48: -elbo: 1.755 | kl: 673.916 | -recon: 1.744 | nll: 1.744 -- time: 1.33\n",
      "GP lengthscale: 0.6288034915924072\n",
      "Memory allocated: 49, 38244352.00\n",
      "Max memory allocated: 49, 58014208.00\n",
      "Train epoch  49: -elbo: 1.752 | kl: 657.223 | -recon: 1.741 | nll: 1.741 -- time: 1.35\n",
      "GP lengthscale: 0.6253949403762817\n"
     ]
    }
   ],
   "source": [
    "num_epochs = 50\n",
    "    \n",
    "for e in range(e_past + 1, num_epochs):\n",
    "    \n",
    "    print(f\"Memory allocated: {e}, {torch.cuda.memory_allocated():.2f}\")\n",
    "    print(f\"Max memory allocated: {e}, {torch.cuda.max_memory_allocated():.2f}\")\n",
    "    \n",
    "    # TRAIN EPOCH    \n",
    "    model.train()\n",
    "\n",
    "    start = time.time()\n",
    "\n",
    "    train_loss_batch.reset()\n",
    "    train_loglik_batch.reset()\n",
    "    train_kl_batch.reset()\n",
    "    train_nll_batch.reset()\n",
    "    val_loss_batch.reset()\n",
    "    val_loglik_batch.reset()\n",
    "    val_kl_batch.reset()\n",
    "    val_nll_batch.reset()\n",
    "\n",
    "    n = train_dataloader.dataset.n\n",
    "    \n",
    "    for i, (inputs, labels) in enumerate(train_dataloader):\n",
    "\n",
    "        inputs = inputs.to(device) # inputs [batch_size, num_predictors, num_stations]\n",
    "        labels = labels.to(device) # labels [batch_size, num_stations]\n",
    "        \n",
    "        with Measure() as prior:\n",
    "            f = GP(Matern12().stretch(ls))\n",
    "\n",
    "        elbo, recon, kl, num_points, nll = forward_backward_pass(inputs, labels, n, model, optimizer, q, f, x_ind, \n",
    "                                                            inducing_points=True, backward=True, f_marginal=f_marginal_flag, n_samples=mc_samples,\n",
    "                                                            num_GP_dims=num_GP_dims, remove_from_inputs=False)\n",
    "\n",
    "        # Keep track of loss terms\n",
    "        train_loss_batch.update(-elbo.item())\n",
    "        train_loglik_batch.update(-recon.item())\n",
    "        train_kl_batch.update(kl.item())\n",
    "        train_nll_batch.update(nll.item()/num_points.item())\n",
    "\n",
    "    elapsed = time.time() - start\n",
    "\n",
    "    if print_progress:\n",
    "        print(f'Train epoch  {e}: -elbo: {train_loss_batch.avg:.3f} | kl: {train_kl_batch.avg:.3f} | -recon: {train_loglik_batch.avg:.3f} | nll: {train_nll_batch.avg:.3f} -- time: {elapsed:.2f}')\n",
    "        print(f'GP lengthscale: {ls.item()}')\n",
    "\n",
    "    # Add average batch loss terms to lists\n",
    "    train_loss.append(train_loss_batch.avg)\n",
    "    train_loglik.append(train_loglik_batch.avg)\n",
    "    train_kl.append(train_kl_batch.avg)\n",
    "    train_nll.append(train_nll_batch.avg)\n",
    "    \n",
    "# VALIDATION REMOVED"
   ]
  },
  {
   "cell_type": "code",
   "execution_count": null,
   "metadata": {},
   "outputs": [],
   "source": []
  },
  {
   "cell_type": "code",
   "execution_count": null,
   "metadata": {},
   "outputs": [],
   "source": []
  }
 ],
 "metadata": {
  "kernelspec": {
   "display_name": "Python [conda env:bcdp]",
   "language": "python",
   "name": "conda-env-bcdp-py"
  },
  "language_info": {
   "codemirror_mode": {
    "name": "ipython",
    "version": 3
   },
   "file_extension": ".py",
   "mimetype": "text/x-python",
   "name": "python",
   "nbconvert_exporter": "python",
   "pygments_lexer": "ipython3",
   "version": "3.9.12"
  }
 },
 "nbformat": 4,
 "nbformat_minor": 4
}
