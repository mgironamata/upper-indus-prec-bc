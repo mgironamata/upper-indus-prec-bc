{
 "cells": [
  {
   "cell_type": "code",
   "execution_count": 1,
   "metadata": {},
   "outputs": [
    {
     "name": "stderr",
     "output_type": "stream",
     "text": [
      "/data/hpcdata/users/marron31/conda-envs/bcdp/lib/python3.9/site-packages/fdm/fdm.py:38: DeprecationWarning: `np.math` is a deprecated alias for the standard library `math` module (Deprecated Numpy 1.25). Replace usages of `np.math` with `math`\n",
      "  coefs = mat.inv()[:, deriv] * np.math.factorial(deriv)\n",
      "/data/hpcdata/users/marron31/conda-envs/bcdp/lib/python3.9/site-packages/fdm/fdm.py:44: DeprecationWarning: `np.math` is a deprecated alias for the standard library `math` module (Deprecated Numpy 1.25). Replace usages of `np.math` with `math`\n",
      "  / np.math.factorial(order)\n",
      "/data/hpcdata/users/marron31/conda-envs/bcdp/lib/python3.9/site-packages/fdm/fdm.py:38: DeprecationWarning: `np.math` is a deprecated alias for the standard library `math` module (Deprecated Numpy 1.25). Replace usages of `np.math` with `math`\n",
      "  coefs = mat.inv()[:, deriv] * np.math.factorial(deriv)\n",
      "/data/hpcdata/users/marron31/conda-envs/bcdp/lib/python3.9/site-packages/fdm/fdm.py:44: DeprecationWarning: `np.math` is a deprecated alias for the standard library `math` module (Deprecated Numpy 1.25). Replace usages of `np.math` with `math`\n",
      "  / np.math.factorial(order)\n",
      "/data/hpcdata/users/marron31/conda-envs/bcdp/lib/python3.9/site-packages/seaborn/rcmod.py:82: DeprecationWarning: distutils Version classes are deprecated. Use packaging.version instead.\n",
      "  if LooseVersion(mpl.__version__) >= \"3.0\":\n",
      "/data/hpcdata/users/marron31/conda-envs/bcdp/lib/python3.9/site-packages/setuptools/_distutils/version.py:351: DeprecationWarning: distutils Version classes are deprecated. Use packaging.version instead.\n",
      "  other = LooseVersion(other)\n",
      "/data/hpcdata/users/marron31/conda-envs/bcdp/lib/python3.9/site-packages/captum/attr/_utils/visualization.py:15: DeprecationWarning: Importing display from IPython.core.display is deprecated since IPython 7.14, please import from IPython display\n",
      "  from IPython.core.display import HTML, display\n"
     ]
    }
   ],
   "source": [
    "import time\n",
    "\n",
    "import torch\n",
    "import torch.nn as nn\n",
    "from torch.utils.data import DataLoader\n",
    "\n",
    "from stheno.torch import B, GP, EQ, Normal, Measure, Matern12, Matern32, Matern52\n",
    "\n",
    "from models import MLP\n",
    "from utils import RunningAverage\n",
    "\n",
    "from elbo import ApproximatePosterior\n",
    "from gp_mlp import forward_backward_pass, UpperIndusDataset\n",
    "\n",
    "# Detect device.\n",
    "if torch.cuda.is_available():\n",
    "    device = \"cuda\"\n",
    "else:\n",
    "    device = \"cpu\""
   ]
  },
  {
   "cell_type": "code",
   "execution_count": 2,
   "metadata": {},
   "outputs": [],
   "source": [
    "import warnings\n",
    "warnings.filterwarnings('ignore')"
   ]
  },
  {
   "cell_type": "code",
   "execution_count": 3,
   "metadata": {},
   "outputs": [],
   "source": [
    "# Let all of Stheno run on that device.\n",
    "B.on_device(device).__enter__()\n",
    "    \n",
    "# B.epsilon is the default value for the diagonal jitter of the matrix\n",
    "B.epsilon = 1e-4  # Needs to be relatively high for `float32`s"
   ]
  },
  {
   "cell_type": "code",
   "execution_count": 4,
   "metadata": {},
   "outputs": [],
   "source": [
    "# DEFINE INPUT AND OUTPUT VARIABLES (PREDICTORS AND PREDICTANDS)\n",
    "\n",
    "predictant = ['Prec']\n",
    "predictors = [\n",
    "              'X','Y','Z', \n",
    "              'RAIN',\n",
    "              'doy_sin', 'doy_cos', \n",
    "              'W500', 'RH2', 'U500', 'V10', \n",
    "              'RH500', 'U10', 'V500', \n",
    "              'T2MIN', 'T2', 'T2MAX'\n",
    "                 ]\n",
    "    \n",
    "\n",
    "# DEFINE TRAINING STATIONS\n",
    "train_stations = ['ABO', 'AHO', 'AIR', 'ALV', 'APT', 'ARO', 'AUB', 'AVA', 'AVB', 'BAC', 'BAL', 'BEA', 'BEC', 'BEGTH', 'BEGWA', 'BEH', 'BEHAK', 'BEKSE', 'BERIF', 'BES', 'BEV', 'BIN', 'BIV', 'BLA', 'BRA', 'BRW', 'BSP', 'BSW', 'CAV', 'CDF', 'CHA', 'CHB', 'CHD', 'CHM', 'CHW', 'CIM', 'COV', 'CTA', 'CTO', 'CUE', 'DAV', 'DIB', 'DIS', 'DLBAL', 'DLFEB', 'DLZUG', 'DMA', 'DOL', 'EIT', 'ENG', 'ERN', 'EVL', 'EVO', 'FIL', 'FIO', 'FIT', 'FLI', 'FRE', 'GEN', 'GOA', 'GRC', 'GRH', 'GSB', 'GSG', 'GST', 'GTT', 'GWA', 'HER', 'HIR', 'HOE', 'INF', 'IYDEO', 'IYDEU', 'IYMMR', 'IYMUW', 'IYPEN', 'IYPFE', 'IYPFI', 'IYPLI', 'IYPRU', 'IYREI', 'IYRID', 'IYROT', 'IYSMG', 'IYSMT', 'IYSUL', 'IYSUM', 'IYSVP', 'IYSWA', 'IYTER', 'IYTOB', 'IYULT', 'IYVAA', 'IYVAL', 'IYWEL', 'IYWOL', 'KLA', 'KRO', 'KSE', 'LBA', 'LEH', 'LEU', 'LOC', 'LOE', 'MAL', 'MAT', 'MAU', 'MLS', 'MOD', 'MSO', 'MST', 'MTE', 'MUE', 'MUS', 'MVE', 'NABCHA', 'NABDAV', 'NAP', 'NEB', 'OBI', 'OBW', 'PDM', 'PIG', 'PIL', 'PLF', 'PON', 'PSB', 'PUD', 'REC', 'ROB', 'ROE', 'ROG', 'RUM', 'SAB', 'SAE', 'SAF', 'SAM', 'SAN', 'SAP', 'SAS', 'SBA', 'SBE', 'SCU', 'SDO', 'SED', 'SEP', 'SGD', 'SIA', 'SIM', 'SLFAM2', 'SLFEM2', 'SLFFIS', 'SLFGL2', 'SLFMEI', 'SLFOBM', 'SLFSA3', 'SLFSC2', 'SLFSC3', 'SLFTU2', 'SLFUR2', 'SLFURS', 'SNE', 'SOG', 'SRL', 'STP', 'SVG', 'SWA', 'TIBED', 'TIBIA', 'TICOL', 'TIFUS', 'TIOLI', 'TST', 'UNS', 'URB', 'VDLSP', 'VDSEP', 'VEL', 'VIO', 'VRI', 'VSANZ', 'VSARO', 'VSBRI', 'VSCHY', 'VSDUR', 'VSEMO', 'VSFIN', 'VSGDX', 'VSJEI', 'VSMAT', 'VSSAB', 'VSSTA', 'VST', 'VSVER', 'WAW', 'WET', 'ZER', 'ZEV', 'ZNZ']"
   ]
  },
  {
   "cell_type": "code",
   "execution_count": 5,
   "metadata": {},
   "outputs": [],
   "source": [
    "# Dates (but in this notebook we only use data for year 2000)\n",
    "start=\"1900-01-01\"\n",
    "end=\"2020-12-31\""
   ]
  },
  {
   "cell_type": "code",
   "execution_count": 6,
   "metadata": {},
   "outputs": [],
   "source": [
    "# Data for year 2000\n",
    "TRAIN_PATH = 'alps_2000.pkl'"
   ]
  },
  {
   "cell_type": "markdown",
   "metadata": {},
   "source": [
    "### Dataloaders"
   ]
  },
  {
   "cell_type": "code",
   "execution_count": 7,
   "metadata": {
    "scrolled": true
   },
   "outputs": [],
   "source": [
    "ds_dataset = UpperIndusDataset(TRAIN_PATH, start, end, predictant, predictors, stations=train_stations)\n",
    "\n",
    "train_dataloader = DataLoader(dataset=ds_dataset, batch_size=16, shuffle=True)"
   ]
  },
  {
   "cell_type": "markdown",
   "metadata": {},
   "source": [
    "# Models"
   ]
  },
  {
   "cell_type": "code",
   "execution_count": 8,
   "metadata": {},
   "outputs": [],
   "source": [
    "num_GP_dims = 2"
   ]
  },
  {
   "cell_type": "code",
   "execution_count": 9,
   "metadata": {},
   "outputs": [
    {
     "name": "stdout",
     "output_type": "stream",
     "text": [
      "Number of parameters: 3603\n"
     ]
    }
   ],
   "source": [
    "# This is the MLP used in the GP-MLP model\n",
    "model = MLP(in_channels= len(predictors)+1,#-num_GP_dims, \n",
    "            hidden_channels=[50,50], \n",
    "            likelihood_fn='bgmm', # 'gamma', 'ggmm', bgmm', 'b2gmm', 'b2sgmm'\n",
    "            dropout_rate=0,\n",
    "           )\n",
    "\n",
    "print(f'Number of parameters: {sum(p.numel() for p in model.parameters())}')"
   ]
  },
  {
   "cell_type": "code",
   "execution_count": 10,
   "metadata": {},
   "outputs": [
    {
     "data": {
      "text/plain": [
       "MLP(\n",
       "  (relu): ReLU()\n",
       "  (dropout): Dropout(p=0, inplace=False)\n",
       "  (hidden): ModuleList(\n",
       "    (0): Linear(in_features=17, out_features=50, bias=True)\n",
       "    (1): Linear(in_features=50, out_features=50, bias=True)\n",
       "  )\n",
       "  (out): Linear(in_features=50, out_features=3, bias=True)\n",
       ")"
      ]
     },
     "execution_count": 10,
     "metadata": {},
     "output_type": "execute_result"
    }
   ],
   "source": [
    "model.to(device)"
   ]
  },
  {
   "cell_type": "markdown",
   "metadata": {},
   "source": [
    "### GP-MLP"
   ]
  },
  {
   "cell_type": "code",
   "execution_count": 11,
   "metadata": {},
   "outputs": [],
   "source": [
    "print_progress = True\n",
    "plot_x_ind = True\n",
    "validate_flag = True\n",
    "f_marginal_flag = False\n",
    "mc_samples = 5"
   ]
  },
  {
   "cell_type": "code",
   "execution_count": 12,
   "metadata": {},
   "outputs": [],
   "source": [
    "st = ds_dataset.st\n",
    "coords_train_stations = st.groupby('Station').mean()[predictors[:num_GP_dims]].values\n",
    "\n",
    "x_ind_stations = coords_train_stations"
   ]
  },
  {
   "cell_type": "code",
   "execution_count": 13,
   "metadata": {
    "tags": []
   },
   "outputs": [],
   "source": [
    "# Inducing points are fixed to the station locations\n",
    "x_ind = torch.tensor(x_ind_stations, dtype=torch.float32).detach().requires_grad_(False).to(device)\n",
    "\n",
    "num_ind_points = len(x_ind)\n",
    "n = len(st)\n",
    "\n",
    "ls = torch.nn.Parameter(torch.tensor(2, dtype=torch.float32, requires_grad=True).to(device))\n",
    "\n",
    "with Measure() as prior:\n",
    "#     f = GP(EQ().stretch(ls))\n",
    "    f = GP(Matern12().stretch(ls))\n",
    "    \n",
    "q = ApproximatePosterior(num_ind_points, use_device=device) # q is the approximate posterior\n",
    "\n",
    "# optimizer = torch.optim.Adam(list(model.parameters())+list(q.parameters()), lr=10e-4)\n",
    "optimizer = torch.optim.Adam(list(model.parameters())+list(q.parameters())+[ls], lr=10e-4)"
   ]
  },
  {
   "cell_type": "code",
   "execution_count": 14,
   "metadata": {},
   "outputs": [],
   "source": [
    "e_past = 0\n",
    "\n",
    "train_loss, train_loglik, train_kl, train_nll = [], [], [], []\n",
    "val_loss, val_loglik, val_kl, val_nll = [], [], [], []\n",
    "\n",
    "test_loss, test_loglik, test_kl, test_nll  = [], [], [], []\n",
    "\n",
    "train_loss_batch, train_loglik_batch, train_kl_batch, train_nll_batch = RunningAverage(), RunningAverage(), RunningAverage(), RunningAverage()\n",
    "val_loss_batch, val_loglik_batch, val_kl_batch, val_nll_batch = RunningAverage(), RunningAverage(), RunningAverage(),RunningAverage()"
   ]
  },
  {
   "cell_type": "code",
   "execution_count": 15,
   "metadata": {
    "scrolled": true
   },
   "outputs": [
    {
     "name": "stdout",
     "output_type": "stream",
     "text": [
      "Memory used: 1, 1.00\n",
      "Train epoch  1: -elbo: 5.433 | kl: 89886.591 | -recon: 3.958 | nll: 3.877 -- time: 2.70\n",
      "GP lengthscale: 1.9770461320877075\n",
      "Memory used: 2, 0.30\n",
      "Train epoch  2: -elbo: 3.900 | kl: 85917.435 | -recon: 2.491 | nll: 2.428 -- time: 1.30\n",
      "GP lengthscale: 1.954354166984558\n",
      "Memory used: 3, 0.49\n",
      "Train epoch  3: -elbo: 3.584 | kl: 82124.558 | -recon: 2.237 | nll: 2.204 -- time: 1.27\n",
      "GP lengthscale: 1.9320173263549805\n",
      "Memory used: 4, 0.54\n",
      "Train epoch  4: -elbo: 3.431 | kl: 78302.299 | -recon: 2.147 | nll: 2.125 -- time: 1.23\n",
      "GP lengthscale: 1.9100855588912964\n",
      "Memory used: 5, 0.62\n",
      "Train epoch  5: -elbo: 3.327 | kl: 74659.348 | -recon: 2.102 | nll: 2.083 -- time: 1.29\n",
      "GP lengthscale: 1.8885602951049805\n",
      "Memory used: 6, 0.64\n",
      "Train epoch  6: -elbo: 3.210 | kl: 71191.428 | -recon: 2.042 | nll: 2.027 -- time: 1.28\n",
      "GP lengthscale: 1.8674397468566895\n",
      "Memory used: 7, 0.66\n",
      "Train epoch  7: -elbo: 3.098 | kl: 67928.785 | -recon: 1.983 | nll: 1.969 -- time: 1.32\n",
      "GP lengthscale: 1.8466960191726685\n",
      "Memory used: 8, 0.69\n",
      "Train epoch  8: -elbo: 3.018 | kl: 64811.316 | -recon: 1.955 | nll: 1.942 -- time: 1.30\n",
      "GP lengthscale: 1.8263260126113892\n",
      "Memory used: 9, 0.73\n",
      "Train epoch  9: -elbo: 2.942 | kl: 61850.255 | -recon: 1.928 | nll: 1.918 -- time: 1.31\n",
      "GP lengthscale: 1.806335210800171\n",
      "Memory used: 10, 0.73\n",
      "Train epoch  10: -elbo: 2.883 | kl: 59059.107 | -recon: 1.914 | nll: 1.905 -- time: 1.33\n",
      "GP lengthscale: 1.7866933345794678\n",
      "Memory used: 11, 0.77\n",
      "Train epoch  11: -elbo: 2.827 | kl: 56387.191 | -recon: 1.902 | nll: 1.895 -- time: 1.29\n",
      "GP lengthscale: 1.7674111127853394\n",
      "Memory used: 12, 0.79\n",
      "Train epoch  12: -elbo: 2.778 | kl: 53836.122 | -recon: 1.895 | nll: 1.889 -- time: 1.30\n",
      "GP lengthscale: 1.7484856843948364\n",
      "Memory used: 13, 0.80\n",
      "Train epoch  13: -elbo: 2.735 | kl: 51468.653 | -recon: 1.891 | nll: 1.885 -- time: 1.30\n",
      "GP lengthscale: 1.729884147644043\n",
      "Memory used: 14, 0.81\n",
      "Train epoch  14: -elbo: 2.693 | kl: 49185.305 | -recon: 1.886 | nll: 1.881 -- time: 1.45\n",
      "GP lengthscale: 1.7116165161132812\n",
      "Memory used: 15, 0.79\n",
      "Train epoch  15: -elbo: 2.652 | kl: 47004.189 | -recon: 1.881 | nll: 1.876 -- time: 1.31\n",
      "GP lengthscale: 1.6936784982681274\n",
      "Memory used: 16, 0.83\n",
      "Train epoch  16: -elbo: 2.611 | kl: 44951.121 | -recon: 1.873 | nll: 1.870 -- time: 1.29\n",
      "GP lengthscale: 1.6760616302490234\n",
      "Memory used: 17, 0.83\n",
      "Train epoch  17: -elbo: 2.566 | kl: 43003.817 | -recon: 1.860 | nll: 1.857 -- time: 1.29\n",
      "GP lengthscale: 1.658753514289856\n",
      "Memory used: 18, 0.84\n",
      "Train epoch  18: -elbo: 2.544 | kl: 41134.368 | -recon: 1.869 | nll: 1.866 -- time: 1.32\n",
      "GP lengthscale: 1.6417521238327026\n",
      "Memory used: 19, 0.85\n",
      "Train epoch  19: -elbo: 2.506 | kl: 39380.657 | -recon: 1.860 | nll: 1.858 -- time: 1.32\n",
      "GP lengthscale: 1.6250361204147339\n",
      "Memory used: 20, 0.85\n",
      "Train epoch  20: -elbo: 2.478 | kl: 37691.549 | -recon: 1.860 | nll: 1.857 -- time: 1.30\n",
      "GP lengthscale: 1.6086132526397705\n",
      "Memory used: 21, 0.87\n",
      "Train epoch  21: -elbo: 2.448 | kl: 36094.292 | -recon: 1.856 | nll: 1.854 -- time: 1.32\n",
      "GP lengthscale: 1.5924714803695679\n",
      "Memory used: 22, 0.87\n",
      "Train epoch  22: -elbo: 2.418 | kl: 34585.725 | -recon: 1.850 | nll: 1.848 -- time: 1.31\n",
      "GP lengthscale: 1.5765981674194336\n",
      "Memory used: 23, 0.88\n",
      "Train epoch  23: -elbo: 2.385 | kl: 33138.780 | -recon: 1.841 | nll: 1.840 -- time: 1.29\n",
      "GP lengthscale: 1.5609873533248901\n",
      "Memory used: 24, 0.87\n",
      "Train epoch  24: -elbo: 2.366 | kl: 31739.478 | -recon: 1.845 | nll: 1.843 -- time: 1.30\n",
      "GP lengthscale: 1.5456516742706299\n",
      "Memory used: 25, 0.89\n",
      "Train epoch  25: -elbo: 2.335 | kl: 30431.488 | -recon: 1.836 | nll: 1.834 -- time: 1.30\n",
      "GP lengthscale: 1.5305825471878052\n",
      "Memory used: 26, 0.89\n",
      "Train epoch  26: -elbo: 2.317 | kl: 29179.363 | -recon: 1.839 | nll: 1.837 -- time: 1.29\n",
      "GP lengthscale: 1.5157551765441895\n",
      "Memory used: 27, 0.89\n",
      "Train epoch  27: -elbo: 2.295 | kl: 27991.833 | -recon: 1.836 | nll: 1.834 -- time: 1.30\n",
      "GP lengthscale: 1.5011794567108154\n",
      "Memory used: 28, 0.90\n",
      "Train epoch  28: -elbo: 2.274 | kl: 26844.810 | -recon: 1.834 | nll: 1.832 -- time: 1.29\n",
      "GP lengthscale: 1.4868475198745728\n",
      "Memory used: 29, 0.89\n",
      "Train epoch  29: -elbo: 2.255 | kl: 25764.245 | -recon: 1.832 | nll: 1.830 -- time: 1.31\n",
      "GP lengthscale: 1.4727498292922974\n",
      "Memory used: 30, 0.90\n",
      "Train epoch  30: -elbo: 2.237 | kl: 24737.668 | -recon: 1.832 | nll: 1.830 -- time: 1.27\n",
      "GP lengthscale: 1.4588807821273804\n",
      "Memory used: 31, 0.91\n",
      "Train epoch  31: -elbo: 2.213 | kl: 23744.491 | -recon: 1.823 | nll: 1.822 -- time: 1.25\n",
      "GP lengthscale: 1.445237398147583\n",
      "Memory used: 32, 0.91\n",
      "Train epoch  32: -elbo: 2.200 | kl: 22802.640 | -recon: 1.826 | nll: 1.824 -- time: 1.26\n",
      "GP lengthscale: 1.4318138360977173\n",
      "Memory used: 33, 0.91\n",
      "Train epoch  33: -elbo: 2.181 | kl: 21909.953 | -recon: 1.822 | nll: 1.820 -- time: 1.27\n",
      "GP lengthscale: 1.4186019897460938\n",
      "Memory used: 34, 0.91\n",
      "Train epoch  34: -elbo: 2.162 | kl: 21046.872 | -recon: 1.817 | nll: 1.816 -- time: 1.25\n",
      "GP lengthscale: 1.405606746673584\n",
      "Memory used: 35, 0.92\n",
      "Train epoch  35: -elbo: 2.152 | kl: 20231.565 | -recon: 1.820 | nll: 1.819 -- time: 1.28\n",
      "GP lengthscale: 1.392807960510254\n",
      "Memory used: 36, 0.90\n",
      "Train epoch  36: -elbo: 2.137 | kl: 19444.107 | -recon: 1.818 | nll: 1.816 -- time: 1.26\n",
      "GP lengthscale: 1.380214810371399\n",
      "Memory used: 37, 0.92\n",
      "Train epoch  37: -elbo: 2.127 | kl: 18699.494 | -recon: 1.821 | nll: 1.819 -- time: 1.21\n",
      "GP lengthscale: 1.3678196668624878\n",
      "Memory used: 38, 0.92\n",
      "Train epoch  38: -elbo: 2.110 | kl: 17987.386 | -recon: 1.815 | nll: 1.814 -- time: 1.28\n",
      "GP lengthscale: 1.3556163311004639\n",
      "Memory used: 39, 0.92\n",
      "Train epoch  39: -elbo: 2.100 | kl: 17299.353 | -recon: 1.816 | nll: 1.815 -- time: 1.30\n",
      "GP lengthscale: 1.343604564666748\n",
      "Memory used: 40, 0.93\n",
      "Train epoch  40: -elbo: 2.078 | kl: 16648.835 | -recon: 1.805 | nll: 1.804 -- time: 1.30\n",
      "GP lengthscale: 1.3317761421203613\n",
      "Memory used: 41, 0.92\n",
      "Train epoch  41: -elbo: 2.070 | kl: 16023.305 | -recon: 1.808 | nll: 1.807 -- time: 1.34\n",
      "GP lengthscale: 1.320124626159668\n",
      "Memory used: 42, 0.93\n",
      "Train epoch  42: -elbo: 2.064 | kl: 15425.346 | -recon: 1.811 | nll: 1.809 -- time: 1.32\n",
      "GP lengthscale: 1.3086490631103516\n",
      "Memory used: 43, 0.93\n",
      "Train epoch  43: -elbo: 2.052 | kl: 14855.870 | -recon: 1.808 | nll: 1.807 -- time: 1.31\n",
      "GP lengthscale: 1.2973419427871704\n",
      "Memory used: 44, 0.93\n",
      "Train epoch  44: -elbo: 2.043 | kl: 14305.185 | -recon: 1.809 | nll: 1.808 -- time: 1.28\n",
      "GP lengthscale: 1.2862052917480469\n",
      "Memory used: 45, 0.93\n",
      "Train epoch  45: -elbo: 2.030 | kl: 13780.001 | -recon: 1.804 | nll: 1.803 -- time: 1.29\n",
      "GP lengthscale: 1.27523672580719\n",
      "Memory used: 46, 0.93\n",
      "Train epoch  46: -elbo: 2.022 | kl: 13275.589 | -recon: 1.804 | nll: 1.803 -- time: 1.29\n",
      "GP lengthscale: 1.2644296884536743\n",
      "Memory used: 47, 0.94\n",
      "Train epoch  47: -elbo: 2.016 | kl: 12803.292 | -recon: 1.806 | nll: 1.805 -- time: 1.30\n",
      "GP lengthscale: 1.2537726163864136\n",
      "Memory used: 48, 0.93\n",
      "Train epoch  48: -elbo: 2.005 | kl: 12333.498 | -recon: 1.803 | nll: 1.802 -- time: 1.29\n",
      "GP lengthscale: 1.2432739734649658\n",
      "Memory used: 49, 0.94\n",
      "Train epoch  49: -elbo: 1.995 | kl: 11893.385 | -recon: 1.800 | nll: 1.799 -- time: 1.30\n",
      "GP lengthscale: 1.2329282760620117\n"
     ]
    }
   ],
   "source": [
    "num_epochs = 50\n",
    "    \n",
    "for e in range(e_past + 1, num_epochs):\n",
    "    \n",
    "    print(f\"Memory used: {e}, {(torch.cuda.memory_allocated()/torch.cuda.max_memory_allocated()):.2f}\")\n",
    "    \n",
    "    # TRAIN EPOCH    \n",
    "    model.train()\n",
    "\n",
    "    start = time.time()\n",
    "\n",
    "    train_loss_batch.reset()\n",
    "    train_loglik_batch.reset()\n",
    "    train_kl_batch.reset()\n",
    "    train_nll_batch.reset()\n",
    "    val_loss_batch.reset()\n",
    "    val_loglik_batch.reset()\n",
    "    val_kl_batch.reset()\n",
    "    val_nll_batch.reset()\n",
    "\n",
    "    n = train_dataloader.dataset.n\n",
    "    \n",
    "    for i, (inputs, labels) in enumerate(train_dataloader):\n",
    "\n",
    "        inputs = inputs.to(device) # inputs [batch_size, num_predictors, num_stations]\n",
    "        labels = labels.to(device) # labels [batch_size, num_stations]\n",
    "\n",
    "        elbo, recon, kl, num_points, nll = forward_backward_pass(inputs, labels, n, model, optimizer, q, f, x_ind, \n",
    "                                                            inducing_points=True, backward=True, f_marginal=f_marginal_flag, n_samples=mc_samples,\n",
    "                                                            num_GP_dims=num_GP_dims, remove_from_inputs=False)\n",
    "\n",
    "        # Keep track of loss terms\n",
    "        train_loss_batch.update(-elbo.item())\n",
    "        train_loglik_batch.update(-recon.item())\n",
    "        train_kl_batch.update(kl.item())\n",
    "        train_nll_batch.update(nll.item()/num_points.item())\n",
    "\n",
    "    elapsed = time.time() - start\n",
    "\n",
    "    if print_progress:\n",
    "        print(f'Train epoch  {e}: -elbo: {train_loss_batch.avg:.3f} | kl: {train_kl_batch.avg:.3f} | -recon: {train_loglik_batch.avg:.3f} | nll: {train_nll_batch.avg:.3f} -- time: {elapsed:.2f}')\n",
    "        print(f'GP lengthscale: {ls.item()}')\n",
    "\n",
    "    # Add average batch loss terms to lists\n",
    "    train_loss.append(train_loss_batch.avg)\n",
    "    train_loglik.append(train_loglik_batch.avg)\n",
    "    train_kl.append(train_kl_batch.avg)\n",
    "    train_nll.append(train_nll_batch.avg)\n",
    "    \n",
    "# VALIDATION REMOVED"
   ]
  },
  {
   "cell_type": "code",
   "execution_count": null,
   "metadata": {},
   "outputs": [],
   "source": []
  },
  {
   "cell_type": "code",
   "execution_count": null,
   "metadata": {},
   "outputs": [],
   "source": []
  }
 ],
 "metadata": {
  "kernelspec": {
   "display_name": "Python [conda env:bcdp]",
   "language": "python",
   "name": "conda-env-bcdp-py"
  },
  "language_info": {
   "codemirror_mode": {
    "name": "ipython",
    "version": 3
   },
   "file_extension": ".py",
   "mimetype": "text/x-python",
   "name": "python",
   "nbconvert_exporter": "python",
   "pygments_lexer": "ipython3",
   "version": "3.9.12"
  }
 },
 "nbformat": 4,
 "nbformat_minor": 4
}
