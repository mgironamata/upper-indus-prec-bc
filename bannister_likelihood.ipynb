{
 "cells": [
  {
   "cell_type": "markdown",
   "id": "bfc175f1-822b-4790-a675-3fa90365a138",
   "metadata": {},
   "source": [
    "### Likelihood for deterministic predictions\n",
    "\n",
    "This notebook goes through the steps required to calculate the log likelihood for a set of deterministic predictions"
   ]
  },
  {
   "cell_type": "code",
   "execution_count": 33,
   "id": "0066b79b-a66f-4f2b-a6bd-7ee5be1334d9",
   "metadata": {},
   "outputs": [],
   "source": [
    "import pandas as pd\n",
    "import numpy as np"
   ]
  },
  {
   "cell_type": "code",
   "execution_count": 93,
   "id": "741115ce-8861-4e40-a708-617a267644d4",
   "metadata": {},
   "outputs": [],
   "source": [
    "# read data\n",
    "# df = pd.read_pickle(r'../data/pickle/df_stations_all_nonzero_extended.pkl')\n",
    "df = pd.read_pickle('../data/pickle/observations_with_WRF_norris.pkl')"
   ]
  },
  {
   "cell_type": "code",
   "execution_count": 167,
   "id": "80ad55dd-4a55-463c-8451-96f4c676b9d1",
   "metadata": {},
   "outputs": [],
   "source": [
    "# calculate MSE, which is equal to the variance\n",
    "obs = pd.to_numeric(df['Prec'], errors = 'coerce')\n",
    "σ_ban = np.sqrt(np.square(df['wrf_prcp'] - obs).mean())\n",
    "σ_nor = np.sqrt(np.square(df['precip_norris'] - obs).mean())\n",
    "σ_bcban = np.sqrt(np.square(df['wrf_bc_prcp'] - obs).mean())"
   ]
  },
  {
   "cell_type": "code",
   "execution_count": 197,
   "id": "411e2733-70d9-4025-b535-6b5cd57cc16b",
   "metadata": {},
   "outputs": [
    {
     "name": "stdout",
     "output_type": "stream",
     "text": [
      "var(ban) = 168.129491\n",
      "var(nor) = 175.086314\n",
      "var(bcban) = 165.746682\n"
     ]
    }
   ],
   "source": [
    "print(f'var(ban) = {σ_ban**2:2f}')\n",
    "print(f'var(nor) = {σ_nor**2:2f}')\n",
    "print(f'var(bcban) = {σ_bcban**2:2f}')"
   ]
  },
  {
   "cell_type": "code",
   "execution_count": 164,
   "id": "f053ae42-f0d7-4bda-9b25-30a0430d5789",
   "metadata": {},
   "outputs": [],
   "source": [
    "# calculate log likelihood\n",
    "loglik_ban = ( \\\n",
    "             - (len(df)/2 * np.log(2 * np.pi * σ_ban**2)) \\\n",
    "             - 1 / (2 * σ_ban**2) * (np.square(obs - df['wrf_prcp'])).sum() \\\n",
    "         ) \\\n",
    "         / len(df)"
   ]
  },
  {
   "cell_type": "code",
   "execution_count": 165,
   "id": "9eba4e13-c544-4ec6-93c1-6da4f5798cc1",
   "metadata": {},
   "outputs": [],
   "source": [
    "# calculate log likelihood\n",
    "loglik_nor = ( \\\n",
    "             - (len(df)/2 * np.log(2 * np.pi * σ_nor**2)) \\\n",
    "             - 1 / (2 * σ_nor**2) * (np.square(obs - df['precip_norris'])).sum() \\\n",
    "         ) \\\n",
    "         / len(df)"
   ]
  },
  {
   "cell_type": "code",
   "execution_count": 171,
   "id": "040434fd-8f47-4522-af45-99de5ef0b04e",
   "metadata": {},
   "outputs": [],
   "source": [
    "# calculate log likelihood\n",
    "loglik_bcban = ( \\\n",
    "             - (len(df)/2 * np.log(2 * np.pi * σ_bcban**2)) \\\n",
    "             - 1 / (2 * σ_bcban**2) * (np.square(obs - df['wrf_bc_prcp'])).sum() \\\n",
    "         ) \\\n",
    "         / len(df)"
   ]
  },
  {
   "cell_type": "code",
   "execution_count": 186,
   "id": "203598d4-7284-40bd-bcc6-39a2190eea92",
   "metadata": {},
   "outputs": [
    {
     "name": "stdout",
     "output_type": "stream",
     "text": [
      "-loglik_ban = 3.981304\n",
      "-loglik_nor = 3.731999\n",
      "-loglik_bc_ban = 3.974167\n"
     ]
    }
   ],
   "source": [
    "# print negative loglikelihood\n",
    "print(f'-loglik_ban = {-loglik_ban:2f}')\n",
    "print(f'-loglik_nor = {-loglik_nor:2f}')\n",
    "print(f'-loglik_bc_ban = {-loglik_bcban:2f}')"
   ]
  },
  {
   "cell_type": "code",
   "execution_count": null,
   "id": "8056f495-531f-46ab-ba48-83bcef71e0dc",
   "metadata": {},
   "outputs": [],
   "source": []
  }
 ],
 "metadata": {
  "kernelspec": {
   "display_name": "Python 3 (ipykernel)",
   "language": "python",
   "name": "python3"
  },
  "language_info": {
   "codemirror_mode": {
    "name": "ipython",
    "version": 3
   },
   "file_extension": ".py",
   "mimetype": "text/x-python",
   "name": "python",
   "nbconvert_exporter": "python",
   "pygments_lexer": "ipython3",
   "version": "3.9.1"
  }
 },
 "nbformat": 4,
 "nbformat_minor": 5
}
