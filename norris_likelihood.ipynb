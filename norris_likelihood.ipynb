{
 "cells": [
  {
   "cell_type": "markdown",
   "metadata": {},
   "source": [
    "### Likelihood for deterministic predictions\n",
    "\n",
    "This notebook goes through the steps required to calculate the log likelihood for a set of deterministic predictions"
   ]
  },
  {
   "cell_type": "code",
   "execution_count": 8,
   "metadata": {},
   "outputs": [],
   "source": [
    "import pandas as pd\n",
    "import numpy as np\n",
    "import matplotlib.pyplot as plt\n",
    "import torch"
   ]
  },
  {
   "cell_type": "code",
   "execution_count": 3,
   "metadata": {},
   "outputs": [],
   "source": [
    "from torch.distributions import Normal\n",
    "from scipy.stats import norm"
   ]
  },
  {
   "cell_type": "code",
   "execution_count": 4,
   "metadata": {},
   "outputs": [],
   "source": [
    "DATA_PATHS = {'WAPDA' : '../../data/norris/enriched_obs/enriched_wapda_obs_norris_ready.pkl',\n",
    "              'ICIMOD' : '../../data/norris/enriched_obs/enriched_langtang_obs_norris_ready.pkl',\n",
    "              'SUSHIWAT' : '../../data/norris/enriched_obs/enriched_sushiwat_obs_norris_ready.pkl',\n",
    "              'COMBINED' : '../../data/norris/enriched_obs/enriched_combined_obs_norris_ready.pkl'}"
   ]
  },
  {
   "cell_type": "code",
   "execution_count": 43,
   "metadata": {},
   "outputs": [],
   "source": [
    "def log_likelihood(path):\n",
    "\n",
    "    # read data\n",
    "    df = pd.read_pickle(path)\n",
    "\n",
    "    # calculate MSE, which is equal to the variance\n",
    "    obs = pd.to_numeric(df['Prec'], errors = 'coerce')\n",
    "    σ_nor = np.sqrt(np.square(df['precip_norris'] - obs).mean())\n",
    "    \n",
    "    obs_t = torch.tensor(obs.values)\n",
    "    sim_t = torch.tensor(df.precip_norris.values)\n",
    "    \n",
    "    normal_dist = Normal(sim_t,σ_nor)\n",
    "    log_lik = -normal_dist.log_prob(obs_t).mean()\n",
    "    \n",
    "    print(f'var(nor) = {σ_nor**2:2f}')\n",
    "    print(f'-loglik_nor = {-log_lik:2f}')\n",
    "\n",
    "    return log_lik\n"
   ]
  },
  {
   "cell_type": "code",
   "execution_count": 46,
   "metadata": {},
   "outputs": [
    {
     "name": "stdout",
     "output_type": "stream",
     "text": [
      "WAPDA\n",
      "var(nor) = 46.137014\n",
      "-loglik_nor = -3.334746\n",
      "\n",
      "\n",
      "ICIMOD\n",
      "var(nor) = 308.941247\n",
      "-loglik_nor = -4.285514\n",
      "\n",
      "\n",
      "SUSHIWAT\n",
      "var(nor) = 181.290189\n",
      "-loglik_nor = -4.018988\n",
      "\n",
      "\n",
      "COMBINED\n",
      "var(nor) = 162.786477\n",
      "-loglik_nor = -3.965158\n",
      "\n",
      "\n"
     ]
    }
   ],
   "source": [
    "for key, value in DATA_PATHS.items():\n",
    "    print(key)\n",
    "    log_likelihood(value)\n",
    "    print('\\n')"
   ]
  },
  {
   "cell_type": "code",
   "execution_count": 47,
   "metadata": {},
   "outputs": [],
   "source": [
    "# calculate log likelihood\n",
    "\n",
    "# loglik_nor = ( \\\n",
    "#              - (len(df)/2 * np.log(2 * np.pi * σ_nor**2)) \\\n",
    "#              - 1 / (2 * σ_nor**2) * (np.square(obs - df['precip_norris'])).sum() \\\n",
    "#          ) \\\n",
    "#          / len(df)"
   ]
  },
  {
   "cell_type": "code",
   "execution_count": null,
   "metadata": {},
   "outputs": [],
   "source": [
    "def loglik_gaussian(obs, sim=df['wrf_bc_prcp'], σ):\n",
    "    x = ( -(len(sim)/2 * np.log(2 * np.pi * σ**2)) - 1 / (2 * σ**2) * (np.square(obs - sim)).sum()) / len(df)"
   ]
  },
  {
   "cell_type": "code",
   "execution_count": 66,
   "metadata": {},
   "outputs": [],
   "source": [
    "y = norm.rvs(size=10000000, loc=40, scale=np.sqrt(162.78))"
   ]
  },
  {
   "cell_type": "code",
   "execution_count": 67,
   "metadata": {},
   "outputs": [
    {
     "data": {
      "image/png": "[encoded data removed]",
      "text/plain": [
       "<Figure size 432x288 with 1 Axes>"
      ]
     },
     "metadata": {
      "needs_background": "light"
     },
     "output_type": "display_data"
    }
   ],
   "source": [
    "plt.hist(y,bins=100)\n",
    "plt.show()"
   ]
  },
  {
   "cell_type": "code",
   "execution_count": null,
   "metadata": {},
   "outputs": [],
   "source": []
  }
 ],
 "metadata": {
  "kernelspec": {
   "display_name": "Python [conda env:bcdp]",
   "language": "python",
   "name": "conda-env-bcdp-py"
  },
  "language_info": {
   "codemirror_mode": {
    "name": "ipython",
    "version": 3
   },
   "file_extension": ".py",
   "mimetype": "text/x-python",
   "name": "python",
   "nbconvert_exporter": "python",
   "pygments_lexer": "ipython3",
   "version": "3.9.12"
  }
 },
 "nbformat": 4,
 "nbformat_minor": 5
}
