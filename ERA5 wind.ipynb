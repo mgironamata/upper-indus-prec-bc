{
 "cells": [
  {
   "cell_type": "markdown",
   "id": "billion-gibson",
   "metadata": {},
   "source": [
    "# Exploration notebook for ERA5 wind data\n",
    "\n",
    "In this notebook, we explore:\n",
    "- how to use pyproj to perform coordinate system transformations/projections using **pyproj**\n",
    "- visualising ERA5 data"
   ]
  },
  {
   "cell_type": "code",
   "execution_count": 408,
   "id": "planned-sullivan",
   "metadata": {},
   "outputs": [],
   "source": [
    "# Import required packages\n",
    "import xarray as xr\n",
    "import numpy as np\n",
    "import pandas as pd\n",
    "import matplotlib.pyplot as plt\n",
    "import os\n",
    "import pyproj\n",
    "from pyproj import Proj, Transformer"
   ]
  },
  {
   "cell_type": "markdown",
   "id": "suitable-aruba",
   "metadata": {},
   "source": [
    "### Coordinate reference system transformation\n",
    "\n",
    "First, we define Proj instances for the WGS84 and Lambert Conformal Conic CRS.\n",
    "\n",
    "Pleas note, a Proj instance is only able to convert between geographic and\n",
    "projection coordinates within one datum."
   ]
  },
  {
   "cell_type": "code",
   "execution_count": 427,
   "id": "major-savings",
   "metadata": {},
   "outputs": [],
   "source": [
    "wgs84 = Proj(proj='latlong', datum='WGS84') # Define WGS84 CRS \n",
    "\n",
    "# Define parameters for LCC CRS (based on WRF model configuration used in Bannister et al. 2019)\n",
    "latitude_of_projection_origin = 23\n",
    "longitude_of_central_meridian = 80\n",
    "standard_parallel_1 = 30\n",
    "standard_parallel_2 = 30\n",
    "# false_easting = 79.10629\n",
    "# false_northing = 31.888275\n",
    "\n",
    "lcc = Proj(proj='lcc', \n",
    "           lat_1=standard_parallel_1,\n",
    "           lat_2=standard_parallel_2,\n",
    "           #ellps='WGS84',\n",
    "           lat_0=latitude_of_projection_origin, \n",
    "           lon_0=longitude_of_central_meridian, \n",
    "           #x_0=false_easting, \n",
    "           #y_0=false_northing,\n",
    "           a=6370000, \n",
    "           b=6370000\n",
    "          )\n",
    "\n",
    "transformer = Transformer.from_proj(proj_from=lcc, proj_to=wgs84)"
   ]
  },
  {
   "cell_type": "code",
   "execution_count": 428,
   "id": "apart-catering",
   "metadata": {},
   "outputs": [],
   "source": [
    "PATH = \"C:\\Google Drive (mg963)\\PhD\\data\\pickle\\df_stations_all_nonzero_extended.pkl\"\n",
    "st = pd.read_pickle(PATH)"
   ]
  },
  {
   "cell_type": "code",
   "execution_count": 429,
   "id": "focal-tolerance",
   "metadata": {},
   "outputs": [],
   "source": [
    "def coord_apply(df, t):\n",
    "    return t.transform(np.array(st['X']),np.array(st['Y']))\n",
    "\n",
    "[st['lon'], st['lat']] = coord_apply(st, transformer)"
   ]
  },
  {
   "cell_type": "code",
   "execution_count": 407,
   "id": "aquatic-mortgage",
   "metadata": {},
   "outputs": [],
   "source": [
    "# PATH = \"C:\\Google Drive (mg963)\\PhD\\data\\pickle\\df_stations_all_nonzero_extended.pkl\"\n",
    "# st.to_pickle(PATH)"
   ]
  },
  {
   "cell_type": "code",
   "execution_count": 323,
   "id": "raising-referral",
   "metadata": {},
   "outputs": [],
   "source": [
    "ERA5_ROOT = r'C:\\Google Drive (mg963)\\PhD\\data\\SUSHIWAT\\ERA5\\74E-84E_28N-35N'"
   ]
  },
  {
   "cell_type": "code",
   "execution_count": 424,
   "id": "handy-camel",
   "metadata": {},
   "outputs": [],
   "source": [
    "PATH = os.path.join(ERA5_ROOT, 'u','era5_daily_u_500hPa_2008.nc')\n",
    "wind = xr.open_dataset(PATH)"
   ]
  },
  {
   "cell_type": "code",
   "execution_count": 425,
   "id": "standard-calendar",
   "metadata": {},
   "outputs": [
    {
     "data": {
      "image/png": "[encoded data removed]",
      "text/plain": [
       "<Figure size 432x288 with 2 Axes>"
      ]
     },
     "metadata": {
      "needs_background": "light"
     },
     "output_type": "display_data"
    }
   ],
   "source": [
    "wind.u.isel(time=12).plot()\n",
    "plt.show()"
   ]
  },
  {
   "cell_type": "code",
   "execution_count": 426,
   "id": "excellent-marks",
   "metadata": {},
   "outputs": [
    {
     "data": {
      "text/plain": [
       "array([-3.815652], dtype=float32)"
      ]
     },
     "execution_count": 426,
     "metadata": {},
     "output_type": "execute_result"
    }
   ],
   "source": [
    "wind.u.sel(time='2008-07-31',latitude='32.194729', longitude='78.068307', method='nearest').values"
   ]
  }
 ],
 "metadata": {
  "kernelspec": {
   "display_name": "Python 3",
   "language": "python",
   "name": "python3"
  },
  "language_info": {
   "codemirror_mode": {
    "name": "ipython",
    "version": 3
   },
   "file_extension": ".py",
   "mimetype": "text/x-python",
   "name": "python",
   "nbconvert_exporter": "python",
   "pygments_lexer": "ipython3",
   "version": "3.7.6"
  }
 },
 "nbformat": 4,
 "nbformat_minor": 5
}
